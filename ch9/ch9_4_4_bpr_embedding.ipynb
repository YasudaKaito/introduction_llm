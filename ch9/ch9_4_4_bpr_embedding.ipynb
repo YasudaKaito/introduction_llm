{
 "cells": [
  {
   "cell_type": "code",
   "execution_count": 1,
   "id": "8e5d99d4-9bce-42de-932a-7e1e20865641",
   "metadata": {},
   "outputs": [
    {
     "data": {
      "application/vnd.jupyter.widget-view+json": {
       "model_id": "70231c2ddc9a46fe97f1623c1b0d3f3a",
       "version_major": 2,
       "version_minor": 0
      },
      "text/plain": [
       "Downloading data:   0%|          | 0.00/284M [00:00<?, ?B/s]"
      ]
     },
     "metadata": {},
     "output_type": "display_data"
    },
    {
     "data": {
      "application/vnd.jupyter.widget-view+json": {
       "model_id": "5e117039205846ce95f752e5d46354e8",
       "version_major": 2,
       "version_minor": 0
      },
      "text/plain": [
       "Downloading data:   0%|          | 0.00/288M [00:00<?, ?B/s]"
      ]
     },
     "metadata": {},
     "output_type": "display_data"
    },
    {
     "data": {
      "application/vnd.jupyter.widget-view+json": {
       "model_id": "3af0c49304da47f4b180e75874fdd289",
       "version_major": 2,
       "version_minor": 0
      },
      "text/plain": [
       "Downloading data:   0%|          | 0.00/292M [00:00<?, ?B/s]"
      ]
     },
     "metadata": {},
     "output_type": "display_data"
    },
    {
     "data": {
      "application/vnd.jupyter.widget-view+json": {
       "model_id": "0e23d2894c174d3795d4a5a3c9aa49b1",
       "version_major": 2,
       "version_minor": 0
      },
      "text/plain": [
       "Downloading data:   0%|          | 0.00/291M [00:00<?, ?B/s]"
      ]
     },
     "metadata": {},
     "output_type": "display_data"
    },
    {
     "data": {
      "application/vnd.jupyter.widget-view+json": {
       "model_id": "d7e498ecfedd431fa9c68649e02690fb",
       "version_major": 2,
       "version_minor": 0
      },
      "text/plain": [
       "Downloading data:   0%|          | 0.00/286M [00:00<?, ?B/s]"
      ]
     },
     "metadata": {},
     "output_type": "display_data"
    },
    {
     "data": {
      "application/vnd.jupyter.widget-view+json": {
       "model_id": "05e0956036514637ab4f7003a1cd2bcf",
       "version_major": 2,
       "version_minor": 0
      },
      "text/plain": [
       "Downloading data:   0%|          | 0.00/282M [00:00<?, ?B/s]"
      ]
     },
     "metadata": {},
     "output_type": "display_data"
    },
    {
     "data": {
      "application/vnd.jupyter.widget-view+json": {
       "model_id": "8ccf8f8ffae5413ba10f50fa5d29a31b",
       "version_major": 2,
       "version_minor": 0
      },
      "text/plain": [
       "Downloading data:   0%|          | 0.00/19.1M [00:00<?, ?B/s]"
      ]
     },
     "metadata": {},
     "output_type": "display_data"
    },
    {
     "data": {
      "application/vnd.jupyter.widget-view+json": {
       "model_id": "0b3b84836f724f459d364f3a671efc34",
       "version_major": 2,
       "version_minor": 0
      },
      "text/plain": [
       "Generating train split:   0%|          | 0/4288198 [00:00<?, ? examples/s]"
      ]
     },
     "metadata": {},
     "output_type": "display_data"
    }
   ],
   "source": [
    "from datasets import load_dataset\n",
    "\n",
    "passage_dataset = load_dataset(\"llm-book/aio-passages\", split=\"train\")"
   ]
  },
  {
   "cell_type": "code",
   "execution_count": 2,
   "id": "1130b182-6d9b-4fa3-834e-e796939976df",
   "metadata": {},
   "outputs": [
    {
     "name": "stdout",
     "output_type": "stream",
     "text": [
      "Dataset({\n",
      "    features: ['id', 'pageid', 'revid', 'text', 'section', 'title'],\n",
      "    num_rows: 4288198\n",
      "})\n"
     ]
    }
   ],
   "source": [
    "print(passage_dataset)"
   ]
  },
  {
   "cell_type": "code",
   "execution_count": 3,
   "id": "fa537260-cd41-487d-a402-597e840833f8",
   "metadata": {
    "scrolled": true
   },
   "outputs": [
    {
     "name": "stdout",
     "output_type": "stream",
     "text": [
      "{'id': 1,\n",
      " 'pageid': 5,\n",
      " 'revid': 88740876,\n",
      " 'section': '__LEAD__',\n",
      " 'text': 'アンパサンド(&, 英語: '\n",
      "         'ampersand)は、並立助詞「...と...」を意味する記号である。ラテン語で「...と...」を表す接続詞 \"et\" '\n",
      "         'の合字を起源とする。現代のフォントでも、Trebuchet MS など一部のフォントでは、\"et\" '\n",
      "         'の合字であることが容易にわかる字形を使用している。',\n",
      " 'title': 'アンパサンド'}\n",
      "{'id': 2,\n",
      " 'pageid': 5,\n",
      " 'revid': 88740876,\n",
      " 'section': '語源',\n",
      " 'text': '英語で教育を行う学校でアルファベットを復唱する場合、その文字自体が単語となる文字(\"A\", \"I\", かつては \"O\" '\n",
      "         'も)については、伝統的にラテン語の per se(それ自体)を用いて \"A per se A\" '\n",
      "         'のように唱えられていた。また、アルファベットの最後に、27番目の文字のように \"&\" を加えることも広く行われていた。\"&\" '\n",
      "         'はラテン語で et と読まれていたが、後に英語で and と読まれるようになった。結果として、アルファベットの復唱の最後は \"X, Y, '\n",
      "         'Z, and per se and\" という形になった。この最後のフレーズが繰り返されるうちに \"ampersand\" '\n",
      "         'と訛っていき、この言葉は1837年までには英語の一般的な語法となった。',\n",
      " 'title': 'アンパサンド'}\n"
     ]
    }
   ],
   "source": [
    "from pprint import pprint\n",
    "\n",
    "pprint(passage_dataset[0])\n",
    "pprint(passage_dataset[1])"
   ]
  },
  {
   "cell_type": "code",
   "execution_count": 4,
   "id": "daffabb8-fd55-4890-b650-68bb8d2737e7",
   "metadata": {},
   "outputs": [],
   "source": [
    "from transformers import AutoModel, AutoTokenizer"
   ]
  },
  {
   "cell_type": "code",
   "execution_count": 5,
   "id": "d97eb38b-9c2b-42e5-bd60-5c51c55b99cc",
   "metadata": {},
   "outputs": [
    {
     "data": {
      "application/vnd.jupyter.widget-view+json": {
       "model_id": "85ce1c41e0c34868bf3f8f28cde42bfb",
       "version_major": 2,
       "version_minor": 0
      },
      "text/plain": [
       "tokenizer_config.json:   0%|          | 0.00/529 [00:00<?, ?B/s]"
      ]
     },
     "metadata": {},
     "output_type": "display_data"
    },
    {
     "data": {
      "application/vnd.jupyter.widget-view+json": {
       "model_id": "c456b96c6fb44702bc60d1eb1eca0dd1",
       "version_major": 2,
       "version_minor": 0
      },
      "text/plain": [
       "vocab.txt:   0%|          | 0.00/231k [00:00<?, ?B/s]"
      ]
     },
     "metadata": {},
     "output_type": "display_data"
    },
    {
     "data": {
      "application/vnd.jupyter.widget-view+json": {
       "model_id": "eba0346a016a412d882652501ddb9bb1",
       "version_major": 2,
       "version_minor": 0
      },
      "text/plain": [
       "special_tokens_map.json:   0%|          | 0.00/125 [00:00<?, ?B/s]"
      ]
     },
     "metadata": {},
     "output_type": "display_data"
    },
    {
     "data": {
      "application/vnd.jupyter.widget-view+json": {
       "model_id": "a8cfe35901ed4490b889f8f90473f620",
       "version_major": 2,
       "version_minor": 0
      },
      "text/plain": [
       "config.json:   0%|          | 0.00/633 [00:00<?, ?B/s]"
      ]
     },
     "metadata": {},
     "output_type": "display_data"
    },
    {
     "data": {
      "application/vnd.jupyter.widget-view+json": {
       "model_id": "f3084356d31a41bf8cfc914570b0cee5",
       "version_major": 2,
       "version_minor": 0
      },
      "text/plain": [
       "pytorch_model.bin:   0%|          | 0.00/445M [00:00<?, ?B/s]"
      ]
     },
     "metadata": {},
     "output_type": "display_data"
    }
   ],
   "source": [
    "model_name = \"llm-book/bert-base-japanese-v3-bpr-passage-aio\"\n",
    "tokenizer = AutoTokenizer.from_pretrained(model_name)\n",
    "passage_encoder = AutoModel.from_pretrained(model_name)"
   ]
  },
  {
   "cell_type": "code",
   "execution_count": 6,
   "id": "65a742b1-ce3c-4460-bb0c-adee351a8f59",
   "metadata": {},
   "outputs": [],
   "source": [
    "# GPUのメモリに移動\n",
    "device = \"cuda:0\"\n",
    "passage_encoder = passage_encoder.to(device)"
   ]
  },
  {
   "cell_type": "code",
   "execution_count": 7,
   "id": "e31e7047-499d-415b-a024-3e36374364ee",
   "metadata": {},
   "outputs": [],
   "source": [
    "import numpy as np\n",
    "import torch"
   ]
  },
  {
   "cell_type": "code",
   "execution_count": 8,
   "id": "81f6bfe8-de2b-4fd4-b78c-47a8a2b0294d",
   "metadata": {},
   "outputs": [],
   "source": [
    "def embed_passages(\n",
    "    titles: list[str],\n",
    "    texts: list[str],\n",
    ") -> np.ndarray:\n",
    "    tokenized = tokenizer(\n",
    "        titles,\n",
    "        texts,\n",
    "        padding=True,\n",
    "        truncation=\"only_second\",\n",
    "        max_length=256,\n",
    "        return_tensors=\"pt\",\n",
    "    ).to(device)\n",
    "\n",
    "    with torch.inference_mode():\n",
    "        with torch.cuda.amp.autocast():\n",
    "            encoded = passage_encoder(**tokenized).last_hidden_state[:, 0]\n",
    "\n",
    "    emb = encoded.cpu().numpy()\n",
    "    print(emb)\n",
    "    emb = np.where(emb < 0, 0, 1).astype(bool)\n",
    "    emb = np.packbits(emb).reshape(emb.shape[0], -1)\n",
    "    print(emb)\n",
    "    return emb"
   ]
  },
  {
   "cell_type": "code",
   "execution_count": 9,
   "id": "31d2b6ce-7f01-4472-9567-5e5080911027",
   "metadata": {},
   "outputs": [
    {
     "name": "stdout",
     "output_type": "stream",
     "text": [
      "[[ 0.07001754 -0.6588069  -0.4974683  ... -0.11826201  0.3735757\n",
      "  -0.00703129]\n",
      " [ 0.3707856  -0.9401323  -0.29569283 ...  0.00737173  0.3040893\n",
      "  -0.2848628 ]]\n",
      "[[133 162 145  21 151 215 254 119 214  80   4 189 177  53 100 115  68 177\n",
      "   70 103  41  90 127 227 113  27  71 148  92 162 176 133 105  99  16  16\n",
      "   52  70 132  46   2  32 211 149  29 103  53 233  29 199 124  65 178  90\n",
      "   60  32 201 114 214 132  60 254 216 249 184  57 119 181  23 253 121  83\n",
      "   63 115 141  73  90   0 239 225 194 248  16 108  66 215 124 248  64  26\n",
      "  214  78  52 118 115 194]\n",
      " [132 147 209   6 147 223 190  99 212  80  38 152 176  53 102 235  21 187\n",
      "   76  98 207  82  43 123 213  26 231 130  88 226 241  21 249  35  24  48\n",
      "   49   6   4 174 130  32 247 133 173 113  53 110  57 199 108 213 102  86\n",
      "   29  43 201 115 215 134  60 254 216 185 176  41 103 245  29 212 121  57\n",
      "   43 119 172 193  90   2 239 229 194 122  32  96  66 247 244 120   3  58\n",
      "  244 206  54 112  51  70]]\n"
     ]
    }
   ],
   "source": [
    "embed1 = embed_passages(\n",
    "    [\n",
    "        passage_dataset[0][\"title\"],\n",
    "        passage_dataset[1][\"title\"],\n",
    "    ],\n",
    "    [\n",
    "        passage_dataset[0][\"text\"],\n",
    "        passage_dataset[1][\"text\"],\n",
    "    ],\n",
    ")"
   ]
  }
 ],
 "metadata": {
  "kernelspec": {
   "display_name": "Python 3 (ipykernel)",
   "language": "python",
   "name": "python3"
  },
  "language_info": {
   "codemirror_mode": {
    "name": "ipython",
    "version": 3
   },
   "file_extension": ".py",
   "mimetype": "text/x-python",
   "name": "python",
   "nbconvert_exporter": "python",
   "pygments_lexer": "ipython3",
   "version": "3.10.14"
  }
 },
 "nbformat": 4,
 "nbformat_minor": 5
}
