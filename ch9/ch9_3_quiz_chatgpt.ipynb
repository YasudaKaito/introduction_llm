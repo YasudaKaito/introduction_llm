{
 "cells": [
  {
   "cell_type": "code",
   "execution_count": 1,
   "id": "5b44b4b8-0288-4c3c-bfbb-228f2d95d1a1",
   "metadata": {},
   "outputs": [],
   "source": [
    "import os\n",
    "\n",
    "os.environ[\"OPENAI_API_KEY\"] = \"sk-xxx\""
   ]
  },
  {
   "cell_type": "code",
   "execution_count": 4,
   "id": "23dba0fa-7a3b-4631-a9a9-1c61ed89c0b0",
   "metadata": {},
   "outputs": [],
   "source": [
    "from pprint import pprint\n",
    "from openai import OpenAI, AsyncOpenAI, AsyncStream\n",
    "\n",
    "client = OpenAI(api_key=os.environ.get(\"OPENAI_API_KEY\"))\n",
    "async_client = AsyncOpenAI(api_key=os.environ.get(\"OPENAI_API_KEY\"))"
   ]
  },
  {
   "cell_type": "code",
   "execution_count": 7,
   "id": "b8347ab4-3c31-4d7e-bedc-42477281f0dc",
   "metadata": {},
   "outputs": [
    {
     "name": "stdout",
     "output_type": "stream",
     "text": [
      "ChatCompletion(id='chatcmpl-9HiRbY4eXx8sF3SlMyPZwH0OZAPAb', choices=[Choice(finish_reason='stop', index=0, logprobs=None, message=ChatCompletionMessage(content='日本で一番高い山は富士山です。標高は3,776メートルです。', role='assistant', function_call=None, tool_calls=None))], created=1714009447, model='gpt-3.5-turbo-0125', object='chat.completion', system_fingerprint='fp_c2295e73ad', usage=CompletionUsage(completion_tokens=29, prompt_tokens=18, total_tokens=47))\n"
     ]
    }
   ],
   "source": [
    "# messages = [\n",
    "#     {\n",
    "#         \"role\": \"user\",\n",
    "#         \"content\": \"日本で一番高い山は何?\",\n",
    "#     }\n",
    "# ]\n",
    "# completion = client.chat.completions.create(\n",
    "#     model=\"gpt-3.5-turbo\",\n",
    "#     messages=messages,\n",
    "#     temperature=0.0,\n",
    "# )\n",
    "# pprint(completion)"
   ]
  },
  {
   "cell_type": "code",
   "execution_count": 8,
   "id": "7a2fe634-904e-48eb-a8e5-c79256945728",
   "metadata": {},
   "outputs": [
    {
     "name": "stdout",
     "output_type": "stream",
     "text": [
      "ChatCompletion(id='chatcmpl-9HiUcoa1AkLTIUWQdnSMtzshW4lF3', choices=[Choice(finish_reason='stop', index=0, logprobs=None, message=ChatCompletionMessage(content='にほんでいちばんたかいやまはふじさんです。ひょうこうは3,776メートルです。', role='assistant', function_call=None, tool_calls=None))], created=1714009634, model='gpt-3.5-turbo-0125', object='chat.completion', system_fingerprint='fp_c2295e73ad', usage=CompletionUsage(completion_tokens=37, prompt_tokens=76, total_tokens=113))\n"
     ]
    }
   ],
   "source": [
    "# messages = [\n",
    "#     {\n",
    "#         \"role\": \"user\",\n",
    "#         \"content\": \"日本で一番高い山は何?\",\n",
    "#     },\n",
    "#     {\n",
    "#         \"role\": \"assistant\",\n",
    "#         \"content\": \"日本で一番高い山は富士山です。標高は3,776メートルです。\",\n",
    "#     },\n",
    "#     {\n",
    "#         \"role\": \"user\",\n",
    "#         \"content\": \"一つ前の発言をひらがなに変換してください。\",\n",
    "#     },\n",
    "# ]\n",
    "# completion = client.chat.completions.create(\n",
    "#     model=\"gpt-3.5-turbo\",\n",
    "#     messages=messages,\n",
    "#     temperature=0.0,\n",
    "# )\n",
    "# pprint(completion)"
   ]
  },
  {
   "cell_type": "code",
   "execution_count": 9,
   "id": "9c5a5646-d212-4b64-8985-cff1dac5f0d7",
   "metadata": {},
   "outputs": [
    {
     "name": "stdout",
     "output_type": "stream",
     "text": [
      "ChatCompletion(id='chatcmpl-9HiWatVBmFUJy7pCBohFTTKEGooAM', choices=[Choice(finish_reason='length', index=0, logprobs=None, message=ChatCompletionMessage(content='1', role='assistant', function_call=None, tool_calls=None))], created=1714009756, model='gpt-3.5-turbo-0125', object='chat.completion', system_fingerprint='fp_c2295e73ad', usage=CompletionUsage(completion_tokens=1, prompt_tokens=22, total_tokens=23))\n"
     ]
    }
   ],
   "source": [
    "# messages = [\n",
    "#     {\n",
    "#         \"role\": \"user\",\n",
    "#         \"content\": \"数字を1から10まで読み上げてください。\",\n",
    "#     }\n",
    "# ]\n",
    "# completion = client.chat.completions.create(\n",
    "#     model=\"gpt-3.5-turbo\",\n",
    "#     messages=messages,\n",
    "#     temperature=0.0,\n",
    "#     max_tokens=1,\n",
    "# )\n",
    "# pprint(completion)"
   ]
  },
  {
   "cell_type": "code",
   "execution_count": 10,
   "id": "f1eb0245-328a-4db3-935b-147ccd0db5a4",
   "metadata": {},
   "outputs": [
    {
     "name": "stdout",
     "output_type": "stream",
     "text": [
      "ChatCompletion(id='chatcmpl-9HiX3m55O7jHcQZPjs0sOkNGaPKJT', choices=[Choice(finish_reason='stop', index=0, logprobs=None, message=ChatCompletionMessage(content='1, 2, 3, 4, ', role='assistant', function_call=None, tool_calls=None))], created=1714009785, model='gpt-3.5-turbo-0125', object='chat.completion', system_fingerprint='fp_c2295e73ad', usage=CompletionUsage(completion_tokens=12, prompt_tokens=22, total_tokens=34))\n"
     ]
    }
   ],
   "source": [
    "# messages = [\n",
    "#     {\n",
    "#         \"role\": \"user\",\n",
    "#         \"content\": \"数字を1から10まで読み上げてください。\",\n",
    "#     }\n",
    "# ]\n",
    "# completion = client.chat.completions.create(\n",
    "#     model=\"gpt-3.5-turbo\",\n",
    "#     messages=messages,\n",
    "#     temperature=0.0,\n",
    "#     stop=\"5\",\n",
    "# )\n",
    "# pprint(completion)"
   ]
  },
  {
   "cell_type": "markdown",
   "id": "467c64f4-83f2-4ca7-8ef3-ebdbc144607a",
   "metadata": {},
   "source": [
    "# 9.3.2 効率的なリクエスト送信\n",
    "\n",
    "- openai API v1.0.0化に伴い、OpenAIErrorがなくなっている\n",
    "  - https://github.com/openai/openai-python/discussions/742#discussioncomment-8138046\n",
    "- retryも入っている\n",
    "  - https://github.com/openai/openai-python?tab=readme-ov-file#retries\n",
    "- ソースコード的には、\n",
    "  - `retry_on_error`\n",
    "    - リトライ機構はOpenAPIが用意したものを使う\n",
    "      - リトライ回数は5回に\n",
    "      - この関数の定義はいらなそう\n",
    "  - `_async_batch_run_chatgpt`\n",
    "    - Async client を使う\n",
    "      - https://github.com/openai/openai-python/discussions/742"
   ]
  },
  {
   "cell_type": "code",
   "execution_count": 5,
   "id": "928a1f9c-dc6a-479b-b7cd-0e4126e311e4",
   "metadata": {},
   "outputs": [],
   "source": [
    "import asyncio"
   ]
  },
  {
   "cell_type": "code",
   "execution_count": 15,
   "id": "edf49f06-4dfd-4c53-84cd-4bce6c490717",
   "metadata": {},
   "outputs": [],
   "source": [
    "async def _async_batch_run_chatgpt(\n",
    "    messages_list: list[list[dict[str, str]]],\n",
    "    temperature: float,\n",
    "    max_tokens: int | None,\n",
    "    stop: str | list[str] | None,\n",
    ") -> list[str]:\n",
    "    \"\"\"OpenAI APIに並行してリクエストを送る\"\"\"\n",
    "    tasks = [\n",
    "        async_client.chat.completions.create(\n",
    "            model=\"gpt-3.5-turbo\",\n",
    "            messages=ms,\n",
    "            temperature=temperature,\n",
    "            max_tokens=max_tokens,\n",
    "            stop=stop,\n",
    "        ) for ms in messages_list\n",
    "    ]\n",
    "    # tasks内の非同期処理を実行し結果を収集\n",
    "    completions = await asyncio.gather(*tasks)\n",
    "    return [\n",
    "        c.choices[0].message.content for c in completions\n",
    "    ]"
   ]
  },
  {
   "cell_type": "code",
   "execution_count": 28,
   "id": "4afe5997-e0c7-4b88-a597-fa168bac92b2",
   "metadata": {},
   "outputs": [],
   "source": [
    "def batch_run_chatgpt(\n",
    "    messages_list: list[list[dict[str, str]]],\n",
    "    temperature: float = 0.0,\n",
    "    max_tokens: int | None = None,\n",
    "    stop: str | list[str] | None = None,\n",
    ") -> list[str]:\n",
    "    return asyncio.run(\n",
    "        _async_batch_run_chatgpt(\n",
    "            messages_list,\n",
    "            temperature,\n",
    "            max_tokens,\n",
    "            stop\n",
    "        )\n",
    "    )"
   ]
  },
  {
   "cell_type": "code",
   "execution_count": 8,
   "id": "817d9296-0b15-47c9-beb5-9cc98a8248c7",
   "metadata": {},
   "outputs": [],
   "source": [
    "import nest_asyncio\n",
    "\n",
    "nest_asyncio.apply()"
   ]
  },
  {
   "cell_type": "markdown",
   "id": "b980cd84-95bb-41b8-9ba5-88a1e2ee3e25",
   "metadata": {},
   "source": [
    "# 9.3.3 クイズ用プロンプト"
   ]
  },
  {
   "cell_type": "code",
   "execution_count": 9,
   "id": "0e674775-9c3c-4605-a7eb-7238bc7d8241",
   "metadata": {},
   "outputs": [],
   "source": [
    "from abc import ABC, abstractmethod\n",
    "\n",
    "\n",
    "class PromptMaker(ABC):\n",
    "    @abstractmethod\n",
    "    def run(self, questions: list[str]) -> list[str]:\n",
    "        pass"
   ]
  },
  {
   "cell_type": "code",
   "execution_count": 10,
   "id": "b4b5aa84-37ea-4a31-ae85-7a8b489c6b49",
   "metadata": {},
   "outputs": [],
   "source": [
    "class SimplePromptMaker(PromptMaker):\n",
    "    def run(self, questions):\n",
    "        return [\n",
    "            \"あなたには今からクイズに答えてもらいます。\"\n",
    "            \"問題を与えますので、その解答のみを簡潔に出力してください。\\n\"\n",
    "            f\"問題：{q}\\n\"\n",
    "            \"解答：\"\n",
    "            for q in questions\n",
    "        ]"
   ]
  },
  {
   "cell_type": "code",
   "execution_count": 11,
   "id": "68d5e478-e475-4d31-ba71-b01053c6623c",
   "metadata": {},
   "outputs": [
    {
     "name": "stdout",
     "output_type": "stream",
     "text": [
      "['あなたには今からクイズに答えてもらいます。問題を与えますので、その解答のみを簡潔に出力してください。\\n問題：日本で一番高い山は何?\\n解答：', 'あなたには今からクイズに答えてもらいます。問題を与えますので、その解答のみを簡潔に出力してください。\\n問題：日本で一番長い川は何?\\n解答：', 'あなたには今からクイズに答えてもらいます。問題を与えますので、その解答のみを簡潔に出力してください。\\n問題：日本で一番面積の大きい都道府県はどこ?\\n解答：', 'あなたには今からクイズに答えてもらいます。問題を与えますので、その解答のみを簡潔に出力してください。\\n問題：日本で一番人口の多い都道府県はどこ?\\n解答：']\n"
     ]
    }
   ],
   "source": [
    "questions = [\n",
    "    \"日本で一番高い山は何?\",\n",
    "    \"日本で一番長い川は何?\",\n",
    "    \"日本で一番面積の大きい都道府県はどこ?\",\n",
    "    \"日本で一番人口の多い都道府県はどこ?\",\n",
    "]\n",
    "simple_prompt_maker = SimplePromptMaker()\n",
    "print(simple_prompt_maker.run(questions))"
   ]
  },
  {
   "cell_type": "code",
   "execution_count": 16,
   "id": "0de6d29b-d762-4129-b137-451051300486",
   "metadata": {},
   "outputs": [
    {
     "name": "stdout",
     "output_type": "stream",
     "text": [
      "['富士山', '信濃川', '北海道', '東京都']\n"
     ]
    }
   ],
   "source": [
    "answers = batch_run_chatgpt(\n",
    "    messages_list=[[{\"role\": \"user\", \"content\": p}] for p in simple_prompt_maker.run(questions)],\n",
    "    temperature=0.0,\n",
    ")\n",
    "print(answers)"
   ]
  },
  {
   "cell_type": "markdown",
   "id": "9acdce42-e96f-4233-a80a-1c8010a04942",
   "metadata": {},
   "source": [
    "# 9.3.4 API料金見積もり"
   ]
  },
  {
   "cell_type": "code",
   "execution_count": 17,
   "id": "493e9afb-6b63-432f-9369-08d4628e3c88",
   "metadata": {},
   "outputs": [],
   "source": [
    "import tiktoken"
   ]
  },
  {
   "cell_type": "code",
   "execution_count": 18,
   "id": "5839dc71-604a-4d4c-8450-89e1c63b6186",
   "metadata": {},
   "outputs": [
    {
     "data": {
      "text/plain": [
       "[9080, 22656, 16556, 15120, 87217, 45736, 16995, 58911, 15682, 99849, 30]"
      ]
     },
     "execution_count": 18,
     "metadata": {},
     "output_type": "execute_result"
    }
   ],
   "source": [
    "encoding = tiktoken.encoding_for_model(\"gpt-3.5-turbo\")\n",
    "encoding.encode(\"日本で一番高い山は何?\")"
   ]
  },
  {
   "cell_type": "code",
   "execution_count": 19,
   "id": "9515645e-f438-49ba-bd9a-db9a3d2538f1",
   "metadata": {},
   "outputs": [],
   "source": [
    "from datasets import load_dataset"
   ]
  },
  {
   "cell_type": "code",
   "execution_count": 20,
   "id": "5388a7e9-60e6-450a-8fe6-416a8f085874",
   "metadata": {},
   "outputs": [
    {
     "data": {
      "application/vnd.jupyter.widget-view+json": {
       "model_id": "20754594186d4635aa7f8769716e2a7a",
       "version_major": 2,
       "version_minor": 0
      },
      "text/plain": [
       "Downloading data:   0%|          | 0.00/5.10M [00:00<?, ?B/s]"
      ]
     },
     "metadata": {},
     "output_type": "display_data"
    },
    {
     "data": {
      "application/vnd.jupyter.widget-view+json": {
       "model_id": "2591e534d3014008a9da6c990b05a5bf",
       "version_major": 2,
       "version_minor": 0
      },
      "text/plain": [
       "Downloading data:   0%|          | 0.00/238k [00:00<?, ?B/s]"
      ]
     },
     "metadata": {},
     "output_type": "display_data"
    },
    {
     "data": {
      "application/vnd.jupyter.widget-view+json": {
       "model_id": "68fcac049e014b6f9a869aa3dc95adb5",
       "version_major": 2,
       "version_minor": 0
      },
      "text/plain": [
       "Generating train split:   0%|          | 0/22335 [00:00<?, ? examples/s]"
      ]
     },
     "metadata": {},
     "output_type": "display_data"
    },
    {
     "data": {
      "application/vnd.jupyter.widget-view+json": {
       "model_id": "7a09acbf3cd748db873b18c3e6ef75eb",
       "version_major": 2,
       "version_minor": 0
      },
      "text/plain": [
       "Generating validation split:   0%|          | 0/1000 [00:00<?, ? examples/s]"
      ]
     },
     "metadata": {},
     "output_type": "display_data"
    }
   ],
   "source": [
    "quiz_dataset = load_dataset(\"llm-book/aio\", split=\"validation\")"
   ]
  },
  {
   "cell_type": "code",
   "execution_count": 22,
   "id": "bba329f8-fa92-4ebc-bfae-a0f156633a4c",
   "metadata": {},
   "outputs": [
    {
     "name": "stdout",
     "output_type": "stream",
     "text": [
      "33\n"
     ]
    }
   ],
   "source": [
    "max_answer_length = 0\n",
    "for answers in quiz_dataset[\"answers\"]:\n",
    "    for answer in answers:\n",
    "        answer_length = len(encoding.encode(answer))\n",
    "        max_answer_length = max(max_answer_length, answer_length)\n",
    "print(max_answer_length)"
   ]
  },
  {
   "cell_type": "markdown",
   "id": "e1b6a13a-fc29-4f94-9d16-356eba5466fb",
   "metadata": {},
   "source": [
    "- コストの見積もりは省略"
   ]
  },
  {
   "cell_type": "markdown",
   "id": "c34de1f9-1abd-4687-8c00-e67e0c09ec2f",
   "metadata": {},
   "source": [
    "# 9.3.5 クイズデータセットによる評価"
   ]
  },
  {
   "cell_type": "code",
   "execution_count": 25,
   "id": "31ba45b7-8503-413a-8f05-4a84d7ff336c",
   "metadata": {},
   "outputs": [],
   "source": [
    "from datasets import Dataset\n",
    "from tqdm import tqdm\n",
    "\n",
    "\n",
    "def get_chatgpt_outputs_for_quiz(\n",
    "    quiz_prompt_maker: PromptMaker,\n",
    "    quiz_dataset: Dataset,\n",
    "    batch_size: int,\n",
    ") -> list[str]:\n",
    "    \"\"\"クイズ用プロンプトを使用した際のデータセットの核問題に対するモデルの解答を集める\"\"\"\n",
    "    output_answers: list[str] = []\n",
    "    with tqdm(total=len(quiz_dataset)) as pbar:\n",
    "        for batch in quiz_dataset.iter(batch_size=batch_size):\n",
    "            prompts = quiz_prompt_maker.run(batch[\"question\"])\n",
    "            inputs = [\n",
    "                [{\n",
    "                    \"role\": \"user\",\n",
    "                    \"content\": p\n",
    "                }] for p in prompts\n",
    "            ]\n",
    "            # APIリクエスト送信\n",
    "            answers = batch_run_chatgpt(inputs)\n",
    "\n",
    "            for question, answer in zip(batch[\"question\"], answers):\n",
    "                print(f\"問題：{question}\")\n",
    "                print(f\"解答：{answer}\")\n",
    "                print()\n",
    "\n",
    "            output_answers += answers\n",
    "            pbar.update(len(answers))\n",
    "    return output_answers"
   ]
  },
  {
   "cell_type": "code",
   "execution_count": 26,
   "id": "9a92f0a0-c867-43e3-bd8a-08112ef2edae",
   "metadata": {},
   "outputs": [],
   "source": [
    "def calculate_quiz_accuracy(\n",
    "    output_answers: list[str],\n",
    "    correct_answers_list: list[list[str]],\n",
    ") -> float:\n",
    "    num_correct = 0\n",
    "    for output_answer, answers in zip(output_answers, correct_answers_list):\n",
    "        # 解答例の少なくとも1つが、モデルの出力に含まれていれば正解とみなす\n",
    "        num_correct += int(any(a in output_answer for a in answers))\n",
    "    return num_correct / len(output_answers)"
   ]
  },
  {
   "cell_type": "code",
   "execution_count": 29,
   "id": "79a1bf30-7915-4dbd-8b4e-a9356a9e40ae",
   "metadata": {},
   "outputs": [
    {
     "name": "stderr",
     "output_type": "stream",
     "text": [
      "  0%|          | 4/1000 [00:01<06:35,  2.52it/s]"
     ]
    },
    {
     "name": "stdout",
     "output_type": "stream",
     "text": [
      "問題：映画『ウエスト・サイド物語』に登場する2つの少年グループといえば、シャーク団と何団?\n",
      "解答：ジェット団\n",
      "\n",
      "問題：氷った海に穴を開けて漁をすることから、漢字で「氷の下の魚」と書くタラ科の魚は何?\n",
      "解答：鱈\n",
      "\n",
      "問題：アメリカとロシア間で結ばれた「戦略兵器削減条約」のことをアルファベット5文字の略称で何という?\n",
      "解答：START\n",
      "\n",
      "問題：リンゴが木から落ちる様子を見て「万有引力」を発見したといわれる、17世紀のイギリスの科学者は誰?\n",
      "解答：アイザック・ニュートン\n",
      "\n"
     ]
    },
    {
     "name": "stderr",
     "output_type": "stream",
     "text": [
      "  1%|          | 8/1000 [00:02<04:40,  3.53it/s]"
     ]
    },
    {
     "name": "stdout",
     "output_type": "stream",
     "text": [
      "問題：聖武天皇の時代に栄えた、東大寺正倉院や唐招提寺金堂など、中国・唐の影響を強く受けた貴族文化を何という?\n",
      "解答：奈良時代\n",
      "\n",
      "問題：アメリカ・メジャーリーグの2つのリーグといえば、ナショナルリーグと何リーグ?\n",
      "解答：アメリカンリーグ\n",
      "\n",
      "問題：池坊、草月流、小原流といえば、どんな分野の三大流派?\n",
      "解答：華道\n",
      "\n",
      "問題：英語で「取り巻く」という意味がある、前後左右から音が聞こえる立体音響を何という?\n",
      "解答：Surround sound\n",
      "\n"
     ]
    },
    {
     "name": "stderr",
     "output_type": "stream",
     "text": [
      "  1%|          | 12/1000 [00:03<04:45,  3.47it/s]"
     ]
    },
    {
     "name": "stdout",
     "output_type": "stream",
     "text": [
      "問題：半導体で、電荷を運ぶキャリアにホールが使われるのをP型半導体というのに対し、自由電子が使われるのを何型半導体という?\n",
      "解答：N型半導体\n",
      "\n",
      "問題：大根を使った料理「紫おろし」や「染めおろし」といえば、おろした大根に何をかけた料理?\n",
      "解答：しょうゆ\n",
      "\n",
      "問題：かつては自動車製造や重工業で発展したものの、近年衰退した、アメリカ五大湖から大西洋にいたる地域のことを、「さび付いた工業地帯」という意味の英語で「何ベルト」という?\n",
      "解答：Rust Belt\n",
      "\n",
      "問題：将棋の駒の一大産地となっている山形県の市は何市?\n",
      "解答：鶴岡市\n",
      "\n"
     ]
    },
    {
     "name": "stderr",
     "output_type": "stream",
     "text": [
      "  2%|▏         | 16/1000 [00:04<04:15,  3.85it/s]"
     ]
    },
    {
     "name": "stdout",
     "output_type": "stream",
     "text": [
      "問題：作家の森鴎外、斎藤茂吉、安部公房は、現在の東京大学の何学部出身?\n",
      "解答：医学部\n",
      "\n",
      "問題：パソコンの情報量を表す単位、1キロバイトとは何バイトのこと?\n",
      "解答：1キロバイトは1024バイトのことを指します。\n",
      "\n",
      "問題：山上宗二が著した「山上宗二記」にその生涯が記されている、「侘び茶」の創始者として知られる室町時代の茶人は誰?\n",
      "解答：千利休\n",
      "\n",
      "問題：テニスのダブルスでは、プレーしている選手はコートに全部で何人いる?\n",
      "解答：4人\n",
      "\n"
     ]
    },
    {
     "name": "stderr",
     "output_type": "stream",
     "text": [
      "  2%|▏         | 20/1000 [00:05<04:31,  3.62it/s]"
     ]
    },
    {
     "name": "stdout",
     "output_type": "stream",
     "text": [
      "問題：日本のテレビ業界で「プライムタイム」といえば、毎日19時から何時までの時間帯のこと?\n",
      "解答：21時\n",
      "\n",
      "問題：アイドルグループ・ももいろクローバーZのメンバーで、最年長は高城れにですが、最年少は誰?\n",
      "解答：佐々木彩夏\n",
      "\n",
      "問題：リス・ネズミ・ヤマアラシなど、絶えず伸びつづける門歯を持つ哺乳類を何類という?\n",
      "解答：齧歯類\n",
      "\n",
      "問題：英語で「タングツイスター」という言葉遊びは何?\n",
      "解答：Tongue twister\n",
      "\n"
     ]
    },
    {
     "name": "stderr",
     "output_type": "stream",
     "text": [
      "  2%|▏         | 24/1000 [00:10<09:14,  1.76it/s]"
     ]
    },
    {
     "name": "stdout",
     "output_type": "stream",
     "text": [
      "問題：建設当時の元号にちなんで名づけられた、日本初の南極観測基地は何?\n",
      "解答：昭和基地\n",
      "\n",
      "問題：「話し始めるやいなや」という意味がある、落語の寄席で最初の一席を指す言葉といえば何?\n",
      "解答：前説\n",
      "\n",
      "問題：「眠りを殺してしまった」「きれいは汚い、汚いはきれい」などの有名なフレーズが登場する、国王ダンカンに対して謀反を起こす将軍を描いたシェイクスピアの戯曲は何?\n",
      "解答：マクベス\n",
      "\n",
      "問題：頭で考えただけの、実際の役には立たない計画のことを「机上の何」という?\n",
      "解答：机上の空論\n",
      "\n"
     ]
    },
    {
     "name": "stderr",
     "output_type": "stream",
     "text": [
      "  3%|▎         | 28/1000 [00:11<07:52,  2.06it/s]"
     ]
    },
    {
     "name": "stdout",
     "output_type": "stream",
     "text": [
      "問題：NECが運営するスポーツチームで、女子バレーボールV・プレミアリーグのチーム名はレッドロケッツですが、ラグビートップリーグのチーム名は何?\n",
      "解答：NECグリーンロケッツ\n",
      "\n",
      "問題：音楽の楽譜で、最初にシャープが1つつくとト長調ですが、2つつくと何長調になる?\n",
      "解答：嬰ハ長調\n",
      "\n",
      "問題：1869年、明治新政府が全国の藩主に土地と人民を朝廷に返上させ、中央集権をはかった政策を、漢字4文字で何という?\n",
      "解答：廃藩置県\n",
      "\n",
      "問題：司馬遼太郎のペンネームの由来となった、中国・前漢時代の歴史家は誰?\n",
      "解答：司馬遼太郎のペンネームの由来となった、中国・前漢時代の歴史家は司馬遷（しばせん）です。\n",
      "\n"
     ]
    },
    {
     "name": "stderr",
     "output_type": "stream",
     "text": [
      "  3%|▎         | 32/1000 [00:12<06:19,  2.55it/s]"
     ]
    },
    {
     "name": "stdout",
     "output_type": "stream",
     "text": [
      "問題：大腸の運動や分泌機能の異常で起こる「過敏腸性症候群」のことをアルファベット3文字の略称で何という?\n",
      "解答：IBS\n",
      "\n",
      "問題：ニューヨーク州のニックネームからその名がついた、マンハッタン5番街に建つ102階建ての超高層ビルは何?\n",
      "解答：エンパイアステートビル\n",
      "\n",
      "問題：漫画版が累計発行部数200万部を突破して話題になった、主人公・コペル君こと本田潤一の成長を描いた吉野源三郎の小説は何?\n",
      "解答：『コペルくん』\n",
      "\n",
      "問題：別名を「振袖火事」ともいう、1657年に江戸を焼き尽くした火事のことを、その元号から何という?\n",
      "解答：明暦の大火\n",
      "\n"
     ]
    },
    {
     "name": "stderr",
     "output_type": "stream",
     "text": [
      "  4%|▎         | 36/1000 [00:13<06:10,  2.60it/s]"
     ]
    },
    {
     "name": "stdout",
     "output_type": "stream",
     "text": [
      "問題：椋鳩十の童話『大造じいさんとガン』に登場する、ガンの群れの頭領の名前は何?\n",
      "解答：ガン太郎\n",
      "\n",
      "問題：1969年にアポロ11号が初めて月面着陸した場所は何の海?\n",
      "解答：月の海\n",
      "\n",
      "問題：戦国武将の今川氏親、義元親子によって制定された分国法は何?\n",
      "解答：駿河法\n",
      "\n",
      "問題：「ミスターX」という人物が極東地区のマネージャーを務める、アニメ『タイガーマスク』に登場する悪役レスラー養成所の名前は何?\n",
      "解答：ブラック・シャドウ\n",
      "\n"
     ]
    },
    {
     "name": "stderr",
     "output_type": "stream",
     "text": [
      "  4%|▍         | 40/1000 [00:14<05:05,  3.14it/s]"
     ]
    },
    {
     "name": "stdout",
     "output_type": "stream",
     "text": [
      "問題：夏の盛りに、多くのセミが一斉に鳴く様子を、雨が降る様子にたとえて何という?\n",
      "解答：セミの雨\n",
      "\n",
      "問題：英語では「ウォーターストライダー」。体から甘いにおいを発することから名づけられた、水面をスイスイと滑って移動する昆虫といえば何?\n",
      "解答：water strider\n",
      "\n",
      "問題：詩を作る才能がすぐれていることを、中国・魏の曹植がたった7歩ほど歩く間に詩を作ったという故事から何という?\n",
      "解答：七歩詩(しちほし)\n",
      "\n",
      "問題：「タタータ」などと表現される、音楽でリズムに変化をつけるためにアクセントの位置をずらすことを指す用語は何?\n",
      "解答：オフビート\n",
      "\n"
     ]
    },
    {
     "name": "stderr",
     "output_type": "stream",
     "text": [
      "  4%|▍         | 44/1000 [00:14<04:14,  3.76it/s]"
     ]
    },
    {
     "name": "stdout",
     "output_type": "stream",
     "text": [
      "問題：1603年、江戸幕府が開かれた時の日本の元号は何?\n",
      "解答：慶長\n",
      "\n",
      "問題：黄道十二星座を漢字で書いた時に「子ども」の「子」という字が使われるのは、双子座と何座?\n",
      "解答：蟹座\n",
      "\n",
      "問題：ト音記号の元になったアルファベットは何?\n",
      "解答：F\n",
      "\n",
      "問題：囲碁では十段戦を、将棋ではヒューリック杯棋聖戦を主催している日本の新聞社はどこ?\n",
      "解答：毎日新聞\n",
      "\n"
     ]
    },
    {
     "name": "stderr",
     "output_type": "stream",
     "text": [
      "  5%|▍         | 48/1000 [00:16<04:30,  3.52it/s]"
     ]
    },
    {
     "name": "stdout",
     "output_type": "stream",
     "text": [
      "問題：英語では「ファイアフライ・スクイード」という、体中に発光器を持ち、青白く光ることで知られるイカは何?\n",
      "解答：Firefly squid\n",
      "\n",
      "問題：東北地方の郷土富士で、津軽富士といえば岩木山ですが、出羽富士といえば何山?\n",
      "解答：月山\n",
      "\n",
      "問題：組織の内部にいながらその組織に害を及ぼす者のことを俗に「何の虫」という?\n",
      "解答：スパイ\n",
      "\n",
      "問題：ゼラの戦いでシーザーが残したとされる名言「Veni, vidi, vici」は、日本語では何という言葉で知られる?\n",
      "解答：「来た、見た、勝った」\n",
      "\n"
     ]
    },
    {
     "name": "stderr",
     "output_type": "stream",
     "text": [
      "  5%|▌         | 52/1000 [00:17<03:59,  3.96it/s]"
     ]
    },
    {
     "name": "stdout",
     "output_type": "stream",
     "text": [
      "問題：もともとは、日本人移民が古い着物を現地風のシャツにリメイクして作られたものが起源とされる、ハワイ名物のカラフルなシャツは何?\n",
      "解答：アロハシャツ\n",
      "\n",
      "問題：「ナルシスト」という言葉の語源となったギリシャ神話の美少年・ナルキッソスが死んだ後に咲いたとされる花は何?\n",
      "解答：水仙花\n",
      "\n",
      "問題：フットサルのポジションで、サッカーのフォワードにあたるのは「ピヴォ」、ディフェンダーにあたるのは「フィクソ」ですが、ミッドフィルダーにあたるのは何?\n",
      "解答：アラ。\n",
      "\n",
      "問題：6、28、496などのように、その数以外のすべて約数の和がその数と等しくなる自然数のことを何数という?\n",
      "解答：完全数\n",
      "\n"
     ]
    },
    {
     "name": "stderr",
     "output_type": "stream",
     "text": [
      "  6%|▌         | 56/1000 [00:18<04:45,  3.31it/s]"
     ]
    },
    {
     "name": "stdout",
     "output_type": "stream",
     "text": [
      "問題：「Trp」という略号で表される、チーズや牛乳などに多く含まれ、睡眠を促す効果があるとされる必須アミノ酸の一種は何?\n",
      "解答：トリプトファン\n",
      "\n",
      "問題：歌詞の中に登場することから、青函連絡船の八甲田丸の係留地や龍飛崎に歌碑が建てられている、石川さゆりの代表曲といえば何?\n",
      "解答：「津軽海峡冬景色」\n",
      "\n",
      "問題：企業買収の際などに行われる「株式公開買付」のことをアルファベット3文字で何という?\n",
      "解答：TOB\n",
      "\n",
      "問題：戦国武将の加藤清正が朝鮮から日本に持ち込んだことから「キヨマサニンジン」とも呼ばれる、独特の香りが特徴的な野菜は何?\n",
      "解答：ニンジン\n",
      "\n"
     ]
    },
    {
     "name": "stderr",
     "output_type": "stream",
     "text": [
      "  6%|▌         | 60/1000 [00:19<04:01,  3.90it/s]"
     ]
    },
    {
     "name": "stdout",
     "output_type": "stream",
     "text": [
      "問題：百人一首を使う競技かるたで、自分と相手の残り札がともに1枚ずつになった局面を何という?\n",
      "解答：ワンモウ\n",
      "\n",
      "問題：第1回はマザー・テレサが受賞した、宗教家や思想家に贈られることから「宗教界のノーベル賞」と呼ばれる賞は何?\n",
      "解答：ノーベル平和賞\n",
      "\n",
      "問題：「酸っぱいニシン」という意味がある、「世界一臭い食べ物」などとも呼ばれるスウェーデン名物の缶詰といえば何?\n",
      "解答：スルストロミング\n",
      "\n",
      "問題：腸を整える整腸剤の原料にも用いられる、原子番号83、元素記号Biの元素は何?\n",
      "解答：ビスマス\n",
      "\n"
     ]
    },
    {
     "name": "stderr",
     "output_type": "stream",
     "text": [
      "  6%|▋         | 64/1000 [00:19<03:30,  4.44it/s]"
     ]
    },
    {
     "name": "stdout",
     "output_type": "stream",
     "text": [
      "問題：鎌倉時代に成立した「五摂家」とは、近衛家、九条家、一条家、二条家と何家?\n",
      "解答：藤原家\n",
      "\n",
      "問題：神が生け贄として選んだ者の家の屋根に印をたてたという伝説に由来する、「多くの者の中から選び出される」という意味の慣用句は何?\n",
      "解答：「選ばれし者」\n",
      "\n",
      "問題：理髪店の前に置かれている、赤・白・青の3色の縞模様が回転する円柱形の看板を何という?\n",
      "解答：バーバーポール\n",
      "\n",
      "問題：カクテルのストロー・ハット、レッドアイ、ブラッディメアリーに共通して用いられるのは何ジュース?\n",
      "解答：トマトジュース\n",
      "\n"
     ]
    },
    {
     "name": "stderr",
     "output_type": "stream",
     "text": [
      "  7%|▋         | 68/1000 [00:22<05:33,  2.79it/s]"
     ]
    },
    {
     "name": "stdout",
     "output_type": "stream",
     "text": [
      "問題：広辞苑でこの言葉を引くと、収入、東、お茶、双六などの説明書きがある、かなにすると3文字の言葉は何?\n",
      "解答：給\n",
      "\n",
      "問題：太陽系の惑星で、ジュリエット、オフィーリア、デズデモーナなどシェイクスピアの作品に登場する人物の名が付けられた衛星を持つ星は何?\n",
      "解答：天王星\n",
      "\n",
      "問題：登山で危険な岩壁を登るとき、安全のためお互いの体をザイルで結び合うことをドイツ語で何という?\n",
      "解答：ザイルパートナーシャフト\n",
      "\n",
      "問題：1938年のニューヨーク博覧会で最初に使われた言葉で、現在の記録やメッセージなどを未来に残すために地中に埋めておく容器のことを何という?\n",
      "解答：タイムカプセル\n",
      "\n"
     ]
    },
    {
     "name": "stderr",
     "output_type": "stream",
     "text": [
      "  7%|▋         | 72/1000 [00:23<04:34,  3.37it/s]"
     ]
    },
    {
     "name": "stdout",
     "output_type": "stream",
     "text": [
      "問題：つるの切り口から出る液体が化粧水としても利用される、漢字で「糸瓜」と書く植物は何?\n",
      "解答：ウリ\n",
      "\n",
      "問題：オーストラリアの公用語は英語ですが、オーストリアの公用語は何語?\n",
      "解答：ドイツ語\n",
      "\n",
      "問題：サッカー用語の「ハットトリック」は、もともとはどんなスポーツで使われた言葉?\n",
      "解答：クリケット\n",
      "\n",
      "問題：ササン朝ペルシアで国教とされた、アフラ・マズダを最高神とする宗教は何?\n",
      "解答：ゾロアスター教\n",
      "\n"
     ]
    },
    {
     "name": "stderr",
     "output_type": "stream",
     "text": [
      "  8%|▊         | 76/1000 [00:23<03:56,  3.90it/s]"
     ]
    },
    {
     "name": "stdout",
     "output_type": "stream",
     "text": [
      "問題：野球は3アウトでチェンジですが、野球の原型となったクリケットは何アウトでチェンジとなる?\n",
      "解答：10アウト\n",
      "\n",
      "問題：ホッケーは1チーム11人ですが、アイスホッケーは1チーム何人?\n",
      "解答：6人\n",
      "\n",
      "問題：作家アガサ・クリスティーが産んだ「灰色の脳細胞」と呼ばれる名探偵は誰?\n",
      "解答：エルキュール・ポアロ\n",
      "\n",
      "問題：アメリカの二大政党で、民主党のシンボルとなっている動物はロバですが、共和党のシンボルとなっている動物は何?\n",
      "解答：象\n",
      "\n"
     ]
    },
    {
     "name": "stderr",
     "output_type": "stream",
     "text": [
      "  8%|▊         | 80/1000 [00:24<04:02,  3.80it/s]"
     ]
    },
    {
     "name": "stdout",
     "output_type": "stream",
     "text": [
      "問題：「インスタント」と「テレグラム」という英語を合成して名付けられた、写真・動画の共有アプリといえば何?\n",
      "解答：Instagram\n",
      "\n",
      "問題：イタリア・セリエAの「ミラノダービー」で対戦するサッカーチームは、ACミランとどこ?\n",
      "解答：インテルミラノ\n",
      "\n",
      "問題：昭和24年の火災によって金堂の壁画が焼失したことがきっかけで、文化財保護法が成立することとなった、奈良県のお寺は何?\n",
      "解答：法隆寺\n",
      "\n",
      "問題：小説や戯曲で、物語の序盤に登場した人物や小道具を、終盤で重要な意味を持つ伏線として描く手法を、ロシアの作家にちなんで「誰の銃」という?\n",
      "解答：チェーホフの銃\n",
      "\n"
     ]
    },
    {
     "name": "stderr",
     "output_type": "stream",
     "text": [
      "  8%|▊         | 84/1000 [00:26<04:46,  3.19it/s]"
     ]
    },
    {
     "name": "stdout",
     "output_type": "stream",
     "text": [
      "問題：正式名称を「ザンクト・ペーター・ウント・マリア大聖堂」という、ゴシック様式の建築物として世界最大を誇る、ドイツにある世界遺産の大聖堂は何?\n",
      "解答：ケルン大聖堂\n",
      "\n",
      "問題：「万物の根源は数である」と説いた、「三平方の定理」の別名にも名を残す古代ギリシャの数学者は誰?\n",
      "解答：ピタゴラス\n",
      "\n",
      "問題：『ヨハネ受難曲』や『ブランデンブルク協奏曲』を作曲したドイツの音楽家は誰?\n",
      "解答：ヨハン・ゼバスティアン・バッハ\n",
      "\n",
      "問題：翼が生えた靴を履くとされるローマ神話の神様にちなんで名付けられた、アメリカ初の有人宇宙飛行計画は何?\n",
      "解答：マーキュリー計画\n",
      "\n"
     ]
    },
    {
     "name": "stderr",
     "output_type": "stream",
     "text": [
      "  9%|▉         | 88/1000 [00:27<04:33,  3.33it/s]"
     ]
    },
    {
     "name": "stdout",
     "output_type": "stream",
     "text": [
      "問題：1952年にノーベル生理学・医学賞を受賞した、ストレプトマイシンの発見で知られる細菌学者は誰?\n",
      "解答：セルマン・ワクスマン\n",
      "\n",
      "問題：花の形が墨を入れる壺に似ていることから名がついた、春に紫色の花を咲かせる植物は何?\n",
      "解答：アジサイ\n",
      "\n",
      "問題：理髪店でみられる赤、白、青の縞模様が回転する看板のことを何という?\n",
      "解答：バーバーポール\n",
      "\n",
      "問題：姥山貝塚、西之城貝塚、加曽利貝塚などをはじめ、全国にある貝塚の4分の1が位置する都道府県はどこ?\n",
      "解答：大阪府\n",
      "\n"
     ]
    },
    {
     "name": "stderr",
     "output_type": "stream",
     "text": [
      "  9%|▉         | 92/1000 [00:28<03:50,  3.95it/s]"
     ]
    },
    {
     "name": "stdout",
     "output_type": "stream",
     "text": [
      "問題：美人を形容する言葉、「立てば芍薬、座れば牡丹、歩く姿は・・・」、さて、「何の花」?\n",
      "解答：百合\n",
      "\n",
      "問題：アメリカの州の愛称で「ゴールデンステート」と呼ばれるのはカリフォルニア州ですが、「シルバーステート」と呼ばれるのは何州?\n",
      "解答：ネバダ州\n",
      "\n",
      "問題：コレクター心をくすぐる「フルコンプ」や「コンプガチャ」の、「コンプ」とは何という英単語の略?\n",
      "解答：Completion\n",
      "\n",
      "問題：弥生式土器の名前の由来となった弥生町がある、東京都の区は何区?\n",
      "解答：港区\n",
      "\n"
     ]
    },
    {
     "name": "stderr",
     "output_type": "stream",
     "text": [
      " 10%|▉         | 96/1000 [00:29<04:03,  3.72it/s]"
     ]
    },
    {
     "name": "stdout",
     "output_type": "stream",
     "text": [
      "問題：玉ねぎを炒める時の炒め具合の目安となる明るい褐色のことを、あるお菓子にたとえて何色という?\n",
      "解答：キャラメル色\n",
      "\n",
      "問題：1980年代、おまけとしてつけられた「悪魔vs天使シール」が子どもたちの間でブームとなった、ロッテのお菓子は何?\n",
      "解答：チョコビのミニチョコ\n",
      "\n",
      "問題：「0対0」という意味がある、卓球やバドミントンの試合開始で主審が行う合図は何?\n",
      "解答：サーブ\n",
      "\n",
      "問題：銅を用いた合金で、青銅で加えるのはスズですが、赤銅で加える金属は何?\n",
      "解答：銅\n",
      "\n"
     ]
    },
    {
     "name": "stderr",
     "output_type": "stream",
     "text": [
      " 10%|█         | 100/1000 [00:31<04:47,  3.13it/s]"
     ]
    },
    {
     "name": "stdout",
     "output_type": "stream",
     "text": [
      "問題：フランス人農園主とアメリカ人従軍看護婦との恋を描いた、『魅惑の宵』『バリハイ』などの劇中曲が有名なミュージカル映画は何?\n",
      "解答：『南太平洋』\n",
      "\n",
      "問題：故事成語「守株」で、切り株にぶつかって死んでしまった動物は何?\n",
      "解答：狸\n",
      "\n",
      "問題：人間の体で、咽頭と噴門の間にある、口から入った食べ物を、ぜん動運動によって胃に送る消化器官は何?\n",
      "解答：食道\n",
      "\n",
      "問題：競技かるたで、「秋の田の」と「秋風に」のように、決まり字が途中まで一緒である札を何という?\n",
      "解答：かな札\n",
      "\n"
     ]
    },
    {
     "name": "stderr",
     "output_type": "stream",
     "text": [
      " 10%|█         | 104/1000 [00:31<03:55,  3.80it/s]"
     ]
    },
    {
     "name": "stdout",
     "output_type": "stream",
     "text": [
      "問題：ボクシングで、アゴの先端は「チン」といいますが、アゴの側面は何という?\n",
      "解答：「ガードル」\n",
      "\n",
      "問題：1825年12月にロシアで起きた反乱を、「十二月党」という意味の言葉から「何の乱」という?\n",
      "解答：デカブリストの乱\n",
      "\n",
      "問題：第二次世界大戦を終結させるために連合国と日本の間で締結された平和条約を、署名されたアメリカの都市から何という?\n",
      "解答：サンフランシスコ\n",
      "\n",
      "問題：ブエノスアイレスを中心に広がっている、アルゼンチンの草原地帯を何という?\n",
      "解答：プンパ\n",
      "\n"
     ]
    },
    {
     "name": "stderr",
     "output_type": "stream",
     "text": [
      " 11%|█         | 108/1000 [00:34<05:53,  2.52it/s]"
     ]
    },
    {
     "name": "stdout",
     "output_type": "stream",
     "text": [
      "問題：飛行機の客室乗務員のことをアルファベット2文字で「CA」などといいますが、これを略さずいうと「何・アテンダント」?\n",
      "解答：キャビン・アテンダント\n",
      "\n",
      "問題：多くの文豪が通った「ル・ドーム」や「ル・セレクト」などの老舗カフェがある、パリ・セーヌ川左岸の地区は何?\n",
      "解答：サンジェルマン・デ・プレ\n",
      "\n",
      "問題：InstagramなどのSNSで重視される、写真うつりのよいことを英語で何という?\n",
      "解答：Photogenic\n",
      "\n",
      "問題：ホルストの組曲『惑星』で、第1曲は「火星」ですが、第2曲は何?\n",
      "解答：「金星」\n",
      "\n"
     ]
    },
    {
     "name": "stderr",
     "output_type": "stream",
     "text": [
      " 11%|█         | 112/1000 [00:35<05:21,  2.76it/s]"
     ]
    },
    {
     "name": "stdout",
     "output_type": "stream",
     "text": [
      "問題：うどんの上に生卵を乗せる「月見うどん」で、黄身は月に見立てていますが、白身は何に見立てている?\n",
      "解答：雲\n",
      "\n",
      "問題：『イパネマの娘』などの曲に代表される、1950年代後半に、サンバにジャズの感覚を取り入れて、ブラジルで生れた音楽は何?\n",
      "解答：ボサノヴァ\n",
      "\n",
      "問題：紫式部の『源氏物語』全54帖の巻名で、最初の第1帖は『桐壺』ですが、次の第2帖は何?\n",
      "解答：帚木\n",
      "\n",
      "問題：文化財保護法第71条第2項にもとづいて文部科学大臣が指定する「重要無形文化財保持者」のことを何という?\n",
      "解答：「重要無形文化財保持者」\n",
      "\n"
     ]
    },
    {
     "name": "stderr",
     "output_type": "stream",
     "text": [
      " 12%|█▏        | 116/1000 [00:37<05:27,  2.70it/s]"
     ]
    },
    {
     "name": "stdout",
     "output_type": "stream",
     "text": [
      "問題：ヒンドゥー教の女神・ラクシュミーにあたる、美や幸運をもたらすとされる仏教の神様は誰?\n",
      "解答：ウマ・デヴィ（Uma Devi）\n",
      "\n",
      "問題：大坂城の「玉造門」や「京橋門」、江戸城の「平河門」など、お城の裏口にある門のことを、「大手門」に対して何という?\n",
      "解答：裏門\n",
      "\n",
      "問題：江戸時代の僧侶・禅海が、30年余りの歳月をかけて完成させたと伝えられる、大分県の耶馬溪にあるトンネルは何?\n",
      "解答：耶馬溪トンネル\n",
      "\n",
      "問題：衆議院で内閣不信任決議案が可決された場合、内閣は何日以内に総辞職か衆議院解散を行わなくてはならないと定められている?\n",
      "解答：10日\n",
      "\n"
     ]
    },
    {
     "name": "stderr",
     "output_type": "stream",
     "text": [
      " 12%|█▏        | 120/1000 [00:38<05:04,  2.89it/s]"
     ]
    },
    {
     "name": "stdout",
     "output_type": "stream",
     "text": [
      "問題：「市松模様」という名前の由来となった江戸時代の歌舞伎俳優は誰?\n",
      "解答：市松人形\n",
      "\n",
      "問題：紀元前4世紀にチャンドラグプタが建国し、3代目のアショーカ王の時代に最盛期を迎えた、古代インド最初の統一王朝は何?\n",
      "解答：マウリヤ朝\n",
      "\n",
      "問題：紀元前3000年ごろ、シュメール人の都市国家が成立したことに始まる、チグリス・ユーフラテス川流域で栄えた、世界最古の文明のひとつは何?\n",
      "解答：メソポタミア文明\n",
      "\n",
      "問題：唱歌『夏は来ぬ』の歌詞に登場する2種類の鳥とは、ホトトギスと何?\n",
      "解答：ウグイス\n",
      "\n"
     ]
    },
    {
     "name": "stderr",
     "output_type": "stream",
     "text": [
      " 12%|█▏        | 124/1000 [00:39<04:09,  3.51it/s]"
     ]
    },
    {
     "name": "stdout",
     "output_type": "stream",
     "text": [
      "問題：湖底からナウマンゾウやオオツノジカなどの化石が多数発掘されたことで有名な、長野県黒姫山のふもとにある湖は何?\n",
      "解答：霧ヶ湖\n",
      "\n",
      "問題：上場企業の発行済み株式数に株価をかけて算出される、いわゆる「企業価値」を表す指標を何という?\n",
      "解答：時価総額\n",
      "\n",
      "問題：選挙において、候補者が選挙区をこまめに回り、有権者1人1人に訴えかける選挙手法を、家の前に渡された板にたとえて何選挙という?\n",
      "解答：フェンス選挙\n",
      "\n",
      "問題：漫画のテーマになっているスポーツで、『ハイキュー!!』といえばバレーボールですが、『カイチュー!』といえば何?\n",
      "解答：野球\n",
      "\n"
     ]
    },
    {
     "name": "stderr",
     "output_type": "stream",
     "text": [
      " 13%|█▎        | 128/1000 [00:39<03:30,  4.14it/s]"
     ]
    },
    {
     "name": "stdout",
     "output_type": "stream",
     "text": [
      "問題：アメリカの社会学者デビッド・フィリップスが命名した、マスメディアで取り上げられた自殺報道に影響されることで自殺者が増える現象を何効果という?\n",
      "解答：ウェルチ効果\n",
      "\n",
      "問題：インターネットのホームページのアドレスでよく見る「http」は、何という英語の略?\n",
      "解答：HyperText Transfer Protocol\n",
      "\n",
      "問題：選挙の結果を予測するため、投票を終えた人に誰に投票したかなどを尋ねて得票数を推測することを何調査という?\n",
      "解答：出口調査\n",
      "\n",
      "問題：日本の旧国名で「肥後の国」といえば現在の熊本県にあたりますが、「肥後の国」の語呂合わせで標高を覚える、標高1592mの熊本県の山はどこ?\n",
      "解答：阿蘇山\n",
      "\n"
     ]
    },
    {
     "name": "stderr",
     "output_type": "stream",
     "text": [
      " 13%|█▎        | 132/1000 [00:41<04:24,  3.29it/s]"
     ]
    },
    {
     "name": "stdout",
     "output_type": "stream",
     "text": [
      "問題：交差した2本の剣のトレードマークでおなじみのドイツの陶磁器ブランドで、「ブルーオニオン」や「インドの華」などのシリーズで知られるものは何?\n",
      "解答：メーアセン\n",
      "\n",
      "問題：小説『桜の木の下には』の作者は梶井基次郎ですが、『桜の森の満開の下』の作者は誰?\n",
      "解答：夢野久作\n",
      "\n",
      "問題：日本最大の切手のひとつの図柄にもなった、菱川師宣の代表作の浮世絵は何?\n",
      "解答：「冨嶽三十六景」\n",
      "\n",
      "問題：美術監督のセドリック・ギボンズによってデザインされた、アカデミー賞の受賞者に贈られる黄金像の通称は何?\n",
      "解答：オスカー\n",
      "\n"
     ]
    },
    {
     "name": "stderr",
     "output_type": "stream",
     "text": [
      " 14%|█▎        | 136/1000 [00:41<03:41,  3.90it/s]"
     ]
    },
    {
     "name": "stdout",
     "output_type": "stream",
     "text": [
      "問題：第1回は小説『博士の愛した数式』が受賞した、全国の書店員の投票によって選ばれる文学賞は何?\n",
      "解答：本屋大賞\n",
      "\n",
      "問題：童話『オズの魔法使い』で、ライオンが欲しがったものは勇気ですが、ブリキの木こりが欲しがったものは何?\n",
      "解答：心臓\n",
      "\n",
      "問題：第1回夏季オリンピックが開催されたのはアテネですが、第1回冬季オリンピックが開催されたのはどこ?\n",
      "解答：シャモニー\n",
      "\n",
      "問題：ドイツの国旗に使われている3色の色といえば、黒、赤と何色?\n",
      "解答：黄色\n",
      "\n"
     ]
    },
    {
     "name": "stderr",
     "output_type": "stream",
     "text": [
      " 14%|█▍        | 140/1000 [00:42<03:32,  4.05it/s]"
     ]
    },
    {
     "name": "stdout",
     "output_type": "stream",
     "text": [
      "問題：1580年にイエズス会の宣教師によって初めて設立された、日本人聖職者を養成するための神学校を何という?\n",
      "解答：明倫館\n",
      "\n",
      "問題：動きが素早いことや時間が短いことを、稲妻の光や火打ち石の火にたとえた四字熟語で何という?\n",
      "解答：稲光火急\n",
      "\n",
      "問題：世間のさまざまな話題のことを、漢数字の「四」を使って何話という?\n",
      "解答：四方話\n",
      "\n",
      "問題：「青の洞窟」などの観光名所がある、イタリア・ナポリ沖に浮かぶ風光明媚な島はどこ?\n",
      "解答：カプリ島\n",
      "\n"
     ]
    },
    {
     "name": "stderr",
     "output_type": "stream",
     "text": [
      " 14%|█▍        | 144/1000 [00:45<04:53,  2.92it/s]"
     ]
    },
    {
     "name": "stdout",
     "output_type": "stream",
     "text": [
      "問題：小説『城の崎にて』や『暗夜行路』で知られる白樺派の作家は誰?\n",
      "解答：太宰治\n",
      "\n",
      "問題：1989年から95年の間に生まれた人たちのことを、「千年紀」という意味の言葉を使って「何世代」という?\n",
      "解答：千年紀世代\n",
      "\n",
      "問題：略称はTNSC。豊かな自然に囲まれ「世界一美しいロケット発射場」とも呼ばれる、JAXAが運営する施設は何?\n",
      "解答：種子島宇宙センター\n",
      "\n",
      "問題：交通情報の提供を行う、日本道路交通情報センターのことを、ジャパン・ロード・トラフィック・インフォメーション・センターの頭文字の略称で何という?\n",
      "解答：JARTIC\n",
      "\n"
     ]
    },
    {
     "name": "stderr",
     "output_type": "stream",
     "text": [
      " 15%|█▍        | 148/1000 [00:46<04:29,  3.16it/s]"
     ]
    },
    {
     "name": "stdout",
     "output_type": "stream",
     "text": [
      "問題：カーリングで、ストーンを投げ入れる目標となる同心円のことを何という?\n",
      "解答：ハウス\n",
      "\n",
      "問題：「セコい」「ヨイショ」「トリ」といえば、何に由来する言葉?\n",
      "解答：「セコい」は「セコンド」、「ヨイショ」は「酔狩り」、「トリ」は「取り」に由来する言葉。\n",
      "\n",
      "問題：「repeated unit」を略して名付けられた、111や1111のようにすべてのケタの数字が1である数のことを何という?\n",
      "解答：レピュニット\n",
      "\n",
      "問題：銀行などの金融機関で、長期間預け入れや払い戻しのない預貯金口座のことを何という?\n",
      "解答：休眠預金\n",
      "\n"
     ]
    },
    {
     "name": "stderr",
     "output_type": "stream",
     "text": [
      " 15%|█▌        | 152/1000 [00:46<03:50,  3.68it/s]"
     ]
    },
    {
     "name": "stdout",
     "output_type": "stream",
     "text": [
      "問題：アメリカのビジネススクールを修了した人に授与される「経営管理学修士号」をアルファベットの略称で何という?\n",
      "解答：MBA\n",
      "\n",
      "問題：切手用語で、シートに印刷された切手が隣り同士で互いに上下逆さになったもののことをフランス語で何という?\n",
      "解答：タête-bêche\n",
      "\n",
      "問題：文房具で、メモ帳のロディア、手帳のクオバディスといえばどこの国のメーカー?\n",
      "解答：フランス\n",
      "\n",
      "問題：韓国・ソウルの観光スポットにもなっている、1395年に建設された朝鮮王朝の正宮は何?\n",
      "解答：景福宮\n",
      "\n"
     ]
    },
    {
     "name": "stderr",
     "output_type": "stream",
     "text": [
      " 16%|█▌        | 156/1000 [00:48<04:35,  3.06it/s]"
     ]
    },
    {
     "name": "stdout",
     "output_type": "stream",
     "text": [
      "問題：ダイヤモンドや方解石などに見られる、鉱物の結晶がある特定の方向に沿って割れやすいという性質を何という?\n",
      "解答：劈開性\n",
      "\n",
      "問題：7月24日の芥川龍之介の命日を、生前に残した小説や、好んで描いた絵にちなんで何忌という?\n",
      "解答：蜘蛛巣城\n",
      "\n",
      "問題：英語で「昼食」と「魅力」を意味する言葉から名づけられた、お弁当などに添えられる、魚の形のタレ容器は何?\n",
      "解答：Bento Box\n",
      "\n",
      "問題：スリランカの国旗に描かれている4つの葉は、どんな植物の葉?\n",
      "解答：ボダイイチゴ\n",
      "\n"
     ]
    },
    {
     "name": "stderr",
     "output_type": "stream",
     "text": [
      " 16%|█▌        | 160/1000 [00:49<03:51,  3.62it/s]"
     ]
    },
    {
     "name": "stdout",
     "output_type": "stream",
     "text": [
      "問題：フランス語で「新しい料理」という意味がある、1970年代に提唱された、フランス料理の傾向は何?\n",
      "解答：ヌーベルキュイジーヌ\n",
      "\n",
      "問題：ハシヤスメ・アツコやアイナ・ジ・エンドなど6人のメンバーからなる、「楽器を持たないパンクバンド」と呼ばれるガールズグループは何?\n",
      "解答：BiSH\n",
      "\n",
      "問題：1889年、フランス革命100周年を記念したパリ万博の際に建設された、パリ・セーヌ河畔の塔は何?\n",
      "解答：エッフェル塔\n",
      "\n",
      "問題：バスケットボールで、試合やピリオド終了のブザーと同時、またはその直後に決まるシュートのことを何という?\n",
      "解答：ブザービーター\n",
      "\n"
     ]
    },
    {
     "name": "stderr",
     "output_type": "stream",
     "text": [
      " 16%|█▋        | 164/1000 [00:49<03:15,  4.27it/s]"
     ]
    },
    {
     "name": "stdout",
     "output_type": "stream",
     "text": [
      "問題：インドネシア、マレーシア、ブルネイが領土を所有している、世界で3番目に面積が大きい島はどこ?\n",
      "解答：ボルネオ島\n",
      "\n",
      "問題：厚い布地に絵や刺繍などが施された、劇場で舞台と客席とを仕切る、上下に開閉する幕を何という?\n",
      "解答：幕\n",
      "\n",
      "問題：感情が揺さぶられる音楽などを指して使われる「エモい」の「エモ」とは、何という英語の略?\n",
      "解答：Emotional\n",
      "\n",
      "問題：ひと桁の素数をすべて足すといくつになる?\n",
      "解答：17\n",
      "\n"
     ]
    },
    {
     "name": "stderr",
     "output_type": "stream",
     "text": [
      " 17%|█▋        | 168/1000 [00:50<03:00,  4.61it/s]"
     ]
    },
    {
     "name": "stdout",
     "output_type": "stream",
     "text": [
      "問題：1642年にクロムウェルを指導者として起こったイギリスの市民革命のことを、何革命という?\n",
      "解答：清教徒革命\n",
      "\n",
      "問題：理科の実験などで、液体の体積を量るために用いられる、円筒形のガラスやプラスチック製の容器に目盛りをつけた道具は何?\n",
      "解答：シリンジ\n",
      "\n",
      "問題：女性科学者の名前に由来する元素で、キュリウムの原子番号は96番ですが、マイトネリウムの原子番号は何番?\n",
      "解答：108\n",
      "\n",
      "問題：スペインのサッカークラブの「ソシエダ」や「マドリード」の前につく、スペイン語で「王立の、王朝の」という意味がある言葉は何?\n",
      "解答：レアル\n",
      "\n"
     ]
    },
    {
     "name": "stderr",
     "output_type": "stream",
     "text": [
      " 17%|█▋        | 172/1000 [00:52<04:06,  3.35it/s]"
     ]
    },
    {
     "name": "stdout",
     "output_type": "stream",
     "text": [
      "問題：動物園でもおなじみの大型の哺乳類で、英語では「ヒポポタマス」というのは何?\n",
      "解答：Hippopotamus\n",
      "\n",
      "問題：体積の単位で、「1リットル」は「何デシリットル」?\n",
      "解答：10デシリットル\n",
      "\n",
      "問題：ニュースなどで聞く「生涯未婚率」とは、満何歳の時点で結婚したことがない人の割合を算出したもの?\n",
      "解答：50歳\n",
      "\n",
      "問題：月の表面に見られる、火山の噴火や隕石の衝突によってできるくぼみのことを何という?\n",
      "解答：クレーター\n",
      "\n"
     ]
    },
    {
     "name": "stderr",
     "output_type": "stream",
     "text": [
      " 18%|█▊        | 176/1000 [00:53<04:01,  3.41it/s]"
     ]
    },
    {
     "name": "stdout",
     "output_type": "stream",
     "text": [
      "問題：周期表において、第3族から第11族の間に位置する元素のことを総称して何元素という?\n",
      "解答：遷移元素\n",
      "\n",
      "問題：ガルシア=マルケスの『百年の孤独』など、中南米の小説にみられる、現実と幻想を融合させた表現技法を何という?\n",
      "解答：マジックリアリズム\n",
      "\n",
      "問題：昭和13年秋のシーズンに、日本プロ野球史上初の三冠王に輝いた、当時の東京巨人軍の選手は誰?\n",
      "解答：金本知憲\n",
      "\n",
      "問題：ラジウムの原子番号は88番ですが、パラジウムの原子番号は何番?\n",
      "解答：46\n",
      "\n"
     ]
    },
    {
     "name": "stderr",
     "output_type": "stream",
     "text": [
      " 18%|█▊        | 180/1000 [01:19<29:29,  2.16s/it]"
     ]
    },
    {
     "name": "stdout",
     "output_type": "stream",
     "text": [
      "問題：1963年、ボストーク6号に搭乗して宇宙に飛び立った、史上初の女性宇宙飛行士は誰?\n",
      "解答：バレンチナ・テレシコワ\n",
      "\n",
      "問題：複数のプレーヤーがコンピュータゲームで対戦する競技のことを、アルファベット1文字を使って「何スポーツ」という?\n",
      "解答：eSports\n",
      "\n",
      "問題：「100日間の美術館」とも呼ばれる、ドイツのカッセルで原則として4年ごとに開かれる国際美術展は何?\n",
      "解答：ドクメンタ\n",
      "\n",
      "問題：画家ブリューゲルが題材として描いたものが特に有名な、『旧約聖書』の『創世記』に登場する伝説上の塔といえば何?\n",
      "解答：バベルの塔\n",
      "\n"
     ]
    },
    {
     "name": "stderr",
     "output_type": "stream",
     "text": [
      " 18%|█▊        | 184/1000 [01:20<21:18,  1.57s/it]"
     ]
    },
    {
     "name": "stdout",
     "output_type": "stream",
     "text": [
      "問題：日本式の天気記号で、「天気不明」の記号に横棒を1本加えると、どんな天気を表す?\n",
      "解答：雷雨\n",
      "\n",
      "問題：自分で何かを作ったり、修繕したりすることを指す「DIY」とは、何という言葉の略?\n",
      "解答：Do It Yourself\n",
      "\n",
      "問題：日本の裁判所は5種類に分けられますが、このうち裁判員裁判が行われるのは何裁判所?\n",
      "解答：地方裁判所\n",
      "\n",
      "問題：音楽のある特定のフレーズが、頭の中で何度もリピートされる現象のことを何効果という?\n",
      "解答：イヤーウォーム効果\n",
      "\n"
     ]
    },
    {
     "name": "stderr",
     "output_type": "stream",
     "text": [
      " 19%|█▉        | 188/1000 [01:21<16:22,  1.21s/it]"
     ]
    },
    {
     "name": "stdout",
     "output_type": "stream",
     "text": [
      "問題：会議の投票で、賛成派と反対派が同数である場合に、議長が投ずる最終決定票のことを、英語で何という?\n",
      "解答：Casting vote\n",
      "\n",
      "問題：「三段論法」における3つの命題といえば、大前提、小前提と何?\n",
      "解答：結論\n",
      "\n",
      "問題：「弥生時代」の「弥生」は東京都の地名に由来しますが、「飛鳥時代」の「飛鳥」は何県の地名に由来する?\n",
      "解答：奈良県\n",
      "\n",
      "問題：ハワイのマウナロア火山に代表される、流動性の大きい溶岩が火口から静かに流出した場合にできる、傾斜の緩やかな火山を何という?\n",
      "解答：盾状火山\n",
      "\n"
     ]
    },
    {
     "name": "stderr",
     "output_type": "stream",
     "text": [
      " 19%|█▉        | 192/1000 [01:53<43:05,  3.20s/it]"
     ]
    },
    {
     "name": "stdout",
     "output_type": "stream",
     "text": [
      "問題：池井戸潤原作のドラマで、『半沢直樹』の舞台となった架空の銀行は東京中央銀行ですが、『花咲舞が黙ってない』の舞台となった架空の銀行は何?\n",
      "解答：東京セントラル銀行\n",
      "\n",
      "問題：「弾丸ツアー」という言葉を商標登録している企業はどこ?\n",
      "解答：株式会社エイチ・アイ・エス\n",
      "\n",
      "問題：『平家物語』にも登場する、猿の頭、狸の胴体、蛇の尾、虎の手足を持つ日本の妖怪は何?\n",
      "解答：狸火\n",
      "\n",
      "問題：デリシャスとゴールデンデリシャスを掛け合わせて誕生した、世界最大の大きさを誇るリンゴの品種は何?\n",
      "解答：ハニークリスプ\n",
      "\n"
     ]
    },
    {
     "name": "stderr",
     "output_type": "stream",
     "text": [
      " 20%|█▉        | 196/1000 [01:53<30:39,  2.29s/it]"
     ]
    },
    {
     "name": "stdout",
     "output_type": "stream",
     "text": [
      "問題：演劇実験室「天井桟敷」を設立し、著書に『田園に死す』や『書を捨てよ、町へ出よう』がある劇作家は誰?\n",
      "解答：三島由紀夫\n",
      "\n",
      "問題：「明治日本の産業革命遺産」や「古都京都の文化財」のように、世界遺産登録に際して、複数の物件をひとつの資産群としてまとめる方式を何という?\n",
      "解答：シリアルノミネーション\n",
      "\n",
      "問題：『行け、我が想いよ、黄金の翼に乗って』などの曲で有名な、バビロニアの王ネブカドネザル2世を題材にしたヴェルディのオペラは何?\n",
      "解答：『ナブッコ』\n",
      "\n",
      "問題：トランプのポーカーの役で、ストレートよりも強く、フルハウスよりも弱いものは何?\n",
      "解答：4カード(Kare)\n",
      "\n"
     ]
    },
    {
     "name": "stderr",
     "output_type": "stream",
     "text": [
      " 20%|██        | 200/1000 [01:54<22:01,  1.65s/it]"
     ]
    },
    {
     "name": "stdout",
     "output_type": "stream",
     "text": [
      "問題：世の中の栄枯盛衰がはかないことを、古代中国の趙という国の都にちなんで何という?\n",
      "解答：趙州逍遥游\n",
      "\n",
      "問題：東京で、歌舞伎座があるのは中央区ですが、歌舞伎町と呼ばれる歓楽街があるのは何区?\n",
      "解答：新宿区\n",
      "\n",
      "問題：15世紀、スペイン女王の援助を受け、新大陸を発見したイタリア生まれの探検家は誰?\n",
      "解答：クリストファー・コロンブス\n",
      "\n",
      "問題：国際開発金融機関のひとつ「アジアインフラ投資銀行」のことを、アルファベット4文字の略称で何という?\n",
      "解答：AIIB\n",
      "\n"
     ]
    },
    {
     "name": "stderr",
     "output_type": "stream",
     "text": [
      " 20%|██        | 204/1000 [01:55<16:33,  1.25s/it]"
     ]
    },
    {
     "name": "stdout",
     "output_type": "stream",
     "text": [
      "問題：大宝律令の制定や和同開珎の鋳造が行われた時の日本の都は何京といった?\n",
      "解答：平城京\n",
      "\n",
      "問題：バスケットボールはトールブラックス、サッカーはオールホワイツ、ラグビーはオールブラックス、という愛称で呼ばれる代表チームが活躍する南半球の国はどこ?\n",
      "解答：ニュージーランド\n",
      "\n",
      "問題：フランスのソーテルヌ、ドイツのトロッケンベーレンアウスレーゼと並び、世界三大貴腐ワインと称されるハンガリーのワインは何?\n",
      "解答：トカイアズワー\n",
      "\n",
      "問題：アメリカ南北戦争を背景にした小説『病院のスケッチ』や『若草物語』などで知られる女性作家は誰?\n",
      "解答：ルイーザ・メイ・オルコット\n",
      "\n"
     ]
    },
    {
     "name": "stderr",
     "output_type": "stream",
     "text": [
      " 21%|██        | 208/1000 [01:56<12:41,  1.04it/s]"
     ]
    },
    {
     "name": "stdout",
     "output_type": "stream",
     "text": [
      "問題：「勝負には口出し無用」という意味をこめて、将棋盤の脚にかたどられている花は何?\n",
      "解答：菊\n",
      "\n",
      "問題：紫式部の『源氏物語』全54帖の巻名で、漢字1文字のものといえば、『葵』『蛍』と何?\n",
      "解答：『紅』\n",
      "\n",
      "問題：映画などで役者の演技に合わせて声をあてることを「アフレコ」といいますが、これは何という言葉の略?\n",
      "解答：アフレコ\n",
      "\n",
      "問題：サーフィンで、自分の意思でボードから落ちることをプルアウトというのに対し、意思に反して落ちてしまうことを何という?\n",
      "解答：ワイプアウト\n",
      "\n"
     ]
    },
    {
     "name": "stderr",
     "output_type": "stream",
     "text": [
      " 21%|██        | 212/1000 [01:57<09:26,  1.39it/s]"
     ]
    },
    {
     "name": "stdout",
     "output_type": "stream",
     "text": [
      "問題：バビロン第1王朝の王が制定した、「目には目を、歯には歯を」でおなじみの法典は何?\n",
      "解答：ハンムラビ法典\n",
      "\n",
      "問題：絶滅の恐れのある動植物の国際取引を規制する条約のことを、あるアメリカの都市の名前から何条約という?\n",
      "解答：ワシントン条約\n",
      "\n",
      "問題：ゴルフの各ホールで最初にティーショットを打つ人のことを、「名誉」という意味の英語で何という?\n",
      "解答：Honorary starter\n",
      "\n",
      "問題：エリザベス2世が元首を務める国のうち、面積が最も大きいのはどこ?\n",
      "解答：カナダ\n",
      "\n"
     ]
    },
    {
     "name": "stderr",
     "output_type": "stream",
     "text": [
      " 22%|██▏       | 216/1000 [01:58<07:19,  1.78it/s]"
     ]
    },
    {
     "name": "stdout",
     "output_type": "stream",
     "text": [
      "問題：数学用語で、方程式の解が存在しないことを「不能」といいますが、方程式の解が無数にあることを何という?\n",
      "解答：「恒等」\n",
      "\n",
      "問題：中国・唐および宋の時代に活躍した、韓愈、柳宗元、欧陽修、蘇洵、蘇軾、蘇轍、曾鞏、王安石の8人の散文作家を総称して何という?\n",
      "解答：唐宋八大家\n",
      "\n",
      "問題：スーパーマーケットの中で食事ができるようになっている業態の店を、「グローサリー」と「レストラン」を合わせた言葉で何という?\n",
      "解答：グローサランット\n",
      "\n",
      "問題：ウィリアム・フォークナーの小説『響きと怒り』や『サンクチュアリ』など多くの作品で舞台として描かれている架空の町はどこ?\n",
      "解答：ヨクナパトーファ。\n",
      "\n"
     ]
    },
    {
     "name": "stderr",
     "output_type": "stream",
     "text": [
      " 22%|██▏       | 220/1000 [02:03<09:40,  1.34it/s]"
     ]
    },
    {
     "name": "stdout",
     "output_type": "stream",
     "text": [
      "問題：明治維新に際して起きた、新政府軍と旧幕府軍との一連の戦いを、戦争が勃発した明治元年の干支から何という?\n",
      "解答：戊辰戦争\n",
      "\n",
      "問題：19世紀のギリシャ独立戦争で、オスマントルコの軍隊による虐殺で悲劇に見舞われた島をモチーフにして描いた、画家・ドラクロワの有名な絵画は何?\n",
      "解答：「自由を射る民衆」\n",
      "\n",
      "問題：広島県の鞆の浦をイメージしたという、新春によく聴く、宮城道雄による琴の名曲は何?\n",
      "解答：「鞆の浦」\n",
      "\n",
      "問題：英語で「輝く」という意味を持つ、ダイヤモンドを58面体にする研磨方法を「何カット」という?\n",
      "解答：ブリリアントカット\n",
      "\n"
     ]
    },
    {
     "name": "stderr",
     "output_type": "stream",
     "text": [
      " 22%|██▏       | 224/1000 [02:04<07:43,  1.68it/s]"
     ]
    },
    {
     "name": "stdout",
     "output_type": "stream",
     "text": [
      "問題：東京学生アメリカンフットボール連盟の設立にも尽力し「日本フットボールの父」とも呼ばれているアメリカ人は誰?\n",
      "解答：ジョン・ポーレン\n",
      "\n",
      "問題：部屋の内装をインテリアというのに対し、塀や門扉などの外装のことを何という?\n",
      "解答：エクステリア\n",
      "\n",
      "問題：激しい争いの場を「修羅場」といいますが、この言葉の由来で戦った神は阿修羅と誰?\n",
      "解答：帝釈天\n",
      "\n",
      "問題：洋服の柄で、ヒッコリー、レジメンタル、チョーク、ピンなどの種類があるのはどんな模様?\n",
      "解答：ストライプ\n",
      "\n"
     ]
    },
    {
     "name": "stderr",
     "output_type": "stream",
     "text": [
      " 23%|██▎       | 228/1000 [02:04<05:54,  2.18it/s]"
     ]
    },
    {
     "name": "stdout",
     "output_type": "stream",
     "text": [
      "問題：マフィンやマカロンなどのともだちがいる、ゴールデン・レトリバーをモチーフにしたサンリオのキャラクターは何?\n",
      "解答：ポムポムプリン\n",
      "\n",
      "問題：13世紀から16世紀にかけてリューベックやハンブルクが結成した、北ドイツの都市同盟は何?\n",
      "解答：ハンザ同盟\n",
      "\n",
      "問題：司法書士免許を交付するのは法務大臣ですが、行政書士免許を交付するのは何大臣?\n",
      "解答：総務大臣\n",
      "\n",
      "問題：「eスポーツ」の「e」は何という英単語の頭文字?\n",
      "解答：electronic\n",
      "\n"
     ]
    },
    {
     "name": "stderr",
     "output_type": "stream",
     "text": [
      " 23%|██▎       | 232/1000 [02:05<04:52,  2.63it/s]"
     ]
    },
    {
     "name": "stdout",
     "output_type": "stream",
     "text": [
      "問題：本名をアレッサンドロ・マリアーノ・フィリペピという、代表作『ビーナスの誕生』『プリマヴェーラ』で知られるイタリアの画家は誰?\n",
      "解答：サンドロ・ボッティチェッリ\n",
      "\n",
      "問題：フランス語で「新しい橋」という意味の名がついた、セーヌ川にかかるパリの橋のうち、最も古いものは何?\n",
      "解答：ポン・ヌフ\n",
      "\n",
      "問題：ニューヨークを舞台に、主人公の少女が両親を探して奮闘する姿を描いた、劇中歌『Tomorrow』も有名なミュージカルは何?\n",
      "解答：アニー\n",
      "\n",
      "問題：タナカ、カトウ、ケンモツ、ヤマワキ、グシケン、モリスエといえば、体操のどの種目の技の名前?\n",
      "解答：ゆかばし\n",
      "\n"
     ]
    },
    {
     "name": "stderr",
     "output_type": "stream",
     "text": [
      " 24%|██▎       | 236/1000 [02:06<03:58,  3.21it/s]"
     ]
    },
    {
     "name": "stdout",
     "output_type": "stream",
     "text": [
      "問題：小説『トム・ソーヤーの冒険』や『ハックルベリー・フィンの冒険』などを書いたアメリカの作家は誰?\n",
      "解答：マーク・トウェイン\n",
      "\n",
      "問題：赤ら顔の子どもの姿で、ガジュマルの木に棲むとされる、沖縄の妖怪は何?\n",
      "解答：ナーナーセ\n",
      "\n",
      "問題：正式名称を「リバティ・エンライトニング・ザ・ワールド」という、ニューヨーク・リバティ島に建つ有名な像は何?\n",
      "解答：自由の女神\n",
      "\n",
      "問題：「オルレアンの少女」と呼ばれ、15世紀の百年戦争でフランスを勝利に導いた女性といえば誰?\n",
      "解答：ジャンヌ・ダルク\n",
      "\n"
     ]
    },
    {
     "name": "stderr",
     "output_type": "stream",
     "text": [
      " 24%|██▍       | 240/1000 [02:06<03:30,  3.61it/s]"
     ]
    },
    {
     "name": "stdout",
     "output_type": "stream",
     "text": [
      "問題：高杉晋作など多くの幕末の志士が学んだ、吉田松陰が主宰した長州藩の私塾は何?\n",
      "解答：藩校\n",
      "\n",
      "問題：早稲田大学のラグビー蹴球部が大学選手権で優勝した時にのみ歌われる、部の第二部歌のタイトルは何?\n",
      "解答：「早稲田大学校歌」\n",
      "\n",
      "問題：2112年9月3日生まれ。身長129.3cm、体重129.3kg。おなかの四次元ポケットから様々なひみつ道具を出す、藤子・F・不二雄の漫画のキャラクターといえば何?\n",
      "解答：ドラえもん\n",
      "\n",
      "問題：グレートアーテジアン盆地、グレートサンディ砂漠、グレートディヴァイディング山脈がある国はどこ?\n",
      "解答：オーストラリア\n",
      "\n"
     ]
    },
    {
     "name": "stderr",
     "output_type": "stream",
     "text": [
      " 24%|██▍       | 244/1000 [02:08<04:28,  2.81it/s]"
     ]
    },
    {
     "name": "stdout",
     "output_type": "stream",
     "text": [
      "問題：映画『ピノキオ』で、コオロギのジミニー・クリケットが歌い、アカデミー歌曲賞を受賞した挿入歌は何?\n",
      "解答：When You Wish Upon a Star\n",
      "\n",
      "問題：仏教における「四天王」とは、東を護る持国天、西を護る広目天、南を護る増長天と、北を護る何という神様?\n",
      "解答：毘沙門天\n",
      "\n",
      "問題：1936年の春場所から1939年の春場所まで、69連勝の記録を作った昭和の横綱は誰?\n",
      "解答：大鵬力\n",
      "\n",
      "問題：長崎市の沖にある、かつて炭鉱の島として栄えた端島は、その外見からあるものに見立てて何島と呼ばれる?\n",
      "解答：軍艦島\n",
      "\n"
     ]
    },
    {
     "name": "stderr",
     "output_type": "stream",
     "text": [
      " 25%|██▍       | 248/1000 [02:09<03:47,  3.30it/s]"
     ]
    },
    {
     "name": "stdout",
     "output_type": "stream",
     "text": [
      "問題：1446年に「ハングル」を公布し普及させた、李氏朝鮮の第4代国王は誰?\n",
      "解答：世宗（セジョン）\n",
      "\n",
      "問題：原題は『ブッチ・キャシディ・アンド・ザ・サンダンス・キッド』。ポール・ニューマンとロバート・レッドフォードが2人組の強盗を演じた、アメリカン・ニューシネマの傑作といえば何?\n",
      "解答：『ブッチ・キャシディとサンダンス・キッド』\n",
      "\n",
      "問題：第一次護憲運動が起こった時の総理大臣は桂太郎ですが、第二次護憲運動が起こった時の総理大臣は誰?\n",
      "解答：原敬\n",
      "\n",
      "問題：西洋で不吉とされる「13」という数字を嫌うことを、ギリシャ語の「13」と英語の「恐怖症」という意味の言葉で何という?\n",
      "解答：トリスカイデカフォビア\n",
      "\n"
     ]
    },
    {
     "name": "stderr",
     "output_type": "stream",
     "text": [
      " 25%|██▌       | 252/1000 [02:10<03:13,  3.87it/s]"
     ]
    },
    {
     "name": "stdout",
     "output_type": "stream",
     "text": [
      "問題：重さ350g以上、糖度15度以上などの基準を満たしたものだけがこう呼ばれる、宮崎県産の完熟マンゴーの愛称は何?\n",
      "解答：マンゴーン\n",
      "\n",
      "問題：野菜の切り方で、「半月切り」にしたものをさらに半分にすることを、その形がある植物に似ていることから「何切り」という?\n",
      "解答：葉っぱ切り\n",
      "\n",
      "問題：もともと芝居の幕と幕の間の休憩時間に食べたことから名がついた、ご飯と数種類のおかずを詰め合わせた弁当は何?\n",
      "解答：幕の内弁当\n",
      "\n",
      "問題：分数で、4分の2を2分の1とするように、分母と分子を同じ数で割って、簡単な分数にすることを何という?\n",
      "解答：約分\n",
      "\n"
     ]
    },
    {
     "name": "stderr",
     "output_type": "stream",
     "text": [
      " 26%|██▌       | 256/1000 [02:10<02:40,  4.64it/s]"
     ]
    },
    {
     "name": "stdout",
     "output_type": "stream",
     "text": [
      "問題：中国の詩人、李白や孟浩然らの詩をドイツ語に訳した詩集「中国の笛」に基づいて歌詞が書かれている、グスタフ・マーラーの交響曲は何?\n",
      "解答：大地の歌\n",
      "\n",
      "問題：小説『太郎物語』の作者は曽野綾子ですが、『次郎物語』の作者は誰?\n",
      "解答：宮部みゆき\n",
      "\n",
      "問題：経済学の古典『資本論』を書いたのはマルクスですが、その『資本論』をさらに展開させた『金融資本論』を書いたドイツの経済学者は誰?\n",
      "解答：ヒルファーディング\n",
      "\n",
      "問題：「へのへのもへじ」の落書きで、「も」が表しているのは顔のどの部分?\n",
      "解答：耳\n",
      "\n"
     ]
    },
    {
     "name": "stderr",
     "output_type": "stream",
     "text": [
      " 26%|██▌       | 260/1000 [02:11<02:20,  5.27it/s]"
     ]
    },
    {
     "name": "stdout",
     "output_type": "stream",
     "text": [
      "問題：毎年12月に「今年の漢字」が発表される京都のお寺はどこ?\n",
      "解答：清水寺\n",
      "\n",
      "問題：ミケランジェロの『ダビデ像』などのように、彫刻作品で、体の重心を片方の足にかけて、左右非対称の姿勢に表現したものを何という?\n",
      "解答：コントラポストo\n",
      "\n",
      "問題：中央にマサイ族の盾と槍が描かれた国旗を持つ、首都をナイロビに置くアフリカの国はどこ?\n",
      "解答：ケニア\n",
      "\n",
      "問題：関係者の言い分が食い違っていて真相がわからないことを、芥川龍之介の小説にちなんで何という?\n",
      "解答：蜘蛛の糸\n",
      "\n"
     ]
    },
    {
     "name": "stderr",
     "output_type": "stream",
     "text": [
      " 26%|██▋       | 264/1000 [02:12<02:49,  4.35it/s]"
     ]
    },
    {
     "name": "stdout",
     "output_type": "stream",
     "text": [
      "問題：歴史物語で「四鏡」と呼ばれる4つの書物は、『大鏡』『今鏡』『水鏡』とあとひとつは何?\n",
      "解答：『扶桑略記』\n",
      "\n",
      "問題：中国の国会に相当する立法機関を何という?\n",
      "解答：全国人民代表大会\n",
      "\n",
      "問題：「邪念を抱くものに災いあれ」という意味のフランス語が刺繍されている、エドワード3世が制定したイギリスの最高勲章といえば何?\n",
      "解答：ガーター勲章\n",
      "\n",
      "問題：日本で「領海」と規定されているのは、領土から何海里離れたところまでの海を指す?\n",
      "解答：12海里\n",
      "\n"
     ]
    },
    {
     "name": "stderr",
     "output_type": "stream",
     "text": [
      " 27%|██▋       | 268/1000 [02:13<02:52,  4.24it/s]"
     ]
    },
    {
     "name": "stdout",
     "output_type": "stream",
     "text": [
      "問題：ワーグナーの楽劇『ニーベルングの指環』を構成する四部作といえば、『ラインの黄金』『ワルキューレ』『ジークフリート』と何?\n",
      "解答：『神々の黄昏』\n",
      "\n",
      "問題：同一人物が同じ時刻に別の場所に現れる現象や、自分と同じ姿をしたもう1人の自分を見る現象のことを、ドイツ語で何という?\n",
      "解答：Doppelgänger\n",
      "\n",
      "問題：大阪府にある唯一の村は千早赤阪村ですが、京都府にある唯一の村は何?\n",
      "解答：与謝野村\n",
      "\n",
      "問題：サンチョ・パンサという従者を引き連れて遍歴の旅に出かける主人公の姿を描いた、セルバンテスの小説は何?\n",
      "解答：ドン・キホーテ\n",
      "\n"
     ]
    },
    {
     "name": "stderr",
     "output_type": "stream",
     "text": [
      " 27%|██▋       | 272/1000 [02:14<02:47,  4.36it/s]"
     ]
    },
    {
     "name": "stdout",
     "output_type": "stream",
     "text": [
      "問題：小説に登場する名探偵で、法月綸太郎の生みの親は法月綸太郎ですが、法水麟太郎の生みの親は誰?\n",
      "解答：法水麟太郎\n",
      "\n",
      "問題：意外なところから意外なものが出ることをいったことわざ。「何から駒」?\n",
      "解答：馬から駒\n",
      "\n",
      "問題：針金やプラスチックの枠に和紙を貼ってつくられる、金魚すくいで金魚をすくう道具は何?\n",
      "解答：金魚すくい網\n",
      "\n",
      "問題：国会や地方議会で、議事の進行や議決に必要な最小限の出席人数のことを何という?\n",
      "解答：議 quorum\n",
      "\n"
     ]
    },
    {
     "name": "stderr",
     "output_type": "stream",
     "text": [
      " 28%|██▊       | 276/1000 [02:15<02:43,  4.42it/s]"
     ]
    },
    {
     "name": "stdout",
     "output_type": "stream",
     "text": [
      "問題：「フットスツール」とも呼ばれる、椅子の前に置いて足を乗せるクッション台のことを英語で何という?\n",
      "解答：ottoman\n",
      "\n",
      "問題：英語で「コーン」という立体は「円すい」ですが、「シリンダー」という立体は何?\n",
      "解答：Cylinder\n",
      "\n",
      "問題：1973年に採択された、「絶滅のおそれのある野生動植物の種の国際取引に関する条約」の通称は何条約?\n",
      "解答：ワシントン条約\n",
      "\n",
      "問題：江戸幕末から明治にかけて活躍した人物で、「郵便の父」と呼ばれたのは前島密ですが、「新聞の父」と呼ばれた、日本語による初の新聞「海外新聞」の創設者は誰?\n",
      "解答：福澤諭吉\n",
      "\n"
     ]
    },
    {
     "name": "stderr",
     "output_type": "stream",
     "text": [
      " 28%|██▊       | 280/1000 [02:15<02:24,  4.98it/s]"
     ]
    },
    {
     "name": "stdout",
     "output_type": "stream",
     "text": [
      "問題：1914年に、アメリカの植物学者の調査によって世界に知られたことから名前がついた、屋久杉の大きな切り株を何という?\n",
      "解答：ジャイアントセコイア\n",
      "\n",
      "問題：クラン川とゴンパック川が合流する地点であることから、「濁った川が交わる場所」という意味の名前がつけられた、マレーシアの首都はどこ?\n",
      "解答：クアラルンプール\n",
      "\n",
      "問題：標高は3193メートル。火山ではない山としては、日本で標高が最も高い山は何?\n",
      "解答：富士山\n",
      "\n",
      "問題：受難前夜、イエス・キリストが12人の弟子たちとともに過ごした夕食風景を描いた、レオナルド・ダ・ヴィンチの名画は何?\n",
      "解答：最後の晩餐\n",
      "\n"
     ]
    },
    {
     "name": "stderr",
     "output_type": "stream",
     "text": [
      " 28%|██▊       | 284/1000 [02:16<02:34,  4.63it/s]"
     ]
    },
    {
     "name": "stdout",
     "output_type": "stream",
     "text": [
      "問題：イギリスのエリザベス1世はチューダー朝の女王ですが、エリザベス2世は何朝の女王?\n",
      "解答：ウィンザー朝\n",
      "\n",
      "問題：日本庭園で、地面に大きな甕を埋め、その中に少しずつ水が滴り落ちるようして、涼やかな音色を響かせる仕掛けを何という?\n",
      "解答：しずく石\n",
      "\n",
      "問題：パリ郊外・ジヴェルニーの自宅の庭に作った池をモチーフにして描き続けた、画家クロード・モネの連作シリーズといえば何?\n",
      "解答：睡蓮（すいれん）シリーズ\n",
      "\n",
      "問題：「知に働けば角が立つ、情に棹させば流される」という有名な一節が登場する、夏目漱石の小説は何?\n",
      "解答：『坊ちゃん』\n",
      "\n"
     ]
    },
    {
     "name": "stderr",
     "output_type": "stream",
     "text": [
      " 29%|██▉       | 288/1000 [02:17<02:25,  4.88it/s]"
     ]
    },
    {
     "name": "stdout",
     "output_type": "stream",
     "text": [
      "問題：「No plan like yours to study history wisely」といえば、どこの国の王朝を覚えるためのフレーズ?\n",
      "解答：イギリス\n",
      "\n",
      "問題：兼好法師の随筆『徒然草』の第52段「仁和寺にある法師」で、仁和寺の法師が参拝に出かける、京都の神社はどこ?\n",
      "解答：八坂神社\n",
      "\n",
      "問題：イヌの品種で、パグ、シー・ズー、チャウチャウ、ペキニーズの原産国は、いずれもどこ?\n",
      "解答：中国\n",
      "\n",
      "問題：カレーやシチューにとろみをつけるために加えられる、小麦粉をバターで炒めたものを何という?\n",
      "解答：ルー\n",
      "\n"
     ]
    },
    {
     "name": "stderr",
     "output_type": "stream",
     "text": [
      " 29%|██▉       | 292/1000 [02:18<02:34,  4.58it/s]"
     ]
    },
    {
     "name": "stdout",
     "output_type": "stream",
     "text": [
      "問題：アニメ『ちびまる子ちゃん』のオープニング曲『おどるポンポコリン』の、作詞はさくらももこですが、作曲は誰?\n",
      "解答：たなかひろかず\n",
      "\n",
      "問題：音楽にちなんだ記念日で、6月9日は「ロックの日」ですが、9月4日は何の日?\n",
      "解答：ジャズの日\n",
      "\n",
      "問題：日本三景のうち、京都府にあるものは何?\n",
      "解答：天橋立\n",
      "\n",
      "問題：エンゲージリングのデザインとして人気が高い、宝石を1粒だけあしらった指輪を、フランス語で何という?\n",
      "解答：ソリテール\n",
      "\n"
     ]
    },
    {
     "name": "stderr",
     "output_type": "stream",
     "text": [
      " 30%|██▉       | 296/1000 [02:19<02:18,  5.08it/s]"
     ]
    },
    {
     "name": "stdout",
     "output_type": "stream",
     "text": [
      "問題：雪が解けきらないうちに花を咲かせることから「雪中花」とも呼ばれる、黄、クチベニ、ラッパなどの品種がある植物は何?\n",
      "解答：スイセン\n",
      "\n",
      "問題：『パリのアメリカ人』『ラプソディー・イン・ブルー』などの作品で知られるアメリカの作曲家は誰?\n",
      "解答：ジョージ・ガーシュウィン\n",
      "\n",
      "問題：絵を描く時に使う、絵の具を溶いたり、混ぜたりするための板のことを何という?\n",
      "解答：パレット\n",
      "\n",
      "問題：NHLのメイプルリーフス、NBAのラプターズ、MLBのブルージェイズが本拠地を置くカナダの都市はどこ?\n",
      "解答：トロント\n",
      "\n"
     ]
    },
    {
     "name": "stderr",
     "output_type": "stream",
     "text": [
      " 30%|███       | 300/1000 [02:19<02:05,  5.59it/s]"
     ]
    },
    {
     "name": "stdout",
     "output_type": "stream",
     "text": [
      "問題：「八代集」といわれる勅撰和歌集の中で、最初に編纂されたのは「古今和歌集」ですが、2番目に編纂されたのは何?\n",
      "解答：「後撰和歌集」\n",
      "\n",
      "問題：黄道十二星座で、「スコルピウス」という学名を持つのは「さそり座」ですが、「サジタリウス」という学名を持つのは何座?\n",
      "解答：いて座\n",
      "\n",
      "問題：「火中の栗を拾う」の由来となった寓話で、サルに火の中にある栗を拾わされた動物は何?\n",
      "解答：狸\n",
      "\n",
      "問題：石津謙介が提唱した、服装を、時間・場所・場合に応じて決めるという考えを何という?\n",
      "解答：クローゼット経済学\n",
      "\n"
     ]
    },
    {
     "name": "stderr",
     "output_type": "stream",
     "text": [
      " 30%|███       | 304/1000 [02:20<02:28,  4.69it/s]"
     ]
    },
    {
     "name": "stdout",
     "output_type": "stream",
     "text": [
      "問題：国語の教科書にもよく出てくる、「くれなゐの二尺のびたる薔薇の芽の針やはらかに春雨の降る」を詠んだ有名な歌人は誰?\n",
      "解答：与謝蕪村\n",
      "\n",
      "問題：力量が同じ人同士のことを「実力伯仲」などといいますが、この「伯仲」とはもともとどんな関係を表す言葉?\n",
      "解答：「伯仲」とは、同じ位または地位にあることを表す言葉です。\n",
      "\n",
      "問題：タラッサ、ナイアド、ネレイド、トリトンなどの衛星をもつ、太陽系の惑星は何?\n",
      "解答：海王星\n",
      "\n",
      "問題：ジェームス・ディーンが主演した3つの映画作品は、『エデンの東』『理由なき反抗』と何?\n",
      "解答：『巌窟王』\n",
      "\n"
     ]
    },
    {
     "name": "stderr",
     "output_type": "stream",
     "text": [
      " 31%|███       | 308/1000 [02:22<02:46,  4.15it/s]"
     ]
    },
    {
     "name": "stdout",
     "output_type": "stream",
     "text": [
      "問題：映画やテレビの撮影で音声スタッフが持つマイクに取り付けられる、フワフワした毛皮のようなカバーを何という?\n",
      "解答：デッドキャット\n",
      "\n",
      "問題：音楽、文学、芸術など、人間の様々な知的活動を司るとされる、ギリシャ神話に登場する9人の女神たちを何という?\n",
      "解答：ムーズ\n",
      "\n",
      "問題：手相占いで「三大線」と呼ばれる3つの線といえば、知能線、感情線と、あとひとつは何線?\n",
      "解答：生命線\n",
      "\n",
      "問題：小説『レ・ミゼラブル』で、逃亡生活を送るジャン・バルジャンが養女として育てる少女の名前は何?\n",
      "解答：コゼット\n",
      "\n"
     ]
    },
    {
     "name": "stderr",
     "output_type": "stream",
     "text": [
      " 31%|███       | 312/1000 [02:22<02:34,  4.46it/s]"
     ]
    },
    {
     "name": "stdout",
     "output_type": "stream",
     "text": [
      "問題：細い方の先端をスモールチップ、太い方の先端をブレードという、主に男性が首に巻くファッションアイテムは何?\n",
      "解答：ネクタイ\n",
      "\n",
      "問題：2人の人物が背中合わせに立つ様子をかたどって作られた、ある方角を表す漢字は何?\n",
      "解答：南\n",
      "\n",
      "問題：芝居のセリフで、1人で言うものをモノローグというのに対し、2人以上で交わされるものを何という?\n",
      "解答：対話\n",
      "\n",
      "問題：1968年にチェコスロバキアで起こった「プラハの春」を背景に、2人の女性テレーザとサビーナ、主人公のトマシュの三角関係を描いた、ミラン・クンデラの小説は何?\n",
      "解答：『存在の耐えられない軽さ』\n",
      "\n"
     ]
    },
    {
     "name": "stderr",
     "output_type": "stream",
     "text": [
      " 32%|███▏      | 316/1000 [02:24<03:19,  3.44it/s]"
     ]
    },
    {
     "name": "stdout",
     "output_type": "stream",
     "text": [
      "問題：聖母マリアを讃え「マリアの黄金の花」という意味の名がつけられたとされる、園芸植物としてもおなじみのキク科の花は何?\n",
      "解答：マリーゴールド\n",
      "\n",
      "問題：ネルソン提督率いるイギリス艦隊が、フランス・スペインの連合艦隊を破った1805年の戦いは何?\n",
      "解答：トラファルガーの海戦\n",
      "\n",
      "問題：英語では「アブソルート・モナーキズム」という、16世紀から18世紀のヨーロッパで、強大な権力を持つ国王が国を支配した政治形態を何という?\n",
      "解答：Absolute Monarchy\n",
      "\n",
      "問題：イタリア語で「空気」という意味がある、オペラなどで歌われる伴奏つきの旋律的な独唱を何という?\n",
      "解答：アリア\n",
      "\n"
     ]
    },
    {
     "name": "stderr",
     "output_type": "stream",
     "text": [
      " 32%|███▏      | 320/1000 [02:25<02:43,  4.16it/s]"
     ]
    },
    {
     "name": "stdout",
     "output_type": "stream",
     "text": [
      "問題：ルネサンス期のヨーロッパの三大発明と呼ばれるものとは、火薬、羅針盤と何?\n",
      "解答：活版印刷\n",
      "\n",
      "問題：もともと、男女ペアが円を描くように踊る曲だったことからドイツ語で「回転する」という意味の名前がつけられた、日本語では「円舞曲」と呼ばれる音楽の楽曲形式は何?\n",
      "解答：ロンド\n",
      "\n",
      "問題：狂言師で「萬斎」「万蔵」の名字は野村ですが、「宗彦」「逸平」の名字は何?\n",
      "解答：野村\n",
      "\n",
      "問題：広島県にある世界遺産で、原爆ドームがあるのは広島市ですが、厳島神社があるのは何市?\n",
      "解答：廿日市市\n",
      "\n"
     ]
    },
    {
     "name": "stderr",
     "output_type": "stream",
     "text": [
      " 32%|███▏      | 324/1000 [02:27<03:37,  3.11it/s]"
     ]
    },
    {
     "name": "stdout",
     "output_type": "stream",
     "text": [
      "問題：長ネギの白い部分をごく細くせん切りにしたものを、人間の髪の毛にたとえて何という?\n",
      "解答：ネギ髪\n",
      "\n",
      "問題：元素の周期表において第11族に属する、銅、銀、金、レントゲニウムを総称して何元素という?\n",
      "解答：貴金属\n",
      "\n",
      "問題：「足元を見る」「肩代わり」「相棒」。これらの言葉の語源となった職業は何?\n",
      "解答：足元を見る - 靴磨き\n",
      "肩代わり - 荷物運び\n",
      "相棒 - 警察官\n",
      "\n",
      "問題：フランス北西海岸のサン・マロ湾に浮かぶ陸繋島に築かれた、世界遺産にも登録されている修道院は何?\n",
      "解答：モン・サン＝ミシェル修道院\n",
      "\n"
     ]
    },
    {
     "name": "stderr",
     "output_type": "stream",
     "text": [
      " 33%|███▎      | 328/1000 [02:28<04:01,  2.79it/s]"
     ]
    },
    {
     "name": "stdout",
     "output_type": "stream",
     "text": [
      "問題：円周率において、小数点以下762ケタから767ケタで、数字の「9」が連続して6個並ぶ部分のことを、アメリカの物理学者の名から何という?\n",
      "解答：ファインマン点\n",
      "\n",
      "問題：アルファベット2文字での表記は「FB」。ラグビーで、ディフェンスラインの最後尾に位置し、相手チームの攻撃に対する「最後の砦」となるポジションは何?\n",
      "解答：FB\n",
      "\n",
      "問題：1992年の映画『ボディガード』でヒロインを演じ、主題歌『オールウェイズ・ラヴ・ユー』を歌った女性歌手は誰?\n",
      "解答：ホイットニー・ヒューストン\n",
      "\n",
      "問題：東京メトロで、「虎ノ門」駅があるのは銀座線ですが、「桜田門」駅があるのは何線?\n",
      "解答：丸ノ内線\n",
      "\n"
     ]
    },
    {
     "name": "stderr",
     "output_type": "stream",
     "text": [
      " 33%|███▎      | 332/1000 [02:29<03:18,  3.36it/s]"
     ]
    },
    {
     "name": "stdout",
     "output_type": "stream",
     "text": [
      "問題：七福神の中で、唯一の日本の神様は何?\n",
      "解答：恵比寿\n",
      "\n",
      "問題：貝を大きく2種類に分けると、二枚貝と何?\n",
      "解答：軟体貝\n",
      "\n",
      "問題：頭を入れる部分が多いカウボーイハットの一種を10ガロンもの水が入るということから何という?\n",
      "解答：テンガロンハット\n",
      "\n",
      "問題：映画『麗しのサブリナ』や『ローマの休日』などに主演した往年の女優は誰?\n",
      "解答：オードリー・ヘプバーン\n",
      "\n"
     ]
    },
    {
     "name": "stderr",
     "output_type": "stream",
     "text": [
      " 34%|███▎      | 336/1000 [02:30<02:44,  4.04it/s]"
     ]
    },
    {
     "name": "stdout",
     "output_type": "stream",
     "text": [
      "問題：悪石島や宝島など12の島からなる、屋久島と奄美大島の間にある火山列島は何?\n",
      "解答：トカラ列島\n",
      "\n",
      "問題：自分で自分をほめることを、「自」という字を2回使った四字熟語で何という?\n",
      "解答：自画自賛\n",
      "\n",
      "問題：主人公ダルタニアンが、3人の剣士、アトス、アラミス、ポルトスとともに活躍する姿を描いたデュマの小説は何?\n",
      "解答：三銃士\n",
      "\n",
      "問題：野菜スティックやクラッカーなどにつけることが多いクリーム状のソースを、「浸す」という意味の英語で何という?\n",
      "解答：Dip\n",
      "\n"
     ]
    },
    {
     "name": "stderr",
     "output_type": "stream",
     "text": [
      " 34%|███▍      | 340/1000 [02:30<02:22,  4.64it/s]"
     ]
    },
    {
     "name": "stdout",
     "output_type": "stream",
     "text": [
      "問題：日本の作家で、哲郎、朱門、綾子、しをんに共通する名字は何?\n",
      "解答：宮部\n",
      "\n",
      "問題：『源氏物語』全54帖で唯一、前巻と後巻に分かれているのは何?\n",
      "解答：第三帖「夕顔」\n",
      "\n",
      "問題：長さ約1000キロメートルで国内最長、流域面積も国土の5分の1以上を占めるという、フランスの大河は何?\n",
      "解答：ロワール川\n",
      "\n",
      "問題：デパートの化粧品売り場で働く美容部員のことをアルファベット2文字で「BA」といいますが、これは何という言葉の略?\n",
      "解答：Beauty Advisor\n",
      "\n"
     ]
    },
    {
     "name": "stderr",
     "output_type": "stream",
     "text": [
      " 34%|███▍      | 344/1000 [02:33<03:56,  2.78it/s]"
     ]
    },
    {
     "name": "stdout",
     "output_type": "stream",
     "text": [
      "問題：囲碁で、名人、棋聖、本因坊の三大タイトルを獲得することを何という?\n",
      "解答：三冠王\n",
      "\n",
      "問題：「新約聖書」の一節からタイトルをつけた、昭和30年代に起きた連続殺人事件を題材にした、佐木隆三の直木賞受賞作は何?\n",
      "解答：『新約』\n",
      "\n",
      "問題：人間の心臓にある4つの部屋のうち、大動脈が流れ出ているのはどの部屋から?\n",
      "解答：左心室\n",
      "\n",
      "問題：和風建築で縁側などの前に置かれる、踏み台にしたり履物を置いたりする大きな石を何という?\n",
      "解答：石畳\n",
      "\n"
     ]
    },
    {
     "name": "stderr",
     "output_type": "stream",
     "text": [
      " 35%|███▍      | 348/1000 [02:34<03:42,  2.93it/s]"
     ]
    },
    {
     "name": "stdout",
     "output_type": "stream",
     "text": [
      "問題：北はロシア、南は中国と国境を接している、首都をウランバートルに置く国はどこ?\n",
      "解答：モンゴル\n",
      "\n",
      "問題：「すべての贈り物」という意味の名前を持つ、ギリシャ神話で人類最初の女性として登場する人物は誰?\n",
      "解答：パンドラ\n",
      "\n",
      "問題：正式には「南町通り」という東京・青山にある通りで、通り沿いにアンティークショップが建ち並ぶことからつけられた愛称は何?\n",
      "解答：アンティーク通り\n",
      "\n",
      "問題：格闘技で、テコンドーが生まれた国は韓国ですが、カポエイラが生まれた国はどこ?\n",
      "解答：ブラジル\n",
      "\n"
     ]
    },
    {
     "name": "stderr",
     "output_type": "stream",
     "text": [
      " 35%|███▌      | 352/1000 [02:35<02:59,  3.60it/s]"
     ]
    },
    {
     "name": "stdout",
     "output_type": "stream",
     "text": [
      "問題：北海道西部に広がる、札幌市が位置している平野は何平野?\n",
      "解答：石狩平野\n",
      "\n",
      "問題：衆議院議員の被選挙権は満25歳以上ですが、参議院議員の被選挙権は満何歳以上?\n",
      "解答：30歳以上\n",
      "\n",
      "問題：「Be Prepared-備えよ常に」をモットーとする、1908年にロバート・ベーデン=パウエルによって設立された青少年団体は何?\n",
      "解答：ボーイスカウト\n",
      "\n",
      "問題：裁判の判決で、有罪による刑罰を言い渡した上で、一定期間、別の刑事事件を犯さなければ、その刑を科さないという制度を一般に何という?\n",
      "解答：保護観察\n",
      "\n"
     ]
    },
    {
     "name": "stderr",
     "output_type": "stream",
     "text": [
      " 36%|███▌      | 356/1000 [02:36<02:58,  3.60it/s]"
     ]
    },
    {
     "name": "stdout",
     "output_type": "stream",
     "text": [
      "問題：「PV」と略される、スタジアムなどに大型スクリーンを設置し、大勢の観客がスポーツの試合などを見ることを何という?\n",
      "解答：パブリック・ビューイング\n",
      "\n",
      "問題：白色人種のことを「コーカソイド」といいますが、この由来となった、黒海とカスピ海に挟まれた地方といえば何地方?\n",
      "解答：コーカサス地方\n",
      "\n",
      "問題：代表作『真珠夫人』『恩讐の彼方に』『父帰る』で知られる作家は誰?\n",
      "解答：川端康成\n",
      "\n",
      "問題：漫画『ドラえもん』に登場するキャラクター、のび太の名字は何?\n",
      "解答：野比\n",
      "\n"
     ]
    },
    {
     "name": "stderr",
     "output_type": "stream",
     "text": [
      " 36%|███▌      | 360/1000 [02:38<03:29,  3.05it/s]"
     ]
    },
    {
     "name": "stdout",
     "output_type": "stream",
     "text": [
      "問題：『論語』に由来する年齢を表す言葉で、「不惑」といえば40歳ですが、「従心」といえば何歳のこと?\n",
      "解答：30歳\n",
      "\n",
      "問題：アナログ時計にふと目を向けたとき、秒針が一瞬だけ止まって見えるという錯覚を何という?\n",
      "解答：秒針停止現象\n",
      "\n",
      "問題：国木田独歩の妻をモデルにした早月葉子を主人公とする、有島武郎の長編小説は何?\n",
      "解答：『破戒』\n",
      "\n",
      "問題：鉄道のスピードを調節する「マスコン」とは、何という言葉の略?\n",
      "解答：マスコン\n",
      "\n"
     ]
    },
    {
     "name": "stderr",
     "output_type": "stream",
     "text": [
      " 36%|███▋      | 364/1000 [02:38<02:51,  3.71it/s]"
     ]
    },
    {
     "name": "stdout",
     "output_type": "stream",
     "text": [
      "問題：1914年に起きた、オーストリア皇太子夫妻がセルビア人の青年に暗殺され、第一次世界大戦のきっかけとなった事件を、発生した都市から何という?\n",
      "解答：サラエボ\n",
      "\n",
      "問題：熊本県が日本国内のおよそ9割と日本一の生産量を誇る、畳おもての材料となる植物は何?\n",
      "解答：イグサ\n",
      "\n",
      "問題：「けぎらい」「はなむけ」「かけひき」などの言葉の由来となった動物は何?\n",
      "解答：カエル\n",
      "\n",
      "問題：5つ存在する正多面体とは、正四面体、正六面体、正八面体、正十二面体と何?\n",
      "解答：正二十面体\n",
      "\n"
     ]
    },
    {
     "name": "stderr",
     "output_type": "stream",
     "text": [
      " 37%|███▋      | 368/1000 [02:41<04:17,  2.46it/s]"
     ]
    },
    {
     "name": "stdout",
     "output_type": "stream",
     "text": [
      "問題：中国三国時代の蜀の武将・馬良の顔の特徴に由来する、多くの中で最も優れた人やものを指す言葉は何?\n",
      "解答：顔良\n",
      "\n",
      "問題：石川県の奥能登で作られる、イカやイワシの内臓や頭、骨を塩漬けにして発酵させて作る魚醤を何という?\n",
      "解答：いかすみ\n",
      "\n",
      "問題：ヤード・ポンド法の長さの単位で、1ヤードは3フィートですが、さらにインチに換算すると何インチ?\n",
      "解答：36インチ\n",
      "\n",
      "問題：走り高跳びの跳び方で、踏み切ったあとお腹を下にして、バーに覆いかぶさるようにして跳ぶことを何という?\n",
      "解答：フロップ方式\n",
      "\n"
     ]
    },
    {
     "name": "stderr",
     "output_type": "stream",
     "text": [
      " 37%|███▋      | 372/1000 [02:42<03:41,  2.83it/s]"
     ]
    },
    {
     "name": "stdout",
     "output_type": "stream",
     "text": [
      "問題：スペイン国王フアン・カルロス1世の妃の名前がつけられた、ピカソの『ゲルニカ』などを所蔵する、マドリードの美術館は何?\n",
      "解答：プラド美術館\n",
      "\n",
      "問題：「キーベッド」ともいう、地質学で、同一の噴火によるとみられる火山灰の層など、離れた地域の間で地層の同じ堆積を結びつける重要な層を何という?\n",
      "解答：テフラ\n",
      "\n",
      "問題：日本の初代内閣総理大臣は伊藤博文ですが、アメリカの初代大統領は誰?\n",
      "解答：ジョージ・ワシントン\n",
      "\n",
      "問題：細長い長方形のテープを180度ねじり、両端を貼り合わせてできる、表と裏の区別がない図形のことをドイツの数学者の名から何の帯という?\n",
      "解答：モビウス帯\n",
      "\n"
     ]
    },
    {
     "name": "stderr",
     "output_type": "stream",
     "text": [
      " 38%|███▊      | 376/1000 [02:43<03:08,  3.31it/s]"
     ]
    },
    {
     "name": "stdout",
     "output_type": "stream",
     "text": [
      "問題：童話『ピーターパン』で、ピーターパンがウェンディたちを連れていく子どもの国はどこ?\n",
      "解答：ネバーランド\n",
      "\n",
      "問題：食事をする際の箸使いのマナー違反で、ひとつの料理ばかりを食べ続けることを何箸という?\n",
      "解答：一本箸\n",
      "\n",
      "問題：京都府の市で、「鶴」という漢字がつくのは舞鶴市ですが、「亀」という漢字がつくのは何市?\n",
      "解答：亀岡市\n",
      "\n",
      "問題：夜回りを欠かさなかったことから「ランプの貴婦人」、野戦病院の改革から「クリミアの天使」などと呼ばれた、19世紀、近代看護の基礎を確立した女性は誰?\n",
      "解答：フローレンス・ナイチンゲール\n",
      "\n"
     ]
    },
    {
     "name": "stderr",
     "output_type": "stream",
     "text": [
      " 38%|███▊      | 380/1000 [02:43<02:35,  3.98it/s]"
     ]
    },
    {
     "name": "stdout",
     "output_type": "stream",
     "text": [
      "問題：神社で、参道や境内を囲むようにもうけられた森林のことを特に「何の森」という?\n",
      "解答：鎮守の森\n",
      "\n",
      "問題：夏目漱石の小説で、9月1日頃にある雑節がタイトルになっているのは何?\n",
      "解答：『こころ』\n",
      "\n",
      "問題：アナログ時計の長針は60分で一周しますが、サウナに置かれているサウナタイマーの長針は何分で一周する?\n",
      "解答：60分\n",
      "\n",
      "問題：お箸の使い方のマナー違反で、箸の先から汁がポタポタ落ちてしまうことを何という?\n",
      "解答：箸たれ\n",
      "\n"
     ]
    },
    {
     "name": "stderr",
     "output_type": "stream",
     "text": [
      " 38%|███▊      | 384/1000 [02:44<02:45,  3.72it/s]"
     ]
    },
    {
     "name": "stdout",
     "output_type": "stream",
     "text": [
      "問題：「犯人は物語のはじめに登場していなければならない」など、推理小説を書く上で守るべき10項目のルールのことを、提唱したイギリスの作家の名から何という?\n",
      "解答：ノックスの十戒\n",
      "\n",
      "問題：他人のものの方がよく見えることの例えで、赤く見えるのは隣の花ですが、青く見えるのは隣の何?\n",
      "解答：空の花\n",
      "\n",
      "問題：ノーベル文学賞受賞者のタゴールが国歌の作詞を手掛けた国は、インドとどこ?\n",
      "解答：バングラデシュ\n",
      "\n",
      "問題：俗に「男は度胸、女は愛嬌」といいますが、それに続く言葉は何?\n",
      "解答：女は愛嬌でも男は度胸でもない。\n",
      "\n"
     ]
    },
    {
     "name": "stderr",
     "output_type": "stream",
     "text": [
      " 39%|███▉      | 388/1000 [02:46<02:45,  3.69it/s]"
     ]
    },
    {
     "name": "stdout",
     "output_type": "stream",
     "text": [
      "問題：1917年、ロシア革命で倒されるまで、300年余りも栄華を誇った、ロシアの王朝は何王朝?\n",
      "解答：ロマノフ王朝\n",
      "\n",
      "問題：サッカーFIFAワールドカップなどで行われる、全チームを複数の組に分け、各組でリーグ戦を行う形式を何という?\n",
      "解答：グループリーグ\n",
      "\n",
      "問題：ゴルフでロストボールのペナルティは、ボールを見失ってから何分経過したときに適用される?\n",
      "解答：5分\n",
      "\n",
      "問題：「Mehr Licht!」という言葉を残してこの世を去ったといわれるドイツの作家は誰?\n",
      "解答：ゲーテ\n",
      "\n"
     ]
    },
    {
     "name": "stderr",
     "output_type": "stream",
     "text": [
      " 39%|███▉      | 392/1000 [02:47<03:15,  3.11it/s]"
     ]
    },
    {
     "name": "stdout",
     "output_type": "stream",
     "text": [
      "問題：古生代の区分で、デボン紀の「デボン」はイギリスの地名に由来しますが、ペルム紀の「ペルム」はどこの国の地名に由来する?\n",
      "解答：ロシア\n",
      "\n",
      "問題：日本の旧国名で、「雲の州」と書く「雲州」は「出雲」ですが、「石の州」と書く「石州」は何という国?\n",
      "解答：岡山\n",
      "\n",
      "問題：童謡『お山の杉の子』で、杉の子に「これこれ杉の子おきなさい」と声をかけたのは何?\n",
      "解答：お母さん\n",
      "\n",
      "問題：ファッション用語で、男性向けのものを「オム」というのに対し、女性向けのものを何という?\n",
      "解答：ファム\n",
      "\n"
     ]
    },
    {
     "name": "stderr",
     "output_type": "stream",
     "text": [
      " 40%|███▉      | 396/1000 [02:48<02:58,  3.38it/s]"
     ]
    },
    {
     "name": "stdout",
     "output_type": "stream",
     "text": [
      "問題：誕生した1930年に発見された星にちなんで名前がつけられた、ミッキーマウスのペットである犬の名前は何?\n",
      "解答：プルート\n",
      "\n",
      "問題：「万物の根源は火である」と唱えた、「万物流転説」などでも知られる古代ギリシャの哲学者は誰?\n",
      "解答：ヘラクレイトス\n",
      "\n",
      "問題：「アルキメデスの数」や「ルドルフの数」とも呼ばれる、記号「π」で表される数字といえば何率?\n",
      "解答：円周率\n",
      "\n",
      "問題：ベートーベンの、交響曲第5番の別名は『運命』ですが、ピアノ協奏曲第5番の別名は何?\n",
      "解答：皇帝\n",
      "\n"
     ]
    },
    {
     "name": "stderr",
     "output_type": "stream",
     "text": [
      " 40%|████      | 400/1000 [02:49<02:25,  4.14it/s]"
     ]
    },
    {
     "name": "stdout",
     "output_type": "stream",
     "text": [
      "問題：衣服の中でも襟と袖は特に目立つことから、ある集団において中心となる重要人物のことを何という?\n",
      "解答：リーダー\n",
      "\n",
      "問題：中国・明の時代に使われ始めたことから名づけられた、新聞や書籍によく使われる、縦線が太く横線が細い書体は何?\n",
      "解答：明朝体\n",
      "\n",
      "問題：「司会者」を指す「MC」は何という言葉の略?\n",
      "解答：Master of Ceremonies\n",
      "\n",
      "問題：琵琶湖から流れ出る唯一の河川である瀬田川は、京都府内に入るときには何という川に名前を変える?\n",
      "解答：宇治川\n",
      "\n"
     ]
    },
    {
     "name": "stderr",
     "output_type": "stream",
     "text": [
      " 40%|████      | 404/1000 [02:49<02:07,  4.69it/s]"
     ]
    },
    {
     "name": "stdout",
     "output_type": "stream",
     "text": [
      "問題：「庭の山椒の木鳴る鈴かけて」という歌い出しで始まる、源氏の那須大八郎と平氏の鶴富姫の悲恋を歌った宮崎県民謡は何?\n",
      "解答：「那須与一」\n",
      "\n",
      "問題：マンガで、ショックを受けたときの「ガーン!」という表現が初めて登場したとされる、川崎のぼるの作品は何?\n",
      "解答：「サラリーマン金太郎」\n",
      "\n",
      "問題：サッカーのコートで、短いほうの辺はゴールラインですが、長いほうの辺は何という?\n",
      "解答：サイドライン\n",
      "\n",
      "問題：「ケッペンの気候区分」で、「BS」で表されるのはステップ気候ですが、「BW」で表されるのは何?\n",
      "解答：砂漠気候\n",
      "\n"
     ]
    },
    {
     "name": "stderr",
     "output_type": "stream",
     "text": [
      " 41%|████      | 408/1000 [02:50<01:59,  4.94it/s]"
     ]
    },
    {
     "name": "stdout",
     "output_type": "stream",
     "text": [
      "問題：「混ぜ合わせる」という意味の沖縄料理で、ニガウリを入れたゴーヤのものが特に有名なのは何?\n",
      "解答：ゴーヤチャンプルー\n",
      "\n",
      "問題：卒業式で、在校生代表が卒業生に向ける別れの言葉を「送辞」というのに対し、卒業生代表から在校生に向ける言葉を何という?\n",
      "解答：返辞\n",
      "\n",
      "問題：1336年に起こった足利尊氏・足利直義が、新田義貞・楠木正成軍を破った戦いで、敗れた楠木正成が自害したことで知られるのは何?\n",
      "解答：槇島の戦い\n",
      "\n",
      "問題：肉料理の匂い消しやピザのトッピングとして使われる、和名を「ハナハッカ」というシソ科の植物は何?\n",
      "解答：シソ\n",
      "\n"
     ]
    },
    {
     "name": "stderr",
     "output_type": "stream",
     "text": [
      " 41%|████      | 412/1000 [02:51<01:51,  5.27it/s]"
     ]
    },
    {
     "name": "stdout",
     "output_type": "stream",
     "text": [
      "問題：「朝三暮四」という言葉の由来となった故事で、中国・宋の猿回しが猿に与えたのは何の実?\n",
      "解答：桃の実\n",
      "\n",
      "問題：古代中国の官吏登用試験・科挙で、最も優秀な答案を一番上に乗せたことに由来する、全体の中で最も優れたものを表す言葉は何?\n",
      "解答：状元\n",
      "\n",
      "問題：年間120万円までの投資から得られる譲渡益や配当が5年間非課税となる「少額投資非課税制度」のことを、アルファベット4文字の略称で何という?\n",
      "解答：NISA\n",
      "\n",
      "問題：ローマのテルミニ駅をモデルにして建てられ、1988年に駅舎として初めて国の重要文化財に指定された、福岡県にあるJRの駅はどこ?\n",
      "解答：博多駅\n",
      "\n"
     ]
    },
    {
     "name": "stderr",
     "output_type": "stream",
     "text": [
      " 42%|████▏     | 416/1000 [02:51<01:42,  5.70it/s]"
     ]
    },
    {
     "name": "stdout",
     "output_type": "stream",
     "text": [
      "問題：ナミ、ゾロ、サンジ、チョッパー、ルフィなどが登場する、尾田栄一郎の漫画は何?\n",
      "解答：ワンピース\n",
      "\n",
      "問題：狭心症の薬としても使われる、ダイナマイトの原料となる有機化合物は何?\n",
      "解答：ニトログリセリン\n",
      "\n",
      "問題：ギリシャ神話の神々に仕えるトロイアの美少年にちなんで名づけられた、太陽系最大の衛星である木星の第3衛星は何?\n",
      "解答：ガニメデ\n",
      "\n",
      "問題：ペットボトルの「ペット」は何というプラスチック素材のこと?\n",
      "解答：PET\n",
      "\n"
     ]
    },
    {
     "name": "stderr",
     "output_type": "stream",
     "text": [
      " 42%|████▏     | 420/1000 [02:52<01:39,  5.83it/s]"
     ]
    },
    {
     "name": "stdout",
     "output_type": "stream",
     "text": [
      "問題：繊細で華やかな絵付けを特徴とする、17世紀に李参平によって創始された佐賀県の焼物は何?\n",
      "解答：有田焼\n",
      "\n",
      "問題：『シャル・ウィ・ダンス』などの劇中曲で有名な、タイの国王と教育係のアンナとの交流を描いたミュージカルは何?\n",
      "解答：『王様と私』\n",
      "\n",
      "問題：1789年6月20日、フランスで第三身分の人々が憲法制定まで議会を解散しないと誓った出来事を、行われた場所から「何の誓い」という?\n",
      "解答：テニスコートの誓い\n",
      "\n",
      "問題：物事の状態に変化がなく、ほとんど動きがなくなることを、「膠」という漢字を使って「何状態」という?\n",
      "解答：膠着状態\n",
      "\n"
     ]
    },
    {
     "name": "stderr",
     "output_type": "stream",
     "text": [
      " 42%|████▏     | 424/1000 [02:53<01:46,  5.42it/s]"
     ]
    },
    {
     "name": "stdout",
     "output_type": "stream",
     "text": [
      "問題：高速道路の「電子式料金自動収受システム」のことをアルファベット3文字で何という?\n",
      "解答：ETC\n",
      "\n",
      "問題：悔しがったり怒ったりして、激しく地面を踏むことを、大型のふいごを足で踏んで風を送るときの動作になぞらえて「何を踏む」という?\n",
      "解答：土を踏む\n",
      "\n",
      "問題：仏教で、「人が生まれ、死んだあと、また再び生まれ変わる」という考え方を、四字熟語で「何転生」という?\n",
      "解答：輪転生\n",
      "\n",
      "問題：甲子園球場にある、アルプススタンド以外の内野席全体を覆う屋根のことを俗に何という?\n",
      "解答：\"ビジター側\"\n",
      "\n"
     ]
    },
    {
     "name": "stderr",
     "output_type": "stream",
     "text": [
      " 43%|████▎     | 428/1000 [02:53<01:40,  5.69it/s]"
     ]
    },
    {
     "name": "stdout",
     "output_type": "stream",
     "text": [
      "問題：中国で隋の時代に始まり、清の時代まで続いた、官吏の登用試験を何という?\n",
      "解答：科挙\n",
      "\n",
      "問題：1月の英語名「January」の由来となっている、ローマ神話の扉や出入り口の守護神は何?\n",
      "解答：Janus\n",
      "\n",
      "問題：昆虫が、卵からかえることを「孵化」といいますが、幼虫がさなぎになることを何という?\n",
      "解答：蛹\n",
      "\n",
      "問題：『小倉百人一首』に収められている紫式部と清少納言の和歌に共通して使われている漢字は何?\n",
      "解答：恋(こい)\n",
      "\n"
     ]
    },
    {
     "name": "stderr",
     "output_type": "stream",
     "text": [
      " 43%|████▎     | 432/1000 [02:54<01:31,  6.21it/s]"
     ]
    },
    {
     "name": "stdout",
     "output_type": "stream",
     "text": [
      "問題：ラーメンの麺を湯切りするときに使う、持ち手がついた筒型のザルを何という?\n",
      "解答：ざる\n",
      "\n",
      "問題：日本気象協会が発表する、木綿のシャツが一定の時間でどれだけ乾くかという実験データから算出する数値を「何指数」という?\n",
      "解答：乾燥指数\n",
      "\n",
      "問題：深田久弥の著書『日本百名山』に登場する山のうち、標高877メートルと最も低い山は何?\n",
      "解答：赤城山\n",
      "\n",
      "問題：歌舞伎や浄瑠璃の最も重要な見せ場に由来する、ここぞという大切な局面を指す言葉は何?\n",
      "解答：クライマックス\n",
      "\n"
     ]
    },
    {
     "name": "stderr",
     "output_type": "stream",
     "text": [
      " 44%|████▎     | 436/1000 [02:55<01:47,  5.23it/s]"
     ]
    },
    {
     "name": "stdout",
     "output_type": "stream",
     "text": [
      "問題：「金字塔を打ちたてる」という時の「金字塔」は、もともと、どんな建造物のこと?\n",
      "解答：ピラミッド\n",
      "\n",
      "問題：英語で「道化師」という意味がある、トランプで基本のセット52枚以外に1枚加えられるカードを何という?\n",
      "解答：ジョーカー\n",
      "\n",
      "問題：池田理代子の漫画のヒロインとしても描かれたロシア・ロマノフ朝の第8代皇帝で、ポーランド分割や新法典の編纂などの政策で知られるのは誰?\n",
      "解答：エカテリーナ2世\n",
      "\n",
      "問題：『初恋』『父と子』『猟人日記』などの作品を残したロシアの作家は誰?\n",
      "解答：イワン・ツルゲーネフ\n",
      "\n"
     ]
    },
    {
     "name": "stderr",
     "output_type": "stream",
     "text": [
      " 44%|████▍     | 440/1000 [02:55<01:41,  5.52it/s]"
     ]
    },
    {
     "name": "stdout",
     "output_type": "stream",
     "text": [
      "問題：金融機関で、貸出額が預金額を上回った状態を、英語で何という?\n",
      "解答：overlending\n",
      "\n",
      "問題：ダーツで一番オーソドックスなルールであるゲームで、1ラウンド3回で8ラウンドの計24回投げて合計得点を競うものは何?\n",
      "解答：クリケット\n",
      "\n",
      "問題：本来は、ブドウの当たり年に作られたワインのことで、ジーンズやアロハシャツなど、質の高い年代物のファッションアイテムを指すようにもなった言葉といえば何?\n",
      "解答：ヴィンテージ\n",
      "\n",
      "問題：岩手県盛岡市の名物で「盛岡三大麺」と呼ばれるのは、盛岡冷麺、盛岡じゃじゃ麺と何?\n",
      "解答：盛岡わんこそば\n",
      "\n"
     ]
    },
    {
     "name": "stderr",
     "output_type": "stream",
     "text": [
      " 44%|████▍     | 444/1000 [02:56<01:34,  5.89it/s]"
     ]
    },
    {
     "name": "stdout",
     "output_type": "stream",
     "text": [
      "問題：シカの骨を焼いてその割れ方で吉凶を占う、古代日本で行われていた占いは何?\n",
      "解答：骨占い\n",
      "\n",
      "問題：xy平面において、xとyがともにプラスなのは「第1象限」ですが、xとyがともにマイナスなのは第何象限?\n",
      "解答：第3象限\n",
      "\n",
      "問題：正式名を乾坤山という千葉県にある標高329.4mの山で、稜線がギザギザしていることからつけられた一般的な名称は何?\n",
      "解答：鋸山\n",
      "\n",
      "問題：タリム川の流れが移動することにより湖の位置も変わることから「さまよえる湖」とも呼ばれる、中国ウイグル自治区にある湖は何?\n",
      "解答：カラコリム湖\n",
      "\n"
     ]
    },
    {
     "name": "stderr",
     "output_type": "stream",
     "text": [
      " 45%|████▍     | 448/1000 [02:57<01:30,  6.08it/s]"
     ]
    },
    {
     "name": "stdout",
     "output_type": "stream",
     "text": [
      "問題：1615年の大坂夏の陣で豊臣氏が滅亡し平和な時代が訪れたことを、その時の元号を使った四字熟語で何という?\n",
      "解答：寛永の治\n",
      "\n",
      "問題：現在は「故宮博物院」になっている、中国・北京にある明王朝、清王朝の王宮といえば何?\n",
      "解答：紫禁城\n",
      "\n",
      "問題：ライブやコンサートの曲順のことを「セトリ」などといいますが、これは何という言葉の略?\n",
      "解答：セットリスト\n",
      "\n",
      "問題：イタリア語で「美しい歌」という意味がある、18世紀に成立した滑らかで柔らかな声を響かせる歌唱法は何?\n",
      "解答：ベルカント\n",
      "\n"
     ]
    },
    {
     "name": "stderr",
     "output_type": "stream",
     "text": [
      " 45%|████▌     | 452/1000 [02:57<01:28,  6.19it/s]"
     ]
    },
    {
     "name": "stdout",
     "output_type": "stream",
     "text": [
      "問題：キャンディのチュッパチャプスのロゴデザインを手掛けた有名な画家は誰?\n",
      "解答：サルバドール・ダリ\n",
      "\n",
      "問題：コンドルやハチドリなどさまざまな動物や幾何学図形が描かれている、ペルー南部の盆地に残る模様を「何の地上絵」という?\n",
      "解答：ナスカの地上絵\n",
      "\n",
      "問題：山の頂上で太陽に背中を向けた時、前方の雲や霧に自分の影が映り、その周りに光の輪が現れる現象を何という?\n",
      "解答：ハロ現象\n",
      "\n",
      "問題：競馬の騎手が着るカラフルなユニフォームのことを何という?\n",
      "解答：ジョッキー服\n",
      "\n"
     ]
    },
    {
     "name": "stderr",
     "output_type": "stream",
     "text": [
      " 46%|████▌     | 456/1000 [02:58<01:40,  5.43it/s]"
     ]
    },
    {
     "name": "stdout",
     "output_type": "stream",
     "text": [
      "問題：西ガーツ山脈と東ガーツ山脈に挟まれた、綿花の世界的産地として有名なインド半島の高原地帯は何?\n",
      "解答：デカン高原\n",
      "\n",
      "問題：フェンシングで、「一歩前へ」を指示する言葉は「マルシェ」ですが、「一歩後ろへ」を指示する言葉は何?\n",
      "解答：レトリート\n",
      "\n",
      "問題：嫁ヶ島という島が湖の中に浮かぶ、島根県の湖は何?\n",
      "解答：宍道湖\n",
      "\n",
      "問題：写真の「アルバム」は、もともとどんな色を表す言葉?\n",
      "解答：白\n",
      "\n"
     ]
    },
    {
     "name": "stderr",
     "output_type": "stream",
     "text": [
      " 46%|████▌     | 460/1000 [02:59<01:35,  5.66it/s]"
     ]
    },
    {
     "name": "stdout",
     "output_type": "stream",
     "text": [
      "問題：スマホで使われる用語で、「アプリ」といえば「アプリケーション」の略ですが、「アプデ」といえば何の略?\n",
      "解答：アップデート\n",
      "\n",
      "問題：中国とベトナム、台湾などが領土を主張する諸島で、「南沙諸島」と呼ばれるのはスプラトリー諸島ですが、「西沙諸島」と呼ばれるのは何諸島?\n",
      "解答：パラセル諸島\n",
      "\n",
      "問題：小乗仏教を採用し多くの寺院を造営したことから「建寺王朝」の異称がある、1044年アノータヤーが建国したビルマ最初の王朝は何?\n",
      "解答：パガン王朝\n",
      "\n",
      "問題：「十月のその土曜日、長く続いた雨があがった」という書き出しで始まる、江戸川乱歩賞と直木賞をダブル受賞した藤原伊織の小説は何?\n",
      "解答：『十角館の殺人』\n",
      "\n"
     ]
    },
    {
     "name": "stderr",
     "output_type": "stream",
     "text": [
      " 46%|████▋     | 464/1000 [03:00<01:48,  4.92it/s]"
     ]
    },
    {
     "name": "stdout",
     "output_type": "stream",
     "text": [
      "問題：アレキサンダー大王の家庭教師を務めていた経験を持つ、「万学の祖」とも呼ばれる古代ギリシャの哲学者は誰?\n",
      "解答：アリストテレス\n",
      "\n",
      "問題：「寛政の三奇人」と呼ばれた江戸時代の3人の人物といえば、蒲生君平、高山彦九郎と誰?\n",
      "解答：半井小十郎\n",
      "\n",
      "問題：モール型とホフマン型の2種類に大別される、化学実験でゴム管をはさんで締めつけ,液体が管を流れるのを止める金具を何という?\n",
      "解答：クリップ\n",
      "\n",
      "問題：テニスや卓球でボールを打つ道具はラケットですが、羽根つきで羽根をつくのに用いる木の板を何という?\n",
      "解答：ラケット\n",
      "\n"
     ]
    },
    {
     "name": "stderr",
     "output_type": "stream",
     "text": [
      " 47%|████▋     | 468/1000 [03:01<01:39,  5.35it/s]"
     ]
    },
    {
     "name": "stdout",
     "output_type": "stream",
     "text": [
      "問題：北海道で5月の下旬頃、夕方になると急に冷え込みが増す現象を、ある花の名を用いて何という?\n",
      "解答：エゾノオトギリ\n",
      "\n",
      "問題：京都を舞台にした小説『五番町夕霧楼』や『雁の寺』を書いた作家は誰?\n",
      "解答：司馬遼太郎\n",
      "\n",
      "問題：美しい町並みから「東の軽井沢、西のココ」と並び称される、夏の映画祭でも親しまれる大分県の温泉地はどこ?\n",
      "解答：別府市\n",
      "\n",
      "問題：ガブリエル・ガルシア=マルケスの小説『百年の孤独』の舞台となった町の名前は何?\n",
      "解答：マコンド。\n",
      "\n"
     ]
    },
    {
     "name": "stderr",
     "output_type": "stream",
     "text": [
      " 47%|████▋     | 472/1000 [03:02<01:57,  4.48it/s]"
     ]
    },
    {
     "name": "stdout",
     "output_type": "stream",
     "text": [
      "問題：ハイチ、カメルーン、カナダ、モナコで共通して公用語として定められている言語は何語?\n",
      "解答：フランス語\n",
      "\n",
      "問題：病院の「集中治療室」のことを、アルファベット3文字で何という?\n",
      "解答：ICU\n",
      "\n",
      "問題：オペラ『サムソンとデリラ』や組曲『動物の謝肉祭』で知られる、フランスの作曲家は誰?\n",
      "解答：サン＝サーンス\n",
      "\n",
      "問題：1802年から1945年までフエを首都として栄えた、ベトナム最後の王朝は何?\n",
      "解答：阮朝\n",
      "\n"
     ]
    },
    {
     "name": "stderr",
     "output_type": "stream",
     "text": [
      " 48%|████▊     | 476/1000 [03:03<02:21,  3.70it/s]"
     ]
    },
    {
     "name": "stdout",
     "output_type": "stream",
     "text": [
      "問題：図々しい様子、こっそり逃げ出すこと、相撲で勝ち負けを繰り返すこと。これらに共通する言葉は何?\n",
      "解答：逃げる\n",
      "\n",
      "問題：ハヌマーン、ガネーシャ、インドラといえば、何という宗教の神様?\n",
      "解答：ヒンドゥー教\n",
      "\n",
      "問題：日本肥満学会が定める内臓脂肪型肥満の基準とされるウエスト周りは、男性は85センチ以上ですが、女性は何センチ以上とされている?\n",
      "解答：90センチ以上\n",
      "\n",
      "問題：中国の歴代王朝が北方民族の侵入を防ぐために建造した、全長2万km以上にもおよぶ世界遺産の城壁は何?\n",
      "解答：万里の長城\n",
      "\n"
     ]
    },
    {
     "name": "stderr",
     "output_type": "stream",
     "text": [
      " 48%|████▊     | 480/1000 [03:04<02:02,  4.26it/s]"
     ]
    },
    {
     "name": "stdout",
     "output_type": "stream",
     "text": [
      "問題：数学において、小文字では標準偏差を、大文字では数列の和を表すギリシャ文字は何?\n",
      "解答：σ\n",
      "\n",
      "問題：コンスタンティノープルの征服など数々の遠征を行ったことから「征服王」と呼ばれた、オスマン帝国の皇帝は誰?\n",
      "解答：メフメト2世\n",
      "\n",
      "問題：病院などでX線写真を見るときに使われる、内側に蛍光灯を備え付けたディスプレイ機器を何という?\n",
      "解答：モニター\n",
      "\n",
      "問題：占いで使われる筮竹は、普通何本で1セット?\n",
      "解答：50本\n",
      "\n"
     ]
    },
    {
     "name": "stderr",
     "output_type": "stream",
     "text": [
      " 48%|████▊     | 484/1000 [03:04<01:48,  4.78it/s]"
     ]
    },
    {
     "name": "stdout",
     "output_type": "stream",
     "text": [
      "問題：京都大学が主張する「畿内説」、東京大学が主張する「九州説」といえば、何という古代国家に関する論争?\n",
      "解答：ヤマト王権\n",
      "\n",
      "問題：煮物料理などで、材料に味をよくしみこませるために使う、鍋よりもひと回り小さい蓋は何?\n",
      "解答：落とし蓋\n",
      "\n",
      "問題：「日曜日」という意味のオランダ語から名づけられた、毎年5月に福岡市で行われるお祭りは何?\n",
      "解答：キングスデー\n",
      "\n",
      "問題：海外で上演される際は「JUST A MOMENT」と訳される、主人公・鎌倉権五郎の掛け声から名付けられた歌舞伎十八番の演目は何?\n",
      "解答：「待ったなし」\n",
      "\n"
     ]
    },
    {
     "name": "stderr",
     "output_type": "stream",
     "text": [
      " 49%|████▉     | 488/1000 [03:05<01:35,  5.38it/s]"
     ]
    },
    {
     "name": "stdout",
     "output_type": "stream",
     "text": [
      "問題：アニメ『NARUTO疾風伝』に登場する主人公・うずまきナルトが思いを寄せる、チームメイトのくノ一の名前は何?\n",
      "解答：春野サクラ\n",
      "\n",
      "問題：メロヴィング朝、カロリング朝という王朝によって統治された、現在のドイツ、フランス、イタリアのもととなった王国は何?\n",
      "解答：フランク王国\n",
      "\n",
      "問題：江戸幕府将軍・徳川綱吉の子・徳松のお祝いが行われた日にちなんで、毎年11月15日に行われる、3歳、5歳、7歳の子どもの成長を祝う年中行事は何?\n",
      "解答：七五三\n",
      "\n",
      "問題：ラテン語で「冠」という意味の、太陽の大気のもっとも外側の部分を何という?\n",
      "解答：コロナ\n",
      "\n"
     ]
    },
    {
     "name": "stderr",
     "output_type": "stream",
     "text": [
      " 49%|████▉     | 492/1000 [03:06<01:27,  5.80it/s]"
     ]
    },
    {
     "name": "stdout",
     "output_type": "stream",
     "text": [
      "問題：九州の有明海や八代海で夜、大潮の干潮時に見られることがある、漁火の異常屈折現象のことを何という?\n",
      "解答：うしお火灯り\n",
      "\n",
      "問題：慣用句「百も承知」に続く言葉。「二百も何」?\n",
      "解答：承知\n",
      "\n",
      "問題：日本のヒット曲に多く用いられている、C、G、Am、Em、F、C、F、Gと続くコード進行のことを、元になったパッヘルベルのクラシック曲にちなんで何進行という?\n",
      "解答：カノン進行\n",
      "\n",
      "問題：狩猟で仕留めた動物の頭部などを、インテリアとして部屋の壁に飾るために剥製にしたものを何という?\n",
      "解答：剥製\n",
      "\n"
     ]
    },
    {
     "name": "stderr",
     "output_type": "stream",
     "text": [
      " 50%|████▉     | 496/1000 [03:06<01:20,  6.22it/s]"
     ]
    },
    {
     "name": "stdout",
     "output_type": "stream",
     "text": [
      "問題：日本国憲法で、「すべて国民は、健康で文化的な最低限度の生活を営む権利を有する。」という、いわゆる生存権を規定しているのは第何条?\n",
      "解答：第25条\n",
      "\n",
      "問題：趣味として行う大工のことを、ある曜日を使って何大工という?\n",
      "解答：日曜大工\n",
      "\n",
      "問題：大分県にある景勝地「青の洞門」の逸話をもとにして書かれた、了海を主人公とする菊池寛の小説は何?\n",
      "解答：『真珠』\n",
      "\n",
      "問題：再生能力が高いことから理科の実験材料によく用いられる、三角形の頭と細長い体が特徴的な扁形動物は何?\n",
      "解答：プラナリア\n",
      "\n"
     ]
    },
    {
     "name": "stderr",
     "output_type": "stream",
     "text": [
      " 50%|█████     | 500/1000 [03:07<01:16,  6.52it/s]"
     ]
    },
    {
     "name": "stdout",
     "output_type": "stream",
     "text": [
      "問題：トランプを大きさから2種類に分けるとポーカーサイズと、日本で普及している何サイズ?\n",
      "解答：ブリッジサイズ\n",
      "\n",
      "問題：スキーのジャンプ競技で、踏み切り台の先端から、安全に着地できる地点までの距離のことを何という?\n",
      "解答：着地点\n",
      "\n",
      "問題：天文学で、英語で「グロービュラー・クラスター」といえば「球状星団」のことですが、「オープン・クラスター」といえば何星団のこと?\n",
      "解答：散開星団\n",
      "\n",
      "問題：日本の国会議員で、衆議院議員の任期は4年ですが、参議院議員の任期は何年?\n",
      "解答：6年\n",
      "\n"
     ]
    },
    {
     "name": "stderr",
     "output_type": "stream",
     "text": [
      " 50%|█████     | 504/1000 [03:07<01:13,  6.71it/s]"
     ]
    },
    {
     "name": "stdout",
     "output_type": "stream",
     "text": [
      "問題：仏教遺跡の「アンコール・ワット」とともにカンボジアの二大世界遺産といわれる、ジャヤーヴァルマン7世によって建設された城砦都市遺跡は何?\n",
      "解答：アンコール・トム\n",
      "\n",
      "問題：映画『インディ・ジョーンズ』シリーズや『ジュラシック・パーク』シリーズを手がけた映画監督は誰?\n",
      "解答：スティーブン・スピルバーグ\n",
      "\n",
      "問題：カタカナの「タ」と「ト」を組み合わせてできる漢字が「外」なら、「タ」と「ロ」を組み合わせてできる漢字は何?\n",
      "解答：塔\n",
      "\n",
      "問題：英語では「International Court of Justice」という、オランダのハーグに本部を置く、国際紛争を法律的に解決する機関は何?\n",
      "解答：International Court of Justice\n",
      "\n"
     ]
    },
    {
     "name": "stderr",
     "output_type": "stream",
     "text": [
      " 51%|█████     | 508/1000 [03:08<01:12,  6.75it/s]"
     ]
    },
    {
     "name": "stdout",
     "output_type": "stream",
     "text": [
      "問題：渋沢栄一の出身地であり、渋沢栄一記念館がある埼玉県の都市はどこ?\n",
      "解答：川越市\n",
      "\n",
      "問題：アンデルセン童話『親指姫』で、親指姫の名前は何?\n",
      "解答：親指姫\n",
      "\n",
      "問題：「九つの村がある谷」という意味の名前を持つ、原生林に点在する100以上の湖沼が美しい絶景を作り出すことで知られる中国四川省の峡谷は何?\n",
      "解答：九寨沟\n",
      "\n",
      "問題：日本語では「乳塩基性タンパク質」と呼ばれる、牛乳や母乳に含まれるタンパク質をアルファベット3文字で何という?\n",
      "解答：ＷＨＥ\n",
      "\n"
     ]
    },
    {
     "name": "stderr",
     "output_type": "stream",
     "text": [
      " 51%|█████     | 512/1000 [03:08<01:08,  7.12it/s]"
     ]
    },
    {
     "name": "stdout",
     "output_type": "stream",
     "text": [
      "問題：日本で最も長い川は信濃川ですが、世界で最も長い川は何?\n",
      "解答：ナイル川\n",
      "\n",
      "問題：元号にちなんで「昭和塔」という名称も候補にあった、昭和の高度経済成長の象徴として親しまれたランドマークは何?\n",
      "解答：東京タワー\n",
      "\n",
      "問題：日本語の活用で、文語文法の已然形にあたるものを、口語文法では何という?\n",
      "解答：仮定形\n",
      "\n",
      "問題：漢字の「凹」「凸」の画数はともに何画?\n",
      "解答：凹：5画、凸：5画\n",
      "\n"
     ]
    },
    {
     "name": "stderr",
     "output_type": "stream",
     "text": [
      " 52%|█████▏    | 516/1000 [03:09<01:08,  7.08it/s]"
     ]
    },
    {
     "name": "stdout",
     "output_type": "stream",
     "text": [
      "問題：汗を分泌する汗腺で、大汗腺と呼ばれるのはエクリン腺ですが、小汗腺と呼ばれるのは何腺?\n",
      "解答：アポクリン腺\n",
      "\n",
      "問題：アニメ映画『となりのトトロ』のラストで、サツキとメイが入院中のお母さんに届けた野菜は何?\n",
      "解答：とうもろこし\n",
      "\n",
      "問題：「2つの銀河の間の距離が離れているほど、互いが離れていく速度も比例する」という法則を、提唱したアメリカとベルギーの2人の天文学者の名前から何の法則という?\n",
      "解答：ハッブルの法則\n",
      "\n",
      "問題：山型の歯車を重ねた「ダブル・シェブロン」というエンブレムでおなじみのフランスの自動車メーカーはどこ?\n",
      "解答：シトロエン\n",
      "\n"
     ]
    },
    {
     "name": "stderr",
     "output_type": "stream",
     "text": [
      " 52%|█████▏    | 520/1000 [03:10<01:28,  5.42it/s]"
     ]
    },
    {
     "name": "stdout",
     "output_type": "stream",
     "text": [
      "問題：日本の元号に使われた漢字で生き物を表すものは3つあります。「亀」「鳥」と何?\n",
      "解答：鹿\n",
      "\n",
      "問題：ジャガイモの裏ごしを入れて作る冷たいスープを、フランスの都市の名を取って何という?\n",
      "解答：ヴィシソワーズ\n",
      "\n",
      "問題：1867年、クリミア戦争による財政難にあったロシアが720万ドルでアメリカに売却し、後にアメリカの49番目の州となった土地はどこ?\n",
      "解答：アラスカ\n",
      "\n",
      "問題：冬から春にかけて、フランスのローヌ川から地中海の北西沿岸にかけて吹き降りる冷たい北風を何という?\n",
      "解答：ミストラル\n",
      "\n"
     ]
    },
    {
     "name": "stderr",
     "output_type": "stream",
     "text": [
      " 52%|█████▏    | 524/1000 [03:11<01:23,  5.72it/s]"
     ]
    },
    {
     "name": "stdout",
     "output_type": "stream",
     "text": [
      "問題：ボクシングやラグビーの選手が頭や耳を保護するために着用する防具のことを何という?\n",
      "解答：ヘッドギア\n",
      "\n",
      "問題：イングリッシュマフィンの上にハムやポーチドエッグをのせ、オランデーズソースをかけた料理を何という?\n",
      "解答：エッグベネディクト\n",
      "\n",
      "問題：暦の上では「暑さが峠を越えてひと段落する頃」という、8月23日ごろにある二十四節気のひとつは何?\n",
      "解答：処暑\n",
      "\n",
      "問題：バチカン市国で国歌として歌われている『賛歌と教皇の行進曲』の作曲をしたフランスの作曲家は誰?\n",
      "解答：シャルル・ゴノン\n",
      "\n"
     ]
    },
    {
     "name": "stderr",
     "output_type": "stream",
     "text": [
      " 53%|█████▎    | 528/1000 [03:11<01:23,  5.62it/s]"
     ]
    },
    {
     "name": "stdout",
     "output_type": "stream",
     "text": [
      "問題：無用な発言をしなければ災いを招かずにすむという意味のことわざを、「何も鳴かずば撃たれまい」という?\n",
      "解答：何も鳴かずば撃たれまい\n",
      "\n",
      "問題：ラテン語で「女神」という意味がある、オペラのプリマドンナなどの「歌姫」を指す言葉は何?\n",
      "解答：ディーヴァ\n",
      "\n",
      "問題：小説『ファーストラヴ』で第159回直木賞を受賞した、『ナラタージュ』『リトル・バイ・リトル』などの作品でも知られる作家は誰?\n",
      "解答：辻村深月\n",
      "\n",
      "問題：煙突を表す地図記号に、煙を表す線は何本ひかれている?\n",
      "解答：1本\n",
      "\n"
     ]
    },
    {
     "name": "stderr",
     "output_type": "stream",
     "text": [
      " 53%|█████▎    | 532/1000 [03:12<01:19,  5.88it/s]"
     ]
    },
    {
     "name": "stdout",
     "output_type": "stream",
     "text": [
      "問題：昔話の主人公で、桃から生まれた男の子は桃太郎ですが、瓜から生まれた女の子は何?\n",
      "解答：かぐや姫\n",
      "\n",
      "問題：江戸時代初期の浮世絵師で、『見返り美人図』などの作品で知られるのは誰?\n",
      "解答：喜多川歌麿\n",
      "\n",
      "問題：漢字で「白い頭の鳥」とも書く鳥で、源義経が一ノ谷の戦いで奇襲をかけるために通ったとされる山道の名前にもなっているのは何?\n",
      "解答：鷺\n",
      "\n",
      "問題：昔話「さるかに合戦」で、猿が蟹が持っていたおむすびと交換したものといえばどんな果物の種?\n",
      "解答：栗\n",
      "\n"
     ]
    },
    {
     "name": "stderr",
     "output_type": "stream",
     "text": [
      " 54%|█████▎    | 536/1000 [03:13<01:25,  5.42it/s]"
     ]
    },
    {
     "name": "stdout",
     "output_type": "stream",
     "text": [
      "問題：十両以上で達成した場合「8勝7敗」「7勝8敗」のいずれかとなる、大相撲で白星と黒星を繰り返すことを何という?\n",
      "解答：七五三負け\n",
      "\n",
      "問題：日本の仏像や古代ギリシャの彫刻に見られる、かすかな微笑みのことを英語で何という?\n",
      "解答：smile of Buddha or Mona Lisa\n",
      "\n",
      "問題：映画『ローマの休日』に登場したトリニタ・ディ・モンティ階段が有名な、ある国の名前がつけられたローマ市内の広場は何?\n",
      "解答：スペイン広場\n",
      "\n",
      "問題：漢字の「日」「昌」の「日」は「太陽」を表しますが、「晶」の「日」は何を表す?\n",
      "解答：光\n",
      "\n"
     ]
    },
    {
     "name": "stderr",
     "output_type": "stream",
     "text": [
      " 54%|█████▍    | 540/1000 [03:14<01:23,  5.48it/s]"
     ]
    },
    {
     "name": "stdout",
     "output_type": "stream",
     "text": [
      "問題：大股で歩いても小股で歩いても危険であるということからその名がついたといわれる、吉野川の激流によって作られた徳島県にある渓谷は何?\n",
      "解答：祖谷渓\n",
      "\n",
      "問題：ニュージーランドに生息する飛べない鳥にちなんで名がつけられた、中国原産の果物は何?\n",
      "解答：キーウィ果実\n",
      "\n",
      "問題：13世紀の神聖ローマ帝国で、ホーエンシュタウフェン朝の断絶からハプスブルク朝の成立までの間、皇帝が事実上不在となった期間のことを何という?\n",
      "解答：インターレギウム\n",
      "\n",
      "問題：外科手術で、狭くなった血管や食道を内側から広げるために用いられる金属製の筒を何という?\n",
      "解答：ステント\n",
      "\n"
     ]
    },
    {
     "name": "stderr",
     "output_type": "stream",
     "text": [
      " 54%|█████▍    | 544/1000 [03:14<01:16,  5.99it/s]"
     ]
    },
    {
     "name": "stdout",
     "output_type": "stream",
     "text": [
      "問題：京野菜で、田中、伏見、万願寺といえば、何という野菜の品種?\n",
      "解答：なす\n",
      "\n",
      "問題：猫の品種「ヒマラヤン」は、シャム猫と何という猫を交配し改良して生まれた猫?\n",
      "解答：ペルシャ猫\n",
      "\n",
      "問題：詩人になれず、強い自尊心から虎に変身してしまう主人公・李徴を描いた、中島敦の小説は何?\n",
      "解答：『山月記』\n",
      "\n",
      "問題：1921年にジョン・ゴールズワージーを初代会長として設立された、ロンドンに本部を置く文学団体は何?\n",
      "解答：The Poetry Society\n",
      "\n"
     ]
    },
    {
     "name": "stderr",
     "output_type": "stream",
     "text": [
      " 55%|█████▍    | 548/1000 [03:15<01:11,  6.34it/s]"
     ]
    },
    {
     "name": "stdout",
     "output_type": "stream",
     "text": [
      "問題：劇中の『凱旋行進曲』が有名な、エジプトの将軍ラダメスとエチオピア王女の悲恋を描いたヴェルディ作曲のオペラは何?\n",
      "解答：アイーダ\n",
      "\n",
      "問題：谷川俊太郎の第一詩集『二十億光年の孤独』で、「ひき合う孤独の力である」と表現されているものは何?\n",
      "解答：星。\n",
      "\n",
      "問題：イタリアのシチリア島にあるヨーロッパ最大の活火山は何山?\n",
      "解答：エトナ山\n",
      "\n",
      "問題：出身地や支援したい自治体に寄付を行うことによって、住民税の一部が控除されるという制度のことを「何納税」という?\n",
      "解答：ふるさと納税\n",
      "\n"
     ]
    },
    {
     "name": "stderr",
     "output_type": "stream",
     "text": [
      " 55%|█████▌    | 552/1000 [03:15<01:07,  6.63it/s]"
     ]
    },
    {
     "name": "stdout",
     "output_type": "stream",
     "text": [
      "問題：『源氏物語』の作者は紫式部ですが、その注釈本『源氏物語湖月抄』の作者は誰?\n",
      "解答：藤原定家\n",
      "\n",
      "問題：「電流の強さは、電圧に比例し、電気抵抗に反比例する」という法則を「何の法則」という?\n",
      "解答：オームの法則\n",
      "\n",
      "問題：Windowsのパソコンで、ブラウザの画面を更新する際に用いるのは「Fいくつ」?\n",
      "解答：5\n",
      "\n",
      "問題：220と284のように、自身を除いた約数の和が互いに等しくなるような自然数の組のことを何数という?\n",
      "解答：友愛数\n",
      "\n"
     ]
    },
    {
     "name": "stderr",
     "output_type": "stream",
     "text": [
      " 56%|█████▌    | 556/1000 [03:16<01:07,  6.53it/s]"
     ]
    },
    {
     "name": "stdout",
     "output_type": "stream",
     "text": [
      "問題：「己を知りうる者は賢者なり」という言葉を残した、『カンタベリ物語』で知られるイギリスの詩人は誰?\n",
      "解答：ジェフリー・チョーサー\n",
      "\n",
      "問題：クリミア戦争での働きぶりから「クリミアの天使」と呼ばれた看護師は誰?\n",
      "解答：フローレンス・ナイチンゲール\n",
      "\n",
      "問題：アルファベット2文字でGDと略される就職活動における企業の選考方法のひとつで、学生を数人の組に分け、特定のテーマについて討論させることを何という?\n",
      "解答：グループディスカッション\n",
      "\n",
      "問題：イギリス民謡を原曲とする、「丘を越え行こうよ口笛吹きつつ」という歌い出しで始まる童謡は何?\n",
      "解答：「赤とんぼ」\n",
      "\n"
     ]
    },
    {
     "name": "stderr",
     "output_type": "stream",
     "text": [
      " 56%|█████▌    | 560/1000 [03:16<01:10,  6.25it/s]"
     ]
    },
    {
     "name": "stdout",
     "output_type": "stream",
     "text": [
      "問題：「ばねが伸びる長さは引く力に比例する」という法則を、これを発見したイギリスの科学者の名をとって「何の法則」という?\n",
      "解答：フックの法則\n",
      "\n",
      "問題：2024年に開催されるパリオリンピックの競技として正式採用されたブレイキンとは、何ダンスのこと?\n",
      "解答：ブレイキンはブレイクダンスのことです。\n",
      "\n",
      "問題：「若いカップルが一緒に食べるように」との思いを込めて名付けられた、まるか食品が販売するソース焼きそばといえば何?\n",
      "解答：「わかめ焼きそば」\n",
      "\n",
      "問題：1841年3月4日に就任するも、同年4月4日に死去したため、在位31日と歴代アメリカ大統領でもっとも在任期間が短い、第9代大統領は誰?\n",
      "解答：ウィリアム・ヘンリー・ハリソン\n",
      "\n"
     ]
    },
    {
     "name": "stderr",
     "output_type": "stream",
     "text": [
      " 56%|█████▋    | 564/1000 [03:17<01:06,  6.59it/s]"
     ]
    },
    {
     "name": "stdout",
     "output_type": "stream",
     "text": [
      "問題：ほとんど老化しないことから、近年、長寿の研究対象となっている、哺乳類で唯一の真社会性を持つというネズミの仲間は何?\n",
      "解答：ナマケモノ\n",
      "\n",
      "問題：アニメなどの声優をアルファベット2文字で「CV」と表しますが、これは何という和製英語の頭文字?\n",
      "解答：Character Voice\n",
      "\n",
      "問題：太陽、雲、雨などをモチーフにした「はれるん」といえば、何という中央官庁のマスコットキャラクター?\n",
      "解答：気象庁\n",
      "\n",
      "問題：万年筆のメカニズムにも利用されている、液体の中に細い管を入れると管の中の液体面の高さが外のものより高くなる現象を何という?\n",
      "解答：キャピラリー現象\n",
      "\n"
     ]
    },
    {
     "name": "stderr",
     "output_type": "stream",
     "text": [
      " 57%|█████▋    | 568/1000 [03:18<01:13,  5.90it/s]"
     ]
    },
    {
     "name": "stdout",
     "output_type": "stream",
     "text": [
      "問題：19世紀にバイエルン王国のルートヴィヒ1世の結婚式のお祝いとして開かれた祝賀会を起源とする、毎年秋にドイツのミュンヘンで開催される世界最大のビール祭りは何?\n",
      "解答：オクトーバーフェスト\n",
      "\n",
      "問題：薬局で働く専門の職業で、お医者さんからの指示に基づいて、患者に薬を提供したり、薬を調合したりする資格を持つ人を何師という?\n",
      "解答：薬剤師\n",
      "\n",
      "問題：エビやイカ、タコなどの血液が青く見える主な要因である、血液中に含まれる、銅を含む色素たんぱく質を何という?\n",
      "解答：ヘマシアニン\n",
      "\n",
      "問題：日本で最初の元号「大化」が始まったのは西暦何年?\n",
      "解答：645年\n",
      "\n"
     ]
    },
    {
     "name": "stderr",
     "output_type": "stream",
     "text": [
      " 57%|█████▋    | 572/1000 [03:18<01:08,  6.28it/s]"
     ]
    },
    {
     "name": "stdout",
     "output_type": "stream",
     "text": [
      "問題：安納芋、宇宙センター、鉄砲伝来。これらから連想される鹿児島県の島はどこ?\n",
      "解答：屋久島\n",
      "\n",
      "問題：旅館の部屋に置かれている、衣類や手回り品などを一時的に入れておくための浅い箱を何という?\n",
      "解答：ルームトレイ\n",
      "\n",
      "問題：ゾウを主人公とした絵本で『ぞうのエルマー』の生みの親はデビッド・マッキーですが、『ぞうのババール』の生みの親であるフランスの作家は誰?\n",
      "解答：ジャン・ド・ブリュノホフ\n",
      "\n",
      "問題：もともとは、映画用のフィルムの縁にある音声を記録する部分のことで、そこから、映画やドラマのBGMや挿入曲を指すようになった言葉といえば何?\n",
      "解答：サウンドトラック\n",
      "\n"
     ]
    },
    {
     "name": "stderr",
     "output_type": "stream",
     "text": [
      " 58%|█████▊    | 576/1000 [03:19<01:05,  6.51it/s]"
     ]
    },
    {
     "name": "stdout",
     "output_type": "stream",
     "text": [
      "問題：お寿司屋さんで使われている隠語で、「クサ」とは何のこと?\n",
      "解答：マグロ\n",
      "\n",
      "問題：王者には常に危険がつきまとうということを、シラクサ王ディオニシオスが家来を諭した故事から何という?\n",
      "解答：「ダマクレスの剣」\n",
      "\n",
      "問題：オーケストラで、演奏をとりまとめる役割をする「コンサートマスター」といえば、一般にどんな楽器の演奏者が担当する?\n",
      "解答：ヴァイオリン\n",
      "\n",
      "問題：地図の中でも、島や陸地の輪郭だけが描かれていて、他に何も描かれていないものを、何地図という?\n",
      "解答：空白地図\n",
      "\n"
     ]
    },
    {
     "name": "stderr",
     "output_type": "stream",
     "text": [
      " 58%|█████▊    | 580/1000 [03:20<01:19,  5.26it/s]"
     ]
    },
    {
     "name": "stdout",
     "output_type": "stream",
     "text": [
      "問題：ガラスの瓶にドライフラワーを入れ、専用のオイルで満たして保存する、インテリアとして人気の植物標本を何という?\n",
      "解答：プリザーブドフラワー\n",
      "\n",
      "問題：野球で、ここ一番というチャンスに強いバッターのことを、英語で何ヒッターという?\n",
      "解答：Clutch hitter\n",
      "\n",
      "問題：映画にも描かれた中国・三国時代の古戦場で、呉・蜀の連合軍対魏の水上戦が行われたことでも有名なのはどこ?\n",
      "解答：赤壁\n",
      "\n",
      "問題：家庭用ゲーム機でプレーするゲームのことを、ゲームセンターの筐体でプレーする「アーケードゲーム」に対して何という?\n",
      "解答：家庭用ゲーム機\n",
      "\n"
     ]
    },
    {
     "name": "stderr",
     "output_type": "stream",
     "text": [
      " 58%|█████▊    | 584/1000 [03:21<01:11,  5.78it/s]"
     ]
    },
    {
     "name": "stdout",
     "output_type": "stream",
     "text": [
      "問題：兄リチャード・妹カレンの兄妹デュオで、『イエスタディ・ワンス・モア』などのヒット曲で知られるのは?\n",
      "解答：カーペンターズ\n",
      "\n",
      "問題：ギリシャ語で「母」という意味の名前がつけられた、アニメ『銀河鉄道999』で星野鉄郎とともに旅をする女性は誰?\n",
      "解答：マエタ\n",
      "\n",
      "問題：英語で12の月名を書いたとき、もっとも文字数が少なくなるのは何月?\n",
      "解答：May\n",
      "\n",
      "問題：紙に書いてする計算を「筆算」といいますが、頭の中でする計算を何という?\n",
      "解答：心算\n",
      "\n"
     ]
    },
    {
     "name": "stderr",
     "output_type": "stream",
     "text": [
      " 59%|█████▉    | 588/1000 [03:21<01:07,  6.07it/s]"
     ]
    },
    {
     "name": "stdout",
     "output_type": "stream",
     "text": [
      "問題：煮物料理などで、材料の頭が少し水面に出るくらいの水の分量のことを何という?\n",
      "解答：ひたし水\n",
      "\n",
      "問題：「電磁誘導の法則」や「電気分解の法則」を発見した、科学入門の名著『ロウソクの科学』でも知られる物理学者は誰?\n",
      "解答：ファラデー\n",
      "\n",
      "問題：男女のペアに見立てて「夫婦星」と呼ばれる2つの星は、うしかい座のアークトゥルスと、おとめ座の何という星?\n",
      "解答：スピカ\n",
      "\n",
      "問題：1860年、江戸幕府の大老・井伊直弼が、水戸藩や薩摩藩の浪士らに暗殺された事件を何という?\n",
      "解答：桜田門外の変\n",
      "\n"
     ]
    },
    {
     "name": "stderr",
     "output_type": "stream",
     "text": [
      " 59%|█████▉    | 592/1000 [03:22<01:22,  4.93it/s]"
     ]
    },
    {
     "name": "stdout",
     "output_type": "stream",
     "text": [
      "問題：昭和58年、中曽根総理大臣から国民栄誉賞の授与を打診されたものの、「そんなんもろたら立ちションもでけへんようになる」といって辞退した元プロ野球選手は誰?\n",
      "解答：長嶋茂雄\n",
      "\n",
      "問題：昭和初期、雑誌『ホトトギス』で活躍し「4S」と呼ばれた俳人は、阿波野青畝、高野素十、水原秋桜子と誰?\n",
      "解答：正岡子規\n",
      "\n",
      "問題：八岐大蛇の生贄になるところを素戔嗚尊によって助けられた、日本神話に登場する女神は誰?\n",
      "解答：豊玉姫\n",
      "\n",
      "問題：1910年に慶應義塾文科の機関誌として永井荷風らが創刊した、耽美的な傾向を特徴とする文芸雑誌は何?\n",
      "解答：『文学界』\n",
      "\n"
     ]
    },
    {
     "name": "stderr",
     "output_type": "stream",
     "text": [
      " 60%|█████▉    | 596/1000 [03:23<01:23,  4.83it/s]"
     ]
    },
    {
     "name": "stdout",
     "output_type": "stream",
     "text": [
      "問題：松野家の六つ子が大人になった姿を描いた、赤塚不二夫の漫画を原作とするアニメは何?\n",
      "解答：おそ松さん\n",
      "\n",
      "問題：パック、オーベロン、ティタニアという妖精が登場する、シェイクスピアの戯曲は何?\n",
      "解答：『夏の夜の夢』\n",
      "\n",
      "問題：人気のボードゲームのタイトルにもなっている、イギリスのロンドン警視庁の通称といえば何?\n",
      "解答：Scotland Yard\n",
      "\n",
      "問題：日本国憲法の全11章のうち、たった1つの条項のみで構成されている2つの章とは、第2章の「戦争の放棄」と、第9章の何?\n",
      "解答：「国民の権利と義務」\n",
      "\n"
     ]
    },
    {
     "name": "stderr",
     "output_type": "stream",
     "text": [
      " 60%|██████    | 600/1000 [03:24<01:14,  5.36it/s]"
     ]
    },
    {
     "name": "stdout",
     "output_type": "stream",
     "text": [
      "問題：勉強に使う文房具で、鉛筆は英語で「ペンシル」といいますが、消しゴムは英語で何という?\n",
      "解答：Eraser\n",
      "\n",
      "問題：関係者でないにもかかわらず、寄席や芝居の楽屋に出入りして内情に詳しい人のことを、ある鳥を使って何という?\n",
      "解答：カササギ\n",
      "\n",
      "問題：1925年、普通選挙法とほぼ同時期に制定された、天皇制や私有財産制を否定する活動を弾圧するための法律は何?\n",
      "解答：治安維持法\n",
      "\n",
      "問題：名古屋城の金の鯱に由来する社名がつけられた、朱肉のいらない印鑑の製造で有名な企業はどこ?\n",
      "解答：鯱株式会社\n",
      "\n"
     ]
    },
    {
     "name": "stderr",
     "output_type": "stream",
     "text": [
      " 60%|██████    | 604/1000 [03:25<01:19,  5.01it/s]"
     ]
    },
    {
     "name": "stdout",
     "output_type": "stream",
     "text": [
      "問題：「コイン」「ピン」「ポルカ」などの種類がある柄は何?\n",
      "解答：ドット柄\n",
      "\n",
      "問題：数十mに渡って吊り下げた花火に一斉に火をつけることで火花が滝のように流れ落ちるものを、ある有名な滝の名前をとって何花火という?\n",
      "解答：滝花火\n",
      "\n",
      "問題：フランスの詩人トリスタン・ツァラが名付けた、既存の価値を否定し自由な発想と表現を目指した芸術運動は何?\n",
      "解答：ダダイスム\n",
      "\n",
      "問題：太陽系の惑星の中で、太陽に最も近いのは水星ですが、最も遠いのは何?\n",
      "解答：海王星\n",
      "\n"
     ]
    },
    {
     "name": "stderr",
     "output_type": "stream",
     "text": [
      " 61%|██████    | 608/1000 [03:26<01:37,  4.04it/s]"
     ]
    },
    {
     "name": "stdout",
     "output_type": "stream",
     "text": [
      "問題：人間の心臓から出る2種類の動脈といえば何動脈と何動脈?\n",
      "解答：冠動脈と肺動脈\n",
      "\n",
      "問題：上野の寛永寺、平泉の中尊寺、比叡山の延暦寺といえば、何宗のお寺?\n",
      "解答：真言宗\n",
      "\n",
      "問題：オリンピックでは男子でのみ採用されている、レスリングで腰より下を攻めてはいけない種目は何?\n",
      "解答：フリースタイルレスリング\n",
      "\n",
      "問題：夏と冬で羽の色が変わる、長野県、岐阜県、富山県に共通する県の鳥は何?\n",
      "解答：ウグイス\n",
      "\n"
     ]
    },
    {
     "name": "stderr",
     "output_type": "stream",
     "text": [
      " 61%|██████    | 612/1000 [03:27<01:40,  3.84it/s]"
     ]
    },
    {
     "name": "stdout",
     "output_type": "stream",
     "text": [
      "問題：ムエタイの選手が試合で身につける装飾品で、頭に巻くものは「モンコン」といいますが、腕に巻く輪は何という?\n",
      "解答：プラーム\n",
      "\n",
      "問題：「終末期医療」とも呼ばれる、死を間近に迎えた患者に対して行う看護や心理的な医療のことを何という?\n",
      "解答：ホスピスケア\n",
      "\n",
      "問題：分数を書き表すとき、分子と分母を分ける線を何という?\n",
      "解答：仕切り線\n",
      "\n",
      "問題：囲碁で、アタリの連続で相手の石をとる手筋のことで、「これを知らずに碁を打つな」という格言もあるのは何?\n",
      "解答：連打\n",
      "\n"
     ]
    },
    {
     "name": "stderr",
     "output_type": "stream",
     "text": [
      " 62%|██████▏   | 616/1000 [03:28<01:25,  4.51it/s]"
     ]
    },
    {
     "name": "stdout",
     "output_type": "stream",
     "text": [
      "問題：これまでの日本の元号に使われた漢字のうち、5回と最も多く登場した生き物は何?\n",
      "解答：鳳凰\n",
      "\n",
      "問題：ハリウッド俳優ローレンス・オリビエの、最初の妻はジル・エズモンドですが、2人目の妻は誰だった?\n",
      "解答：ヴィヴィアン・リー\n",
      "\n",
      "問題：「フレミングの法則」を発見したフレミングのファーストネームはジョンですが、ペニシリンを発見したフレミングのファーストネームは何?\n",
      "解答：アレクサンダー\n",
      "\n",
      "問題：上皇や法皇ではなく、天皇がみずから政治を行うことを、「院政」に対して何という?\n",
      "解答：「親政」\n",
      "\n"
     ]
    },
    {
     "name": "stderr",
     "output_type": "stream",
     "text": [
      " 62%|██████▏   | 620/1000 [03:29<01:26,  4.39it/s]"
     ]
    },
    {
     "name": "stdout",
     "output_type": "stream",
     "text": [
      "問題：栄養素を豊富に含むことから健康食品としても注目されている、「ユーグレナ」の別名を持つ生物は何?\n",
      "解答：緑藻\n",
      "\n",
      "問題：馬が首につけていた鈴に形が似ているところから「馬鈴薯」と呼ばれるようになったともいわれる野菜は何?\n",
      "解答：ジャガイモ\n",
      "\n",
      "問題：人間のふくらはぎにある、魚の名前がついた筋肉は何?\n",
      "解答：ヒラメ筋\n",
      "\n",
      "問題：ニューヨークのセントラルパークの東側にある、「The Met」の愛称で知られる美術館は何?\n",
      "解答：メトロポリタン美術館\n",
      "\n"
     ]
    },
    {
     "name": "stderr",
     "output_type": "stream",
     "text": [
      " 62%|██████▏   | 624/1000 [03:30<01:42,  3.66it/s]"
     ]
    },
    {
     "name": "stdout",
     "output_type": "stream",
     "text": [
      "問題：プロ野球で、各報道機関の記者の投票によって、ポジションごとにセ・パ合わせて19人が選ばれる、その年に好成績を残した選手のことを何という?\n",
      "解答：ベストナイン\n",
      "\n",
      "問題：キルトなど、スコットランドの民族衣装で目にする、元々は氏族を表すために用いられた格子柄のデザインのことを何チェックという?\n",
      "解答：タータン\n",
      "\n",
      "問題：仏教遺跡の「アンコール・ワット」があるアジアの国はどこ?\n",
      "解答：カンボジア\n",
      "\n",
      "問題：アメリカの州の名前で、方角がついているのは、ノースカロライナ、サウスカロライナ、ノースダコタ、サウスダコタとどこ?\n",
      "解答：ウェストバージニア\n",
      "\n"
     ]
    },
    {
     "name": "stderr",
     "output_type": "stream",
     "text": [
      " 63%|██████▎   | 628/1000 [03:31<01:26,  4.28it/s]"
     ]
    },
    {
     "name": "stdout",
     "output_type": "stream",
     "text": [
      "問題：古代ギリシャ建築の「三大様式」といえば、「ドーリア式」「イオニア式」と何?\n",
      "解答：「コリント式」\n",
      "\n",
      "問題：知ったかぶりをすることやぐっすり眠っていて何も知らないことを、昔、京都を見てきたふりをした男が苦し紛れの嘘をついたという話に由来して何という?\n",
      "解答：京都男\n",
      "\n",
      "問題：元々はローマへの巡礼のために作られた、ヴュルツブルクからフュッセンまでのドイツの有名な街道は何?\n",
      "解答：ロマンティック街道\n",
      "\n",
      "問題：織田信長が朱印の印章として用いた、「武力によって天下に号令する」という意味の言葉は何?\n",
      "解答：天下布武\n",
      "\n"
     ]
    },
    {
     "name": "stderr",
     "output_type": "stream",
     "text": [
      " 63%|██████▎   | 632/1000 [03:32<01:27,  4.20it/s]"
     ]
    },
    {
     "name": "stdout",
     "output_type": "stream",
     "text": [
      "問題：英語では「How I want a drink」「Yes, I have a number」、日本では「産医師異国に向かう」という語呂合わせで覚えられるものといえば何?\n",
      "解答：ハイビスカス\n",
      "\n",
      "問題：大統領官邸で、モネダ宮殿といえばチリですが、アルボラーダ宮殿といえばどこの国?\n",
      "解答：スペイン\n",
      "\n",
      "問題：指輪の中でも「インデックスリング」といえば、何指にはめるもの?\n",
      "解答：人差し指\n",
      "\n",
      "問題：ウィレム・デ・クーニングやジャクソン・ポロックが代表的画家である、キャンバスに顔料を垂らしたり飛び散らせたりする描画手法は何?\n",
      "解答：アクション・ペインティング\n",
      "\n"
     ]
    },
    {
     "name": "stderr",
     "output_type": "stream",
     "text": [
      " 64%|██████▎   | 636/1000 [03:33<01:34,  3.87it/s]"
     ]
    },
    {
     "name": "stdout",
     "output_type": "stream",
     "text": [
      "問題：ベートーベンの交響曲第5番は『運命』ですが、ショスタコービッチの交響曲第5番は何?\n",
      "解答：革命\n",
      "\n",
      "問題：カボチャやメロンの種の周りについている、繊維状のモワモワした部分のことを、普通、何という?\n",
      "解答：わた\n",
      "\n",
      "問題：皮袋にためた空気を押し出しリードを振動させて演奏する、スコットランドの民族楽器は何?\n",
      "解答：バグパイプ\n",
      "\n",
      "問題：共和政ローマの時代に起こった奴隷戦争の指導者の名前がつけられた、カール・リープクネヒトやローザ・ルクセンブルグらによって結成されたドイツの政治結社は何?\n",
      "解答：スパルタクス団\n",
      "\n"
     ]
    },
    {
     "name": "stderr",
     "output_type": "stream",
     "text": [
      " 64%|██████▍   | 640/1000 [03:34<01:21,  4.44it/s]"
     ]
    },
    {
     "name": "stdout",
     "output_type": "stream",
     "text": [
      "問題：泳げない人のことを、ある大工道具にたとえて何という?\n",
      "解答：ノコギリ\n",
      "\n",
      "問題：1981年に設立された、鹿児島県にある日本で唯一の国立の体育大学は何?\n",
      "解答：鹿児島大学\n",
      "\n",
      "問題：トランプゲームのブラックジャックにおいて、プレイヤーとディーラーが目標とする合計点はいくつ?\n",
      "解答：21\n",
      "\n",
      "問題：花札で11月の柳の下に描かれている人物は誰?\n",
      "解答：菊人形\n",
      "\n"
     ]
    },
    {
     "name": "stderr",
     "output_type": "stream",
     "text": [
      " 64%|██████▍   | 644/1000 [03:35<01:24,  4.19it/s]"
     ]
    },
    {
     "name": "stdout",
     "output_type": "stream",
     "text": [
      "問題：仙台七夕にちなんで、織姫と彦星とされる星に由来する名前がつけられた、仙台に本拠地を置くJリーグのチームはどこ?\n",
      "解答：ベガルタ仙台\n",
      "\n",
      "問題：ムガール帝国の皇帝シャー・ジャハーンが最愛の妻をしのんで建造した白亜の霊廟は何?\n",
      "解答：タージ・マハル\n",
      "\n",
      "問題：日本で最初の元号は「大化」ですが、中国で最初の元号は何?\n",
      "解答：黄帝\n",
      "\n",
      "問題：摂氏温度ではマイナス273.15度。熱力学的に考えられる最低温度のことを漢字4文字で何という?\n",
      "解答：絶対零度\n",
      "\n"
     ]
    },
    {
     "name": "stderr",
     "output_type": "stream",
     "text": [
      " 65%|██████▍   | 648/1000 [03:36<01:37,  3.62it/s]"
     ]
    },
    {
     "name": "stdout",
     "output_type": "stream",
     "text": [
      "問題：大正時代に同人誌『文芸時代』で活躍した、今東光、横光利一、川端康成などの新進作家グループを何派といった?\n",
      "解答：プロレタリア派\n",
      "\n",
      "問題：大江健三郎や檀一雄が愛用者として知られる、丸型で縁の太い眼鏡を、アメリカの喜劇俳優の名前から何眼鏡という?\n",
      "解答：ハリーキャリーグラス\n",
      "\n",
      "問題：650年、長門の国司が孝徳天皇に白いキジを献上したことに伴い改元された、日本で2番目の元号は何?\n",
      "解答：白雉\n",
      "\n",
      "問題：飛騨山脈の山々を「日本アルプス」と命名したイギリス人技師で、古代日本の古墳を研究したことから「日本考古学の父」という異名で呼ばれたのは誰?\n",
      "解答：ウィリアム・ゴーレン\n",
      "\n"
     ]
    },
    {
     "name": "stderr",
     "output_type": "stream",
     "text": [
      " 65%|██████▌   | 652/1000 [03:37<01:36,  3.62it/s]"
     ]
    },
    {
     "name": "stdout",
     "output_type": "stream",
     "text": [
      "問題：郵便局が発行する「切手」を略さずに言うと何?\n",
      "解答：切手\n",
      "\n",
      "問題：トンボなどの昆虫にみられる、たくさんの小さな眼が集まってできた眼のことを特に何という?\n",
      "解答：複眼\n",
      "\n",
      "問題：素粒子のニュートリノを3つに大別すると、電子ニュートリノ、ミューニュートリノと何?\n",
      "解答：タウニュートリノ\n",
      "\n",
      "問題：ペルシャ語で「四行詩集」という意味がある、ペルシャの詩人オマル・ハイヤームの詩集は何?\n",
      "解答：ルバイヤート\n",
      "\n"
     ]
    },
    {
     "name": "stderr",
     "output_type": "stream",
     "text": [
      " 66%|██████▌   | 656/1000 [03:39<01:56,  2.95it/s]"
     ]
    },
    {
     "name": "stdout",
     "output_type": "stream",
     "text": [
      "問題：あてが外れて喜んだ後にがっかりすることを、お米に関するあるものを使って「何喜び」という?\n",
      "解答：米粒喜び\n",
      "\n",
      "問題：一等星を2つ持つ星座は、オリオン座、みなみじゅうじ座と何?\n",
      "解答：ふたご座\n",
      "\n",
      "問題：直木三十五は年齢に合わせてペンネームを変えましたが、最初につけたペンネームは「直木いくつ」?\n",
      "解答：五\n",
      "\n",
      "問題：統計学で用いられる回帰分析で、説明変数を一つ用いて行うものを「単回帰分析」といいますが、説明変数を2つ以上用いて行うものを何分析という?\n",
      "解答：重回帰分析\n",
      "\n"
     ]
    },
    {
     "name": "stderr",
     "output_type": "stream",
     "text": [
      " 66%|██████▌   | 660/1000 [03:40<01:34,  3.61it/s]"
     ]
    },
    {
     "name": "stdout",
     "output_type": "stream",
     "text": [
      "問題：川底が周辺の土地の高さよりも高い位置にある川を何という?\n",
      "解答：逆川\n",
      "\n",
      "問題：複雑な問題をあざやかに解決することを、よく切れる刀でもつれた麻糸を切る様子にたとえて「何を断つ」という?\n",
      "解答：難問\n",
      "\n",
      "問題：自然主義文学を代表する小説『黴』『あらくれ』などの作品で知られる作家は誰?\n",
      "解答：夏目漱石\n",
      "\n",
      "問題：「光が真空中を2億9979万2458分の1秒の間に進む長さ」を1とするSI基本単位は何?\n",
      "解答：メートル\n",
      "\n"
     ]
    },
    {
     "name": "stderr",
     "output_type": "stream",
     "text": [
      " 66%|██████▋   | 664/1000 [03:40<01:16,  4.39it/s]"
     ]
    },
    {
     "name": "stdout",
     "output_type": "stream",
     "text": [
      "問題：1943年にイングヴァル・カンプラードが創業した、スウェーデン発の家具の大型チェーン店は何?\n",
      "解答：イケア\n",
      "\n",
      "問題：疲れやすい、頭が重いといった、特定の病気としてまとめることができない体の不調の訴えを、漢字4文字で何という?\n",
      "解答：不定愁訴\n",
      "\n",
      "問題：元々は、1本だけの貴重なロウソクのことで、転じて、持っている服の中で一番上等なものを指す言葉は何?\n",
      "解答：トップ\n",
      "\n",
      "問題：一般的なダーツボードで、一番上にある数字は20ですが、反対の一番下にある数字はいくつ?\n",
      "解答：3\n",
      "\n"
     ]
    },
    {
     "name": "stderr",
     "output_type": "stream",
     "text": [
      " 67%|██████▋   | 668/1000 [03:41<01:09,  4.79it/s]"
     ]
    },
    {
     "name": "stdout",
     "output_type": "stream",
     "text": [
      "問題：周囲からの期待の重圧に苦しむ少年ハンスを主人公とする、ヘルマン・ヘッセの小説は何?\n",
      "解答：「ハンス・ギーゼル」\n",
      "\n",
      "問題：文学賞の「芥川賞」に名を残す作家は芥川龍之介ですが、「直木賞」に名を残す作家は誰?\n",
      "解答：太宰治\n",
      "\n",
      "問題：『さるのこしかけ』や『もものかんづめ』などの著書もベストセラーとなりエッセイストとしても活躍した、漫画『ちびまる子ちゃん』の作者は誰?\n",
      "解答：さくらももこ\n",
      "\n",
      "問題：「逆鱗に触れる」や「矛盾」などの故事成語の出典である中国の書物は何?\n",
      "解答：『史記』\n",
      "\n"
     ]
    },
    {
     "name": "stderr",
     "output_type": "stream",
     "text": [
      " 67%|██████▋   | 672/1000 [03:41<01:01,  5.33it/s]"
     ]
    },
    {
     "name": "stdout",
     "output_type": "stream",
     "text": [
      "問題：槍先に飛んできたある虫がそのまま真っ二つに切れてしまったという逸話から名付けられた、戦国武将・本多忠勝が愛用した槍は何?\n",
      "解答：蜻蛉切\n",
      "\n",
      "問題：ヘイワード、レインボーレッド、ゴールドなどの種類がある、ニュージーランド産のものが有名な、マタタビ科の果物は何?\n",
      "解答：キウイ果実\n",
      "\n",
      "問題：ボウリングのスコア表示で、「G」はガターを表しますが、「F」は何を表す?\n",
      "解答：ファウル\n",
      "\n",
      "問題：トランプに使われているマークには4種類ありますが、そのうち、赤いマークはハートと何?\n",
      "解答：ダイヤ\n",
      "\n"
     ]
    },
    {
     "name": "stderr",
     "output_type": "stream",
     "text": [
      " 68%|██████▊   | 676/1000 [03:42<00:56,  5.75it/s]"
     ]
    },
    {
     "name": "stdout",
     "output_type": "stream",
     "text": [
      "問題：『ドレミの歌』の歌詞に出てくる楽器は何?\n",
      "解答：ピアノ\n",
      "\n",
      "問題：最近の車に搭載されている「ドラレコ」とは、何の略?\n",
      "解答：ドライブレコーダー\n",
      "\n",
      "問題：柔道の延長戦に導入されている、どちらかがポイントを取った時点で試合終了となる方式を何という?\n",
      "解答：ゴールデンスコア\n",
      "\n",
      "問題：ミレーの絵画『晩鐘』『落穂ひろい』などを所蔵している、パリの美術館はどこ?\n",
      "解答：オルセー美術館\n",
      "\n"
     ]
    },
    {
     "name": "stderr",
     "output_type": "stream",
     "text": [
      " 68%|██████▊   | 680/1000 [03:43<00:56,  5.69it/s]"
     ]
    },
    {
     "name": "stdout",
     "output_type": "stream",
     "text": [
      "問題：乳酸菌やポリフェノールを多く含むなど機能性を高めたものが人気となっている、カカオから作られる甘い食べ物といえば何?\n",
      "解答：チョコレート\n",
      "\n",
      "問題：英語で、需要を「デマンド」というのに対し、供給を何という?\n",
      "解答：Supply\n",
      "\n",
      "問題：キク科の花で、ダリア、マリーゴールド、コスモスといえば、原産国はどこ?\n",
      "解答：メキシコ\n",
      "\n",
      "問題：1974年『氷の世界』で、アルバムとしては日本初のミリオンセールスを記録した歌手といえば誰?\n",
      "解答：荒井由実\n",
      "\n"
     ]
    },
    {
     "name": "stderr",
     "output_type": "stream",
     "text": [
      " 68%|██████▊   | 684/1000 [03:43<00:50,  6.23it/s]"
     ]
    },
    {
     "name": "stdout",
     "output_type": "stream",
     "text": [
      "問題：サッカーやバスケットボールの紅白戦で、チームの区別をつけるためにユニフォームの上に着るベストを何という?\n",
      "解答：ピニー\n",
      "\n",
      "問題：2013年にノーベル賞を受賞したイギリスの物理学者の名前がついた、物に重さを与えるとされる粒子は何粒子?\n",
      "解答：ヒッグス粒子\n",
      "\n",
      "問題：ガーデニングで、樹木を幾何学形や生き物の形に刈り込んで仕立てたものを何という?\n",
      "解答：ボンサイ\n",
      "\n",
      "問題：「思いがけないことがきっかけで偶然良い方向に導かれること」「小さな欠点を直そうとして全体をだめにしてしまうこと」「商売は気長に努力することが大事であるという教訓」。これらを表すことわざに共通して登場する動物は何?\n",
      "解答：猿\n",
      "\n"
     ]
    },
    {
     "name": "stderr",
     "output_type": "stream",
     "text": [
      " 69%|██████▉   | 688/1000 [03:44<00:59,  5.27it/s]"
     ]
    },
    {
     "name": "stdout",
     "output_type": "stream",
     "text": [
      "問題：パリのノートルダム大聖堂やロンドンのウエストミンスター寺院に代表される、尖頭アーチなどを特徴とする建築様式は何?\n",
      "解答：ゴシック様式\n",
      "\n",
      "問題：戯曲『熱いトタン屋根の猫』や『欲望という名の電車』を書いたアメリカの劇作家は誰?\n",
      "解答：テネシー・ウィリアムズ\n",
      "\n",
      "問題：豆腐や、ニンジン・ゴボウなどの野菜を煮込んで作られる料理で、鎌倉・建長寺の修行僧が作ったことにちなんで名付けられたともいわれるすまし汁といえば何?\n",
      "解答：精進汁\n",
      "\n",
      "問題：1年のちょうど真ん中の日に生まれた人は、星占いの星座では何座にあたる?\n",
      "解答：蟹座\n",
      "\n"
     ]
    },
    {
     "name": "stderr",
     "output_type": "stream",
     "text": [
      " 69%|██████▉   | 692/1000 [03:45<00:55,  5.52it/s]"
     ]
    },
    {
     "name": "stdout",
     "output_type": "stream",
     "text": [
      "問題：地球の表面部分を形成する、厚さ100km前後の硬い板状の層のことを何という?\n",
      "解答：地殻\n",
      "\n",
      "問題：1615年に江戸幕府が制定した、天皇や公家のありかたなどについて規定した法令を何という?\n",
      "解答：徳川家康公布の御定書\n",
      "\n",
      "問題：もともとは中国で、裁判官が法廷で顔の表情を悟られないよう身につけたものが始まりともわれる、日光を遮るために使われる眼鏡といえば何?\n",
      "解答：サングラス\n",
      "\n",
      "問題：夏目漱石の前期三部作といえば、『三四郎』『それから』と何?\n",
      "解答：『こゝろ』\n",
      "\n"
     ]
    },
    {
     "name": "stderr",
     "output_type": "stream",
     "text": [
      " 70%|██████▉   | 696/1000 [03:46<00:53,  5.65it/s]"
     ]
    },
    {
     "name": "stdout",
     "output_type": "stream",
     "text": [
      "問題：地球を訪れたエイリアンと主人公の言語学者・ルイーズの交流を描いた、テッド・チャンのSF小説は何?\n",
      "解答：「ストーリー・オブ・ユア・ライフ」\n",
      "\n",
      "問題：「千里が竹虎狩りの段」などが有名な、明朝の復興を志して奮闘する英雄、鄭成功の活躍を描いた、近松門左衛門の浄瑠璃は何?\n",
      "解答：『東海道四谷怪談』\n",
      "\n",
      "問題：映画『スティング』や『オーシャンズ11』などに代表される、登場人物たちが騙し騙され、ストーリーが二転三転するようなジャンルの作品を何という?\n",
      "解答：クライム・コメディ\n",
      "\n",
      "問題：デンマークの科学者ニコラウス・ステノが提唱した、「互いに重なっている地層では、上に堆積した地層ほど新しい」という法則を何という?\n",
      "解答：ステノの法則\n",
      "\n"
     ]
    },
    {
     "name": "stderr",
     "output_type": "stream",
     "text": [
      " 70%|███████   | 700/1000 [03:46<00:50,  5.97it/s]"
     ]
    },
    {
     "name": "stdout",
     "output_type": "stream",
     "text": [
      "問題：言語学者の周有光がその父と呼ばれている、中国語の発音をローマ字表記したものを何という?\n",
      "解答：注音符号\n",
      "\n",
      "問題：北部にコモロ諸島、南部にユローパ島などの島々が浮かぶ、アフリカ大陸とマダガスカル島の間にある海峡は何?\n",
      "解答：モザンビーク海峡\n",
      "\n",
      "問題：「すくいとる」という意味の英語に由来する、新聞や雑誌が他社に先駆けて大きなニュースを報道することを何という?\n",
      "解答：Scoop\n",
      "\n",
      "問題：世界の通信社で、APといえばアメリカですが、AFPといえばどこの国の通信社?\n",
      "解答：フランス\n",
      "\n"
     ]
    },
    {
     "name": "stderr",
     "output_type": "stream",
     "text": [
      " 70%|███████   | 704/1000 [03:47<00:51,  5.77it/s]"
     ]
    },
    {
     "name": "stdout",
     "output_type": "stream",
     "text": [
      "問題：定番の制汗剤で、「8×4」を製造・販売しているのは花王ですが、Banを製造・販売しているのはどこ?\n",
      "解答：資生堂\n",
      "\n",
      "問題：攻撃側をレイダー、守備側をアンティという、インド発祥のスポーツは何?\n",
      "解答：カバディ\n",
      "\n",
      "問題：鳥取の空の玄関口・鳥取空港は、鳥取に関係のある2つのものにちなんで、何という愛称で呼ばれる?\n",
      "解答：\"鳥取砂丘\" と \"鳥取砂丘\"\n",
      "\n",
      "問題：漢字2文字では「臭い橙」と書く、大分県が生産量日本一を誇る柑橘類は何?\n",
      "解答：石川県\n",
      "\n"
     ]
    },
    {
     "name": "stderr",
     "output_type": "stream",
     "text": [
      " 71%|███████   | 708/1000 [03:48<00:49,  5.91it/s]"
     ]
    },
    {
     "name": "stdout",
     "output_type": "stream",
     "text": [
      "問題：絶えず転がり落ちる岩を山頂に押し上げるという罰を与えられたギリシャ神話のコリント王の名前に由来する、「無駄な努力」を表す言葉といえば「何の岩」?\n",
      "解答：シーシュボスの岩\n",
      "\n",
      "問題：探査機「はやぶさ2」が到達した、昔話『浦島太郎』にちなんだ名前を持つ小惑星は何?\n",
      "解答：小惑星「リュウグウ」\n",
      "\n",
      "問題：フランス語で「金のシュロの葉」という意味がある、カンヌ国際映画祭で最優秀作品に贈られる最高賞は何?\n",
      "解答：パルム・ドール\n",
      "\n",
      "問題：和名を「アフリカセンボンヤリ」というキク科の花で、その名前はドイツの植物学者ゲルベルの名前にちなむのは何?\n",
      "解答：ゲルベルセンボンヤリ\n",
      "\n"
     ]
    },
    {
     "name": "stderr",
     "output_type": "stream",
     "text": [
      " 71%|███████   | 712/1000 [03:48<00:45,  6.31it/s]"
     ]
    },
    {
     "name": "stdout",
     "output_type": "stream",
     "text": [
      "問題：ジョニー・マーサーが作詞、ヘンリー・マンシーニが作曲を手掛けた、映画『ティファニーで朝食を』の主題歌は何?\n",
      "解答：ムーンリバー\n",
      "\n",
      "問題：統計調査で、「景気ウォッチャー調査」を発表しているのは内閣府ですが、「地域経済報告」を発表しているのはどこ?\n",
      "解答：経済産業省\n",
      "\n",
      "問題：1979年にイギリスの首相に就任し、保守的で強硬な姿勢から「鉄の女」と呼ばれた政治家は誰?\n",
      "解答：マーガレット・サッチャー\n",
      "\n",
      "問題：クロスカントリースキーとライフル射撃を組み合わせた、オリンピックの種目にもなっている複合競技は何?\n",
      "解答：バイアスロン\n",
      "\n"
     ]
    },
    {
     "name": "stderr",
     "output_type": "stream",
     "text": [
      " 72%|███████▏  | 716/1000 [03:50<01:07,  4.23it/s]"
     ]
    },
    {
     "name": "stdout",
     "output_type": "stream",
     "text": [
      "問題：1968年にシカゴで第1回が開催された、知的障害者のための国際スポーツ競技大会は何?\n",
      "解答：特別オリンピックス\n",
      "\n",
      "問題：海の漁師にちなんだ「漁師風」という意味のパスタは「ペスカトーレ」ですが、狩りをする猟師にちなんだ「猟師風」という意味のパスタは何?\n",
      "解答：シンプルな答えは「シンガーレ」です。\n",
      "\n",
      "問題：ヒロインのマリアが歌う『ドレミの歌』や、トラップ大佐が歌う『エーデルワイス』などの劇中歌でも有名な、ロバート・ワイズ監督のミュージカル映画は何?\n",
      "解答：サウンド・オブ・ミュージック\n",
      "\n",
      "問題：オーストラリアのクイーンズランド州にある、そのほとんどが砂でできていることから「世界で最も大きな砂島」と呼ばれる世界遺産の島は何?\n",
      "解答：フレーザー島\n",
      "\n"
     ]
    },
    {
     "name": "stderr",
     "output_type": "stream",
     "text": [
      " 72%|███████▏  | 720/1000 [03:51<01:06,  4.22it/s]"
     ]
    },
    {
     "name": "stdout",
     "output_type": "stream",
     "text": [
      "問題：紀元前47年に起こったローマ軍とポントス王国との戦いで、カエサルの「来た、見た、勝った」という有名な勝利報告でも知られるのは何?\n",
      "解答：ザーレ川の戦い\n",
      "\n",
      "問題：アメリカンフットボールで、試合終了間際に劣勢のチームが一発逆転を狙って行うロングパスを、聖母マリアに祈るような気持ちで投げることから何という?\n",
      "解答：ヘイメリアパス\n",
      "\n",
      "問題：せかせか働く様子を意味する「あくせく」を漢字2文字で表したときに共通して使われる部首は何?\n",
      "解答：扌\n",
      "\n",
      "問題：紀元前367年に制定された、最高公職者のコンスルを平民から1人選出するなどを定め平民の権利と身分を保護した古代ローマの法律は何法?\n",
      "解答：ルキウス・セクスティウス法\n",
      "\n"
     ]
    },
    {
     "name": "stderr",
     "output_type": "stream",
     "text": [
      " 72%|███████▏  | 724/1000 [03:52<01:12,  3.80it/s]"
     ]
    },
    {
     "name": "stdout",
     "output_type": "stream",
     "text": [
      "問題：様々な形の「ホールド」と呼ばれる突起物に手や足をかけ、人工の壁を、ロープを使わずに登る競技といえば何?\n",
      "解答：ボルダリング\n",
      "\n",
      "問題：1467年に起こった応仁の乱で、東軍の総大将をつとめたのは細川勝元ですが、西軍の総大将をつとめたのは誰?\n",
      "解答：畠山義就\n",
      "\n",
      "問題：「ガリレオ衛星」と呼ばれる4つの衛星をもつ、英語で「ジュピター」という太陽系の惑星は何?\n",
      "解答：Jupiter\n",
      "\n",
      "問題：古代中国の武将・韓信に由来する、国中で並ぶ者がないほど優れた人物を指す四字熟語は何?\n",
      "解答：韓信の上人\n",
      "\n"
     ]
    },
    {
     "name": "stderr",
     "output_type": "stream",
     "text": [
      " 73%|███████▎  | 728/1000 [03:54<01:24,  3.22it/s]"
     ]
    },
    {
     "name": "stdout",
     "output_type": "stream",
     "text": [
      "問題：チーズを白ワインで溶かしたものに、一口大に切ったパンや野菜をつけて食べる、スイスの郷土料理は何?\n",
      "解答：フォンデュ\n",
      "\n",
      "問題：世界遺産になっている、オーストラリア北東部にある世界最大の珊瑚礁は何?\n",
      "解答：グレート・バリア・リーフ\n",
      "\n",
      "問題：忙しく動き回ることを、邦楽で使われる太鼓の音にたとえて「何舞い」という?\n",
      "解答：鼓舞い\n",
      "\n",
      "問題：ある人について思い浮かべる時、その人の顔やプロフィールは思い出せるのに名前だけが思い出せない、という現象を何という?\n",
      "解答：「名前の先延ばし現象」\n",
      "\n"
     ]
    },
    {
     "name": "stderr",
     "output_type": "stream",
     "text": [
      " 73%|███████▎  | 732/1000 [03:55<01:19,  3.37it/s]"
     ]
    },
    {
     "name": "stdout",
     "output_type": "stream",
     "text": [
      "問題：酒井忠次、本多忠勝、榊原康政、井伊直政といえば、誰の四天王とうたわれた武将?\n",
      "解答：酒井忠次\n",
      "\n",
      "問題：お酒を飲んで顔が真っ赤になることを、俗に「金時の何」という?\n",
      "解答：顔\n",
      "\n",
      "問題：頭文字から「JPG」とも表記される、薔薇や龍をモチーフにした前衛的なデザインが特徴的なフランスのデザイナーは誰?\n",
      "解答：Jean Paul Gaultier\n",
      "\n",
      "問題：天正10年、明智光秀が織田信長を襲い自害させたとされる事件を、舞台となった京都の寺の名前から何という?\n",
      "解答：本能寺\n",
      "\n"
     ]
    },
    {
     "name": "stderr",
     "output_type": "stream",
     "text": [
      " 74%|███████▎  | 736/1000 [03:56<01:16,  3.46it/s]"
     ]
    },
    {
     "name": "stdout",
     "output_type": "stream",
     "text": [
      "問題：バイオリンの4本の弦で、最も低い音が出る弦はG線ですが、最も高い音が出る弦は何?\n",
      "解答：E線\n",
      "\n",
      "問題：フォボスとダイモスという2つの衛星を持つ、太陽系の惑星は何?\n",
      "解答：火星\n",
      "\n",
      "問題：その水面に興福寺の五重塔を映し出すことで有名な、奈良市の観光名所である池は何?\n",
      "解答：興福寺の五重塔を映し出すことで有名な池は、「興福寺の池」です。\n",
      "\n",
      "問題：南アメリカ大陸でもっとも高い山はアコンカグアですが、北アメリカ大陸でもっとも高い山は何?\n",
      "解答：デナリ山\n",
      "\n"
     ]
    },
    {
     "name": "stderr",
     "output_type": "stream",
     "text": [
      " 74%|███████▍  | 740/1000 [03:56<01:04,  4.03it/s]"
     ]
    },
    {
     "name": "stdout",
     "output_type": "stream",
     "text": [
      "問題：涙で床にネズミの絵を描いた逸話も有名な、室町時代に水墨画を大成した画家は誰?\n",
      "解答：雪舟\n",
      "\n",
      "問題：江戸幕末、薩摩藩や長州藩からの依頼で西洋との貿易を行った、坂本龍馬が結成した組織といえば何隊?\n",
      "解答：海援隊\n",
      "\n",
      "問題：パタゴニアで繁殖する、ある歴史上の人物の名前がついたペンギンは何?\n",
      "解答：マゼランペンギン\n",
      "\n",
      "問題：医学的には「上腕骨内上顆」と呼ばれる、人間のヒジにある、ぶつけるとジーンとしびれる部分の名前は何?\n",
      "解答：尺骨神経\n",
      "\n"
     ]
    },
    {
     "name": "stderr",
     "output_type": "stream",
     "text": [
      " 74%|███████▍  | 744/1000 [03:57<00:56,  4.54it/s]"
     ]
    },
    {
     "name": "stdout",
     "output_type": "stream",
     "text": [
      "問題：唱歌『花』、『お正月』、『荒城の月』などを作曲した音楽家は誰?\n",
      "解答：山田耕筰\n",
      "\n",
      "問題：サーフィン用語で、陸から海に向かって吹く風のことを、「岸を離れる」という意味の英語で何という?\n",
      "解答：Offshore\n",
      "\n",
      "問題：サマセット・モームがこよなく愛し、「サマセット・モーム・スイート」と名づけられた部屋があることでも知られる、シンガポールの名門ホテルは何?\n",
      "解答：リッツ・カールトンミレニアSingapore\n",
      "\n",
      "問題：日本の地図記号で、小中学校は「文」の漢字を記号化したものですが、森林管理署は何という漢字を記号化したもの?\n",
      "解答：林\n",
      "\n"
     ]
    },
    {
     "name": "stderr",
     "output_type": "stream",
     "text": [
      " 75%|███████▍  | 748/1000 [03:58<00:52,  4.78it/s]"
     ]
    },
    {
     "name": "stdout",
     "output_type": "stream",
     "text": [
      "問題：プロレスで、レスラーが2人以上のチームを組み、リング上で1人ずつが戦う試合形式のことを、何マッチという?\n",
      "解答：タッグマッチ\n",
      "\n",
      "問題：地図記号で、そろばんの珠と軸の形をモチーフにしているのは何?\n",
      "解答：測量記号\n",
      "\n",
      "問題：競馬のGIレースで、皐月賞は中山競馬場、日本ダービーは東京競馬場で開催されますが、菊花賞はどこの競馬場で開催される?\n",
      "解答：京都競馬場\n",
      "\n",
      "問題：ロシア・ロマノフ朝時代、エカチェリーナ2世が美術コレクションを展示するために建造した、サンクトペテルブルクにある美術館は何?\n",
      "解答：ヘルミタージュ美術館\n",
      "\n"
     ]
    },
    {
     "name": "stderr",
     "output_type": "stream",
     "text": [
      " 75%|███████▌  | 752/1000 [03:58<00:47,  5.27it/s]"
     ]
    },
    {
     "name": "stdout",
     "output_type": "stream",
     "text": [
      "問題：男女間の愛情が冷めることを、風にたとえて「何が立つ」という?\n",
      "解答：風車\n",
      "\n",
      "問題：京都「哲学の道」にある石碑に書かれた、「人は人吾はわれ也」から始まる歌を詠んだ、この道ゆかりの哲学者は誰?\n",
      "解答：西田 幾多郎\n",
      "\n",
      "問題：ウルグアイの音楽家・ロドリゲスが作曲した、「仮装行列」という意味があるタンゴのスタンダートナンバーといえば何?\n",
      "解答：ラ・クンパルシータ\n",
      "\n",
      "問題：死んでもなお大きな影響力を持つということを、中国・三国時代の諸葛亮と司馬懿の故事から何という?\n",
      "解答：「死してなお影響力を持つ」\n",
      "\n"
     ]
    },
    {
     "name": "stderr",
     "output_type": "stream",
     "text": [
      " 76%|███████▌  | 756/1000 [04:01<01:15,  3.23it/s]"
     ]
    },
    {
     "name": "stdout",
     "output_type": "stream",
     "text": [
      "問題：勝負の分かれ目にたとえられる山で、「天王山」があるのは京都府ですが、「天目山」があるのはどこの都道府県?\n",
      "解答：静岡県\n",
      "\n",
      "問題：『少女ファイト』『リベロ革命!!』『ハイキュー!!』といえば、どんなスポーツを題材にした漫画?\n",
      "解答：バレーボール\n",
      "\n",
      "問題：日本国憲法65条で行政権が属すると定められている、総理大臣と国務大臣で組織される機関は何?\n",
      "解答：内閣\n",
      "\n",
      "問題：テーブルウェアブランドで、「アラビア」「イッタラ」といえば、どこの国のブランド?\n",
      "解答：フィンランド\n",
      "\n"
     ]
    },
    {
     "name": "stderr",
     "output_type": "stream",
     "text": [
      " 76%|███████▌  | 760/1000 [04:04<01:49,  2.20it/s]"
     ]
    },
    {
     "name": "stdout",
     "output_type": "stream",
     "text": [
      "問題：イギリスのエリザベス朝やヴィクトリア朝の貴婦人の間で流行したアイテムを取り入れた、「ゴスロリ」などと略されるファッションは何?\n",
      "解答：ロリータファッション\n",
      "\n",
      "問題：夢の中で入れ替わってしまう少年・瀧と、ヒロイン・三葉の恋を描いた、新海誠監督・脚本のアニメ映画は何?\n",
      "解答：君の名は。\n",
      "\n",
      "問題：現在の静岡市葵区にあったお城で、徳川家康が亡くなったことで知られるのはどこ?\n",
      "解答：駿府城\n",
      "\n",
      "問題：ギリシャ、ブルガリア、アルバニアなどの国が含まれる、「ヨーロッパの火薬庫」と呼ばれた半島は何半島?\n",
      "解答：バルカン半島\n",
      "\n"
     ]
    },
    {
     "name": "stderr",
     "output_type": "stream",
     "text": [
      " 76%|███████▋  | 764/1000 [04:05<01:25,  2.76it/s]"
     ]
    },
    {
     "name": "stdout",
     "output_type": "stream",
     "text": [
      "問題：江戸時代に、長崎郊外にシーボルトが開いた私塾の名前は何?\n",
      "解答：ナガサキ学問所\n",
      "\n",
      "問題：「エルゴノミクス」ともいう、機械などを自然な動きで使えるようにデザインしようとする学問を、漢字4文字で何という?\n",
      "解答：人間工学\n",
      "\n",
      "問題：アマチュアレスリングで、試合が行われるマットの直径は何メートル?\n",
      "解答：9メートル\n",
      "\n",
      "問題：ジャズミュージシャンで、オスカー・ピーターソン、ハービー・ハンコック、キース・ジャレットは、何の楽器の演奏家?\n",
      "解答：ピアノ\n",
      "\n"
     ]
    },
    {
     "name": "stderr",
     "output_type": "stream",
     "text": [
      " 77%|███████▋  | 768/1000 [04:05<01:08,  3.40it/s]"
     ]
    },
    {
     "name": "stdout",
     "output_type": "stream",
     "text": [
      "問題：世界遺産にも登録された中尊寺や毛越寺など、奥州藤原氏の栄華を物語る遺跡が数多く残る、岩手県西磐井郡の町はどこ?\n",
      "解答：平泉\n",
      "\n",
      "問題：東京都の「都の花」はソメイヨシノですが、京都府の「府の花」は同じくサクラの何という品種?\n",
      "解答：山桜\n",
      "\n",
      "問題：1975年に第1回先進国首脳会議が開催された、フランスの都市はどこ?\n",
      "解答：リッツブール\n",
      "\n",
      "問題：大酒飲みの人の太って丸く突き出たお腹を、あるお酒を使って「何腹」という?\n",
      "解答：ビール腹\n",
      "\n"
     ]
    },
    {
     "name": "stderr",
     "output_type": "stream",
     "text": [
      " 77%|███████▋  | 772/1000 [04:06<00:57,  3.96it/s]"
     ]
    },
    {
     "name": "stdout",
     "output_type": "stream",
     "text": [
      "問題：1563年、「ドン・バルトロメオ」という洗礼名を受け、日本初のキリシタン大名となった戦国武将は誰?\n",
      "解答：有馬晴信\n",
      "\n",
      "問題：ビリヤードで、的球に当てた手球を他の球に当てて、その球をポケットインさせるショットを何ショットという?\n",
      "解答：カラムショット\n",
      "\n",
      "問題：1919年、グロピウスらによってワイマールに創設された総合芸術学校は何?\n",
      "解答：バウハウス\n",
      "\n",
      "問題：「ロボットは人間に危害を加えてはいけない」などの「ロボット工学の三原則」を記した短編集『われはロボット』などで知られるSF作家は誰?\n",
      "解答：アイザック・アシモフ\n",
      "\n"
     ]
    },
    {
     "name": "stderr",
     "output_type": "stream",
     "text": [
      " 78%|███████▊  | 776/1000 [04:07<00:54,  4.15it/s]"
     ]
    },
    {
     "name": "stdout",
     "output_type": "stream",
     "text": [
      "問題：古代中国・唐の文人・韓愈が詠んだ詩「鴻溝を過ぐ」の一節に由来する、「運を天にまかせた大勝負」を意味する言葉は何?\n",
      "解答：鴻溝を過ぐ\n",
      "\n",
      "問題：芝居などで、幕が開いたときに役者がすでに舞台の上に出ている状態を何という?\n",
      "解答：開口一番\n",
      "\n",
      "問題：三角形の三辺の長さから面積を求める公式のことを、発見したギリシャの数学者の名をとって「何の公式」という?\n",
      "解答：ヘロンの公式\n",
      "\n",
      "問題：日本年金機構が年金加入者に対して毎年誕生月に郵送する記録通知書のことを何便という?\n",
      "解答：年金手帳\n",
      "\n"
     ]
    },
    {
     "name": "stderr",
     "output_type": "stream",
     "text": [
      " 78%|███████▊  | 780/1000 [04:07<00:46,  4.68it/s]"
     ]
    },
    {
     "name": "stdout",
     "output_type": "stream",
     "text": [
      "問題：サッカーの判定システム「VAR」は何という言葉の略?\n",
      "解答：Video Assistant Referee\n",
      "\n",
      "問題：刑部親王や藤原不比等らによって701年に完成された日本の法典は何?\n",
      "解答：『大宝律令』\n",
      "\n",
      "問題：初期の作風を「青の時代」、その次の作風を「桃色の時代」といったスペインの画家は誰?\n",
      "解答：パブロ・ピカソ\n",
      "\n",
      "問題：男女の立場が逆転し、女性が将軍となった徳川政権下の日本を描いた、よしながふみの漫画は何?\n",
      "解答：「大奥」\n",
      "\n"
     ]
    },
    {
     "name": "stderr",
     "output_type": "stream",
     "text": [
      " 78%|███████▊  | 784/1000 [04:08<00:44,  4.89it/s]"
     ]
    },
    {
     "name": "stdout",
     "output_type": "stream",
     "text": [
      "問題：常用漢字で部首が「魚へん」なのは鯨と何?\n",
      "解答：鮭\n",
      "\n",
      "問題：1893年にこれを寄贈したイギリスのカナダ総督の名前がつけられた、NHLの優勝チームに与えられるトロフィーの名前は何?\n",
      "解答：スタンレーカップ\n",
      "\n",
      "問題：トリスタンやランスロットなど、「アーサー王伝説」でアーサー王に仕えた騎士のことを何という?\n",
      "解答：円卓の騎士\n",
      "\n",
      "問題：理科の実験ではアンモニア以外で行われることはほとんどない、水に溶けやすく空気よりも軽い気体を集める方法は何?\n",
      "解答：水素\n",
      "\n"
     ]
    },
    {
     "name": "stderr",
     "output_type": "stream",
     "text": [
      " 79%|███████▉  | 788/1000 [04:08<00:40,  5.30it/s]"
     ]
    },
    {
     "name": "stdout",
     "output_type": "stream",
     "text": [
      "問題：1830年に起きたフランス7月革命を題材にした、ウジェーヌ・ドラクロワの絵画は何?\n",
      "解答：7月28日自由の象徴\n",
      "\n",
      "問題：鹿児島県から宮崎県にかけて広がる、火山から噴出した白色の堆積物からなる台地を何という?\n",
      "解答：錦江湾台地\n",
      "\n",
      "問題：ローマ字の表記法に名を残すジェームス・ヘボンが初代総長を務めたのは、現在の何大学?\n",
      "解答：東京大学\n",
      "\n",
      "問題：アカデミー賞で、外国語映画として初めて作品賞を受賞した、半地下の家で暮らすギテク、チュンスク、ギウ、ギジョンの4人家族を描いた、ポン・ジュノ監督の映画は何?\n",
      "解答：パラサイト\n",
      "\n"
     ]
    },
    {
     "name": "stderr",
     "output_type": "stream",
     "text": [
      " 79%|███████▉  | 792/1000 [04:09<00:35,  5.78it/s]"
     ]
    },
    {
     "name": "stdout",
     "output_type": "stream",
     "text": [
      "問題：英語で「追跡」という意味の、スピードスケートの団体種目は何?\n",
      "解答：Pursuit\n",
      "\n",
      "問題：ハワイ語で「はねるノミ」という意味がある、ハワイアンミュージックでおなじみの4本弦の楽器は何?\n",
      "解答：ウクレレ\n",
      "\n",
      "問題：鍋料理の「柳川鍋」は、ドジョウと何の野菜を卵でとじた料理?\n",
      "解答：キャベツ\n",
      "\n",
      "問題：長野県の諏訪湖で厳しい冬にあらわれる、湖の水面が気温の変化で収縮・膨張し、「氷の道」のように盛り上がる現象を何という?\n",
      "解答：湖氷（こひょう）\n",
      "\n"
     ]
    },
    {
     "name": "stderr",
     "output_type": "stream",
     "text": [
      " 80%|███████▉  | 796/1000 [04:10<00:35,  5.67it/s]"
     ]
    },
    {
     "name": "stdout",
     "output_type": "stream",
     "text": [
      "問題：「雄のミツバチ」を意味する英語から名づけられた、遠隔操作が可能な小型の無人航空機といえば何?\n",
      "解答：Drone\n",
      "\n",
      "問題：赤外線を発見した物理学者はハーシェルですが、紫外線を発見した物理学者は誰?\n",
      "解答：リービッヒ\n",
      "\n",
      "問題：古代エジプトやメソポタミアで使われていた、人の肘から中指の先までをもとにして作られた長さの単位は何?\n",
      "解答：キュビット\n",
      "\n",
      "問題：陸上競技などのトレーニングで、一定の間隔をおいて、激しい運動とゆるやかな運動を繰り返すことを「何トレーニング」という?\n",
      "解答：インターバルトレーニング\n",
      "\n"
     ]
    },
    {
     "name": "stderr",
     "output_type": "stream",
     "text": [
      " 80%|████████  | 800/1000 [04:10<00:33,  5.91it/s]"
     ]
    },
    {
     "name": "stdout",
     "output_type": "stream",
     "text": [
      "問題：天へと至るような美しい景観から「天国への階段」とも呼ばれる、フィリピン・ルソン島北部の中央山岳地に広がる世界遺産の棚田は何?\n",
      "解答：バナウェの棚田\n",
      "\n",
      "問題：映画やドラマの撮影で、ロケ地の提供やエキストラの手配など様々な支援を行い、地域の活性化を図る機関を何という?\n",
      "解答：フィルムコミッション\n",
      "\n",
      "問題：昔から「西の富士、東のここ」と呼ばれる茨城県の山で、毎年8月に行われるガマ祭りでも有名なのはどこ?\n",
      "解答：筑波山\n",
      "\n",
      "問題：団体旅行に同行する添乗員を「ツアコン」といいますが、これを略さずにいうと何?\n",
      "解答：ツアーコンダクター\n",
      "\n"
     ]
    },
    {
     "name": "stderr",
     "output_type": "stream",
     "text": [
      " 80%|████████  | 804/1000 [04:16<01:45,  1.85it/s]"
     ]
    },
    {
     "name": "stdout",
     "output_type": "stream",
     "text": [
      "問題：麻雀で使われる、白・發・中の3種類の牌のことを、総称して何牌という?\n",
      "解答：三元牌\n",
      "\n",
      "問題：楽譜に用いる音楽記号で、同じ高さの2つの音符を弧線で結び、ひとつの音のようにつなげて演奏することを指示する記号を何という?\n",
      "解答：タイ記号\n",
      "\n",
      "問題：全日本かるた協会の規定では「難波津の歌」と定められている、小倉百人一首を用いて行う競技かるたにおいて、最初に読まれる歌のことを何という?\n",
      "解答：読み手\n",
      "\n",
      "問題：液体がその表面積をできるだけ小さくしようとする力を何という?\n",
      "解答：表面張力\n",
      "\n"
     ]
    },
    {
     "name": "stderr",
     "output_type": "stream",
     "text": [
      " 81%|████████  | 808/1000 [04:17<01:21,  2.35it/s]"
     ]
    },
    {
     "name": "stdout",
     "output_type": "stream",
     "text": [
      "問題：息をつく間もなくひたすら喋り続けることを、ある武器にたとえて、俗に「何トーク」という?\n",
      "解答：マシンガントーク\n",
      "\n",
      "問題：安土桃山時代に京都で「かぶき踊り」を演じ、「歌舞伎の祖」として歴史に名を残す女性は誰?\n",
      "解答：出雲阿国\n",
      "\n",
      "問題：奈良・平安時代に貴族が食べていた乳製品が語源となった、「本当の面白さ」を意味する言葉は?\n",
      "解答：チーズ\n",
      "\n",
      "問題：ラーメンの丼など中華料理の器によく描かれる、「喜」という漢字を2つ並べた紋様を何という?\n",
      "解答：喜喜\n",
      "\n"
     ]
    },
    {
     "name": "stderr",
     "output_type": "stream",
     "text": [
      " 81%|████████  | 812/1000 [04:19<01:35,  1.97it/s]"
     ]
    },
    {
     "name": "stdout",
     "output_type": "stream",
     "text": [
      "問題：1903年のノーベル物理学賞をキュリー夫妻とともに受賞した、放射能の単位に名を残すフランスの物理学者は誰?\n",
      "解答：アンリ・ベクレレ(rel=\"nofollow\")\n",
      "\n",
      "問題：スーパーコンピュータの「富岳」を運用している、文部科学省所管の自然科学系総合研究所といえば何?\n",
      "解答：理化学研究所\n",
      "\n",
      "問題：物事に決着をつけることを、和歌や俳句の最後によく使われる2文字の言葉にちなんで「何をつける」という?\n",
      "解答：句点\n",
      "\n",
      "問題：ミュージカルの代名詞ともなっている、ニューヨークを南北に貫く通りは何?\n",
      "解答：ブロードウェイ\n",
      "\n"
     ]
    },
    {
     "name": "stderr",
     "output_type": "stream",
     "text": [
      " 82%|████████▏ | 816/1000 [04:20<01:11,  2.56it/s]"
     ]
    },
    {
     "name": "stdout",
     "output_type": "stream",
     "text": [
      "問題：日本のうちわの生産量9割をしめる、香川県の都市はどこ?\n",
      "解答：丸亀市\n",
      "\n",
      "問題：「イケダン」や「シロガネーゼ」という言葉を生み出した、光文社が発売している女性向け月刊ファッション雑誌は何?\n",
      "解答：「JJ」\n",
      "\n",
      "問題：「カラカラ」と呼ばれる容器で出されることが多い、沖縄を代表する米焼酎といえば何?\n",
      "解答：泡盛\n",
      "\n",
      "問題：2012年4月に氷河の存在が確認された、「岩と雪の殿堂」とも呼ばれる飛騨山脈・立山連峰の山は何?\n",
      "解答：立山\n",
      "\n"
     ]
    },
    {
     "name": "stderr",
     "output_type": "stream",
     "text": [
      " 82%|████████▏ | 820/1000 [04:21<00:59,  3.05it/s]"
     ]
    },
    {
     "name": "stdout",
     "output_type": "stream",
     "text": [
      "問題：「憂鬱」「溜息」「退屈」「消失」などのシリーズがある、角川書店のライトノベルは何?\n",
      "解答：「ハルヒ」\n",
      "\n",
      "問題：ユダヤ暦のニサン月14日の夜から一週間行われる、ユダヤ民族がエジプトを脱出したことを記念するお祭りは何?\n",
      "解答：過越祭（ペサハ）\n",
      "\n",
      "問題：競技中にユニフォームの襟がパタパタしないようにと「ボタンダウン」のデザインが生まれたスポーツは何?\n",
      "解答：ゴルフ\n",
      "\n",
      "問題：幕末、戊辰戦争に際して会津藩が組織した、16歳から17歳の男子を中心とした少年部隊は何?\n",
      "解答：不知火隊\n",
      "\n"
     ]
    },
    {
     "name": "stderr",
     "output_type": "stream",
     "text": [
      " 82%|████████▏ | 824/1000 [04:21<00:47,  3.67it/s]"
     ]
    },
    {
     "name": "stdout",
     "output_type": "stream",
     "text": [
      "問題：郵便局が販売する、あらかじめ料金63円が印刷され、封筒と便箋が一体となった「郵便書簡」のことを何という?\n",
      "解答：郵便はがき\n",
      "\n",
      "問題：ベートーベンの交響曲第3番『英雄』。この「英雄」とは、もともと誰のこと?\n",
      "解答：ナポレオン・ボナパルト\n",
      "\n",
      "問題：胃液や膵液といった消化液に多く含まれる、中性脂肪を脂肪酸とグリセリンに加水分解する消化酵素は何?\n",
      "解答：リパーゼ\n",
      "\n",
      "問題：衆議院で内閣不信任決議案が可決された場合、内閣は何日以内に総辞職か衆議院解散を行わなくてはならない?\n",
      "解答：10日以内\n",
      "\n"
     ]
    },
    {
     "name": "stderr",
     "output_type": "stream",
     "text": [
      " 83%|████████▎ | 828/1000 [04:22<00:40,  4.24it/s]"
     ]
    },
    {
     "name": "stdout",
     "output_type": "stream",
     "text": [
      "問題：車椅子バスケットボールでよく行われる、片側の車輪を浮かせて高さを出すプレーを、「傾ける」という意味の英語で何という?\n",
      "解答：ティルト\n",
      "\n",
      "問題：外国人が日本に帰化する場合、原則として、何年以上継続して日本に住んでいなくてはならない?\n",
      "解答：5年\n",
      "\n",
      "問題：クラーク博士やフェノロサなど、明治時代に日本政府によって招かれ、技術や学問を指導した外国人のことを特に何という?\n",
      "解答：帰国子女\n",
      "\n",
      "問題：1955年に福武哲彦が設立した福武書店を前身とする、「こどもちゃれんじ」や「進研ゼミ」などの通信教育事業で知られる企業はどこ?\n",
      "解答：ベネッセホールディングス\n",
      "\n"
     ]
    },
    {
     "name": "stderr",
     "output_type": "stream",
     "text": [
      " 83%|████████▎ | 832/1000 [04:25<01:02,  2.68it/s]"
     ]
    },
    {
     "name": "stdout",
     "output_type": "stream",
     "text": [
      "問題：主に銅の精製で行われる、2つの金属板をイオン溶液に入れ、電気を流して純度を上げていくことを漢字4文字で何という?\n",
      "解答：電気析出\n",
      "\n",
      "問題：順徳天皇、日蓮、世阿弥などが流された、日本海の島はどこ?\n",
      "解答：佐渡島\n",
      "\n",
      "問題：名前の由来には病害虫に強く寿命が長いことからという説がある、宮崎県の県の木に指定されているヤシ科の植物は何?\n",
      "解答：サトウキビ\n",
      "\n",
      "問題：エスプレッソを飲む時に用いる小型のコーヒーカップを、「半分のカップ」という意味のフランス語で何という?\n",
      "解答：デミタス\n",
      "\n"
     ]
    },
    {
     "name": "stderr",
     "output_type": "stream",
     "text": [
      " 84%|████████▎ | 836/1000 [04:25<00:51,  3.20it/s]"
     ]
    },
    {
     "name": "stdout",
     "output_type": "stream",
     "text": [
      "問題：『万葉集』におさめられている、班田制下で貧しい生活を送る農民の姿を歌った山上憶良の歌は何?\n",
      "解答：「山家集」\n",
      "\n",
      "問題：「セシルカット」や「サブリナパンツ」など、映画から生まれたファッションのことを何という?\n",
      "解答：映画ファッション\n",
      "\n",
      "問題：管楽器の演奏で、マウスピースを口にあてる形や口の周りの筋肉の使い方を、フランス語で何という?\n",
      "解答：アンブシュアール\n",
      "\n",
      "問題：「ぶーん」という音を出して飛ぶことから漢字で「虫へんに文学の文」と書く、ともいわれる生き物は何?\n",
      "解答：蜂\n",
      "\n"
     ]
    },
    {
     "name": "stderr",
     "output_type": "stream",
     "text": [
      " 84%|████████▍ | 840/1000 [04:26<00:49,  3.20it/s]"
     ]
    },
    {
     "name": "stdout",
     "output_type": "stream",
     "text": [
      "問題：新潮文庫で累計発行部数最多を誇る、「先生と私」「両親と私」「先生と遺書」の3部からなる、夏目漱石の小説は何?\n",
      "解答：こころ\n",
      "\n",
      "問題：文化遺産保護に関わる国際的な非政府組織「国際記念物遺跡会議」のことを、アルファベット6文字の略称で何という?\n",
      "解答：ICOMOS\n",
      "\n",
      "問題：パソコンのキーボードでは右側に位置していることが多い、数字を入力するためのキーの総称は何?\n",
      "解答：テンキー\n",
      "\n",
      "問題：「居ぬ」と「死ぬ」の2語のみ該当する、文語文法の動詞の活用のひとつは何?\n",
      "解答：未然形\n",
      "\n"
     ]
    },
    {
     "name": "stderr",
     "output_type": "stream",
     "text": [
      " 84%|████████▍ | 844/1000 [04:27<00:39,  3.93it/s]"
     ]
    },
    {
     "name": "stdout",
     "output_type": "stream",
     "text": [
      "問題：1221年に後鳥羽上皇が鎌倉幕府を打ち倒そうと兵を起こしたが鎮圧された事件のことを、その時の年号から何の乱という?\n",
      "解答：承久の乱\n",
      "\n",
      "問題：沖縄料理のひとつ「中身汁」とは、何の内臓を使って作られた料理?\n",
      "解答：豚の胃袋\n",
      "\n",
      "問題：テナガザルやチンパンジーが行う、長い腕を使って枝伝いに木を移動する方法を英語で何という?\n",
      "解答：brachiation\n",
      "\n",
      "問題：ホテルやレストランでは「予約」のこと、スポーツの世界では「控えの選手」を指す英語といえば何?\n",
      "解答：Reservation/Reserve\n",
      "\n"
     ]
    },
    {
     "name": "stderr",
     "output_type": "stream",
     "text": [
      " 85%|████████▍ | 848/1000 [04:30<00:57,  2.64it/s]"
     ]
    },
    {
     "name": "stdout",
     "output_type": "stream",
     "text": [
      "問題：北海道で地方裁判所が置かれている4つの市とは、札幌市、函館市、旭川市と何市?\n",
      "解答：帯広市\n",
      "\n",
      "問題：大正から戦後まで発行され、『二銭銅貨』や『黒死館殺人事件』など数多くの探偵小説を世に出した、モダニズムを代表する雑誌は何?\n",
      "解答：『新青年』\n",
      "\n",
      "問題：生まれてからちょうど10000日目の人の満年齢は何歳?\n",
      "解答：27歳\n",
      "\n",
      "問題：アメリカ本土でもっとも高いホイットニー山がある、スペイン語で「雪を頂く山」という意味がある山脈は何?\n",
      "解答：シエラネバダ山脈\n",
      "\n"
     ]
    },
    {
     "name": "stderr",
     "output_type": "stream",
     "text": [
      " 85%|████████▌ | 852/1000 [04:30<00:45,  3.28it/s]"
     ]
    },
    {
     "name": "stdout",
     "output_type": "stream",
     "text": [
      "問題：玄宗皇帝と楊貴妃の悲恋をうたった、中国・唐の詩人・白居易の叙事詩は何?\n",
      "解答：長恨歌\n",
      "\n",
      "問題：「よさこい祭り」といえば高知市のお祭りですが、「YOSAKOIソーラン祭り」といえばどこの都市のお祭り?\n",
      "解答：札幌市\n",
      "\n",
      "問題：その歌声は「天使の歌声」と表現される、オーストリアを代表する有名な少年合唱団は何?\n",
      "解答：ウィーン少年合唱団\n",
      "\n",
      "問題：システィナ礼拝堂の天井画『創世記』や壁画『最後の審判』を描いた、イタリア・ルネサンスの芸術家は誰?\n",
      "解答：ミケランジェロ\n",
      "\n"
     ]
    },
    {
     "name": "stderr",
     "output_type": "stream",
     "text": [
      " 86%|████████▌ | 856/1000 [04:32<00:48,  2.97it/s]"
     ]
    },
    {
     "name": "stdout",
     "output_type": "stream",
     "text": [
      "問題：正式には「ザ・チャンピオンシップ」という、イギリスで開催されるテニスの四大大会のひとつは何?\n",
      "解答：ウィンブルドン\n",
      "\n",
      "問題：近未来のネット社会を描いた1999年公開の映画『ザ・インターネット』のピザの宅配シーンをきっかけに、実業家の花蜜幸伸が創設した、日本最大級の宅配デリバリーサイトは何?\n",
      "解答：出前館\n",
      "\n",
      "問題：水道光熱費の使用量の単位で、ガスや水道については「立方メートル」が用いられますが、電気の使用量を表す単位は何?\n",
      "解答：キロワット時\n",
      "\n",
      "問題：松尾芭蕉にちなんだ「バショー」、夏目漱石にちなんだ「ソーセキ」、芥川龍之介にちなんだ「アクタガワ」といった名前のクレーターがある太陽系の惑星は何?\n",
      "解答：火星\n",
      "\n"
     ]
    },
    {
     "name": "stderr",
     "output_type": "stream",
     "text": [
      " 86%|████████▌ | 860/1000 [04:33<00:43,  3.21it/s]"
     ]
    },
    {
     "name": "stdout",
     "output_type": "stream",
     "text": [
      "問題：清少納言の随筆『枕草子』の冒頭で最初にでてくる色は何?\n",
      "解答：紫\n",
      "\n",
      "問題：夜空に輝く88星座の中で、ギリシャ神話の女性の名前がそのままつけられたものはアンドロメダ座と何座?\n",
      "解答：カシオペヤ座\n",
      "\n",
      "問題：青森県の陸奥湾に面する3つの半島は、下北半島、津軽半島と何?\n",
      "解答：尻屋半島\n",
      "\n",
      "問題：7種類の材料を使って作ることから、縁起の良い神様にちなんで名づけられた、カレーの付け合わせとしてもおなじみの漬物は何?\n",
      "解答：七味唐辛子\n",
      "\n"
     ]
    },
    {
     "name": "stderr",
     "output_type": "stream",
     "text": [
      " 86%|████████▋ | 864/1000 [04:34<00:37,  3.63it/s]"
     ]
    },
    {
     "name": "stdout",
     "output_type": "stream",
     "text": [
      "問題：スペイン語では「サルー」、ドイツ語では「プロースト」、英語で「チアーズ」といえば、日本語では何という言葉?\n",
      "解答：乾杯\n",
      "\n",
      "問題：牛乳を温めると表面に薄い膜が張りますが、この現象を発見した科学者にちなんで何という?\n",
      "解答：フェルディナンド・レーデン\n",
      "\n",
      "問題：アメリカに入国する際に必要な「電子渡航認証システム」のことを、アルファベット4文字の略称で何という?\n",
      "解答：ESTA\n",
      "\n",
      "問題：「ショッキング」「サーモン」「チェリー」といえば何色の種類?\n",
      "解答：ピンク\n",
      "\n"
     ]
    },
    {
     "name": "stderr",
     "output_type": "stream",
     "text": [
      " 87%|████████▋ | 868/1000 [04:36<00:49,  2.67it/s]"
     ]
    },
    {
     "name": "stdout",
     "output_type": "stream",
     "text": [
      "問題：日本で使われた元号で、「文明」という元号があったのは室町時代ですが、「文化」という元号があったのは何時代?\n",
      "解答：江戸時代\n",
      "\n",
      "問題：フランス語で「大使館員」という意味がある、ビジネスマンが多く用いる角型のブリーフケースは何?\n",
      "解答：アタッシュケース\n",
      "\n",
      "問題：漢数字の「一」と「千」を用いた四字熟語で、「たいへん待ち遠しいこと」は「一日千秋」といいますが、「時間が貴重なこと」は何という?\n",
      "解答：一寸の虫にも五分の魂\n",
      "\n",
      "問題：京都「五山送り火」で灯される5つの形のうち、最初に点火されるのは「大文字」ですが、最後に点火されるのは何?\n",
      "解答：「舟形」\n",
      "\n"
     ]
    },
    {
     "name": "stderr",
     "output_type": "stream",
     "text": [
      " 87%|████████▋ | 872/1000 [04:39<00:59,  2.15it/s]"
     ]
    },
    {
     "name": "stdout",
     "output_type": "stream",
     "text": [
      "問題：困難に出会ってはじめてその人の真価が問われる、ということを、「疾風に何を知る」という?\n",
      "解答：松風\n",
      "\n",
      "問題：ハイテク産業の会社が集まることから「インドのシリコンバレー」と呼ばれる、カルナータカ州の州都はどこ?\n",
      "解答：バンガロール\n",
      "\n",
      "問題：1898年、キュリー夫妻がウラン鉱石から発見した、元素記号「Ra」の元素は何?\n",
      "解答：ラジウム\n",
      "\n",
      "問題：物理学において、大きさと方向を持つ力を「ベクトル」というのに対し、大きさのみの力のことを何という?\n",
      "解答：スカラー\n",
      "\n"
     ]
    },
    {
     "name": "stderr",
     "output_type": "stream",
     "text": [
      " 88%|████████▊ | 876/1000 [04:41<01:01,  2.02it/s]"
     ]
    },
    {
     "name": "stdout",
     "output_type": "stream",
     "text": [
      "問題：世界文化遺産「古都京都の文化財」に指定されている寺社のうち、唯一、京都府内にはないお寺は何?\n",
      "解答：石山寺\n",
      "\n",
      "問題：煮物料理などで、材料を回しながら不規則な形に切る切り方を何という?\n",
      "解答：乱切り\n",
      "\n",
      "問題：炭化水素で、炭素間の結合が単結合のみであるものをアルカンといいますが、1組だけ二重結合を含むものを何という?\n",
      "解答：アルケン\n",
      "\n",
      "問題：猛烈な勢いで物事にあたることを、百獣の王・ライオンが奮闘する様子になぞらえた四字熟語で何という?\n",
      "解答：獅子奮迅\n",
      "\n"
     ]
    },
    {
     "name": "stderr",
     "output_type": "stream",
     "text": [
      " 88%|████████▊ | 880/1000 [04:42<00:47,  2.52it/s]"
     ]
    },
    {
     "name": "stdout",
     "output_type": "stream",
     "text": [
      "問題：カウアイ島、マウイ島、オアフ島といえば、アメリカの何州に属する島?\n",
      "解答：ハワイ州\n",
      "\n",
      "問題：ビクトル・ユーゴーから本の売れ行きを確かめるために「?」だけの手紙を送りつけられ、「!」だけの返事を書いた、世界一短い手紙のやり取りを行ったという出版社はどこ?\n",
      "解答：ペンギン社\n",
      "\n",
      "問題：人の好みや考え方はみんな異なることを、漢数字の「十」という字を2回用いた四字熟語で何という?\n",
      "解答：十人十色\n",
      "\n",
      "問題：ペリーが黒船で来日したときに、英語と日本語の間に入って通訳されたのは何語?\n",
      "解答：中国語\n",
      "\n"
     ]
    },
    {
     "name": "stderr",
     "output_type": "stream",
     "text": [
      " 88%|████████▊ | 884/1000 [04:42<00:38,  2.98it/s]"
     ]
    },
    {
     "name": "stdout",
     "output_type": "stream",
     "text": [
      "問題：「ファスナー」を指す「チャック」の語源となったものは何?\n",
      "解答：アメリカの発明家であるウィットコム・ジャドソンの名前に由来します。\n",
      "\n",
      "問題：1960年代半ばに起きた、稲や小麦の品種改良による技術革新のことを、ある色を使って「何の革命」という?\n",
      "解答：緑の革命\n",
      "\n",
      "問題：お酢として料理に使われたことから、かつては「酢橘」と呼ばれていた、徳島県名産の柑橘類は何?\n",
      "解答：すだち\n",
      "\n",
      "問題：ミルクティーなどに入れられることが多い、キャッサバの根からとったデンプンを何という?\n",
      "解答：タピオカ\n",
      "\n"
     ]
    },
    {
     "name": "stderr",
     "output_type": "stream",
     "text": [
      " 89%|████████▉ | 888/1000 [04:43<00:31,  3.57it/s]"
     ]
    },
    {
     "name": "stdout",
     "output_type": "stream",
     "text": [
      "問題：共同浴場である本館は重要文化財に指定されている、愛媛県松山市にある有名な温泉は何?\n",
      "解答：道後温泉\n",
      "\n",
      "問題：アンデルセン童話『親指姫』で、親指姫は何の花の中から生まれた?\n",
      "解答：タンポポ\n",
      "\n",
      "問題：豊臣秀吉と明智光秀が戦った戦場に由来する、物事の大事な局面を指す言葉は何?\n",
      "解答：賤ヶ岳\n",
      "\n",
      "問題：日本の元号で、最も長く続いたのは「昭和」、2番目は「明治」ですが、3番目は何?\n",
      "解答：平成\n",
      "\n"
     ]
    },
    {
     "name": "stderr",
     "output_type": "stream",
     "text": [
      " 89%|████████▉ | 892/1000 [04:44<00:29,  3.69it/s]"
     ]
    },
    {
     "name": "stdout",
     "output_type": "stream",
     "text": [
      "問題：48ヶ所ものカーブがあることから名付けられた、栃木県日光市の馬返と中禅寺湖を結ぶ、紅葉の名所として知られる坂は?\n",
      "解答：いろは坂\n",
      "\n",
      "問題：略して「B.D.」とも呼ばれる、フランス語圏で広く読まれているストーリー漫画を総称して何という?\n",
      "解答：バンド・デシネ\n",
      "\n",
      "問題：リンカーンが「人民の、人民による、人民のための政治」という演説を行ったアメリカ・ペンシルベニア州にある町はどこ?\n",
      "解答：ゲティスバーグ\n",
      "\n",
      "問題：国際間の対立状態が緩和することを「雪どけ」といいますが、この言葉が使われるきっかけとなった小説『雪どけ』を書いた旧ソ連の作家は誰?\n",
      "解答：小説『雪どけ』を書いた旧ソ連の作家は、ヴィクトル・アスタフィエフです。\n",
      "\n"
     ]
    },
    {
     "name": "stderr",
     "output_type": "stream",
     "text": [
      " 90%|████████▉ | 896/1000 [04:45<00:24,  4.29it/s]"
     ]
    },
    {
     "name": "stdout",
     "output_type": "stream",
     "text": [
      "問題：独自の進化を遂げた動植物が多く住むことから、別名を「東洋のガラパゴス」と呼ばれる日本の島々は何諸島?\n",
      "解答：沖縄諸島\n",
      "\n",
      "問題：ラグビーで、各国の代表チーム同士が戦う国際試合のことを何という?\n",
      "解答：テストマッチ\n",
      "\n",
      "問題：1870年にスタンダード石油会社を設立し、「石油王」と呼ばれたアメリカの実業家は誰?\n",
      "解答：ジョン・D・ロックフェラー\n",
      "\n",
      "問題：野球で、同じ日に同じ対戦カードの試合を2試合行うことを英語で何という?\n",
      "解答：Doubleheader\n",
      "\n"
     ]
    },
    {
     "name": "stderr",
     "output_type": "stream",
     "text": [
      " 90%|█████████ | 900/1000 [04:45<00:20,  4.94it/s]"
     ]
    },
    {
     "name": "stdout",
     "output_type": "stream",
     "text": [
      "問題：ゴリラが両手で胸をドンドンと叩く動作を何という?\n",
      "解答：チェストビート\n",
      "\n",
      "問題：東京六大学で、名前に元号がついているのは明治大学とどこ?\n",
      "解答：早稲田大学\n",
      "\n",
      "問題：トイレを意味する「WC」。「W」は「ウォーター」ですが、「C」は何の略?\n",
      "解答：クローゼット\n",
      "\n",
      "問題：世界陸上などのスポーツイベントで目にする、記録に関する略記号で、「SB」は「シーズンベスト」のことですが、「PB」は何のこと?\n",
      "解答：パーソナルベスト\n",
      "\n"
     ]
    },
    {
     "name": "stderr",
     "output_type": "stream",
     "text": [
      " 90%|█████████ | 904/1000 [04:49<00:41,  2.31it/s]"
     ]
    },
    {
     "name": "stdout",
     "output_type": "stream",
     "text": [
      "問題：ソウルオリンピックの「ホドリ」、平昌オリンピックの「スホラン」は、いずれも何の動物をモチーフにしたマスコット?\n",
      "解答：タイガー\n",
      "\n",
      "問題：1930年の第1回サッカーワールドカップで開催国となり、大会でも優勝し、初代王者になった国はどこ?\n",
      "解答：ウルグアイ\n",
      "\n",
      "問題：19世紀から20世紀にかけて活躍したスペインの音楽家で、バイオリンの名手・サラサーテとチェロの名手・カザルスといえば共通するファーストネームは何?\n",
      "解答：パブロ\n",
      "\n",
      "問題：その街並みから「南米のパリ」とも称される、アルゼンチンの首都はどこ?\n",
      "解答：ブエノスアイレス\n",
      "\n"
     ]
    },
    {
     "name": "stderr",
     "output_type": "stream",
     "text": [
      " 91%|█████████ | 908/1000 [04:54<01:01,  1.49it/s]"
     ]
    },
    {
     "name": "stdout",
     "output_type": "stream",
     "text": [
      "問題：「京都三大祭」と呼ばれる祭りの中で1年で最初に開催される、平安朝の優雅な古典行列でおなじみの祭礼は何?\n",
      "解答：葵祭\n",
      "\n",
      "問題：薩摩藩出身の武士のことで、現在では鹿児島県の男性を指す漢字4文字の言葉は何?\n",
      "解答：士族\n",
      "\n",
      "問題：先住民族の名に由来する、キューバやジャマイカが浮かぶ、中南米と西インド諸島に囲まれた大西洋の海はどこ?\n",
      "解答：カリブ海\n",
      "\n",
      "問題：以前の失敗にこりて必要以上の用心をすることを、「あつものにこりて何を吹く」という?\n",
      "解答：熱いものにこりて何を吹く\n",
      "\n"
     ]
    },
    {
     "name": "stderr",
     "output_type": "stream",
     "text": [
      " 91%|█████████ | 912/1000 [04:55<00:48,  1.82it/s]"
     ]
    },
    {
     "name": "stdout",
     "output_type": "stream",
     "text": [
      "問題：アルデバランをα星とする星座は牡牛座ですが、アルデラミンをα星とする星座は何座?\n",
      "解答：おおぐま座\n",
      "\n",
      "問題：天気図で、2つの高気圧に挟まれた、気圧の低い部分のことを「気圧の何」という?\n",
      "解答：気圧の谷\n",
      "\n",
      "問題：競走馬の「サラブレッドの三大始祖」と呼ばれる3頭の馬は、ダーレーアラビアン、ゴドルフィンアラビアンと何?\n",
      "解答：バイアリーアラビアン\n",
      "\n",
      "問題：毎年7月に「北海へそ祭り」が行われる、ラベンダー畑で有名な北海道の都市はどこ?\n",
      "解答：中富良野\n",
      "\n"
     ]
    },
    {
     "name": "stderr",
     "output_type": "stream",
     "text": [
      " 92%|█████████▏| 916/1000 [04:56<00:36,  2.30it/s]"
     ]
    },
    {
     "name": "stdout",
     "output_type": "stream",
     "text": [
      "問題：消費者の心理のプロセスを表す言葉「AIDMA」。この言葉が指す5つのプロセスとは、Attention、Interest、Desire、Memoryと何?\n",
      "解答：Action\n",
      "\n",
      "問題：「多年にわたり社会につくしてきた老人を敬愛し、長寿を祝う」と定められている、国民の祝日は何?\n",
      "解答：敬老の日\n",
      "\n",
      "問題：若者にしか聞こえないという17キロヘルツ前後の高周波数の音を、ある生き物にたとえて何という?\n",
      "解答：モスキート音\n",
      "\n",
      "問題：医学用語では「鶏の眼」と書いて「鶏眼」という、足の裏などに角質が増殖することでできるふくらみは何?\n",
      "解答：魚の目\n",
      "\n"
     ]
    },
    {
     "name": "stderr",
     "output_type": "stream",
     "text": [
      " 92%|█████████▏| 920/1000 [04:56<00:28,  2.85it/s]"
     ]
    },
    {
     "name": "stdout",
     "output_type": "stream",
     "text": [
      "問題：『記憶の固執』などの作品で知られる、シュールレアリスムを代表するスペインの画家は誰?\n",
      "解答：サルバドール・ダリ\n",
      "\n",
      "問題：チキンライスの上にオムレツを乗せ、オムレツに切れ目を入れて開いて作るオムライスを、伊丹十三監督の映画に由来して何という?\n",
      "解答：\"タンポポ\"\n",
      "\n",
      "問題：映画の主人公で、クラーク・ケントが変身するのは『スーパーマン』ですが、ブルース・ウェインが変身するのは何というヒーロー?\n",
      "解答：バットマン\n",
      "\n",
      "問題：大リーグのワシントン・ナショナルズが所属するのは、ナショナルリーグ、アメリカンリーグのどっち?\n",
      "解答：ナショナルリーグ\n",
      "\n"
     ]
    },
    {
     "name": "stderr",
     "output_type": "stream",
     "text": [
      " 92%|█████████▏| 924/1000 [04:57<00:23,  3.30it/s]"
     ]
    },
    {
     "name": "stdout",
     "output_type": "stream",
     "text": [
      "問題：日本銀行が年4回行う「全国企業短期経済観測調査」のことを、漢字4文字で通称何という?\n",
      "解答：短観\n",
      "\n",
      "問題：旅行用の手さげかばんや、丸みのある逆三角形のメガネの形の名前になっている、アメリカ東海岸の都市はどこ?\n",
      "解答：ボストン\n",
      "\n",
      "問題：学名を「ニッポニア・ニッポン」という、日本の特別天然記念物に指定されている鳥は何?\n",
      "解答：キジバト\n",
      "\n",
      "問題：昔話『一寸法師』で、一寸法師が刀の代わりにしたものは何?\n",
      "解答：針\n",
      "\n"
     ]
    },
    {
     "name": "stderr",
     "output_type": "stream",
     "text": [
      " 93%|█████████▎| 928/1000 [04:58<00:18,  3.87it/s]"
     ]
    },
    {
     "name": "stdout",
     "output_type": "stream",
     "text": [
      "問題：インフレが急激に進み、物価の金額表示が大きくなりすぎた場合などに、通貨単位を切り下げることを、英語で何という?\n",
      "解答：Redenomination\n",
      "\n",
      "問題：美少年タジオに執着する作家・アシェンバッハの姿を描いた、ドイツの作家トマス・マンの代表作は?\n",
      "解答：『死者の船』\n",
      "\n",
      "問題：南米のアマゾン川に生息する魚で、ピラニアはカラシン科の魚ですが、ピラルクは何科の魚?\n",
      "解答：ナマズ科\n",
      "\n",
      "問題：英語で「膝の上」という意味があるパソコンの種類は何?\n",
      "解答：ノートパソコン\n",
      "\n"
     ]
    },
    {
     "name": "stderr",
     "output_type": "stream",
     "text": [
      " 93%|█████████▎| 932/1000 [04:58<00:15,  4.39it/s]"
     ]
    },
    {
     "name": "stdout",
     "output_type": "stream",
     "text": [
      "問題：中国では「タイコノート」、ロシアでは「コスモノート」、アメリカでは「アストロノート」といえば、どんな職業?\n",
      "解答：宇宙飛行士\n",
      "\n",
      "問題：青年たちが裸で踊りながら神々をたたえた古代ギリシャの祭典に由来する、エリック・サティのピアノ曲は何?\n",
      "解答：ジムノペディ\n",
      "\n",
      "問題：エッフェル塔を嫌い、見なくてすむようにと、あえてエッフェル塔に通った、というエピソードで知られるフランスの作家は誰?\n",
      "解答：ジャン＝ポール・サルトル\n",
      "\n",
      "問題：童謡『赤い靴』の2番の歌詞に出てくる港町はどこ?\n",
      "解答：横浜\n",
      "\n"
     ]
    },
    {
     "name": "stderr",
     "output_type": "stream",
     "text": [
      " 94%|█████████▎| 936/1000 [04:59<00:12,  5.01it/s]"
     ]
    },
    {
     "name": "stdout",
     "output_type": "stream",
     "text": [
      "問題：金融機関で、大企業などを対象にした大口の業務を「ホールセールバンキング」というのに対し、個人などを対象にした小口の業務を何という?\n",
      "解答：リテールバンキング\n",
      "\n",
      "問題：古代ギリシャの哲学者で、「万物の根源は水である」と説いたことで知られるのは誰?\n",
      "解答：タレス\n",
      "\n",
      "問題：『源氏物語』をベースにした漫画『あさきゆめみし』の作者は誰?\n",
      "解答：吉田玲子\n",
      "\n",
      "問題：久保ミツロウと山本沙代が原案を手がけた、フィギュアスケート選手の勝生勇利を主人公とするアニメは何?\n",
      "解答：ユーリ!!! on ICE\n",
      "\n"
     ]
    },
    {
     "name": "stderr",
     "output_type": "stream",
     "text": [
      " 94%|█████████▍| 940/1000 [04:59<00:11,  5.32it/s]"
     ]
    },
    {
     "name": "stdout",
     "output_type": "stream",
     "text": [
      "問題：京都で結成された「壬生浪士組」を前身とする、近藤勇や土方歳三らが活躍した幕末の組織は何?\n",
      "解答：新選組\n",
      "\n",
      "問題：古くから災いの兆しとされ、中国の歴史書『史記』にも出現記録が記されている、およそ76年周期で地球に近づく彗星は何?\n",
      "解答：ハレー彗星\n",
      "\n",
      "問題：1936年の第1回はフィンランドのラース・ヴァレリアン・アールフォルスとアメリカのジェス・ダグラスが受賞した、「数学のノーベル賞」と呼ばれる賞は何賞?\n",
      "解答：フィールズ賞\n",
      "\n",
      "問題：パソコンのキーボードにある、「F1」や「F2」などのキーの「F」は、何という英語の頭文字?\n",
      "解答：Function\n",
      "\n"
     ]
    },
    {
     "name": "stderr",
     "output_type": "stream",
     "text": [
      " 94%|█████████▍| 944/1000 [05:00<00:09,  5.70it/s]"
     ]
    },
    {
     "name": "stdout",
     "output_type": "stream",
     "text": [
      "問題：英語では「パーマンネント・ニュートラル・カントリー」という、他国同士で起きた戦争には関与しないという立場をとる国を指す言葉は何?\n",
      "解答：Permanent Neutral Country\n",
      "\n",
      "問題：ヨーロッパ中心の文明観を痛烈に批判した著書『西洋の没落』で知られるドイツの歴史学者は誰?\n",
      "解答：オスワルド・シュペングラー\n",
      "\n",
      "問題：毎年7月に祇園祭が開催される京都市の神社はどこ?\n",
      "解答：八坂神社\n",
      "\n",
      "問題：フランスの国会で、上院に相当するのは元老院ですが、下院に相当するのは何?\n",
      "解答：国民議会\n",
      "\n"
     ]
    },
    {
     "name": "stderr",
     "output_type": "stream",
     "text": [
      " 95%|█████████▍| 948/1000 [05:01<00:09,  5.72it/s]"
     ]
    },
    {
     "name": "stdout",
     "output_type": "stream",
     "text": [
      "問題：1895年、真空放電の研究中に未知の放射線を発見し「X線」と名づけた、ドイツの物理学者は誰?\n",
      "解答：ヴィルヘルム・レントゲン\n",
      "\n",
      "問題：医者のエリアス・リョンロートによってまとめられた、フィンランドを代表する民族叙事詩は何?\n",
      "解答：カレワラ\n",
      "\n",
      "問題：アメリカ合衆国の「国の花」はバラですが、メキシコ合衆国の「国の花」は何?\n",
      "解答：ダリア\n",
      "\n",
      "問題：つな引きのもっとも後ろの選手と、陸上のリレーの最後を走る選手に共通する呼び名は何?\n",
      "解答：アンカー\n",
      "\n"
     ]
    },
    {
     "name": "stderr",
     "output_type": "stream",
     "text": [
      " 95%|█████████▌| 952/1000 [05:01<00:07,  6.18it/s]"
     ]
    },
    {
     "name": "stdout",
     "output_type": "stream",
     "text": [
      "問題：昭和43年12月10日に、いわゆる「3億円事件」が発生したのは東京都何市?\n",
      "解答：東京都町田市\n",
      "\n",
      "問題：ギザの三大ピラミッドとは、カフラー王、メンカウラー王と誰が埋葬されたもの?\n",
      "解答：クフ王\n",
      "\n",
      "問題：古代中国の楚の国の商人が、何でも突き通す矛と、すべてから守れる盾を売っていた故事に由来する、「論理の辻褄が合わないこと」を意味する二字熟語は何?\n",
      "解答：矛盾\n",
      "\n",
      "問題：江戸時代後期の「化政文化」の由来となった2つの元号は「文化」と何?\n",
      "解答：文政\n",
      "\n"
     ]
    },
    {
     "name": "stderr",
     "output_type": "stream",
     "text": [
      " 96%|█████████▌| 956/1000 [05:02<00:07,  5.54it/s]"
     ]
    },
    {
     "name": "stdout",
     "output_type": "stream",
     "text": [
      "問題：井上靖の小説『氷壁』や、三浦綾子の小説『氷点』がかつて掲載されていた新聞は何新聞?\n",
      "解答：朝日新聞\n",
      "\n",
      "問題：キリスト教の東方正教会で礼拝の対象とされる、キリストやマリアの像などを描いた聖画像を何という?\n",
      "解答：イコン\n",
      "\n",
      "問題：トルコでは「海峡の内」という意味の「ボアジチ」という名で呼ばれる、黒海とマルマラ海を結ぶ海峡は何?\n",
      "解答：ボスポラス海峡\n",
      "\n",
      "問題：飛松良輔の『ブルタックル』、雨瀬シオリの『ALL OUT!!』、池田文春の『ノーサイド』といえば、どんなスポーツを描いた漫画?\n",
      "解答：ラグビー\n",
      "\n"
     ]
    },
    {
     "name": "stderr",
     "output_type": "stream",
     "text": [
      " 96%|█████████▌| 960/1000 [05:03<00:06,  5.89it/s]"
     ]
    },
    {
     "name": "stdout",
     "output_type": "stream",
     "text": [
      "問題：水泳の公式大会などで、予選の通過ライン上に複数の選手が同タイムで並んだときに行う上位進出者決定戦を何という?\n",
      "解答：タイブレーク\n",
      "\n",
      "問題：天下一大五郎シリーズ、加賀恭一郎シリーズ、ガリレオシリーズなどの推理小説を書いている作家は誰?\n",
      "解答：東野圭吾\n",
      "\n",
      "問題：ゾロアスター教で、善の神はアフラマズダですが、悪の神は何?\n",
      "解答：アンラ・マンユ。\n",
      "\n",
      "問題：学問や芸術を司るとされることから教育のシンボルとしても用いられる、ギリシャ神話のアテナと同一視されるローマ神話の女神は誰?\n",
      "解答：ミネルヴァ\n",
      "\n"
     ]
    },
    {
     "name": "stderr",
     "output_type": "stream",
     "text": [
      " 96%|█████████▋| 964/1000 [05:04<00:07,  4.76it/s]"
     ]
    },
    {
     "name": "stdout",
     "output_type": "stream",
     "text": [
      "問題：観光客に人気の通りで、「小町通り」があるのは鎌倉市ですが、「国際通り」があるのはどこの都市?\n",
      "解答：沖縄市\n",
      "\n",
      "問題：「同じ川の水をめぐって争う者」という意味のラテン語に由来する、「競争相手」を意味する言葉は何?\n",
      "解答：ライバル\n",
      "\n",
      "問題：ベトナム最後の王朝・グエン朝が王都を置いた、世界遺産にも登録されているベトナムの古都といえばどこ?\n",
      "解答：フエ\n",
      "\n",
      "問題：ことわざで、「三文の徳」といわれるものは何?\n",
      "解答：三文の徳\n",
      "\n"
     ]
    },
    {
     "name": "stderr",
     "output_type": "stream",
     "text": [
      " 97%|█████████▋| 968/1000 [05:05<00:06,  5.03it/s]"
     ]
    },
    {
     "name": "stdout",
     "output_type": "stream",
     "text": [
      "問題：熱帯夜とは、最低気温が何度以上の夜のことをいう?\n",
      "解答：25度\n",
      "\n",
      "問題：アメリカの海軍士官学校がある、メリーランド州の州都はどこ?\n",
      "解答：アナポリス\n",
      "\n",
      "問題：180km離れた目的地に、時速40kmで車を走らせて向かった場合、目的地に到着するのは何時間何分後?\n",
      "解答：4時間30分後\n",
      "\n",
      "問題：完全に秩序が保たれた状態はやがて崩壊するという、南部陽一郎が素粒子物理学で提唱し、ノーベル物理学賞を受賞するきっかけとなった理論を何という?\n",
      "解答：自己組織化臨界現象\n",
      "\n"
     ]
    },
    {
     "name": "stderr",
     "output_type": "stream",
     "text": [
      " 97%|█████████▋| 972/1000 [05:06<00:07,  3.70it/s]"
     ]
    },
    {
     "name": "stdout",
     "output_type": "stream",
     "text": [
      "問題：第1部「筑豊篇」から第8部「風雲篇」までの全8部からなる、主人公・伊吹信介の成長を描いた五木寛之の小説は何?\n",
      "解答：「信長のシェフ」\n",
      "\n",
      "問題：1428年に石清水八幡宮で行われたくじ引きにより室町幕府の第6代将軍に任命された人物は誰?\n",
      "解答：細川持之\n",
      "\n",
      "問題：かつて「青空てるお・はるお」や「ライト兄弟」という名前で活動していたお笑いコンビは何?\n",
      "解答：ダチョウ倶楽部\n",
      "\n",
      "問題：小林一茶の有名な俳句。「我ときて遊べや親のない」の結びは何?\n",
      "解答：「蛙の子は蛙」\n",
      "\n"
     ]
    },
    {
     "name": "stderr",
     "output_type": "stream",
     "text": [
      " 98%|█████████▊| 976/1000 [05:09<00:08,  2.85it/s]"
     ]
    },
    {
     "name": "stdout",
     "output_type": "stream",
     "text": [
      "問題：原産地であるアメリカのメーン州からその名がついた、長い毛並みが特徴的なネコの品種は何?\n",
      "解答：マンチカン\n",
      "\n",
      "問題：経済学者ヘンリー・マクロードが著書『政治経済学の諸要素』の中で命名した、「悪貨は良貨を駆逐する」という法則を誰の法則という?\n",
      "解答：ゲルトルートの法則\n",
      "\n",
      "問題：サーフィンやスノーボードで、ボードが自分の体から離れないように結ぶひもを何という?\n",
      "解答：リーシュ（リーシュコード）\n",
      "\n",
      "問題：困難な状況のときに出るため息のことを、ある色を使って「何息吐息」という?\n",
      "解答：青息吐息\n",
      "\n"
     ]
    },
    {
     "name": "stderr",
     "output_type": "stream",
     "text": [
      " 98%|█████████▊| 980/1000 [05:09<00:05,  3.52it/s]"
     ]
    },
    {
     "name": "stdout",
     "output_type": "stream",
     "text": [
      "問題：花札で、1月の札に描かれている植物は松ですが、2月の札に描かれている植物は何?\n",
      "解答：梅\n",
      "\n",
      "問題：大相撲本場所の幕内力士が、1年間フル出場して勝率がちょうど6割だった場合、勝ち星はいくつ?\n",
      "解答：45勝\n",
      "\n",
      "問題：その花の形が十字架や茨の冠などイエス・キリストの受難を連想させることから、「受難」を意味する名前がつけられた果物は何?\n",
      "解答：パッションフルーツ\n",
      "\n",
      "問題：「初心忘るべからず」という言葉を残した、室町時代の能の役者は誰?\n",
      "解答：世阿弥\n",
      "\n"
     ]
    },
    {
     "name": "stderr",
     "output_type": "stream",
     "text": [
      " 98%|█████████▊| 984/1000 [05:12<00:07,  2.20it/s]"
     ]
    },
    {
     "name": "stdout",
     "output_type": "stream",
     "text": [
      "問題：アメリカの金融政策を決定する「連邦準備制度理事会」をアルファベット3文字で何という?\n",
      "解答：FED\n",
      "\n",
      "問題：熊本民謡で「越すに越されぬ」と歌われている、西南戦争の激戦地として知られる熊本市にある坂は何?\n",
      "解答：坂本山\n",
      "\n",
      "問題：「休憩機能」「情報発信機能」「地域の連携機能」の3つの機能が基本コンセプトである、1993年に103ヶ所の登録でスタートした施設は何?\n",
      "解答：コミュニティセンター\n",
      "\n",
      "問題：戦国時代、瀬戸内海を席巻した海賊王の娘・景の活躍を描いた、第11回本屋大賞を受賞した和田竜の歴史小説は何?\n",
      "解答：『海賊とよばれた女』\n",
      "\n"
     ]
    },
    {
     "name": "stderr",
     "output_type": "stream",
     "text": [
      " 99%|█████████▉| 988/1000 [05:13<00:04,  2.76it/s]"
     ]
    },
    {
     "name": "stdout",
     "output_type": "stream",
     "text": [
      "問題：ルソーの『社会契約論』を翻訳し『民約訳解』として日本に紹介した、「東洋のルソー」と呼ばれた思想家は誰?\n",
      "解答：中江兆民\n",
      "\n",
      "問題：「エーゲ海の真珠」という別名があるのはギリシャのミコノス島ですが、「アンダマン海の真珠」という別名で呼ばれるタイの島は?\n",
      "解答：プーケット\n",
      "\n",
      "問題：1月15日の朝に食べると邪気を除くとされる、小豆を入れて煮たお粥のことを、その色からある花の名前を使って何粥という?\n",
      "解答：紫粥\n",
      "\n",
      "問題：「アルファ・ベータ・ガンマ理論」や「ビッグバン宇宙論」を提唱した、『不思議な国のトムキンス』などの著書でも知られる物理学者は誰?\n",
      "解答：ジョージ・ガモフ\n",
      "\n"
     ]
    },
    {
     "name": "stderr",
     "output_type": "stream",
     "text": [
      " 99%|█████████▉| 992/1000 [05:14<00:02,  3.13it/s]"
     ]
    },
    {
     "name": "stdout",
     "output_type": "stream",
     "text": [
      "問題：「冬の大三角」を形成する3つの星は、おおいぬ座のシリウス、こいぬ座のプロキオンとオリオン座の何?\n",
      "解答：ベテルギウス\n",
      "\n",
      "問題：江戸時代末期・大坂に洗心堂という私塾を開いた儒学者で、1837年に江戸幕府に対して反乱を起こすも鎮圧され自害した人物は誰?\n",
      "解答：関孝和\n",
      "\n",
      "問題：『ブエノスアイレス午前零時』で芥川賞を受賞したのは藤沢周ですが、『暗殺の年輪』で直木賞を受賞したのは誰?\n",
      "解答：村上春樹\n",
      "\n",
      "問題：手紙やハガキを送った際に、料金を支払った証拠として郵便局で押される、日付入りのスタンプのことを何という?\n",
      "解答：消印\n",
      "\n"
     ]
    },
    {
     "name": "stderr",
     "output_type": "stream",
     "text": [
      "100%|█████████▉| 996/1000 [05:14<00:01,  3.85it/s]"
     ]
    },
    {
     "name": "stdout",
     "output_type": "stream",
     "text": [
      "問題：NBAや格闘技などでみられる、選手が対戦相手に対して挑発的な言葉を発して心理的な揺さぶりをかける戦術を何という?\n",
      "解答：トラッシュトーク\n",
      "\n",
      "問題：いい加減で役立たずな人のことを、落語によく登場する間抜けな人物にたとえて何という?\n",
      "解答：「ボケ」\n",
      "\n",
      "問題：パーソン、パンサー、ジャクソンなどの種類がいる、周囲の環境に合わせて体の色を変えることでおなじみの動物といえば何?\n",
      "解答：カメレオン\n",
      "\n",
      "問題：小説『古都』や『伊豆の踊子』などの作品を書き、1968年にノーベル文学賞を受賞した作家は誰?\n",
      "解答：川端康成\n",
      "\n"
     ]
    },
    {
     "name": "stderr",
     "output_type": "stream",
     "text": [
      "100%|██████████| 1000/1000 [05:15<00:00,  3.17it/s]"
     ]
    },
    {
     "name": "stdout",
     "output_type": "stream",
     "text": [
      "問題：いわゆる「古典の三大随筆」と呼ばれる3つの作品といえば、『枕草子』、『方丈記』と何?\n",
      "解答：『徒然草』\n",
      "\n",
      "問題：正式名称を「新幹線電気軌道総合試験車」という、新幹線の線路や架線の状態を調査するための車両を車体の色から何という?\n",
      "解答：黄色\n",
      "\n",
      "問題：明治11年、東京・紀尾井坂で石川県士族の島田一郎らに暗殺された政治家は誰?\n",
      "解答：大久保利通\n",
      "\n",
      "問題：中国を代表するIT企業の総称「BATH」で表される4つの会社といえば、Baidu、Alibaba、Tencentと何?\n",
      "解答：Huawei\n",
      "\n",
      "正解率：50.4\n"
     ]
    },
    {
     "name": "stderr",
     "output_type": "stream",
     "text": [
      "\n"
     ]
    }
   ],
   "source": [
    "output_answers = get_chatgpt_outputs_for_quiz(\n",
    "    simple_prompt_maker,\n",
    "    quiz_dataset,\n",
    "    batch_size=4,\n",
    ")\n",
    "accuracy = calculate_quiz_accuracy(\n",
    "    output_answers,\n",
    "    [item[\"answers\"] for item in quiz_dataset],\n",
    ")\n",
    "print(f\"正解率：{accuracy * 100}\")"
   ]
  },
  {
   "cell_type": "markdown",
   "id": "b7ea80e6-3a4d-4a4b-aa45-a845cd421fd9",
   "metadata": {},
   "source": [
    "# 9.3.6 文脈内学習"
   ]
  },
  {
   "cell_type": "code",
   "execution_count": 30,
   "id": "2c245edb-9635-4740-af50-caa0a2ffe81e",
   "metadata": {},
   "outputs": [
    {
     "name": "stdout",
     "output_type": "stream",
     "text": [
      "問題：「abc 〜the first〜」へようこそ!さて、ABC・・・と始まるアルファベットは、全部で何文字でしょう?\n",
      "解答：26文字\n",
      "問題：人気漫画『ドラえもん』の登場人物で、ジャイアンの苗字は剛田ですが、スネ夫の苗字は何でしょう?\n",
      "解答：骨川\n",
      "問題：格闘家ボブ・サップの出身国はどこでしょう?\n",
      "解答：アメリカ\n"
     ]
    }
   ],
   "source": [
    "quiz_train_dataset = load_dataset(\"llm-book/aio\", split=\"train\")\n",
    "num_in_context_examples = 3\n",
    "in_context_examples = [\n",
    "    quiz_train_dataset[i] for i in range(num_in_context_examples)\n",
    "]\n",
    "\n",
    "for example in in_context_examples:\n",
    "    print(f\"問題：{example['question']}\")\n",
    "    print(f\"解答：{example['answers'][0]}\")"
   ]
  },
  {
   "cell_type": "code",
   "execution_count": 31,
   "id": "a4ce5a9c-475b-4cc2-a1ea-f25e6fdc289b",
   "metadata": {},
   "outputs": [],
   "source": [
    "class InContextPromptMaker(PromptMaker):\n",
    "    def __init__(self, examples: list[tuple[str, str]]):\n",
    "        self._prompt = (\n",
    "            \"あなたには今からクイズに答えてもらいます。問題を与えますので、\"\n",
    "            \"その解答のみを簡潔に出力してください。\\n\\n\"\n",
    "        )\n",
    "        for question, answer in examples:\n",
    "            self._prompt += f\"問題：{question}\\n解答：{answer}\\n\\n\"\n",
    "\n",
    "    def run(self, questions):\n",
    "        prompts = [\n",
    "            self._prompt + f\"問題：{q}\\n解答：\" for q in questions\n",
    "        ]\n",
    "        return prompts"
   ]
  },
  {
   "cell_type": "code",
   "execution_count": 32,
   "id": "2955dc5b-b72d-4643-8df8-3d1e14e29473",
   "metadata": {},
   "outputs": [
    {
     "name": "stdout",
     "output_type": "stream",
     "text": [
      "['あなたには今からクイズに答えてもらいます。問題を与えますので、その解答のみを簡潔に出力してください。\\n\\n問題：「abc 〜the first〜」へようこそ!さて、ABC・・・と始まるアルファベットは、全部で何文字でしょう?\\n解答：26文字\\n\\n問題：人気漫画『ドラえもん』の登場人物で、ジャイアンの苗字は剛田ですが、スネ夫の苗字は何でしょう?\\n解答：骨川\\n\\n問題：格闘家ボブ・サップの出身国はどこでしょう?\\n解答：アメリカ\\n\\n問題：日本で一番高い山は何?\\n解答：']\n"
     ]
    }
   ],
   "source": [
    "q_and_a_list = [\n",
    "    (e[\"question\"], e[\"answers\"][0]) for e in in_context_examples\n",
    "]\n",
    "in_context_prompt_maker = InContextPromptMaker(q_and_a_list)\n",
    "prompt = in_context_prompt_maker.run([\"日本で一番高い山は何?\"])\n",
    "print(prompt)"
   ]
  },
  {
   "cell_type": "code",
   "execution_count": 35,
   "id": "b33fa4e9-76e8-456e-9ba3-03da47b1e073",
   "metadata": {},
   "outputs": [
    {
     "name": "stderr",
     "output_type": "stream",
     "text": [
      "  0%|          | 4/1000 [00:00<03:38,  4.57it/s]"
     ]
    },
    {
     "name": "stdout",
     "output_type": "stream",
     "text": [
      "問題：映画『ウエスト・サイド物語』に登場する2つの少年グループといえば、シャーク団と何団?\n",
      "解答：ジェット団\n",
      "\n",
      "問題：氷った海に穴を開けて漁をすることから、漢字で「氷の下の魚」と書くタラ科の魚は何?\n",
      "解答：鱈\n",
      "\n",
      "問題：アメリカとロシア間で結ばれた「戦略兵器削減条約」のことをアルファベット5文字の略称で何という?\n",
      "解答：START\n",
      "\n",
      "問題：リンゴが木から落ちる様子を見て「万有引力」を発見したといわれる、17世紀のイギリスの科学者は誰?\n",
      "解答：アイザック・ニュートン\n",
      "\n"
     ]
    },
    {
     "name": "stderr",
     "output_type": "stream",
     "text": [
      "  1%|          | 8/1000 [00:01<03:45,  4.40it/s]"
     ]
    },
    {
     "name": "stdout",
     "output_type": "stream",
     "text": [
      "問題：聖武天皇の時代に栄えた、東大寺正倉院や唐招提寺金堂など、中国・唐の影響を強く受けた貴族文化を何という?\n",
      "解答：奈良時代\n",
      "\n",
      "問題：アメリカ・メジャーリーグの2つのリーグといえば、ナショナルリーグと何リーグ?\n",
      "解答：アメリカンリーグ\n",
      "\n",
      "問題：池坊、草月流、小原流といえば、どんな分野の三大流派?\n",
      "解答：華道\n",
      "\n",
      "問題：英語で「取り巻く」という意味がある、前後左右から音が聞こえる立体音響を何という?\n",
      "解答：サラウンド音声\n",
      "\n"
     ]
    },
    {
     "name": "stderr",
     "output_type": "stream",
     "text": [
      "  1%|          | 12/1000 [00:02<03:03,  5.39it/s]"
     ]
    },
    {
     "name": "stdout",
     "output_type": "stream",
     "text": [
      "問題：半導体で、電荷を運ぶキャリアにホールが使われるのをP型半導体というのに対し、自由電子が使われるのを何型半導体という?\n",
      "解答：N型半導体\n",
      "\n",
      "問題：大根を使った料理「紫おろし」や「染めおろし」といえば、おろした大根に何をかけた料理?\n",
      "解答：醤油\n",
      "\n",
      "問題：かつては自動車製造や重工業で発展したものの、近年衰退した、アメリカ五大湖から大西洋にいたる地域のことを、「さび付いた工業地帯」という意味の英語で「何ベルト」という?\n",
      "解答：ラストベルト\n",
      "\n",
      "問題：将棋の駒の一大産地となっている山形県の市は何市?\n",
      "解答：酒田市\n",
      "\n"
     ]
    },
    {
     "name": "stderr",
     "output_type": "stream",
     "text": [
      "  2%|▏         | 16/1000 [00:03<03:01,  5.42it/s]"
     ]
    },
    {
     "name": "stdout",
     "output_type": "stream",
     "text": [
      "問題：作家の森鴎外、斎藤茂吉、安部公房は、現在の東京大学の何学部出身?\n",
      "解答：法学部\n",
      "\n",
      "問題：パソコンの情報量を表す単位、1キロバイトとは何バイトのこと?\n",
      "解答：1024バイト\n",
      "\n",
      "問題：山上宗二が著した「山上宗二記」にその生涯が記されている、「侘び茶」の創始者として知られる室町時代の茶人は誰?\n",
      "解答：千利休\n",
      "\n",
      "問題：テニスのダブルスでは、プレーしている選手はコートに全部で何人いる?\n",
      "解答：4人\n",
      "\n"
     ]
    },
    {
     "name": "stderr",
     "output_type": "stream",
     "text": [
      "  2%|▏         | 20/1000 [00:03<02:49,  5.77it/s]"
     ]
    },
    {
     "name": "stdout",
     "output_type": "stream",
     "text": [
      "問題：日本のテレビ業界で「プライムタイム」といえば、毎日19時から何時までの時間帯のこと?\n",
      "解答：22時\n",
      "\n",
      "問題：アイドルグループ・ももいろクローバーZのメンバーで、最年長は高城れにですが、最年少は誰?\n",
      "解答：佐々木彩夏\n",
      "\n",
      "問題：リス・ネズミ・ヤマアラシなど、絶えず伸びつづける門歯を持つ哺乳類を何類という?\n",
      "解答：齧歯類\n",
      "\n",
      "問題：英語で「タングツイスター」という言葉遊びは何?\n",
      "解答：Tongue twister\n",
      "\n"
     ]
    },
    {
     "name": "stderr",
     "output_type": "stream",
     "text": [
      "  2%|▏         | 24/1000 [00:04<02:31,  6.44it/s]"
     ]
    },
    {
     "name": "stdout",
     "output_type": "stream",
     "text": [
      "問題：建設当時の元号にちなんで名づけられた、日本初の南極観測基地は何?\n",
      "解答：昭和基地\n",
      "\n",
      "問題：「話し始めるやいなや」という意味がある、落語の寄席で最初の一席を指す言葉といえば何?\n",
      "解答：序盤\n",
      "\n",
      "問題：「眠りを殺してしまった」「きれいは汚い、汚いはきれい」などの有名なフレーズが登場する、国王ダンカンに対して謀反を起こす将軍を描いたシェイクスピアの戯曲は何?\n",
      "解答：マクベス\n",
      "\n",
      "問題：頭で考えただけの、実際の役には立たない計画のことを「机上の何」という?\n",
      "解答：空論\n",
      "\n"
     ]
    },
    {
     "name": "stderr",
     "output_type": "stream",
     "text": [
      "  3%|▎         | 28/1000 [00:04<02:27,  6.60it/s]"
     ]
    },
    {
     "name": "stdout",
     "output_type": "stream",
     "text": [
      "問題：NECが運営するスポーツチームで、女子バレーボールV・プレミアリーグのチーム名はレッドロケッツですが、ラグビートップリーグのチーム名は何?\n",
      "解答：NECグリーンロケッツ\n",
      "\n",
      "問題：音楽の楽譜で、最初にシャープが1つつくとト長調ですが、2つつくと何長調になる?\n",
      "解答：嬰ハ長調\n",
      "\n",
      "問題：1869年、明治新政府が全国の藩主に土地と人民を朝廷に返上させ、中央集権をはかった政策を、漢字4文字で何という?\n",
      "解答：廃藩置県\n",
      "\n",
      "問題：司馬遼太郎のペンネームの由来となった、中国・前漢時代の歴史家は誰?\n",
      "解答：司馬遷\n",
      "\n"
     ]
    },
    {
     "name": "stderr",
     "output_type": "stream",
     "text": [
      "  3%|▎         | 32/1000 [00:05<02:17,  7.03it/s]"
     ]
    },
    {
     "name": "stdout",
     "output_type": "stream",
     "text": [
      "問題：大腸の運動や分泌機能の異常で起こる「過敏腸性症候群」のことをアルファベット3文字の略称で何という?\n",
      "解答：IBS\n",
      "\n",
      "問題：ニューヨーク州のニックネームからその名がついた、マンハッタン5番街に建つ102階建ての超高層ビルは何?\n",
      "解答：エンパイアステートビル\n",
      "\n",
      "問題：漫画版が累計発行部数200万部を突破して話題になった、主人公・コペル君こと本田潤一の成長を描いた吉野源三郎の小説は何?\n",
      "解答：コペル君\n",
      "\n",
      "問題：別名を「振袖火事」ともいう、1657年に江戸を焼き尽くした火事のことを、その元号から何という?\n",
      "解答：明暦の大火\n",
      "\n"
     ]
    },
    {
     "name": "stderr",
     "output_type": "stream",
     "text": [
      "  4%|▎         | 36/1000 [00:07<04:00,  4.01it/s]"
     ]
    },
    {
     "name": "stdout",
     "output_type": "stream",
     "text": [
      "問題：椋鳩十の童話『大造じいさんとガン』に登場する、ガンの群れの頭領の名前は何?\n",
      "解答：クロダメ\n",
      "\n",
      "問題：1969年にアポロ11号が初めて月面着陸した場所は何の海?\n",
      "解答：月海\n",
      "\n",
      "問題：戦国武将の今川氏親、義元親子によって制定された分国法は何?\n",
      "解答：今川法\n",
      "\n",
      "問題：「ミスターX」という人物が極東地区のマネージャーを務める、アニメ『タイガーマスク』に登場する悪役レスラー養成所の名前は何?\n",
      "解答：ブラック・オックス養成所\n",
      "\n"
     ]
    },
    {
     "name": "stderr",
     "output_type": "stream",
     "text": [
      "  4%|▍         | 40/1000 [00:07<03:20,  4.78it/s]"
     ]
    },
    {
     "name": "stdout",
     "output_type": "stream",
     "text": [
      "問題：夏の盛りに、多くのセミが一斉に鳴く様子を、雨が降る様子にたとえて何という?\n",
      "解答：夕立\n",
      "\n",
      "問題：英語では「ウォーターストライダー」。体から甘いにおいを発することから名づけられた、水面をスイスイと滑って移動する昆虫といえば何?\n",
      "解答：水黽\n",
      "\n",
      "問題：詩を作る才能がすぐれていることを、中国・魏の曹植がたった7歩ほど歩く間に詩を作ったという故事から何という?\n",
      "解答：七歩詩\n",
      "\n",
      "問題：「タタータ」などと表現される、音楽でリズムに変化をつけるためにアクセントの位置をずらすことを指す用語は何?\n",
      "解答：オフビート\n",
      "\n"
     ]
    },
    {
     "name": "stderr",
     "output_type": "stream",
     "text": [
      "  4%|▍         | 44/1000 [00:08<03:07,  5.10it/s]"
     ]
    },
    {
     "name": "stdout",
     "output_type": "stream",
     "text": [
      "問題：1603年、江戸幕府が開かれた時の日本の元号は何?\n",
      "解答：慶長\n",
      "\n",
      "問題：黄道十二星座を漢字で書いた時に「子ども」の「子」という字が使われるのは、双子座と何座?\n",
      "解答：乙女座\n",
      "\n",
      "問題：ト音記号の元になったアルファベットは何?\n",
      "解答：G\n",
      "\n",
      "問題：囲碁では十段戦を、将棋ではヒューリック杯棋聖戦を主催している日本の新聞社はどこ?\n",
      "解答：毎日新聞\n",
      "\n"
     ]
    },
    {
     "name": "stderr",
     "output_type": "stream",
     "text": [
      "  5%|▍         | 48/1000 [00:08<02:51,  5.54it/s]"
     ]
    },
    {
     "name": "stdout",
     "output_type": "stream",
     "text": [
      "問題：英語では「ファイアフライ・スクイード」という、体中に発光器を持ち、青白く光ることで知られるイカは何?\n",
      "解答：ホタルイカ\n",
      "\n",
      "問題：東北地方の郷土富士で、津軽富士といえば岩木山ですが、出羽富士といえば何山?\n",
      "解答：月山\n",
      "\n",
      "問題：組織の内部にいながらその組織に害を及ぼす者のことを俗に「何の虫」という?\n",
      "解答：スパイ\n",
      "\n",
      "問題：ゼラの戦いでシーザーが残したとされる名言「Veni, vidi, vici」は、日本語では何という言葉で知られる?\n",
      "解答：「来た、見た、勝った」\n",
      "\n"
     ]
    },
    {
     "name": "stderr",
     "output_type": "stream",
     "text": [
      "  5%|▌         | 52/1000 [00:09<02:36,  6.08it/s]"
     ]
    },
    {
     "name": "stdout",
     "output_type": "stream",
     "text": [
      "問題：もともとは、日本人移民が古い着物を現地風のシャツにリメイクして作られたものが起源とされる、ハワイ名物のカラフルなシャツは何?\n",
      "解答：アロハシャツ\n",
      "\n",
      "問題：「ナルシスト」という言葉の語源となったギリシャ神話の美少年・ナルキッソスが死んだ後に咲いたとされる花は何?\n",
      "解答：ナルキッソス花\n",
      "\n",
      "問題：フットサルのポジションで、サッカーのフォワードにあたるのは「ピヴォ」、ディフェンダーにあたるのは「フィクソ」ですが、ミッドフィルダーにあたるのは何?\n",
      "解答：アラ！\n",
      "\n",
      "問題：6、28、496などのように、その数以外のすべて約数の和がその数と等しくなる自然数のことを何数という?\n",
      "解答：完全数\n",
      "\n"
     ]
    },
    {
     "name": "stderr",
     "output_type": "stream",
     "text": [
      "  6%|▌         | 56/1000 [00:10<02:38,  5.96it/s]"
     ]
    },
    {
     "name": "stdout",
     "output_type": "stream",
     "text": [
      "問題：「Trp」という略号で表される、チーズや牛乳などに多く含まれ、睡眠を促す効果があるとされる必須アミノ酸の一種は何?\n",
      "解答：トリプトファン\n",
      "\n",
      "問題：歌詞の中に登場することから、青函連絡船の八甲田丸の係留地や龍飛崎に歌碑が建てられている、石川さゆりの代表曲といえば何?\n",
      "解答：津軽海峡冬景色\n",
      "\n",
      "問題：企業買収の際などに行われる「株式公開買付」のことをアルファベット3文字で何という?\n",
      "解答：TOB\n",
      "\n",
      "問題：戦国武将の加藤清正が朝鮮から日本に持ち込んだことから「キヨマサニンジン」とも呼ばれる、独特の香りが特徴的な野菜は何?\n",
      "解答：ニンジン\n",
      "\n"
     ]
    },
    {
     "name": "stderr",
     "output_type": "stream",
     "text": [
      "  6%|▌         | 60/1000 [00:10<02:38,  5.92it/s]"
     ]
    },
    {
     "name": "stdout",
     "output_type": "stream",
     "text": [
      "問題：百人一首を使う競技かるたで、自分と相手の残り札がともに1枚ずつになった局面を何という?\n",
      "解答：ワンカード\n",
      "\n",
      "問題：第1回はマザー・テレサが受賞した、宗教家や思想家に贈られることから「宗教界のノーベル賞」と呼ばれる賞は何?\n",
      "解答：ラムノーベル賞\n",
      "\n",
      "問題：「酸っぱいニシン」という意味がある、「世界一臭い食べ物」などとも呼ばれるスウェーデン名物の缶詰といえば何?\n",
      "解答：スルストロミング\n",
      "\n",
      "問題：腸を整える整腸剤の原料にも用いられる、原子番号83、元素記号Biの元素は何?\n",
      "解答：ビスマス\n",
      "\n"
     ]
    },
    {
     "name": "stderr",
     "output_type": "stream",
     "text": [
      "  6%|▋         | 64/1000 [00:11<02:26,  6.38it/s]"
     ]
    },
    {
     "name": "stdout",
     "output_type": "stream",
     "text": [
      "問題：鎌倉時代に成立した「五摂家」とは、近衛家、九条家、一条家、二条家と何家?\n",
      "解答：藤原家\n",
      "\n",
      "問題：神が生け贄として選んだ者の家の屋根に印をたてたという伝説に由来する、「多くの者の中から選び出される」という意味の慣用句は何?\n",
      "解答：選ばれし者\n",
      "\n",
      "問題：理髪店の前に置かれている、赤・白・青の3色の縞模様が回転する円柱形の看板を何という?\n",
      "解答：バーバーポール\n",
      "\n",
      "問題：カクテルのストロー・ハット、レッドアイ、ブラッディメアリーに共通して用いられるのは何ジュース?\n",
      "解答：トマトジュース\n",
      "\n"
     ]
    },
    {
     "name": "stderr",
     "output_type": "stream",
     "text": [
      "  7%|▋         | 68/1000 [00:12<02:39,  5.86it/s]"
     ]
    },
    {
     "name": "stdout",
     "output_type": "stream",
     "text": [
      "問題：広辞苑でこの言葉を引くと、収入、東、お茶、双六などの説明書きがある、かなにすると3文字の言葉は何?\n",
      "解答：給\n",
      "\n",
      "問題：太陽系の惑星で、ジュリエット、オフィーリア、デズデモーナなどシェイクスピアの作品に登場する人物の名が付けられた衛星を持つ星は何?\n",
      "解答：天王星\n",
      "\n",
      "問題：登山で危険な岩壁を登るとき、安全のためお互いの体をザイルで結び合うことをドイツ語で何という?\n",
      "解答：ベルレンデン\n",
      "\n",
      "問題：1938年のニューヨーク博覧会で最初に使われた言葉で、現在の記録やメッセージなどを未来に残すために地中に埋めておく容器のことを何という?\n",
      "解答：タイムカプセル\n",
      "\n"
     ]
    },
    {
     "name": "stderr",
     "output_type": "stream",
     "text": [
      "  7%|▋         | 72/1000 [00:12<02:27,  6.27it/s]"
     ]
    },
    {
     "name": "stdout",
     "output_type": "stream",
     "text": [
      "問題：つるの切り口から出る液体が化粧水としても利用される、漢字で「糸瓜」と書く植物は何?\n",
      "解答：ウリ\n",
      "\n",
      "問題：オーストラリアの公用語は英語ですが、オーストリアの公用語は何語?\n",
      "解答：ドイツ語\n",
      "\n",
      "問題：サッカー用語の「ハットトリック」は、もともとはどんなスポーツで使われた言葉?\n",
      "解答：クリケット\n",
      "\n",
      "問題：ササン朝ペルシアで国教とされた、アフラ・マズダを最高神とする宗教は何?\n",
      "解答：ゾロアスター教\n",
      "\n"
     ]
    },
    {
     "name": "stderr",
     "output_type": "stream",
     "text": [
      "  8%|▊         | 76/1000 [00:13<02:21,  6.55it/s]"
     ]
    },
    {
     "name": "stdout",
     "output_type": "stream",
     "text": [
      "問題：野球は3アウトでチェンジですが、野球の原型となったクリケットは何アウトでチェンジとなる?\n",
      "解答：10アウト\n",
      "\n",
      "問題：ホッケーは1チーム11人ですが、アイスホッケーは1チーム何人?\n",
      "解答：6人\n",
      "\n",
      "問題：作家アガサ・クリスティーが産んだ「灰色の脳細胞」と呼ばれる名探偵は誰?\n",
      "解答：エルキュール・ポアロ\n",
      "\n",
      "問題：アメリカの二大政党で、民主党のシンボルとなっている動物はロバですが、共和党のシンボルとなっている動物は何?\n",
      "解答：象\n",
      "\n"
     ]
    },
    {
     "name": "stderr",
     "output_type": "stream",
     "text": [
      "  8%|▊         | 80/1000 [00:13<02:16,  6.76it/s]"
     ]
    },
    {
     "name": "stdout",
     "output_type": "stream",
     "text": [
      "問題：「インスタント」と「テレグラム」という英語を合成して名付けられた、写真・動画の共有アプリといえば何?\n",
      "解答：Instagram\n",
      "\n",
      "問題：イタリア・セリエAの「ミラノダービー」で対戦するサッカーチームは、ACミランとどこ?\n",
      "解答：インテルミラノ\n",
      "\n",
      "問題：昭和24年の火災によって金堂の壁画が焼失したことがきっかけで、文化財保護法が成立することとなった、奈良県のお寺は何?\n",
      "解答：法隆寺\n",
      "\n",
      "問題：小説や戯曲で、物語の序盤に登場した人物や小道具を、終盤で重要な意味を持つ伏線として描く手法を、ロシアの作家にちなんで「誰の銃」という?\n",
      "解答：チェーホフの銃\n",
      "\n"
     ]
    },
    {
     "name": "stderr",
     "output_type": "stream",
     "text": [
      "  8%|▊         | 84/1000 [00:14<02:14,  6.83it/s]"
     ]
    },
    {
     "name": "stdout",
     "output_type": "stream",
     "text": [
      "問題：正式名称を「ザンクト・ペーター・ウント・マリア大聖堂」という、ゴシック様式の建築物として世界最大を誇る、ドイツにある世界遺産の大聖堂は何?\n",
      "解答：ケルン大聖堂\n",
      "\n",
      "問題：「万物の根源は数である」と説いた、「三平方の定理」の別名にも名を残す古代ギリシャの数学者は誰?\n",
      "解答：ピタゴラス\n",
      "\n",
      "問題：『ヨハネ受難曲』や『ブランデンブルク協奏曲』を作曲したドイツの音楽家は誰?\n",
      "解答：バッハ\n",
      "\n",
      "問題：翼が生えた靴を履くとされるローマ神話の神様にちなんで名付けられた、アメリカ初の有人宇宙飛行計画は何?\n",
      "解答：マーキュリー計画\n",
      "\n"
     ]
    },
    {
     "name": "stderr",
     "output_type": "stream",
     "text": [
      "  9%|▉         | 88/1000 [00:14<02:06,  7.21it/s]"
     ]
    },
    {
     "name": "stdout",
     "output_type": "stream",
     "text": [
      "問題：1952年にノーベル生理学・医学賞を受賞した、ストレプトマイシンの発見で知られる細菌学者は誰?\n",
      "解答：セルマン・ワクスマン\n",
      "\n",
      "問題：花の形が墨を入れる壺に似ていることから名がついた、春に紫色の花を咲かせる植物は何?\n",
      "解答：藤\n",
      "\n",
      "問題：理髪店でみられる赤、白、青の縞模様が回転する看板のことを何という?\n",
      "解答：バーバーポール\n",
      "\n",
      "問題：姥山貝塚、西之城貝塚、加曽利貝塚などをはじめ、全国にある貝塚の4分の1が位置する都道府県はどこ?\n",
      "解答：大阪府\n",
      "\n"
     ]
    },
    {
     "name": "stderr",
     "output_type": "stream",
     "text": [
      "  9%|▉         | 92/1000 [00:16<03:26,  4.41it/s]"
     ]
    },
    {
     "name": "stdout",
     "output_type": "stream",
     "text": [
      "問題：美人を形容する言葉、「立てば芍薬、座れば牡丹、歩く姿は・・・」、さて、「何の花」?\n",
      "解答：菊\n",
      "\n",
      "問題：アメリカの州の愛称で「ゴールデンステート」と呼ばれるのはカリフォルニア州ですが、「シルバーステート」と呼ばれるのは何州?\n",
      "解答：ネバダ州\n",
      "\n",
      "問題：コレクター心をくすぐる「フルコンプ」や「コンプガチャ」の、「コンプ」とは何という英単語の略?\n",
      "解答：Complete\n",
      "\n",
      "問題：弥生式土器の名前の由来となった弥生町がある、東京都の区は何区?\n",
      "解答：練馬区\n",
      "\n"
     ]
    },
    {
     "name": "stderr",
     "output_type": "stream",
     "text": [
      " 10%|▉         | 96/1000 [00:17<02:58,  5.07it/s]"
     ]
    },
    {
     "name": "stdout",
     "output_type": "stream",
     "text": [
      "問題：玉ねぎを炒める時の炒め具合の目安となる明るい褐色のことを、あるお菓子にたとえて何色という?\n",
      "解答：キャラメル色\n",
      "\n",
      "問題：1980年代、おまけとしてつけられた「悪魔vs天使シール」が子どもたちの間でブームとなった、ロッテのお菓子は何?\n",
      "解答：コアラのマーチ\n",
      "\n",
      "問題：「0対0」という意味がある、卓球やバドミントンの試合開始で主審が行う合図は何?\n",
      "解答：サーブ\n",
      "\n",
      "問題：銅を用いた合金で、青銅で加えるのはスズですが、赤銅で加える金属は何?\n",
      "解答：銅\n",
      "\n"
     ]
    },
    {
     "name": "stderr",
     "output_type": "stream",
     "text": [
      " 10%|█         | 100/1000 [00:17<02:42,  5.54it/s]"
     ]
    },
    {
     "name": "stdout",
     "output_type": "stream",
     "text": [
      "問題：フランス人農園主とアメリカ人従軍看護婦との恋を描いた、『魅惑の宵』『バリハイ』などの劇中曲が有名なミュージカル映画は何?\n",
      "解答：南太平洋\n",
      "\n",
      "問題：故事成語「守株」で、切り株にぶつかって死んでしまった動物は何?\n",
      "解答：鹿\n",
      "\n",
      "問題：人間の体で、咽頭と噴門の間にある、口から入った食べ物を、ぜん動運動によって胃に送る消化器官は何?\n",
      "解答：食道\n",
      "\n",
      "問題：競技かるたで、「秋の田の」と「秋風に」のように、決まり字が途中まで一緒である札を何という?\n",
      "解答：かぶせ札\n",
      "\n"
     ]
    },
    {
     "name": "stderr",
     "output_type": "stream",
     "text": [
      " 10%|█         | 104/1000 [00:18<02:31,  5.92it/s]"
     ]
    },
    {
     "name": "stdout",
     "output_type": "stream",
     "text": [
      "問題：ボクシングで、アゴの先端は「チン」といいますが、アゴの側面は何という?\n",
      "解答：あごわき\n",
      "\n",
      "問題：1825年12月にロシアで起きた反乱を、「十二月党」という意味の言葉から「何の乱」という?\n",
      "解答：デカブリストの乱\n",
      "\n",
      "問題：第二次世界大戦を終結させるために連合国と日本の間で締結された平和条約を、署名されたアメリカの都市から何という?\n",
      "解答：サンフランシスコ\n",
      "\n",
      "問題：ブエノスアイレスを中心に広がっている、アルゼンチンの草原地帯を何という?\n",
      "解答：プンタ・デル・エステ\n",
      "\n"
     ]
    },
    {
     "name": "stderr",
     "output_type": "stream",
     "text": [
      " 11%|█         | 108/1000 [00:21<05:19,  2.79it/s]"
     ]
    },
    {
     "name": "stdout",
     "output_type": "stream",
     "text": [
      "問題：飛行機の客室乗務員のことをアルファベット2文字で「CA」などといいますが、これを略さずいうと「何・アテンダント」?\n",
      "解答：キャビン\n",
      "\n",
      "問題：多くの文豪が通った「ル・ドーム」や「ル・セレクト」などの老舗カフェがある、パリ・セーヌ川左岸の地区は何?\n",
      "解答：サンジェルマン・デ・プレ\n",
      "\n",
      "問題：InstagramなどのSNSで重視される、写真うつりのよいことを英語で何という?\n",
      "解答：Photogenic\n",
      "\n",
      "問題：ホルストの組曲『惑星』で、第1曲は「火星」ですが、第2曲は何?\n",
      "解答：金星\n",
      "\n"
     ]
    },
    {
     "name": "stderr",
     "output_type": "stream",
     "text": [
      " 11%|█         | 112/1000 [00:21<04:15,  3.47it/s]"
     ]
    },
    {
     "name": "stdout",
     "output_type": "stream",
     "text": [
      "問題：うどんの上に生卵を乗せる「月見うどん」で、黄身は月に見立てていますが、白身は何に見立てている?\n",
      "解答：雲\n",
      "\n",
      "問題：『イパネマの娘』などの曲に代表される、1950年代後半に、サンバにジャズの感覚を取り入れて、ブラジルで生れた音楽は何?\n",
      "解答：ボサノバ\n",
      "\n",
      "問題：紫式部の『源氏物語』全54帖の巻名で、最初の第1帖は『桐壺』ですが、次の第2帖は何?\n",
      "解答：帚木\n",
      "\n",
      "問題：文化財保護法第71条第2項にもとづいて文部科学大臣が指定する「重要無形文化財保持者」のことを何という?\n",
      "解答：国宝\n",
      "\n"
     ]
    },
    {
     "name": "stderr",
     "output_type": "stream",
     "text": [
      " 12%|█▏        | 116/1000 [00:22<03:47,  3.88it/s]"
     ]
    },
    {
     "name": "stdout",
     "output_type": "stream",
     "text": [
      "問題：ヒンドゥー教の女神・ラクシュミーにあたる、美や幸運をもたらすとされる仏教の神様は誰?\n",
      "解答：ウンマデービー\n",
      "\n",
      "問題：大坂城の「玉造門」や「京橋門」、江戸城の「平河門」など、お城の裏口にある門のことを、「大手門」に対して何という?\n",
      "解答：裏門\n",
      "\n",
      "問題：江戸時代の僧侶・禅海が、30年余りの歳月をかけて完成させたと伝えられる、大分県の耶馬溪にあるトンネルは何?\n",
      "解答：耶馬渓トンネル\n",
      "\n",
      "問題：衆議院で内閣不信任決議案が可決された場合、内閣は何日以内に総辞職か衆議院解散を行わなくてはならないと定められている?\n",
      "解答：10日間\n",
      "\n"
     ]
    },
    {
     "name": "stderr",
     "output_type": "stream",
     "text": [
      " 12%|█▏        | 120/1000 [00:23<03:14,  4.54it/s]"
     ]
    },
    {
     "name": "stdout",
     "output_type": "stream",
     "text": [
      "問題：「市松模様」という名前の由来となった江戸時代の歌舞伎俳優は誰?\n",
      "解答：市川市松\n",
      "\n",
      "問題：紀元前4世紀にチャンドラグプタが建国し、3代目のアショーカ王の時代に最盛期を迎えた、古代インド最初の統一王朝は何?\n",
      "解答：マウリヤ朝\n",
      "\n",
      "問題：紀元前3000年ごろ、シュメール人の都市国家が成立したことに始まる、チグリス・ユーフラテス川流域で栄えた、世界最古の文明のひとつは何?\n",
      "解答：メソポタミア文明\n",
      "\n",
      "問題：唱歌『夏は来ぬ』の歌詞に登場する2種類の鳥とは、ホトトギスと何?\n",
      "解答：ウグイス\n",
      "\n"
     ]
    },
    {
     "name": "stderr",
     "output_type": "stream",
     "text": [
      " 12%|█▏        | 124/1000 [00:23<02:48,  5.20it/s]"
     ]
    },
    {
     "name": "stdout",
     "output_type": "stream",
     "text": [
      "問題：湖底からナウマンゾウやオオツノジカなどの化石が多数発掘されたことで有名な、長野県黒姫山のふもとにある湖は何?\n",
      "解答：霧ヶ湖\n",
      "\n",
      "問題：上場企業の発行済み株式数に株価をかけて算出される、いわゆる「企業価値」を表す指標を何という?\n",
      "解答：時価総額\n",
      "\n",
      "問題：選挙において、候補者が選挙区をこまめに回り、有権者1人1人に訴えかける選挙手法を、家の前に渡された板にたとえて何選挙という?\n",
      "解答：板挟み選挙\n",
      "\n",
      "問題：漫画のテーマになっているスポーツで、『ハイキュー!!』といえばバレーボールですが、『カイチュー!』といえば何?\n",
      "解答：野球\n",
      "\n"
     ]
    },
    {
     "name": "stderr",
     "output_type": "stream",
     "text": [
      " 13%|█▎        | 128/1000 [00:24<02:58,  4.90it/s]"
     ]
    },
    {
     "name": "stdout",
     "output_type": "stream",
     "text": [
      "問題：アメリカの社会学者デビッド・フィリップスが命名した、マスメディアで取り上げられた自殺報道に影響されることで自殺者が増える現象を何効果という?\n",
      "解答：ウェルチ効果\n",
      "\n",
      "問題：インターネットのホームページのアドレスでよく見る「http」は、何という英語の略?\n",
      "解答：HyperText Transfer Protocol\n",
      "\n",
      "問題：選挙の結果を予測するため、投票を終えた人に誰に投票したかなどを尋ねて得票数を推測することを何調査という?\n",
      "解答：出口調査\n",
      "\n",
      "問題：日本の旧国名で「肥後の国」といえば現在の熊本県にあたりますが、「肥後の国」の語呂合わせで標高を覚える、標高1592mの熊本県の山はどこ?\n",
      "解答：阿蘇山\n",
      "\n"
     ]
    },
    {
     "name": "stderr",
     "output_type": "stream",
     "text": [
      " 13%|█▎        | 132/1000 [00:25<02:42,  5.33it/s]"
     ]
    },
    {
     "name": "stdout",
     "output_type": "stream",
     "text": [
      "問題：交差した2本の剣のトレードマークでおなじみのドイツの陶磁器ブランドで、「ブルーオニオン」や「インドの華」などのシリーズで知られるものは何?\n",
      "解答：メーケンポーゼット\n",
      "\n",
      "問題：小説『桜の木の下には』の作者は梶井基次郎ですが、『桜の森の満開の下』の作者は誰?\n",
      "解答：太宰治\n",
      "\n",
      "問題：日本最大の切手のひとつの図柄にもなった、菱川師宣の代表作の浮世絵は何?\n",
      "解答：冨嶽三十六景\n",
      "\n",
      "問題：美術監督のセドリック・ギボンズによってデザインされた、アカデミー賞の受賞者に贈られる黄金像の通称は何?\n",
      "解答：オスカー\n",
      "\n"
     ]
    },
    {
     "name": "stderr",
     "output_type": "stream",
     "text": [
      " 14%|█▎        | 136/1000 [00:25<02:23,  6.01it/s]"
     ]
    },
    {
     "name": "stdout",
     "output_type": "stream",
     "text": [
      "問題：第1回は小説『博士の愛した数式』が受賞した、全国の書店員の投票によって選ばれる文学賞は何?\n",
      "解答：本屋大賞\n",
      "\n",
      "問題：童話『オズの魔法使い』で、ライオンが欲しがったものは勇気ですが、ブリキの木こりが欲しがったものは何?\n",
      "解答：心臓\n",
      "\n",
      "問題：第1回夏季オリンピックが開催されたのはアテネですが、第1回冬季オリンピックが開催されたのはどこ?\n",
      "解答：シャモニー\n",
      "\n",
      "問題：ドイツの国旗に使われている3色の色といえば、黒、赤と何色?\n",
      "解答：金\n",
      "\n"
     ]
    },
    {
     "name": "stderr",
     "output_type": "stream",
     "text": [
      " 14%|█▍        | 140/1000 [00:26<02:15,  6.34it/s]"
     ]
    },
    {
     "name": "stdout",
     "output_type": "stream",
     "text": [
      "問題：1580年にイエズス会の宣教師によって初めて設立された、日本人聖職者を養成するための神学校を何という?\n",
      "解答：明治学院Universitas Meijigakuin\n",
      "\n",
      "問題：動きが素早いことや時間が短いことを、稲妻の光や火打ち石の火にたとえた四字熟語で何という?\n",
      "解答：電光石火\n",
      "\n",
      "問題：世間のさまざまな話題のことを、漢数字の「四」を使って何話という?\n",
      "解答：四方話\n",
      "\n",
      "問題：「青の洞窟」などの観光名所がある、イタリア・ナポリ沖に浮かぶ風光明媚な島はどこ?\n",
      "解答：カプリ島\n",
      "\n"
     ]
    },
    {
     "name": "stderr",
     "output_type": "stream",
     "text": [
      " 14%|█▍        | 144/1000 [00:26<02:15,  6.30it/s]"
     ]
    },
    {
     "name": "stdout",
     "output_type": "stream",
     "text": [
      "問題：小説『城の崎にて』や『暗夜行路』で知られる白樺派の作家は誰?\n",
      "解答：夏目漱石\n",
      "\n",
      "問題：1989年から95年の間に生まれた人たちのことを、「千年紀」という意味の言葉を使って「何世代」という?\n",
      "解答：千年世代\n",
      "\n",
      "問題：略称はTNSC。豊かな自然に囲まれ「世界一美しいロケット発射場」とも呼ばれる、JAXAが運営する施設は何?\n",
      "解答：種子島宇宙センター\n",
      "\n",
      "問題：交通情報の提供を行う、日本道路交通情報センターのことを、ジャパン・ロード・トラフィック・インフォメーション・センターの頭文字の略称で何という?\n",
      "解答：JARTIC\n",
      "\n"
     ]
    },
    {
     "name": "stderr",
     "output_type": "stream",
     "text": [
      " 15%|█▍        | 148/1000 [00:27<02:03,  6.89it/s]"
     ]
    },
    {
     "name": "stdout",
     "output_type": "stream",
     "text": [
      "問題：カーリングで、ストーンを投げ入れる目標となる同心円のことを何という?\n",
      "解答：ハウス\n",
      "\n",
      "問題：「セコい」「ヨイショ」「トリ」といえば、何に由来する言葉?\n",
      "解答：プロレス\n",
      "\n",
      "問題：「repeated unit」を略して名付けられた、111や1111のようにすべてのケタの数字が1である数のことを何という?\n",
      "解答：レピュニット\n",
      "\n",
      "問題：銀行などの金融機関で、長期間預け入れや払い戻しのない預貯金口座のことを何という?\n",
      "解答：不渡り口座\n",
      "\n"
     ]
    },
    {
     "name": "stderr",
     "output_type": "stream",
     "text": [
      " 15%|█▌        | 152/1000 [00:28<02:12,  6.40it/s]"
     ]
    },
    {
     "name": "stdout",
     "output_type": "stream",
     "text": [
      "問題：アメリカのビジネススクールを修了した人に授与される「経営管理学修士号」をアルファベットの略称で何という?\n",
      "解答：MBA\n",
      "\n",
      "問題：切手用語で、シートに印刷された切手が隣り同士で互いに上下逆さになったもののことをフランス語で何という?\n",
      "解答：タête-bêche\n",
      "\n",
      "問題：文房具で、メモ帳のロディア、手帳のクオバディスといえばどこの国のメーカー?\n",
      "解答：フランス\n",
      "\n",
      "問題：韓国・ソウルの観光スポットにもなっている、1395年に建設された朝鮮王朝の正宮は何?\n",
      "解答：景福宮\n",
      "\n"
     ]
    },
    {
     "name": "stderr",
     "output_type": "stream",
     "text": [
      " 16%|█▌        | 156/1000 [00:28<02:04,  6.78it/s]"
     ]
    },
    {
     "name": "stdout",
     "output_type": "stream",
     "text": [
      "問題：ダイヤモンドや方解石などに見られる、鉱物の結晶がある特定の方向に沿って割れやすいという性質を何という?\n",
      "解答：劈開性\n",
      "\n",
      "問題：7月24日の芥川龍之介の命日を、生前に残した小説や、好んで描いた絵にちなんで何忌という?\n",
      "解答：河童\n",
      "\n",
      "問題：英語で「昼食」と「魅力」を意味する言葉から名づけられた、お弁当などに添えられる、魚の形のタレ容器は何?\n",
      "解答：Bento Box\n",
      "\n",
      "問題：スリランカの国旗に描かれている4つの葉は、どんな植物の葉?\n",
      "解答：イチョウの葉\n",
      "\n"
     ]
    },
    {
     "name": "stderr",
     "output_type": "stream",
     "text": [
      " 16%|█▌        | 160/1000 [00:29<02:01,  6.93it/s]"
     ]
    },
    {
     "name": "stdout",
     "output_type": "stream",
     "text": [
      "問題：フランス語で「新しい料理」という意味がある、1970年代に提唱された、フランス料理の傾向は何?\n",
      "解答：ヌーベルキュイジーヌ\n",
      "\n",
      "問題：ハシヤスメ・アツコやアイナ・ジ・エンドなど6人のメンバーからなる、「楽器を持たないパンクバンド」と呼ばれるガールズグループは何?\n",
      "解答：BiSH\n",
      "\n",
      "問題：1889年、フランス革命100周年を記念したパリ万博の際に建設された、パリ・セーヌ河畔の塔は何?\n",
      "解答：エッフェル塔\n",
      "\n",
      "問題：バスケットボールで、試合やピリオド終了のブザーと同時、またはその直後に決まるシュートのことを何という?\n",
      "解答：ブザービーター\n",
      "\n"
     ]
    },
    {
     "name": "stderr",
     "output_type": "stream",
     "text": [
      " 16%|█▋        | 164/1000 [00:31<03:40,  3.79it/s]"
     ]
    },
    {
     "name": "stdout",
     "output_type": "stream",
     "text": [
      "問題：インドネシア、マレーシア、ブルネイが領土を所有している、世界で3番目に面積が大きい島はどこ?\n",
      "解答：ボルネオ島\n",
      "\n",
      "問題：厚い布地に絵や刺繍などが施された、劇場で舞台と客席とを仕切る、上下に開閉する幕を何という?\n",
      "解答：幕間\n",
      "\n",
      "問題：感情が揺さぶられる音楽などを指して使われる「エモい」の「エモ」とは、何という英語の略?\n",
      "解答：エモーショナル\n",
      "\n",
      "問題：ひと桁の素数をすべて足すといくつになる?\n",
      "解答：17\n",
      "\n"
     ]
    },
    {
     "name": "stderr",
     "output_type": "stream",
     "text": [
      " 17%|█▋        | 168/1000 [00:31<03:04,  4.50it/s]"
     ]
    },
    {
     "name": "stdout",
     "output_type": "stream",
     "text": [
      "問題：1642年にクロムウェルを指導者として起こったイギリスの市民革命のことを、何革命という?\n",
      "解答：ピューリタン革命\n",
      "\n",
      "問題：理科の実験などで、液体の体積を量るために用いられる、円筒形のガラスやプラスチック製の容器に目盛りをつけた道具は何?\n",
      "解答：シリンダー\n",
      "\n",
      "問題：女性科学者の名前に由来する元素で、キュリウムの原子番号は96番ですが、マイトネリウムの原子番号は何番?\n",
      "解答：108番\n",
      "\n",
      "問題：スペインのサッカークラブの「ソシエダ」や「マドリード」の前につく、スペイン語で「王立の、王朝の」という意味がある言葉は何?\n",
      "解答：レアル\n",
      "\n"
     ]
    },
    {
     "name": "stderr",
     "output_type": "stream",
     "text": [
      " 17%|█▋        | 172/1000 [00:32<02:38,  5.23it/s]"
     ]
    },
    {
     "name": "stdout",
     "output_type": "stream",
     "text": [
      "問題：動物園でもおなじみの大型の哺乳類で、英語では「ヒポポタマス」というのは何?\n",
      "解答：カバ\n",
      "\n",
      "問題：体積の単位で、「1リットル」は「何デシリットル」?\n",
      "解答：10デシリットル\n",
      "\n",
      "問題：ニュースなどで聞く「生涯未婚率」とは、満何歳の時点で結婚したことがない人の割合を算出したもの?\n",
      "解答：50歳\n",
      "\n",
      "問題：月の表面に見られる、火山の噴火や隕石の衝突によってできるくぼみのことを何という?\n",
      "解答：クレーター\n",
      "\n"
     ]
    },
    {
     "name": "stderr",
     "output_type": "stream",
     "text": [
      " 18%|█▊        | 176/1000 [00:34<04:06,  3.34it/s]"
     ]
    },
    {
     "name": "stdout",
     "output_type": "stream",
     "text": [
      "問題：周期表において、第3族から第11族の間に位置する元素のことを総称して何元素という?\n",
      "解答：遷移元素\n",
      "\n",
      "問題：ガルシア=マルケスの『百年の孤独』など、中南米の小説にみられる、現実と幻想を融合させた表現技法を何という?\n",
      "解答：マジックリアリズム\n",
      "\n",
      "問題：昭和13年秋のシーズンに、日本プロ野球史上初の三冠王に輝いた、当時の東京巨人軍の選手は誰?\n",
      "解答：金本 知憲\n",
      "\n",
      "問題：ラジウムの原子番号は88番ですが、パラジウムの原子番号は何番?\n",
      "解答：46番\n",
      "\n"
     ]
    },
    {
     "name": "stderr",
     "output_type": "stream",
     "text": [
      " 18%|█▊        | 180/1000 [00:35<03:44,  3.65it/s]"
     ]
    },
    {
     "name": "stdout",
     "output_type": "stream",
     "text": [
      "問題：1963年、ボストーク6号に搭乗して宇宙に飛び立った、史上初の女性宇宙飛行士は誰?\n",
      "解答：テレシコワ\n",
      "\n",
      "問題：複数のプレーヤーがコンピュータゲームで対戦する競技のことを、アルファベット1文字を使って「何スポーツ」という?\n",
      "解答：Eスポーツ\n",
      "\n",
      "問題：「100日間の美術館」とも呼ばれる、ドイツのカッセルで原則として4年ごとに開かれる国際美術展は何?\n",
      "解答：ドクメンタ\n",
      "\n",
      "問題：画家ブリューゲルが題材として描いたものが特に有名な、『旧約聖書』の『創世記』に登場する伝説上の塔といえば何?\n",
      "解答：バベルの塔\n",
      "\n"
     ]
    },
    {
     "name": "stderr",
     "output_type": "stream",
     "text": [
      " 18%|█▊        | 184/1000 [00:37<04:32,  2.99it/s]"
     ]
    },
    {
     "name": "stdout",
     "output_type": "stream",
     "text": [
      "問題：日本式の天気記号で、「天気不明」の記号に横棒を1本加えると、どんな天気を表す?\n",
      "解答：霧\n",
      "\n",
      "問題：自分で何かを作ったり、修繕したりすることを指す「DIY」とは、何という言葉の略?\n",
      "解答：Do It Yourself\n",
      "\n",
      "問題：日本の裁判所は5種類に分けられますが、このうち裁判員裁判が行われるのは何裁判所?\n",
      "解答：地方裁判所\n",
      "\n",
      "問題：音楽のある特定のフレーズが、頭の中で何度もリピートされる現象のことを何効果という?\n",
      "解答：イヤーワーム\n",
      "\n"
     ]
    },
    {
     "name": "stderr",
     "output_type": "stream",
     "text": [
      " 19%|█▉        | 188/1000 [00:37<03:43,  3.64it/s]"
     ]
    },
    {
     "name": "stdout",
     "output_type": "stream",
     "text": [
      "問題：会議の投票で、賛成派と反対派が同数である場合に、議長が投ずる最終決定票のことを、英語で何という?\n",
      "解答：Casting vote\n",
      "\n",
      "問題：「三段論法」における3つの命題といえば、大前提、小前提と何?\n",
      "解答：結論\n",
      "\n",
      "問題：「弥生時代」の「弥生」は東京都の地名に由来しますが、「飛鳥時代」の「飛鳥」は何県の地名に由来する?\n",
      "解答：奈良県\n",
      "\n",
      "問題：ハワイのマウナロア火山に代表される、流動性の大きい溶岩が火口から静かに流出した場合にできる、傾斜の緩やかな火山を何という?\n",
      "解答：シールド火山\n",
      "\n"
     ]
    },
    {
     "name": "stderr",
     "output_type": "stream",
     "text": [
      " 19%|█▉        | 192/1000 [00:38<03:13,  4.17it/s]"
     ]
    },
    {
     "name": "stdout",
     "output_type": "stream",
     "text": [
      "問題：池井戸潤原作のドラマで、『半沢直樹』の舞台となった架空の銀行は東京中央銀行ですが、『花咲舞が黙ってない』の舞台となった架空の銀行は何?\n",
      "解答：東京セントラル銀行\n",
      "\n",
      "問題：「弾丸ツアー」という言葉を商標登録している企業はどこ?\n",
      "解答：株式会社ジェイアール東日本企画\n",
      "\n",
      "問題：『平家物語』にも登場する、猿の頭、狸の胴体、蛇の尾、虎の手足を持つ日本の妖怪は何?\n",
      "解答：天狗\n",
      "\n",
      "問題：デリシャスとゴールデンデリシャスを掛け合わせて誕生した、世界最大の大きさを誇るリンゴの品種は何?\n",
      "解答：ハニークリスプ\n",
      "\n"
     ]
    },
    {
     "name": "stderr",
     "output_type": "stream",
     "text": [
      " 20%|█▉        | 196/1000 [00:38<02:46,  4.84it/s]"
     ]
    },
    {
     "name": "stdout",
     "output_type": "stream",
     "text": [
      "問題：演劇実験室「天井桟敷」を設立し、著書に『田園に死す』や『書を捨てよ、町へ出よう』がある劇作家は誰?\n",
      "解答：三島由紀夫\n",
      "\n",
      "問題：「明治日本の産業革命遺産」や「古都京都の文化財」のように、世界遺産登録に際して、複数の物件をひとつの資産群としてまとめる方式を何という?\n",
      "解答：シリアル nomination\n",
      "\n",
      "問題：『行け、我が想いよ、黄金の翼に乗って』などの曲で有名な、バビロニアの王ネブカドネザル2世を題材にしたヴェルディのオペラは何?\n",
      "解答：ナブッコ\n",
      "\n",
      "問題：トランプのポーカーの役で、ストレートよりも強く、フルハウスよりも弱いものは何?\n",
      "解答：スリーカード\n",
      "\n"
     ]
    },
    {
     "name": "stderr",
     "output_type": "stream",
     "text": [
      " 20%|██        | 200/1000 [00:39<02:48,  4.74it/s]"
     ]
    },
    {
     "name": "stdout",
     "output_type": "stream",
     "text": [
      "問題：世の中の栄枯盛衰がはかないことを、古代中国の趙という国の都にちなんで何という?\n",
      "解答：趙の京\n",
      "\n",
      "問題：東京で、歌舞伎座があるのは中央区ですが、歌舞伎町と呼ばれる歓楽街があるのは何区?\n",
      "解答：新宿区\n",
      "\n",
      "問題：15世紀、スペイン女王の援助を受け、新大陸を発見したイタリア生まれの探検家は誰?\n",
      "解答：クリストファー・コロンブス\n",
      "\n",
      "問題：国際開発金融機関のひとつ「アジアインフラ投資銀行」のことを、アルファベット4文字の略称で何という?\n",
      "解答：AIIB\n",
      "\n"
     ]
    },
    {
     "name": "stderr",
     "output_type": "stream",
     "text": [
      " 20%|██        | 204/1000 [00:40<02:33,  5.17it/s]"
     ]
    },
    {
     "name": "stdout",
     "output_type": "stream",
     "text": [
      "問題：大宝律令の制定や和同開珎の鋳造が行われた時の日本の都は何京といった?\n",
      "解答：平城京\n",
      "\n",
      "問題：バスケットボールはトールブラックス、サッカーはオールホワイツ、ラグビーはオールブラックス、という愛称で呼ばれる代表チームが活躍する南半球の国はどこ?\n",
      "解答：ニュージーランド\n",
      "\n",
      "問題：フランスのソーテルヌ、ドイツのトロッケンベーレンアウスレーゼと並び、世界三大貴腐ワインと称されるハンガリーのワインは何?\n",
      "解答：トカイアスズー\n",
      "\n",
      "問題：アメリカ南北戦争を背景にした小説『病院のスケッチ』や『若草物語』などで知られる女性作家は誰?\n",
      "解答：ルイーザ・メイ・オルコット\n",
      "\n"
     ]
    },
    {
     "name": "stderr",
     "output_type": "stream",
     "text": [
      " 21%|██        | 208/1000 [00:41<02:28,  5.35it/s]"
     ]
    },
    {
     "name": "stdout",
     "output_type": "stream",
     "text": [
      "問題：「勝負には口出し無用」という意味をこめて、将棋盤の脚にかたどられている花は何?\n",
      "解答：菊\n",
      "\n",
      "問題：紫式部の『源氏物語』全54帖の巻名で、漢字1文字のものといえば、『葵』『蛍』と何?\n",
      "解答：横\n",
      "\n",
      "問題：映画などで役者の演技に合わせて声をあてることを「アフレコ」といいますが、これは何という言葉の略?\n",
      "解答：アフターレコーディング\n",
      "\n",
      "問題：サーフィンで、自分の意思でボードから落ちることをプルアウトというのに対し、意思に反して落ちてしまうことを何という?\n",
      "解答：ワイプアウト\n",
      "\n"
     ]
    },
    {
     "name": "stderr",
     "output_type": "stream",
     "text": [
      " 21%|██        | 212/1000 [00:41<02:29,  5.27it/s]"
     ]
    },
    {
     "name": "stdout",
     "output_type": "stream",
     "text": [
      "問題：バビロン第1王朝の王が制定した、「目には目を、歯には歯を」でおなじみの法典は何?\n",
      "解答：ハンムラビ法典\n",
      "\n",
      "問題：絶滅の恐れのある動植物の国際取引を規制する条約のことを、あるアメリカの都市の名前から何条約という?\n",
      "解答：ワシントン条約\n",
      "\n",
      "問題：ゴルフの各ホールで最初にティーショットを打つ人のことを、「名誉」という意味の英語で何という?\n",
      "解答：Honorary starter\n",
      "\n",
      "問題：エリザベス2世が元首を務める国のうち、面積が最も大きいのはどこ?\n",
      "解答：カナダ\n",
      "\n"
     ]
    },
    {
     "name": "stderr",
     "output_type": "stream",
     "text": [
      " 22%|██▏       | 216/1000 [00:42<02:18,  5.67it/s]"
     ]
    },
    {
     "name": "stdout",
     "output_type": "stream",
     "text": [
      "問題：数学用語で、方程式の解が存在しないことを「不能」といいますが、方程式の解が無数にあることを何という?\n",
      "解答：多義\n",
      "\n",
      "問題：中国・唐および宋の時代に活躍した、韓愈、柳宗元、欧陽修、蘇洵、蘇軾、蘇轍、曾鞏、王安石の8人の散文作家を総称して何という?\n",
      "解答：唐宋八大家\n",
      "\n",
      "問題：スーパーマーケットの中で食事ができるようになっている業態の店を、「グローサリー」と「レストラン」を合わせた言葉で何という?\n",
      "解答：グローサランット\n",
      "\n",
      "問題：ウィリアム・フォークナーの小説『響きと怒り』や『サンクチュアリ』など多くの作品で舞台として描かれている架空の町はどこ?\n",
      "解答：ヨクナパトーファ県\n",
      "\n"
     ]
    },
    {
     "name": "stderr",
     "output_type": "stream",
     "text": [
      " 22%|██▏       | 220/1000 [00:43<02:18,  5.64it/s]"
     ]
    },
    {
     "name": "stdout",
     "output_type": "stream",
     "text": [
      "問題：明治維新に際して起きた、新政府軍と旧幕府軍との一連の戦いを、戦争が勃発した明治元年の干支から何という?\n",
      "解答：戊辰戦争\n",
      "\n",
      "問題：19世紀のギリシャ独立戦争で、オスマントルコの軍隊による虐殺で悲劇に見舞われた島をモチーフにして描いた、画家・ドラクロワの有名な絵画は何?\n",
      "解答：「自由を求めるギリシャ人」\n",
      "\n",
      "問題：広島県の鞆の浦をイメージしたという、新春によく聴く、宮城道雄による琴の名曲は何?\n",
      "解答：鞆の浦\n",
      "\n",
      "問題：英語で「輝く」という意味を持つ、ダイヤモンドを58面体にする研磨方法を「何カット」という?\n",
      "解答：ブリリアントカット\n",
      "\n"
     ]
    },
    {
     "name": "stderr",
     "output_type": "stream",
     "text": [
      " 22%|██▏       | 224/1000 [00:43<02:08,  6.04it/s]"
     ]
    },
    {
     "name": "stdout",
     "output_type": "stream",
     "text": [
      "問題：東京学生アメリカンフットボール連盟の設立にも尽力し「日本フットボールの父」とも呼ばれているアメリカ人は誰?\n",
      "解答：ジョン・パウエル (John Powell)\n",
      "\n",
      "問題：部屋の内装をインテリアというのに対し、塀や門扉などの外装のことを何という?\n",
      "解答：エクステリア\n",
      "\n",
      "問題：激しい争いの場を「修羅場」といいますが、この言葉の由来で戦った神は阿修羅と誰?\n",
      "解答：帝釈天\n",
      "\n",
      "問題：洋服の柄で、ヒッコリー、レジメンタル、チョーク、ピンなどの種類があるのはどんな模様?\n",
      "解答：ストライプ\n",
      "\n"
     ]
    },
    {
     "name": "stderr",
     "output_type": "stream",
     "text": [
      " 23%|██▎       | 228/1000 [00:47<04:58,  2.58it/s]"
     ]
    },
    {
     "name": "stdout",
     "output_type": "stream",
     "text": [
      "問題：マフィンやマカロンなどのともだちがいる、ゴールデン・レトリバーをモチーフにしたサンリオのキャラクターは何?\n",
      "解答：ポムポムプリン\n",
      "\n",
      "問題：13世紀から16世紀にかけてリューベックやハンブルクが結成した、北ドイツの都市同盟は何?\n",
      "解答：ハンザ同盟\n",
      "\n",
      "問題：司法書士免許を交付するのは法務大臣ですが、行政書士免許を交付するのは何大臣?\n",
      "解答：総務大臣\n",
      "\n",
      "問題：「eスポーツ」の「e」は何という英単語の頭文字?\n",
      "解答：electronic\n",
      "\n"
     ]
    },
    {
     "name": "stderr",
     "output_type": "stream",
     "text": [
      " 23%|██▎       | 232/1000 [00:47<04:00,  3.20it/s]"
     ]
    },
    {
     "name": "stdout",
     "output_type": "stream",
     "text": [
      "問題：本名をアレッサンドロ・マリアーノ・フィリペピという、代表作『ビーナスの誕生』『プリマヴェーラ』で知られるイタリアの画家は誰?\n",
      "解答：サンドロ・ボッティチェッリ\n",
      "\n",
      "問題：フランス語で「新しい橋」という意味の名がついた、セーヌ川にかかるパリの橋のうち、最も古いものは何?\n",
      "解答：新橋\n",
      "\n",
      "問題：ニューヨークを舞台に、主人公の少女が両親を探して奮闘する姿を描いた、劇中歌『Tomorrow』も有名なミュージカルは何?\n",
      "解答：アニー\n",
      "\n",
      "問題：タナカ、カトウ、ケンモツ、ヤマワキ、グシケン、モリスエといえば、体操のどの種目の技の名前?\n",
      "解答：鉄棒\n",
      "\n"
     ]
    },
    {
     "name": "stderr",
     "output_type": "stream",
     "text": [
      " 24%|██▎       | 236/1000 [00:48<03:16,  3.89it/s]"
     ]
    },
    {
     "name": "stdout",
     "output_type": "stream",
     "text": [
      "問題：小説『トム・ソーヤーの冒険』や『ハックルベリー・フィンの冒険』などを書いたアメリカの作家は誰?\n",
      "解答：マーク・トウェイン\n",
      "\n",
      "問題：赤ら顔の子どもの姿で、ガジュマルの木に棲むとされる、沖縄の妖怪は何?\n",
      "解答：ナーナーセー\n",
      "\n",
      "問題：正式名称を「リバティ・エンライトニング・ザ・ワールド」という、ニューヨーク・リバティ島に建つ有名な像は何?\n",
      "解答：自由の女神\n",
      "\n",
      "問題：「オルレアンの少女」と呼ばれ、15世紀の百年戦争でフランスを勝利に導いた女性といえば誰?\n",
      "解答：ジャンヌ・ダルク\n",
      "\n"
     ]
    },
    {
     "name": "stderr",
     "output_type": "stream",
     "text": [
      " 24%|██▍       | 240/1000 [00:49<02:57,  4.28it/s]"
     ]
    },
    {
     "name": "stdout",
     "output_type": "stream",
     "text": [
      "問題：高杉晋作など多くの幕末の志士が学んだ、吉田松陰が主宰した長州藩の私塾は何?\n",
      "解答：藩校\n",
      "\n",
      "問題：早稲田大学のラグビー蹴球部が大学選手権で優勝した時にのみ歌われる、部の第二部歌のタイトルは何?\n",
      "解答：早稲田大学栄光の早稲田\n",
      "\n",
      "問題：2112年9月3日生まれ。身長129.3cm、体重129.3kg。おなかの四次元ポケットから様々なひみつ道具を出す、藤子・F・不二雄の漫画のキャラクターといえば何?\n",
      "解答：ドラえもん\n",
      "\n",
      "問題：グレートアーテジアン盆地、グレートサンディ砂漠、グレートディヴァイディング山脈がある国はどこ?\n",
      "解答：オーストラリア\n",
      "\n"
     ]
    },
    {
     "name": "stderr",
     "output_type": "stream",
     "text": [
      " 24%|██▍       | 244/1000 [00:50<03:10,  3.97it/s]"
     ]
    },
    {
     "name": "stdout",
     "output_type": "stream",
     "text": [
      "問題：映画『ピノキオ』で、コオロギのジミニー・クリケットが歌い、アカデミー歌曲賞を受賞した挿入歌は何?\n",
      "解答：When You Wish Upon a Star\n",
      "\n",
      "問題：仏教における「四天王」とは、東を護る持国天、西を護る広目天、南を護る増長天と、北を護る何という神様?\n",
      "解答：毘沙門天\n",
      "\n",
      "問題：1936年の春場所から1939年の春場所まで、69連勝の記録を作った昭和の横綱は誰?\n",
      "解答：大相撲の第35代横綱・栃木山 実は、この記録は現在も破られていません。\n",
      "\n",
      "問題：長崎市の沖にある、かつて炭鉱の島として栄えた端島は、その外見からあるものに見立てて何島と呼ばれる?\n",
      "解答：軍艦島\n",
      "\n"
     ]
    },
    {
     "name": "stderr",
     "output_type": "stream",
     "text": [
      " 25%|██▍       | 248/1000 [00:50<02:45,  4.54it/s]"
     ]
    },
    {
     "name": "stdout",
     "output_type": "stream",
     "text": [
      "問題：1446年に「ハングル」を公布し普及させた、李氏朝鮮の第4代国王は誰?\n",
      "解答：セジョン（世宗）\n",
      "\n",
      "問題：原題は『ブッチ・キャシディ・アンド・ザ・サンダンス・キッド』。ポール・ニューマンとロバート・レッドフォードが2人組の強盗を演じた、アメリカン・ニューシネマの傑作といえば何?\n",
      "解答：華麗なる賭け\n",
      "\n",
      "問題：第一次護憲運動が起こった時の総理大臣は桂太郎ですが、第二次護憲運動が起こった時の総理大臣は誰?\n",
      "解答：高橋是清\n",
      "\n",
      "問題：西洋で不吉とされる「13」という数字を嫌うことを、ギリシャ語の「13」と英語の「恐怖症」という意味の言葉で何という?\n",
      "解答：トリスカイデカフォビア\n",
      "\n"
     ]
    },
    {
     "name": "stderr",
     "output_type": "stream",
     "text": [
      " 25%|██▌       | 252/1000 [00:51<02:24,  5.17it/s]"
     ]
    },
    {
     "name": "stdout",
     "output_type": "stream",
     "text": [
      "問題：重さ350g以上、糖度15度以上などの基準を満たしたものだけがこう呼ばれる、宮崎県産の完熟マンゴーの愛称は何?\n",
      "解答：マンゴーン\n",
      "\n",
      "問題：野菜の切り方で、「半月切り」にしたものをさらに半分にすることを、その形がある植物に似ていることから「何切り」という?\n",
      "解答：くし切り\n",
      "\n",
      "問題：もともと芝居の幕と幕の間の休憩時間に食べたことから名がついた、ご飯と数種類のおかずを詰め合わせた弁当は何?\n",
      "解答：弁当\n",
      "\n",
      "問題：分数で、4分の2を2分の1とするように、分母と分子を同じ数で割って、簡単な分数にすることを何という?\n",
      "解答：約分\n",
      "\n"
     ]
    },
    {
     "name": "stderr",
     "output_type": "stream",
     "text": [
      " 26%|██▌       | 256/1000 [00:52<02:59,  4.14it/s]"
     ]
    },
    {
     "name": "stdout",
     "output_type": "stream",
     "text": [
      "問題：中国の詩人、李白や孟浩然らの詩をドイツ語に訳した詩集「中国の笛」に基づいて歌詞が書かれている、グスタフ・マーラーの交響曲は何?\n",
      "解答：大地の歌\n",
      "\n",
      "問題：小説『太郎物語』の作者は曽野綾子ですが、『次郎物語』の作者は誰?\n",
      "解答：梶井基次郎\n",
      "\n",
      "問題：経済学の古典『資本論』を書いたのはマルクスですが、その『資本論』をさらに展開させた『金融資本論』を書いたドイツの経済学者は誰?\n",
      "解答：ヒルファーディング\n",
      "\n",
      "問題：「へのへのもへじ」の落書きで、「も」が表しているのは顔のどの部分?\n",
      "解答：目\n",
      "\n"
     ]
    },
    {
     "name": "stderr",
     "output_type": "stream",
     "text": [
      " 26%|██▌       | 260/1000 [00:53<02:38,  4.66it/s]"
     ]
    },
    {
     "name": "stdout",
     "output_type": "stream",
     "text": [
      "問題：毎年12月に「今年の漢字」が発表される京都のお寺はどこ?\n",
      "解答：清水寺\n",
      "\n",
      "問題：ミケランジェロの『ダビデ像』などのように、彫刻作品で、体の重心を片方の足にかけて、左右非対称の姿勢に表現したものを何という?\n",
      "解答：コントラポストo\n",
      "\n",
      "問題：中央にマサイ族の盾と槍が描かれた国旗を持つ、首都をナイロビに置くアフリカの国はどこ?\n",
      "解答：ケニア\n",
      "\n",
      "問題：関係者の言い分が食い違っていて真相がわからないことを、芥川龍之介の小説にちなんで何という?\n",
      "解答：蜘蛛巣城\n",
      "\n"
     ]
    },
    {
     "name": "stderr",
     "output_type": "stream",
     "text": [
      " 26%|██▋       | 264/1000 [00:54<03:08,  3.91it/s]"
     ]
    },
    {
     "name": "stdout",
     "output_type": "stream",
     "text": [
      "問題：歴史物語で「四鏡」と呼ばれる4つの書物は、『大鏡』『今鏡』『水鏡』とあとひとつは何?\n",
      "解答：『扶桑略記』\n",
      "\n",
      "問題：中国の国会に相当する立法機関を何という?\n",
      "解答：全国人民代表大会 (全人代)\n",
      "\n",
      "問題：「邪念を抱くものに災いあれ」という意味のフランス語が刺繍されている、エドワード3世が制定したイギリスの最高勲章といえば何?\n",
      "解答：ガーター勲章\n",
      "\n",
      "問題：日本で「領海」と規定されているのは、領土から何海里離れたところまでの海を指す?\n",
      "解答：12海里\n",
      "\n"
     ]
    },
    {
     "name": "stderr",
     "output_type": "stream",
     "text": [
      " 27%|██▋       | 268/1000 [00:55<02:43,  4.49it/s]"
     ]
    },
    {
     "name": "stdout",
     "output_type": "stream",
     "text": [
      "問題：ワーグナーの楽劇『ニーベルングの指環』を構成する四部作といえば、『ラインの黄金』『ワルキューレ』『ジークフリート』と何?\n",
      "解答：『神々の黄昏』\n",
      "\n",
      "問題：同一人物が同じ時刻に別の場所に現れる現象や、自分と同じ姿をしたもう1人の自分を見る現象のことを、ドイツ語で何という?\n",
      "解答：ダッペルゲンガー\n",
      "\n",
      "問題：大阪府にある唯一の村は千早赤阪村ですが、京都府にある唯一の村は何?\n",
      "解答：与謝野村\n",
      "\n",
      "問題：サンチョ・パンサという従者を引き連れて遍歴の旅に出かける主人公の姿を描いた、セルバンテスの小説は何?\n",
      "解答：ドン・キホーテ\n",
      "\n"
     ]
    },
    {
     "name": "stderr",
     "output_type": "stream",
     "text": [
      " 27%|██▋       | 272/1000 [00:56<02:25,  5.02it/s]"
     ]
    },
    {
     "name": "stdout",
     "output_type": "stream",
     "text": [
      "問題：小説に登場する名探偵で、法月綸太郎の生みの親は法月綸太郎ですが、法水麟太郎の生みの親は誰?\n",
      "解答：法水麟太郎\n",
      "\n",
      "問題：意外なところから意外なものが出ることをいったことわざ。「何から駒」?\n",
      "解答：馬鹿\n",
      "\n",
      "問題：針金やプラスチックの枠に和紙を貼ってつくられる、金魚すくいで金魚をすくう道具は何?\n",
      "解答：金魚すくい網\n",
      "\n",
      "問題：国会や地方議会で、議事の進行や議決に必要な最小限の出席人数のことを何という?\n",
      "解答：定足数\n",
      "\n"
     ]
    },
    {
     "name": "stderr",
     "output_type": "stream",
     "text": [
      " 28%|██▊       | 276/1000 [00:56<02:12,  5.46it/s]"
     ]
    },
    {
     "name": "stdout",
     "output_type": "stream",
     "text": [
      "問題：「フットスツール」とも呼ばれる、椅子の前に置いて足を乗せるクッション台のことを英語で何という?\n",
      "解答：ottoman\n",
      "\n",
      "問題：英語で「コーン」という立体は「円すい」ですが、「シリンダー」という立体は何?\n",
      "解答：円柱\n",
      "\n",
      "問題：1973年に採択された、「絶滅のおそれのある野生動植物の種の国際取引に関する条約」の通称は何条約?\n",
      "解答：ワシントン条約\n",
      "\n",
      "問題：江戸幕末から明治にかけて活躍した人物で、「郵便の父」と呼ばれたのは前島密ですが、「新聞の父」と呼ばれた、日本語による初の新聞「海外新聞」の創設者は誰?\n",
      "解答：福澤諭吉\n",
      "\n"
     ]
    },
    {
     "name": "stderr",
     "output_type": "stream",
     "text": [
      " 28%|██▊       | 280/1000 [00:57<02:03,  5.83it/s]"
     ]
    },
    {
     "name": "stdout",
     "output_type": "stream",
     "text": [
      "問題：1914年に、アメリカの植物学者の調査によって世界に知られたことから名前がついた、屋久杉の大きな切り株を何という?\n",
      "解答：ジャイアント・ステップ\n",
      "\n",
      "問題：クラン川とゴンパック川が合流する地点であることから、「濁った川が交わる場所」という意味の名前がつけられた、マレーシアの首都はどこ?\n",
      "解答：クアラルンプール\n",
      "\n",
      "問題：標高は3193メートル。火山ではない山としては、日本で標高が最も高い山は何?\n",
      "解答：富士山\n",
      "\n",
      "問題：受難前夜、イエス・キリストが12人の弟子たちとともに過ごした夕食風景を描いた、レオナルド・ダ・ヴィンチの名画は何?\n",
      "解答：最後の晩餐\n",
      "\n"
     ]
    },
    {
     "name": "stderr",
     "output_type": "stream",
     "text": [
      " 28%|██▊       | 284/1000 [00:57<01:57,  6.09it/s]"
     ]
    },
    {
     "name": "stdout",
     "output_type": "stream",
     "text": [
      "問題：イギリスのエリザベス1世はチューダー朝の女王ですが、エリザベス2世は何朝の女王?\n",
      "解答：ウィンザー朝\n",
      "\n",
      "問題：日本庭園で、地面に大きな甕を埋め、その中に少しずつ水が滴り落ちるようして、涼やかな音色を響かせる仕掛けを何という?\n",
      "解答：しずく石\n",
      "\n",
      "問題：パリ郊外・ジヴェルニーの自宅の庭に作った池をモチーフにして描き続けた、画家クロード・モネの連作シリーズといえば何?\n",
      "解答：睡蓮【すいれん】\n",
      "\n",
      "問題：「知に働けば角が立つ、情に棹させば流される」という有名な一節が登場する、夏目漱石の小説は何?\n",
      "解答：『こゝろ』\n",
      "\n"
     ]
    },
    {
     "name": "stderr",
     "output_type": "stream",
     "text": [
      " 29%|██▉       | 288/1000 [00:58<01:49,  6.52it/s]"
     ]
    },
    {
     "name": "stdout",
     "output_type": "stream",
     "text": [
      "問題：「No plan like yours to study history wisely」といえば、どこの国の王朝を覚えるためのフレーズ?\n",
      "解答：イギリス\n",
      "\n",
      "問題：兼好法師の随筆『徒然草』の第52段「仁和寺にある法師」で、仁和寺の法師が参拝に出かける、京都の神社はどこ?\n",
      "解答：八坂神社\n",
      "\n",
      "問題：イヌの品種で、パグ、シー・ズー、チャウチャウ、ペキニーズの原産国は、いずれもどこ?\n",
      "解答：中国\n",
      "\n",
      "問題：カレーやシチューにとろみをつけるために加えられる、小麦粉をバターで炒めたものを何という?\n",
      "解答：ルー\n",
      "\n"
     ]
    },
    {
     "name": "stderr",
     "output_type": "stream",
     "text": [
      " 29%|██▉       | 292/1000 [00:58<01:46,  6.65it/s]"
     ]
    },
    {
     "name": "stdout",
     "output_type": "stream",
     "text": [
      "問題：アニメ『ちびまる子ちゃん』のオープニング曲『おどるポンポコリン』の、作詞はさくらももこですが、作曲は誰?\n",
      "解答：加藤和彦\n",
      "\n",
      "問題：音楽にちなんだ記念日で、6月9日は「ロックの日」ですが、9月4日は何の日?\n",
      "解答：クラシック音楽の日\n",
      "\n",
      "問題：日本三景のうち、京都府にあるものは何?\n",
      "解答：天橋立\n",
      "\n",
      "問題：エンゲージリングのデザインとして人気が高い、宝石を1粒だけあしらった指輪を、フランス語で何という?\n",
      "解答：ソリテール\n",
      "\n"
     ]
    },
    {
     "name": "stderr",
     "output_type": "stream",
     "text": [
      " 30%|██▉       | 296/1000 [00:59<01:42,  6.88it/s]"
     ]
    },
    {
     "name": "stdout",
     "output_type": "stream",
     "text": [
      "問題：雪が解けきらないうちに花を咲かせることから「雪中花」とも呼ばれる、黄、クチベニ、ラッパなどの品種がある植物は何?\n",
      "解答：スノードロップ\n",
      "\n",
      "問題：『パリのアメリカ人』『ラプソディー・イン・ブルー』などの作品で知られるアメリカの作曲家は誰?\n",
      "解答：ジョージ・ガーシュウィン\n",
      "\n",
      "問題：絵を描く時に使う、絵の具を溶いたり、混ぜたりするための板のことを何という?\n",
      "解答：パレット\n",
      "\n",
      "問題：NHLのメイプルリーフス、NBAのラプターズ、MLBのブルージェイズが本拠地を置くカナダの都市はどこ?\n",
      "解答：トロント\n",
      "\n"
     ]
    },
    {
     "name": "stderr",
     "output_type": "stream",
     "text": [
      " 30%|███       | 300/1000 [00:59<01:40,  6.98it/s]"
     ]
    },
    {
     "name": "stdout",
     "output_type": "stream",
     "text": [
      "問題：「八代集」といわれる勅撰和歌集の中で、最初に編纂されたのは「古今和歌集」ですが、2番目に編纂されたのは何?\n",
      "解答：後撰和歌集\n",
      "\n",
      "問題：黄道十二星座で、「スコルピウス」という学名を持つのは「さそり座」ですが、「サジタリウス」という学名を持つのは何座?\n",
      "解答：射手座\n",
      "\n",
      "問題：「火中の栗を拾う」の由来となった寓話で、サルに火の中にある栗を拾わされた動物は何?\n",
      "解答：猫\n",
      "\n",
      "問題：石津謙介が提唱した、服装を、時間・場所・場合に応じて決めるという考えを何という?\n",
      "解答：ファッションマッチング\n",
      "\n"
     ]
    },
    {
     "name": "stderr",
     "output_type": "stream",
     "text": [
      " 30%|███       | 304/1000 [01:00<01:49,  6.36it/s]"
     ]
    },
    {
     "name": "stdout",
     "output_type": "stream",
     "text": [
      "問題：国語の教科書にもよく出てくる、「くれなゐの二尺のびたる薔薇の芽の針やはらかに春雨の降る」を詠んだ有名な歌人は誰?\n",
      "解答：与謝蕪村\n",
      "\n",
      "問題：力量が同じ人同士のことを「実力伯仲」などといいますが、この「伯仲」とはもともとどんな関係を表す言葉?\n",
      "解答：兄弟\n",
      "\n",
      "問題：タラッサ、ナイアド、ネレイド、トリトンなどの衛星をもつ、太陽系の惑星は何?\n",
      "解答：海王星\n",
      "\n",
      "問題：ジェームス・ディーンが主演した3つの映画作品は、『エデンの東』『理由なき反抗』と何?\n",
      "解答：『巴里のアメリカ人』\n",
      "\n"
     ]
    },
    {
     "name": "stderr",
     "output_type": "stream",
     "text": [
      " 31%|███       | 308/1000 [01:01<01:40,  6.89it/s]"
     ]
    },
    {
     "name": "stdout",
     "output_type": "stream",
     "text": [
      "問題：映画やテレビの撮影で音声スタッフが持つマイクに取り付けられる、フワフワした毛皮のようなカバーを何という?\n",
      "解答：デッドキャット\n",
      "\n",
      "問題：音楽、文学、芸術など、人間の様々な知的活動を司るとされる、ギリシャ神話に登場する9人の女神たちを何という?\n",
      "解答：ムーサ（ミューズ）\n",
      "\n",
      "問題：手相占いで「三大線」と呼ばれる3つの線といえば、知能線、感情線と、あとひとつは何線?\n",
      "解答：生命線\n",
      "\n",
      "問題：小説『レ・ミゼラブル』で、逃亡生活を送るジャン・バルジャンが養女として育てる少女の名前は何?\n",
      "解答：コゼット\n",
      "\n"
     ]
    },
    {
     "name": "stderr",
     "output_type": "stream",
     "text": [
      " 31%|███       | 312/1000 [01:01<01:42,  6.68it/s]"
     ]
    },
    {
     "name": "stdout",
     "output_type": "stream",
     "text": [
      "問題：細い方の先端をスモールチップ、太い方の先端をブレードという、主に男性が首に巻くファッションアイテムは何?\n",
      "解答：ネクタイ\n",
      "\n",
      "問題：2人の人物が背中合わせに立つ様子をかたどって作られた、ある方角を表す漢字は何?\n",
      "解答：南\n",
      "\n",
      "問題：芝居のセリフで、1人で言うものをモノローグというのに対し、2人以上で交わされるものを何という?\n",
      "解答：ダイアローグ\n",
      "\n",
      "問題：1968年にチェコスロバキアで起こった「プラハの春」を背景に、2人の女性テレーザとサビーナ、主人公のトマシュの三角関係を描いた、ミラン・クンデラの小説は何?\n",
      "解答：「存在の耐えられない軽さ」\n",
      "\n"
     ]
    },
    {
     "name": "stderr",
     "output_type": "stream",
     "text": [
      " 32%|███▏      | 316/1000 [01:02<01:55,  5.90it/s]"
     ]
    },
    {
     "name": "stdout",
     "output_type": "stream",
     "text": [
      "問題：聖母マリアを讃え「マリアの黄金の花」という意味の名がつけられたとされる、園芸植物としてもおなじみのキク科の花は何?\n",
      "解答：キンセンカ\n",
      "\n",
      "問題：ネルソン提督率いるイギリス艦隊が、フランス・スペインの連合艦隊を破った1805年の戦いは何?\n",
      "解答：トラファルガーの海戦\n",
      "\n",
      "問題：英語では「アブソルート・モナーキズム」という、16世紀から18世紀のヨーロッパで、強大な権力を持つ国王が国を支配した政治形態を何という?\n",
      "解答：絶対王政\n",
      "\n",
      "問題：イタリア語で「空気」という意味がある、オペラなどで歌われる伴奏つきの旋律的な独唱を何という?\n",
      "解答：アリア\n",
      "\n"
     ]
    },
    {
     "name": "stderr",
     "output_type": "stream",
     "text": [
      " 32%|███▏      | 320/1000 [01:03<01:51,  6.09it/s]"
     ]
    },
    {
     "name": "stdout",
     "output_type": "stream",
     "text": [
      "問題：ルネサンス期のヨーロッパの三大発明と呼ばれるものとは、火薬、羅針盤と何?\n",
      "解答：活版印刷\n",
      "\n",
      "問題：もともと、男女ペアが円を描くように踊る曲だったことからドイツ語で「回転する」という意味の名前がつけられた、日本語では「円舞曲」と呼ばれる音楽の楽曲形式は何?\n",
      "解答：ワルツ\n",
      "\n",
      "問題：狂言師で「萬斎」「万蔵」の名字は野村ですが、「宗彦」「逸平」の名字は何?\n",
      "解答：野村\n",
      "\n",
      "問題：広島県にある世界遺産で、原爆ドームがあるのは広島市ですが、厳島神社があるのは何市?\n",
      "解答：広島市\n",
      "\n"
     ]
    },
    {
     "name": "stderr",
     "output_type": "stream",
     "text": [
      " 32%|███▏      | 324/1000 [01:03<01:48,  6.22it/s]"
     ]
    },
    {
     "name": "stdout",
     "output_type": "stream",
     "text": [
      "問題：長ネギの白い部分をごく細くせん切りにしたものを、人間の髪の毛にたとえて何という?\n",
      "解答：ヘアスプリング\n",
      "\n",
      "問題：元素の周期表において第11族に属する、銅、銀、金、レントゲニウムを総称して何元素という?\n",
      "解答：貴金属\n",
      "\n",
      "問題：「足元を見る」「肩代わり」「相棒」。これらの言葉の語源となった職業は何?\n",
      "解答：相撲 (すもう)\n",
      "\n",
      "問題：フランス北西海岸のサン・マロ湾に浮かぶ陸繋島に築かれた、世界遺産にも登録されている修道院は何?\n",
      "解答：モン・サン＝ミシェル修道院\n",
      "\n"
     ]
    },
    {
     "name": "stderr",
     "output_type": "stream",
     "text": [
      " 33%|███▎      | 328/1000 [01:04<01:43,  6.52it/s]"
     ]
    },
    {
     "name": "stdout",
     "output_type": "stream",
     "text": [
      "問題：円周率において、小数点以下762ケタから767ケタで、数字の「9」が連続して6個並ぶ部分のことを、アメリカの物理学者の名から何という?\n",
      "解答：ファインマン点\n",
      "\n",
      "問題：アルファベット2文字での表記は「FB」。ラグビーで、ディフェンスラインの最後尾に位置し、相手チームの攻撃に対する「最後の砦」となるポジションは何?\n",
      "解答：フルバック\n",
      "\n",
      "問題：1992年の映画『ボディガード』でヒロインを演じ、主題歌『オールウェイズ・ラヴ・ユー』を歌った女性歌手は誰?\n",
      "解答：ホイットニー・ヒューストン\n",
      "\n",
      "問題：東京メトロで、「虎ノ門」駅があるのは銀座線ですが、「桜田門」駅があるのは何線?\n",
      "解答：丸ノ内線\n",
      "\n"
     ]
    },
    {
     "name": "stderr",
     "output_type": "stream",
     "text": [
      " 33%|███▎      | 332/1000 [01:05<01:42,  6.52it/s]"
     ]
    },
    {
     "name": "stdout",
     "output_type": "stream",
     "text": [
      "問題：七福神の中で、唯一の日本の神様は何?\n",
      "解答：恵比寿神\n",
      "\n",
      "問題：貝を大きく2種類に分けると、二枚貝と何?\n",
      "解答：巻貝\n",
      "\n",
      "問題：頭を入れる部分が多いカウボーイハットの一種を10ガロンもの水が入るということから何という?\n",
      "解答：テンガロンハット\n",
      "\n",
      "問題：映画『麗しのサブリナ』や『ローマの休日』などに主演した往年の女優は誰?\n",
      "解答：オードリー・ヘプバーン\n",
      "\n"
     ]
    },
    {
     "name": "stderr",
     "output_type": "stream",
     "text": [
      " 34%|███▎      | 336/1000 [01:05<01:43,  6.40it/s]"
     ]
    },
    {
     "name": "stdout",
     "output_type": "stream",
     "text": [
      "問題：悪石島や宝島など12の島からなる、屋久島と奄美大島の間にある火山列島は何?\n",
      "解答：沖永良部島\n",
      "\n",
      "問題：自分で自分をほめることを、「自」という字を2回使った四字熟語で何という?\n",
      "解答：自画自賛\n",
      "\n",
      "問題：主人公ダルタニアンが、3人の剣士、アトス、アラミス、ポルトスとともに活躍する姿を描いたデュマの小説は何?\n",
      "解答：三銃士\n",
      "\n",
      "問題：野菜スティックやクラッカーなどにつけることが多いクリーム状のソースを、「浸す」という意味の英語で何という?\n",
      "解答：Dip\n",
      "\n"
     ]
    },
    {
     "name": "stderr",
     "output_type": "stream",
     "text": [
      " 34%|███▍      | 340/1000 [01:06<01:35,  6.92it/s]"
     ]
    },
    {
     "name": "stdout",
     "output_type": "stream",
     "text": [
      "問題：日本の作家で、哲郎、朱門、綾子、しをんに共通する名字は何?\n",
      "解答：村上\n",
      "\n",
      "問題：『源氏物語』全54帖で唯一、前巻と後巻に分かれているのは何?\n",
      "解答：第四十四帖\n",
      "\n",
      "問題：長さ約1000キロメートルで国内最長、流域面積も国土の5分の1以上を占めるという、フランスの大河は何?\n",
      "解答：ロワール川\n",
      "\n",
      "問題：デパートの化粧品売り場で働く美容部員のことをアルファベット2文字で「BA」といいますが、これは何という言葉の略?\n",
      "解答：Beauty Advisor\n",
      "\n"
     ]
    },
    {
     "name": "stderr",
     "output_type": "stream",
     "text": [
      " 34%|███▍      | 344/1000 [01:06<01:34,  6.92it/s]"
     ]
    },
    {
     "name": "stdout",
     "output_type": "stream",
     "text": [
      "問題：囲碁で、名人、棋聖、本因坊の三大タイトルを獲得することを何という?\n",
      "解答：三冠\n",
      "\n",
      "問題：「新約聖書」の一節からタイトルをつけた、昭和30年代に起きた連続殺人事件を題材にした、佐木隆三の直木賞受賞作は何?\n",
      "解答：『新約』\n",
      "\n",
      "問題：人間の心臓にある4つの部屋のうち、大動脈が流れ出ているのはどの部屋から?\n",
      "解答：左心室\n",
      "\n",
      "問題：和風建築で縁側などの前に置かれる、踏み台にしたり履物を置いたりする大きな石を何という?\n",
      "解答：石畳（いしだたみ）\n",
      "\n"
     ]
    },
    {
     "name": "stderr",
     "output_type": "stream",
     "text": [
      " 35%|███▍      | 348/1000 [01:07<01:29,  7.27it/s]"
     ]
    },
    {
     "name": "stdout",
     "output_type": "stream",
     "text": [
      "問題：北はロシア、南は中国と国境を接している、首都をウランバートルに置く国はどこ?\n",
      "解答：モンゴル\n",
      "\n",
      "問題：「すべての贈り物」という意味の名前を持つ、ギリシャ神話で人類最初の女性として登場する人物は誰?\n",
      "解答：パンドラ\n",
      "\n",
      "問題：正式には「南町通り」という東京・青山にある通りで、通り沿いにアンティークショップが建ち並ぶことからつけられた愛称は何?\n",
      "解答：青山軒端通り\n",
      "\n",
      "問題：格闘技で、テコンドーが生まれた国は韓国ですが、カポエイラが生まれた国はどこ?\n",
      "解答：ブラジル\n",
      "\n"
     ]
    },
    {
     "name": "stderr",
     "output_type": "stream",
     "text": [
      " 35%|███▌      | 352/1000 [01:07<01:30,  7.16it/s]"
     ]
    },
    {
     "name": "stdout",
     "output_type": "stream",
     "text": [
      "問題：北海道西部に広がる、札幌市が位置している平野は何平野?\n",
      "解答：石狩平野\n",
      "\n",
      "問題：衆議院議員の被選挙権は満25歳以上ですが、参議院議員の被選挙権は満何歳以上?\n",
      "解答：30歳以上\n",
      "\n",
      "問題：「Be Prepared-備えよ常に」をモットーとする、1908年にロバート・ベーデン=パウエルによって設立された青少年団体は何?\n",
      "解答：ボーイスカウト\n",
      "\n",
      "問題：裁判の判決で、有罪による刑罰を言い渡した上で、一定期間、別の刑事事件を犯さなければ、その刑を科さないという制度を一般に何という?\n",
      "解答：保護観察\n",
      "\n"
     ]
    },
    {
     "name": "stderr",
     "output_type": "stream",
     "text": [
      " 36%|███▌      | 356/1000 [01:08<01:27,  7.33it/s]"
     ]
    },
    {
     "name": "stdout",
     "output_type": "stream",
     "text": [
      "問題：「PV」と略される、スタジアムなどに大型スクリーンを設置し、大勢の観客がスポーツの試合などを見ることを何という?\n",
      "解答：ビジョン\n",
      "\n",
      "問題：白色人種のことを「コーカソイド」といいますが、この由来となった、黒海とカスピ海に挟まれた地方といえば何地方?\n",
      "解答：コーカサス地方\n",
      "\n",
      "問題：代表作『真珠夫人』『恩讐の彼方に』『父帰る』で知られる作家は誰?\n",
      "解答：三島由紀夫\n",
      "\n",
      "問題：漫画『ドラえもん』に登場するキャラクター、のび太の名字は何?\n",
      "解答：野比\n",
      "\n"
     ]
    },
    {
     "name": "stderr",
     "output_type": "stream",
     "text": [
      " 36%|███▌      | 360/1000 [01:08<01:28,  7.20it/s]"
     ]
    },
    {
     "name": "stdout",
     "output_type": "stream",
     "text": [
      "問題：『論語』に由来する年齢を表す言葉で、「不惑」といえば40歳ですが、「従心」といえば何歳のこと?\n",
      "解答：50歳\n",
      "\n",
      "問題：アナログ時計にふと目を向けたとき、秒針が一瞬だけ止まって見えるという錯覚を何という?\n",
      "解答：秒針停止現象\n",
      "\n",
      "問題：国木田独歩の妻をモデルにした早月葉子を主人公とする、有島武郎の長編小説は何?\n",
      "解答：『破戒』\n",
      "\n",
      "問題：鉄道のスピードを調節する「マスコン」とは、何という言葉の略?\n",
      "解答：マスターコントローラー\n",
      "\n"
     ]
    },
    {
     "name": "stderr",
     "output_type": "stream",
     "text": [
      " 36%|███▋      | 364/1000 [01:09<01:24,  7.55it/s]"
     ]
    },
    {
     "name": "stdout",
     "output_type": "stream",
     "text": [
      "問題：1914年に起きた、オーストリア皇太子夫妻がセルビア人の青年に暗殺され、第一次世界大戦のきっかけとなった事件を、発生した都市から何という?\n",
      "解答：サラエボ\n",
      "\n",
      "問題：熊本県が日本国内のおよそ9割と日本一の生産量を誇る、畳おもての材料となる植物は何?\n",
      "解答：イグサ\n",
      "\n",
      "問題：「けぎらい」「はなむけ」「かけひき」などの言葉の由来となった動物は何?\n",
      "解答：鶏\n",
      "\n",
      "問題：5つ存在する正多面体とは、正四面体、正六面体、正八面体、正十二面体と何?\n",
      "解答：正二十面体\n",
      "\n"
     ]
    },
    {
     "name": "stderr",
     "output_type": "stream",
     "text": [
      " 37%|███▋      | 368/1000 [01:09<01:25,  7.41it/s]"
     ]
    },
    {
     "name": "stdout",
     "output_type": "stream",
     "text": [
      "問題：中国三国時代の蜀の武将・馬良の顔の特徴に由来する、多くの中で最も優れた人やものを指す言葉は何?\n",
      "解答：顔面偏差値\n",
      "\n",
      "問題：石川県の奥能登で作られる、イカやイワシの内臓や頭、骨を塩漬けにして発酵させて作る魚醤を何という?\n",
      "解答：いかり漬け\n",
      "\n",
      "問題：ヤード・ポンド法の長さの単位で、1ヤードは3フィートですが、さらにインチに換算すると何インチ?\n",
      "解答：36インチ\n",
      "\n",
      "問題：走り高跳びの跳び方で、踏み切ったあとお腹を下にして、バーに覆いかぶさるようにして跳ぶことを何という?\n",
      "解答：フロップ\n",
      "\n"
     ]
    },
    {
     "name": "stderr",
     "output_type": "stream",
     "text": [
      " 37%|███▋      | 372/1000 [01:10<01:30,  6.91it/s]"
     ]
    },
    {
     "name": "stdout",
     "output_type": "stream",
     "text": [
      "問題：スペイン国王フアン・カルロス1世の妃の名前がつけられた、ピカソの『ゲルニカ』などを所蔵する、マドリードの美術館は何?\n",
      "解答：プラド美術館\n",
      "\n",
      "問題：「キーベッド」ともいう、地質学で、同一の噴火によるとみられる火山灰の層など、離れた地域の間で地層の同じ堆積を結びつける重要な層を何という?\n",
      "解答：テフラ層\n",
      "\n",
      "問題：日本の初代内閣総理大臣は伊藤博文ですが、アメリカの初代大統領は誰?\n",
      "解答：ジョージ・ワシントン\n",
      "\n",
      "問題：細長い長方形のテープを180度ねじり、両端を貼り合わせてできる、表と裏の区別がない図形のことをドイツの数学者の名から何の帯という?\n",
      "解答：メビウス帯\n",
      "\n"
     ]
    },
    {
     "name": "stderr",
     "output_type": "stream",
     "text": [
      " 38%|███▊      | 376/1000 [01:11<01:28,  7.03it/s]"
     ]
    },
    {
     "name": "stdout",
     "output_type": "stream",
     "text": [
      "問題：童話『ピーターパン』で、ピーターパンがウェンディたちを連れていく子どもの国はどこ?\n",
      "解答：ネバーランド\n",
      "\n",
      "問題：食事をする際の箸使いのマナー違反で、ひとつの料理ばかりを食べ続けることを何箸という?\n",
      "解答：片箸\n",
      "\n",
      "問題：京都府の市で、「鶴」という漢字がつくのは舞鶴市ですが、「亀」という漢字がつくのは何市?\n",
      "解答：亀岡市\n",
      "\n",
      "問題：夜回りを欠かさなかったことから「ランプの貴婦人」、野戦病院の改革から「クリミアの天使」などと呼ばれた、19世紀、近代看護の基礎を確立した女性は誰?\n",
      "解答：フローレンス・ナイチンゲール\n",
      "\n"
     ]
    },
    {
     "name": "stderr",
     "output_type": "stream",
     "text": [
      " 38%|███▊      | 380/1000 [01:11<01:24,  7.36it/s]"
     ]
    },
    {
     "name": "stdout",
     "output_type": "stream",
     "text": [
      "問題：神社で、参道や境内を囲むようにもうけられた森林のことを特に「何の森」という?\n",
      "解答：神苑\n",
      "\n",
      "問題：夏目漱石の小説で、9月1日頃にある雑節がタイトルになっているのは何?\n",
      "解答：「こころ」\n",
      "\n",
      "問題：アナログ時計の長針は60分で一周しますが、サウナに置かれているサウナタイマーの長針は何分で一周する?\n",
      "解答：15分\n",
      "\n",
      "問題：お箸の使い方のマナー違反で、箸の先から汁がポタポタ落ちてしまうことを何という?\n",
      "解答：箸落とし\n",
      "\n"
     ]
    },
    {
     "name": "stderr",
     "output_type": "stream",
     "text": [
      " 38%|███▊      | 384/1000 [01:12<01:23,  7.41it/s]"
     ]
    },
    {
     "name": "stdout",
     "output_type": "stream",
     "text": [
      "問題：「犯人は物語のはじめに登場していなければならない」など、推理小説を書く上で守るべき10項目のルールのことを、提唱したイギリスの作家の名から何という?\n",
      "解答：ノックスの十戒\n",
      "\n",
      "問題：他人のものの方がよく見えることの例えで、赤く見えるのは隣の花ですが、青く見えるのは隣の何?\n",
      "解答：空の花\n",
      "\n",
      "問題：ノーベル文学賞受賞者のタゴールが国歌の作詞を手掛けた国は、インドとどこ?\n",
      "解答：バングラデシュ\n",
      "\n",
      "問題：俗に「男は度胸、女は愛嬌」といいますが、それに続く言葉は何?\n",
      "解答：女は愛情\n",
      "\n"
     ]
    },
    {
     "name": "stderr",
     "output_type": "stream",
     "text": [
      " 39%|███▉      | 388/1000 [01:12<01:23,  7.31it/s]"
     ]
    },
    {
     "name": "stdout",
     "output_type": "stream",
     "text": [
      "問題：1917年、ロシア革命で倒されるまで、300年余りも栄華を誇った、ロシアの王朝は何王朝?\n",
      "解答：ロマノフ王朝\n",
      "\n",
      "問題：サッカーFIFAワールドカップなどで行われる、全チームを複数の組に分け、各組でリーグ戦を行う形式を何という?\n",
      "解答：グループリーグ\n",
      "\n",
      "問題：ゴルフでロストボールのペナルティは、ボールを見失ってから何分経過したときに適用される?\n",
      "解答：5分\n",
      "\n",
      "問題：「Mehr Licht!」という言葉を残してこの世を去ったといわれるドイツの作家は誰?\n",
      "解答：ゲーテ\n",
      "\n"
     ]
    },
    {
     "name": "stderr",
     "output_type": "stream",
     "text": [
      " 39%|███▉      | 392/1000 [01:13<01:23,  7.25it/s]"
     ]
    },
    {
     "name": "stdout",
     "output_type": "stream",
     "text": [
      "問題：古生代の区分で、デボン紀の「デボン」はイギリスの地名に由来しますが、ペルム紀の「ペルム」はどこの国の地名に由来する?\n",
      "解答：ロシア\n",
      "\n",
      "問題：日本の旧国名で、「雲の州」と書く「雲州」は「出雲」ですが、「石の州」と書く「石州」は何という国?\n",
      "解答：岡山\n",
      "\n",
      "問題：童謡『お山の杉の子』で、杉の子に「これこれ杉の子おきなさい」と声をかけたのは何?\n",
      "解答：お母さん\n",
      "\n",
      "問題：ファッション用語で、男性向けのものを「オム」というのに対し、女性向けのものを何という?\n",
      "解答：ミセス\n",
      "\n"
     ]
    },
    {
     "name": "stderr",
     "output_type": "stream",
     "text": [
      " 40%|███▉      | 396/1000 [01:13<01:22,  7.33it/s]"
     ]
    },
    {
     "name": "stdout",
     "output_type": "stream",
     "text": [
      "問題：誕生した1930年に発見された星にちなんで名前がつけられた、ミッキーマウスのペットである犬の名前は何?\n",
      "解答：プルート\n",
      "\n",
      "問題：「万物の根源は火である」と唱えた、「万物流転説」などでも知られる古代ギリシャの哲学者は誰?\n",
      "解答：ヘラクレイトス\n",
      "\n",
      "問題：「アルキメデスの数」や「ルドルフの数」とも呼ばれる、記号「π」で表される数字といえば何率?\n",
      "解答：3.14159... (円周率)\n",
      "\n",
      "問題：ベートーベンの、交響曲第5番の別名は『運命』ですが、ピアノ協奏曲第5番の別名は何?\n",
      "解答：皇帝\n",
      "\n"
     ]
    },
    {
     "name": "stderr",
     "output_type": "stream",
     "text": [
      " 40%|████      | 400/1000 [01:14<01:19,  7.52it/s]"
     ]
    },
    {
     "name": "stdout",
     "output_type": "stream",
     "text": [
      "問題：衣服の中でも襟と袖は特に目立つことから、ある集団において中心となる重要人物のことを何という?\n",
      "解答：リーダー\n",
      "\n",
      "問題：中国・明の時代に使われ始めたことから名づけられた、新聞や書籍によく使われる、縦線が太く横線が細い書体は何?\n",
      "解答：明朝体\n",
      "\n",
      "問題：「司会者」を指す「MC」は何という言葉の略?\n",
      "解答：Master of Ceremonies\n",
      "\n",
      "問題：琵琶湖から流れ出る唯一の河川である瀬田川は、京都府内に入るときには何という川に名前を変える?\n",
      "解答：鴨川\n",
      "\n"
     ]
    },
    {
     "name": "stderr",
     "output_type": "stream",
     "text": [
      " 40%|████      | 404/1000 [01:15<01:31,  6.49it/s]"
     ]
    },
    {
     "name": "stdout",
     "output_type": "stream",
     "text": [
      "問題：「庭の山椒の木鳴る鈴かけて」という歌い出しで始まる、源氏の那須大八郎と平氏の鶴富姫の悲恋を歌った宮崎県民謡は何?\n",
      "解答：「那須与一」\n",
      "\n",
      "問題：マンガで、ショックを受けたときの「ガーン!」という表現が初めて登場したとされる、川崎のぼるの作品は何?\n",
      "解答：「サラリーマン金太郎」\n",
      "\n",
      "問題：サッカーのコートで、短いほうの辺はゴールラインですが、長いほうの辺は何という?\n",
      "解答：サイドライン\n",
      "\n",
      "問題：「ケッペンの気候区分」で、「BS」で表されるのはステップ気候ですが、「BW」で表されるのは何?\n",
      "解答：砂漠気候\n",
      "\n"
     ]
    },
    {
     "name": "stderr",
     "output_type": "stream",
     "text": [
      " 41%|████      | 408/1000 [01:15<01:39,  5.92it/s]"
     ]
    },
    {
     "name": "stdout",
     "output_type": "stream",
     "text": [
      "問題：「混ぜ合わせる」という意味の沖縄料理で、ニガウリを入れたゴーヤのものが特に有名なのは何?\n",
      "解答：ゴーヤチャンプルー\n",
      "\n",
      "問題：卒業式で、在校生代表が卒業生に向ける別れの言葉を「送辞」というのに対し、卒業生代表から在校生に向ける言葉を何という?\n",
      "解答：返辞\n",
      "\n",
      "問題：1336年に起こった足利尊氏・足利直義が、新田義貞・楠木正成軍を破った戦いで、敗れた楠木正成が自害したことで知られるのは何?\n",
      "解答：元弘の乱\n",
      "\n",
      "問題：肉料理の匂い消しやピザのトッピングとして使われる、和名を「ハナハッカ」というシソ科の植物は何?\n",
      "解答：シソ\n",
      "\n"
     ]
    },
    {
     "name": "stderr",
     "output_type": "stream",
     "text": [
      " 41%|████      | 412/1000 [01:16<01:33,  6.28it/s]"
     ]
    },
    {
     "name": "stdout",
     "output_type": "stream",
     "text": [
      "問題：「朝三暮四」という言葉の由来となった故事で、中国・宋の猿回しが猿に与えたのは何の実?\n",
      "解答：桃の実\n",
      "\n",
      "問題：古代中国の官吏登用試験・科挙で、最も優秀な答案を一番上に乗せたことに由来する、全体の中で最も優れたものを表す言葉は何?\n",
      "解答：状元\n",
      "\n",
      "問題：年間120万円までの投資から得られる譲渡益や配当が5年間非課税となる「少額投資非課税制度」のことを、アルファベット4文字の略称で何という?\n",
      "解答：NISA\n",
      "\n",
      "問題：ローマのテルミニ駅をモデルにして建てられ、1988年に駅舎として初めて国の重要文化財に指定された、福岡県にあるJRの駅はどこ?\n",
      "解答：小倉駅\n",
      "\n"
     ]
    },
    {
     "name": "stderr",
     "output_type": "stream",
     "text": [
      " 42%|████▏     | 416/1000 [01:17<01:37,  5.96it/s]"
     ]
    },
    {
     "name": "stdout",
     "output_type": "stream",
     "text": [
      "問題：ナミ、ゾロ、サンジ、チョッパー、ルフィなどが登場する、尾田栄一郎の漫画は何?\n",
      "解答：ワンピース\n",
      "\n",
      "問題：狭心症の薬としても使われる、ダイナマイトの原料となる有機化合物は何?\n",
      "解答：ニトログリセリン\n",
      "\n",
      "問題：ギリシャ神話の神々に仕えるトロイアの美少年にちなんで名づけられた、太陽系最大の衛星である木星の第3衛星は何?\n",
      "解答：ガニメデ\n",
      "\n",
      "問題：ペットボトルの「ペット」は何というプラスチック素材のこと?\n",
      "解答：PET(polyethylene terephthalate)\n",
      "\n"
     ]
    },
    {
     "name": "stderr",
     "output_type": "stream",
     "text": [
      " 42%|████▏     | 420/1000 [01:17<01:34,  6.13it/s]"
     ]
    },
    {
     "name": "stdout",
     "output_type": "stream",
     "text": [
      "問題：繊細で華やかな絵付けを特徴とする、17世紀に李参平によって創始された佐賀県の焼物は何?\n",
      "解答：有田焼\n",
      "\n",
      "問題：『シャル・ウィ・ダンス』などの劇中曲で有名な、タイの国王と教育係のアンナとの交流を描いたミュージカルは何?\n",
      "解答：王様と私\n",
      "\n",
      "問題：1789年6月20日、フランスで第三身分の人々が憲法制定まで議会を解散しないと誓った出来事を、行われた場所から「何の誓い」という?\n",
      "解答：テニスコートの誓い\n",
      "\n",
      "問題：物事の状態に変化がなく、ほとんど動きがなくなることを、「膠」という漢字を使って「何状態」という?\n",
      "解答：凝縮状態\n",
      "\n"
     ]
    },
    {
     "name": "stderr",
     "output_type": "stream",
     "text": [
      " 42%|████▏     | 424/1000 [01:18<01:32,  6.26it/s]"
     ]
    },
    {
     "name": "stdout",
     "output_type": "stream",
     "text": [
      "問題：高速道路の「電子式料金自動収受システム」のことをアルファベット3文字で何という?\n",
      "解答：ETC\n",
      "\n",
      "問題：悔しがったり怒ったりして、激しく地面を踏むことを、大型のふいごを足で踏んで風を送るときの動作になぞらえて「何を踏む」という?\n",
      "解答：土を踏む\n",
      "\n",
      "問題：仏教で、「人が生まれ、死んだあと、また再び生まれ変わる」という考え方を、四字熟語で「何転生」という?\n",
      "解答：輪廻転生\n",
      "\n",
      "問題：甲子園球場にある、アルプススタンド以外の内野席全体を覆う屋根のことを俗に何という?\n",
      "解答：ビジター席\n",
      "\n"
     ]
    },
    {
     "name": "stderr",
     "output_type": "stream",
     "text": [
      " 43%|████▎     | 428/1000 [01:18<01:24,  6.80it/s]"
     ]
    },
    {
     "name": "stdout",
     "output_type": "stream",
     "text": [
      "問題：中国で隋の時代に始まり、清の時代まで続いた、官吏の登用試験を何という?\n",
      "解答：科挙\n",
      "\n",
      "問題：1月の英語名「January」の由来となっている、ローマ神話の扉や出入り口の守護神は何?\n",
      "解答：Janus\n",
      "\n",
      "問題：昆虫が、卵からかえることを「孵化」といいますが、幼虫がさなぎになることを何という?\n",
      "解答：蛹\n",
      "\n",
      "問題：『小倉百人一首』に収められている紫式部と清少納言の和歌に共通して使われている漢字は何?\n",
      "解答：恋\n",
      "\n"
     ]
    },
    {
     "name": "stderr",
     "output_type": "stream",
     "text": [
      " 43%|████▎     | 432/1000 [01:19<01:23,  6.84it/s]"
     ]
    },
    {
     "name": "stdout",
     "output_type": "stream",
     "text": [
      "問題：ラーメンの麺を湯切りするときに使う、持ち手がついた筒型のザルを何という?\n",
      "解答：湯切りざる\n",
      "\n",
      "問題：日本気象協会が発表する、木綿のシャツが一定の時間でどれだけ乾くかという実験データから算出する数値を「何指数」という?\n",
      "解答：吸湿指数\n",
      "\n",
      "問題：深田久弥の著書『日本百名山』に登場する山のうち、標高877メートルと最も低い山は何?\n",
      "解答：赤城山\n",
      "\n",
      "問題：歌舞伎や浄瑠璃の最も重要な見せ場に由来する、ここぞという大切な局面を指す言葉は何?\n",
      "解答：クライマックス\n",
      "\n"
     ]
    },
    {
     "name": "stderr",
     "output_type": "stream",
     "text": [
      " 44%|████▎     | 436/1000 [01:20<01:29,  6.30it/s]"
     ]
    },
    {
     "name": "stdout",
     "output_type": "stream",
     "text": [
      "問題：「金字塔を打ちたてる」という時の「金字塔」は、もともと、どんな建造物のこと?\n",
      "解答：仏教寺院\n",
      "\n",
      "問題：英語で「道化師」という意味がある、トランプで基本のセット52枚以外に1枚加えられるカードを何という?\n",
      "解答：ジョーカー\n",
      "\n",
      "問題：池田理代子の漫画のヒロインとしても描かれたロシア・ロマノフ朝の第8代皇帝で、ポーランド分割や新法典の編纂などの政策で知られるのは誰?\n",
      "解答：エカテリーナ2世\n",
      "\n",
      "問題：『初恋』『父と子』『猟人日記』などの作品を残したロシアの作家は誰?\n",
      "解答：イワン・ツルゲーネフ\n",
      "\n"
     ]
    },
    {
     "name": "stderr",
     "output_type": "stream",
     "text": [
      " 44%|████▍     | 440/1000 [01:20<01:27,  6.42it/s]"
     ]
    },
    {
     "name": "stdout",
     "output_type": "stream",
     "text": [
      "問題：金融機関で、貸出額が預金額を上回った状態を、英語で何という?\n",
      "解答：オーバーレバレッジング\n",
      "\n",
      "問題：ダーツで一番オーソドックスなルールであるゲームで、1ラウンド3回で8ラウンドの計24回投げて合計得点を競うものは何?\n",
      "解答：301\n",
      "\n",
      "問題：本来は、ブドウの当たり年に作られたワインのことで、ジーンズやアロハシャツなど、質の高い年代物のファッションアイテムを指すようにもなった言葉といえば何?\n",
      "解答：ヴィンテージ\n",
      "\n",
      "問題：岩手県盛岡市の名物で「盛岡三大麺」と呼ばれるのは、盛岡冷麺、盛岡じゃじゃ麺と何?\n",
      "解答：盛岡わんこそば\n",
      "\n"
     ]
    },
    {
     "name": "stderr",
     "output_type": "stream",
     "text": [
      " 44%|████▍     | 444/1000 [01:21<01:21,  6.83it/s]"
     ]
    },
    {
     "name": "stdout",
     "output_type": "stream",
     "text": [
      "問題：シカの骨を焼いてその割れ方で吉凶を占う、古代日本で行われていた占いは何?\n",
      "解答：骨占い\n",
      "\n",
      "問題：xy平面において、xとyがともにプラスなのは「第1象限」ですが、xとyがともにマイナスなのは第何象限?\n",
      "解答：第3象限\n",
      "\n",
      "問題：正式名を乾坤山という千葉県にある標高329.4mの山で、稜線がギザギザしていることからつけられた一般的な名称は何?\n",
      "解答：鋸山\n",
      "\n",
      "問題：タリム川の流れが移動することにより湖の位置も変わることから「さまよえる湖」とも呼ばれる、中国ウイグル自治区にある湖は何?\n",
      "解答：カラコルム湖\n",
      "\n"
     ]
    },
    {
     "name": "stderr",
     "output_type": "stream",
     "text": [
      " 45%|████▍     | 448/1000 [01:21<01:19,  6.97it/s]"
     ]
    },
    {
     "name": "stdout",
     "output_type": "stream",
     "text": [
      "問題：1615年の大坂夏の陣で豊臣氏が滅亡し平和な時代が訪れたことを、その時の元号を使った四字熟語で何という?\n",
      "解答：寛永の治世\n",
      "\n",
      "問題：現在は「故宮博物院」になっている、中国・北京にある明王朝、清王朝の王宮といえば何?\n",
      "解答：紫禁城\n",
      "\n",
      "問題：ライブやコンサートの曲順のことを「セトリ」などといいますが、これは何という言葉の略?\n",
      "解答：セットリスト\n",
      "\n",
      "問題：イタリア語で「美しい歌」という意味がある、18世紀に成立した滑らかで柔らかな声を響かせる歌唱法は何?\n",
      "解答：ベルカント\n",
      "\n"
     ]
    },
    {
     "name": "stderr",
     "output_type": "stream",
     "text": [
      " 45%|████▌     | 452/1000 [01:22<01:14,  7.37it/s]"
     ]
    },
    {
     "name": "stdout",
     "output_type": "stream",
     "text": [
      "問題：キャンディのチュッパチャプスのロゴデザインを手掛けた有名な画家は誰?\n",
      "解答：サルバドール・ダリ\n",
      "\n",
      "問題：コンドルやハチドリなどさまざまな動物や幾何学図形が描かれている、ペルー南部の盆地に残る模様を「何の地上絵」という?\n",
      "解答：ナスカの地上絵\n",
      "\n",
      "問題：山の頂上で太陽に背中を向けた時、前方の雲や霧に自分の影が映り、その周りに光の輪が現れる現象を何という?\n",
      "解答：ハロ光景\n",
      "\n",
      "問題：競馬の騎手が着るカラフルなユニフォームのことを何という?\n",
      "解答：騎手服\n",
      "\n"
     ]
    },
    {
     "name": "stderr",
     "output_type": "stream",
     "text": [
      " 46%|████▌     | 456/1000 [01:22<01:10,  7.69it/s]"
     ]
    },
    {
     "name": "stdout",
     "output_type": "stream",
     "text": [
      "問題：西ガーツ山脈と東ガーツ山脈に挟まれた、綿花の世界的産地として有名なインド半島の高原地帯は何?\n",
      "解答：デカン高原\n",
      "\n",
      "問題：フェンシングで、「一歩前へ」を指示する言葉は「マルシェ」ですが、「一歩後ろへ」を指示する言葉は何?\n",
      "解答：リトリート\n",
      "\n",
      "問題：嫁ヶ島という島が湖の中に浮かぶ、島根県の湖は何?\n",
      "解答：宍道湖\n",
      "\n",
      "問題：写真の「アルバム」は、もともとどんな色を表す言葉?\n",
      "解答：白\n",
      "\n"
     ]
    },
    {
     "name": "stderr",
     "output_type": "stream",
     "text": [
      " 46%|████▌     | 460/1000 [01:23<01:11,  7.57it/s]"
     ]
    },
    {
     "name": "stdout",
     "output_type": "stream",
     "text": [
      "問題：スマホで使われる用語で、「アプリ」といえば「アプリケーション」の略ですが、「アプデ」といえば何の略?\n",
      "解答：アップデート\n",
      "\n",
      "問題：中国とベトナム、台湾などが領土を主張する諸島で、「南沙諸島」と呼ばれるのはスプラトリー諸島ですが、「西沙諸島」と呼ばれるのは何諸島?\n",
      "解答：パラセル諸島\n",
      "\n",
      "問題：小乗仏教を採用し多くの寺院を造営したことから「建寺王朝」の異称がある、1044年アノータヤーが建国したビルマ最初の王朝は何?\n",
      "解答：パガン王朝\n",
      "\n",
      "問題：「十月のその土曜日、長く続いた雨があがった」という書き出しで始まる、江戸川乱歩賞と直木賞をダブル受賞した藤原伊織の小説は何?\n",
      "解答：「赤い指」\n",
      "\n"
     ]
    },
    {
     "name": "stderr",
     "output_type": "stream",
     "text": [
      " 46%|████▋     | 464/1000 [01:23<01:12,  7.36it/s]"
     ]
    },
    {
     "name": "stdout",
     "output_type": "stream",
     "text": [
      "問題：アレキサンダー大王の家庭教師を務めていた経験を持つ、「万学の祖」とも呼ばれる古代ギリシャの哲学者は誰?\n",
      "解答：アリストテレス\n",
      "\n",
      "問題：「寛政の三奇人」と呼ばれた江戸時代の3人の人物といえば、蒲生君平、高山彦九郎と誰?\n",
      "解答：岡田以蔵\n",
      "\n",
      "問題：モール型とホフマン型の2種類に大別される、化学実験でゴム管をはさんで締めつけ,液体が管を流れるのを止める金具を何という?\n",
      "解答：ピンセット\n",
      "\n",
      "問題：テニスや卓球でボールを打つ道具はラケットですが、羽根つきで羽根をつくのに用いる木の板を何という?\n",
      "解答：板羽根\n",
      "\n"
     ]
    },
    {
     "name": "stderr",
     "output_type": "stream",
     "text": [
      " 47%|████▋     | 468/1000 [01:24<01:09,  7.61it/s]"
     ]
    },
    {
     "name": "stdout",
     "output_type": "stream",
     "text": [
      "問題：北海道で5月の下旬頃、夕方になると急に冷え込みが増す現象を、ある花の名を用いて何という?\n",
      "解答：エゾフウロ\n",
      "\n",
      "問題：京都を舞台にした小説『五番町夕霧楼』や『雁の寺』を書いた作家は誰?\n",
      "解答：司馬遼太郎\n",
      "\n",
      "問題：美しい町並みから「東の軽井沢、西のココ」と並び称される、夏の映画祭でも親しまれる大分県の温泉地はどこ?\n",
      "解答：別府\n",
      "\n",
      "問題：ガブリエル・ガルシア=マルケスの小説『百年の孤独』の舞台となった町の名前は何?\n",
      "解答：マコンドー\n",
      "\n"
     ]
    },
    {
     "name": "stderr",
     "output_type": "stream",
     "text": [
      " 47%|████▋     | 472/1000 [01:24<01:09,  7.59it/s]"
     ]
    },
    {
     "name": "stdout",
     "output_type": "stream",
     "text": [
      "問題：ハイチ、カメルーン、カナダ、モナコで共通して公用語として定められている言語は何語?\n",
      "解答：フランス語\n",
      "\n",
      "問題：病院の「集中治療室」のことを、アルファベット3文字で何という?\n",
      "解答：ICU\n",
      "\n",
      "問題：オペラ『サムソンとデリラ』や組曲『動物の謝肉祭』で知られる、フランスの作曲家は誰?\n",
      "解答：サン＝サーンス\n",
      "\n",
      "問題：1802年から1945年までフエを首都として栄えた、ベトナム最後の王朝は何?\n",
      "解答：阮朝\n",
      "\n"
     ]
    },
    {
     "name": "stderr",
     "output_type": "stream",
     "text": [
      " 48%|████▊     | 476/1000 [01:25<01:09,  7.57it/s]"
     ]
    },
    {
     "name": "stdout",
     "output_type": "stream",
     "text": [
      "問題：図々しい様子、こっそり逃げ出すこと、相撲で勝ち負けを繰り返すこと。これらに共通する言葉は何?\n",
      "解答：すり抜け\n",
      "\n",
      "問題：ハヌマーン、ガネーシャ、インドラといえば、何という宗教の神様?\n",
      "解答：ヒンドゥー教\n",
      "\n",
      "問題：日本肥満学会が定める内臓脂肪型肥満の基準とされるウエスト周りは、男性は85センチ以上ですが、女性は何センチ以上とされている?\n",
      "解答：90センチ以上\n",
      "\n",
      "問題：中国の歴代王朝が北方民族の侵入を防ぐために建造した、全長2万km以上にもおよぶ世界遺産の城壁は何?\n",
      "解答：万里の長城\n",
      "\n"
     ]
    },
    {
     "name": "stderr",
     "output_type": "stream",
     "text": [
      " 48%|████▊     | 480/1000 [01:25<01:07,  7.69it/s]"
     ]
    },
    {
     "name": "stdout",
     "output_type": "stream",
     "text": [
      "問題：数学において、小文字では標準偏差を、大文字では数列の和を表すギリシャ文字は何?\n",
      "解答：σ (シグマ)\n",
      "\n",
      "問題：コンスタンティノープルの征服など数々の遠征を行ったことから「征服王」と呼ばれた、オスマン帝国の皇帝は誰?\n",
      "解答：メフメト2世\n",
      "\n",
      "問題：病院などでX線写真を見るときに使われる、内側に蛍光灯を備え付けたディスプレイ機器を何という?\n",
      "解答：フルオロスコピー\n",
      "\n",
      "問題：占いで使われる筮竹は、普通何本で1セット?\n",
      "解答：50本\n",
      "\n"
     ]
    },
    {
     "name": "stderr",
     "output_type": "stream",
     "text": [
      " 48%|████▊     | 484/1000 [01:26<01:10,  7.32it/s]"
     ]
    },
    {
     "name": "stdout",
     "output_type": "stream",
     "text": [
      "問題：京都大学が主張する「畿内説」、東京大学が主張する「九州説」といえば、何という古代国家に関する論争?\n",
      "解答：倭国\n",
      "\n",
      "問題：煮物料理などで、材料に味をよくしみこませるために使う、鍋よりもひと回り小さい蓋は何?\n",
      "解答：落し蓋\n",
      "\n",
      "問題：「日曜日」という意味のオランダ語から名づけられた、毎年5月に福岡市で行われるお祭りは何?\n",
      "解答：博多どんたく祭り\n",
      "\n",
      "問題：海外で上演される際は「JUST A MOMENT」と訳される、主人公・鎌倉権五郎の掛け声から名付けられた歌舞伎十八番の演目は何?\n",
      "解答：「待ったなし」\n",
      "\n"
     ]
    },
    {
     "name": "stderr",
     "output_type": "stream",
     "text": [
      " 49%|████▉     | 488/1000 [01:27<01:08,  7.44it/s]"
     ]
    },
    {
     "name": "stdout",
     "output_type": "stream",
     "text": [
      "問題：アニメ『NARUTO疾風伝』に登場する主人公・うずまきナルトが思いを寄せる、チームメイトのくノ一の名前は何?\n",
      "解答：春野サクラ\n",
      "\n",
      "問題：メロヴィング朝、カロリング朝という王朝によって統治された、現在のドイツ、フランス、イタリアのもととなった王国は何?\n",
      "解答：フランク王国\n",
      "\n",
      "問題：江戸幕府将軍・徳川綱吉の子・徳松のお祝いが行われた日にちなんで、毎年11月15日に行われる、3歳、5歳、7歳の子どもの成長を祝う年中行事は何?\n",
      "解答：七五三\n",
      "\n",
      "問題：ラテン語で「冠」という意味の、太陽の大気のもっとも外側の部分を何という?\n",
      "解答：コロナ\n",
      "\n"
     ]
    },
    {
     "name": "stderr",
     "output_type": "stream",
     "text": [
      " 49%|████▉     | 492/1000 [01:27<01:09,  7.34it/s]"
     ]
    },
    {
     "name": "stdout",
     "output_type": "stream",
     "text": [
      "問題：九州の有明海や八代海で夜、大潮の干潮時に見られることがある、漁火の異常屈折現象のことを何という?\n",
      "解答：うしおの火明かり\n",
      "\n",
      "問題：慣用句「百も承知」に続く言葉。「二百も何」?\n",
      "解答：承知\n",
      "\n",
      "問題：日本のヒット曲に多く用いられている、C、G、Am、Em、F、C、F、Gと続くコード進行のことを、元になったパッヘルベルのクラシック曲にちなんで何進行という?\n",
      "解答：カノン進行\n",
      "\n",
      "問題：狩猟で仕留めた動物の頭部などを、インテリアとして部屋の壁に飾るために剥製にしたものを何という?\n",
      "解答：タックスダーミー\n",
      "\n"
     ]
    },
    {
     "name": "stderr",
     "output_type": "stream",
     "text": [
      " 50%|████▉     | 496/1000 [01:28<01:07,  7.46it/s]"
     ]
    },
    {
     "name": "stdout",
     "output_type": "stream",
     "text": [
      "問題：日本国憲法で、「すべて国民は、健康で文化的な最低限度の生活を営む権利を有する。」という、いわゆる生存権を規定しているのは第何条?\n",
      "解答：第25条\n",
      "\n",
      "問題：趣味として行う大工のことを、ある曜日を使って何大工という?\n",
      "解答：日曜大工\n",
      "\n",
      "問題：大分県にある景勝地「青の洞門」の逸話をもとにして書かれた、了海を主人公とする菊池寛の小説は何?\n",
      "解答：青の洞門\n",
      "\n",
      "問題：再生能力が高いことから理科の実験材料によく用いられる、三角形の頭と細長い体が特徴的な扁形動物は何?\n",
      "解答：プラナリア\n",
      "\n"
     ]
    },
    {
     "name": "stderr",
     "output_type": "stream",
     "text": [
      " 50%|█████     | 500/1000 [01:28<01:06,  7.55it/s]"
     ]
    },
    {
     "name": "stdout",
     "output_type": "stream",
     "text": [
      "問題：トランプを大きさから2種類に分けるとポーカーサイズと、日本で普及している何サイズ?\n",
      "解答：ブリッジサイズ\n",
      "\n",
      "問題：スキーのジャンプ競技で、踏み切り台の先端から、安全に着地できる地点までの距離のことを何という?\n",
      "解答：クリアランス\n",
      "\n",
      "問題：天文学で、英語で「グロービュラー・クラスター」といえば「球状星団」のことですが、「オープン・クラスター」といえば何星団のこと?\n",
      "解答：散開星団\n",
      "\n",
      "問題：日本の国会議員で、衆議院議員の任期は4年ですが、参議院議員の任期は何年?\n",
      "解答：6年\n",
      "\n"
     ]
    },
    {
     "name": "stderr",
     "output_type": "stream",
     "text": [
      " 50%|█████     | 504/1000 [01:29<01:09,  7.10it/s]"
     ]
    },
    {
     "name": "stdout",
     "output_type": "stream",
     "text": [
      "問題：仏教遺跡の「アンコール・ワット」とともにカンボジアの二大世界遺産といわれる、ジャヤーヴァルマン7世によって建設された城砦都市遺跡は何?\n",
      "解答：アンコール・トム\n",
      "\n",
      "問題：映画『インディ・ジョーンズ』シリーズや『ジュラシック・パーク』シリーズを手がけた映画監督は誰?\n",
      "解答：スティーブン・スピルバーグ\n",
      "\n",
      "問題：カタカナの「タ」と「ト」を組み合わせてできる漢字が「外」なら、「タ」と「ロ」を組み合わせてできる漢字は何?\n",
      "解答：楽\n",
      "\n",
      "問題：英語では「International Court of Justice」という、オランダのハーグに本部を置く、国際紛争を法律的に解決する機関は何?\n",
      "解答：国際司法裁判所 (International Court of Justice)\n",
      "\n"
     ]
    },
    {
     "name": "stderr",
     "output_type": "stream",
     "text": [
      " 51%|█████     | 508/1000 [01:29<01:05,  7.54it/s]"
     ]
    },
    {
     "name": "stdout",
     "output_type": "stream",
     "text": [
      "問題：渋沢栄一の出身地であり、渋沢栄一記念館がある埼玉県の都市はどこ?\n",
      "解答：川越市\n",
      "\n",
      "問題：アンデルセン童話『親指姫』で、親指姫の名前は何?\n",
      "解答：親指姫\n",
      "\n",
      "問題：「九つの村がある谷」という意味の名前を持つ、原生林に点在する100以上の湖沼が美しい絶景を作り出すことで知られる中国四川省の峡谷は何?\n",
      "解答：九寨沟\n",
      "\n",
      "問題：日本語では「乳塩基性タンパク質」と呼ばれる、牛乳や母乳に含まれるタンパク質をアルファベット3文字で何という?\n",
      "解答：Whey\n",
      "\n"
     ]
    },
    {
     "name": "stderr",
     "output_type": "stream",
     "text": [
      " 51%|█████     | 512/1000 [01:30<01:04,  7.54it/s]"
     ]
    },
    {
     "name": "stdout",
     "output_type": "stream",
     "text": [
      "問題：日本で最も長い川は信濃川ですが、世界で最も長い川は何?\n",
      "解答：ナイル川\n",
      "\n",
      "問題：元号にちなんで「昭和塔」という名称も候補にあった、昭和の高度経済成長の象徴として親しまれたランドマークは何?\n",
      "解答：東京タワー\n",
      "\n",
      "問題：日本語の活用で、文語文法の已然形にあたるものを、口語文法では何という?\n",
      "解答：仮定形\n",
      "\n",
      "問題：漢字の「凹」「凸」の画数はともに何画?\n",
      "解答：5画\n",
      "\n"
     ]
    },
    {
     "name": "stderr",
     "output_type": "stream",
     "text": [
      " 52%|█████▏    | 516/1000 [01:30<01:06,  7.30it/s]"
     ]
    },
    {
     "name": "stdout",
     "output_type": "stream",
     "text": [
      "問題：汗を分泌する汗腺で、大汗腺と呼ばれるのはエクリン腺ですが、小汗腺と呼ばれるのは何腺?\n",
      "解答：アポクリン腺\n",
      "\n",
      "問題：アニメ映画『となりのトトロ』のラストで、サツキとメイが入院中のお母さんに届けた野菜は何?\n",
      "解答：トウモロコシ\n",
      "\n",
      "問題：「2つの銀河の間の距離が離れているほど、互いが離れていく速度も比例する」という法則を、提唱したアメリカとベルギーの2人の天文学者の名前から何の法則という?\n",
      "解答：ハッブルの法則\n",
      "\n",
      "問題：山型の歯車を重ねた「ダブル・シェブロン」というエンブレムでおなじみのフランスの自動車メーカーはどこ?\n",
      "解答：シトロエン\n",
      "\n"
     ]
    },
    {
     "name": "stderr",
     "output_type": "stream",
     "text": [
      " 52%|█████▏    | 520/1000 [01:31<01:06,  7.25it/s]"
     ]
    },
    {
     "name": "stdout",
     "output_type": "stream",
     "text": [
      "問題：日本の元号に使われた漢字で生き物を表すものは3つあります。「亀」「鳥」と何?\n",
      "解答：鹿\n",
      "\n",
      "問題：ジャガイモの裏ごしを入れて作る冷たいスープを、フランスの都市の名を取って何という?\n",
      "解答：ヴィシソワーズ\n",
      "\n",
      "問題：1867年、クリミア戦争による財政難にあったロシアが720万ドルでアメリカに売却し、後にアメリカの49番目の州となった土地はどこ?\n",
      "解答：アラスカ\n",
      "\n",
      "問題：冬から春にかけて、フランスのローヌ川から地中海の北西沿岸にかけて吹き降りる冷たい北風を何という?\n",
      "解答：ミストラル\n",
      "\n"
     ]
    },
    {
     "name": "stderr",
     "output_type": "stream",
     "text": [
      " 52%|█████▏    | 524/1000 [01:32<01:07,  7.01it/s]"
     ]
    },
    {
     "name": "stdout",
     "output_type": "stream",
     "text": [
      "問題：ボクシングやラグビーの選手が頭や耳を保護するために着用する防具のことを何という?\n",
      "解答：ヘッドガード\n",
      "\n",
      "問題：イングリッシュマフィンの上にハムやポーチドエッグをのせ、オランデーズソースをかけた料理を何という?\n",
      "解答：エッグベネディクト\n",
      "\n",
      "問題：暦の上では「暑さが峠を越えてひと段落する頃」という、8月23日ごろにある二十四節気のひとつは何?\n",
      "解答：処暑\n",
      "\n",
      "問題：バチカン市国で国歌として歌われている『賛歌と教皇の行進曲』の作曲をしたフランスの作曲家は誰?\n",
      "解答：ジュゼッペ・ヴェルディ\n",
      "\n"
     ]
    },
    {
     "name": "stderr",
     "output_type": "stream",
     "text": [
      " 53%|█████▎    | 528/1000 [01:32<01:17,  6.12it/s]"
     ]
    },
    {
     "name": "stdout",
     "output_type": "stream",
     "text": [
      "問題：無用な発言をしなければ災いを招かずにすむという意味のことわざを、「何も鳴かずば撃たれまい」という?\n",
      "解答：鴨\n",
      "\n",
      "問題：ラテン語で「女神」という意味がある、オペラのプリマドンナなどの「歌姫」を指す言葉は何?\n",
      "解答：ディーヴァ\n",
      "\n",
      "問題：小説『ファーストラヴ』で第159回直木賞を受賞した、『ナラタージュ』『リトル・バイ・リトル』などの作品でも知られる作家は誰?\n",
      "解答：三浦しをん\n",
      "\n",
      "問題：煙突を表す地図記号に、煙を表す線は何本ひかれている?\n",
      "解答：1本\n",
      "\n"
     ]
    },
    {
     "name": "stderr",
     "output_type": "stream",
     "text": [
      " 53%|█████▎    | 532/1000 [01:33<01:11,  6.59it/s]"
     ]
    },
    {
     "name": "stdout",
     "output_type": "stream",
     "text": [
      "問題：昔話の主人公で、桃から生まれた男の子は桃太郎ですが、瓜から生まれた女の子は何?\n",
      "解答：かぐや姫\n",
      "\n",
      "問題：江戸時代初期の浮世絵師で、『見返り美人図』などの作品で知られるのは誰?\n",
      "解答：喜多川歌麿\n",
      "\n",
      "問題：漢字で「白い頭の鳥」とも書く鳥で、源義経が一ノ谷の戦いで奇襲をかけるために通ったとされる山道の名前にもなっているのは何?\n",
      "解答：鶴\n",
      "\n",
      "問題：昔話「さるかに合戦」で、猿が蟹が持っていたおむすびと交換したものといえばどんな果物の種?\n",
      "解答：栗\n",
      "\n"
     ]
    },
    {
     "name": "stderr",
     "output_type": "stream",
     "text": [
      " 54%|█████▎    | 536/1000 [01:33<01:06,  6.96it/s]"
     ]
    },
    {
     "name": "stdout",
     "output_type": "stream",
     "text": [
      "問題：十両以上で達成した場合「8勝7敗」「7勝8敗」のいずれかとなる、大相撲で白星と黒星を繰り返すことを何という?\n",
      "解答：負け越し\n",
      "\n",
      "問題：日本の仏像や古代ギリシャの彫刻に見られる、かすかな微笑みのことを英語で何という?\n",
      "解答：Smile of Mona Lisa\n",
      "\n",
      "問題：映画『ローマの休日』に登場したトリニタ・ディ・モンティ階段が有名な、ある国の名前がつけられたローマ市内の広場は何?\n",
      "解答：スペイン広場\n",
      "\n",
      "問題：漢字の「日」「昌」の「日」は「太陽」を表しますが、「晶」の「日」は何を表す?\n",
      "解答：水\n",
      "\n"
     ]
    },
    {
     "name": "stderr",
     "output_type": "stream",
     "text": [
      " 54%|█████▍    | 540/1000 [01:34<01:04,  7.18it/s]"
     ]
    },
    {
     "name": "stdout",
     "output_type": "stream",
     "text": [
      "問題：大股で歩いても小股で歩いても危険であるということからその名がついたといわれる、吉野川の激流によって作られた徳島県にある渓谷は何?\n",
      "解答：大歩危峡\n",
      "\n",
      "問題：ニュージーランドに生息する飛べない鳥にちなんで名がつけられた、中国原産の果物は何?\n",
      "解答：キウイ果実\n",
      "\n",
      "問題：13世紀の神聖ローマ帝国で、ホーエンシュタウフェン朝の断絶からハプスブルク朝の成立までの間、皇帝が事実上不在となった期間のことを何という?\n",
      "解答：インターレギウム\n",
      "\n",
      "問題：外科手術で、狭くなった血管や食道を内側から広げるために用いられる金属製の筒を何という?\n",
      "解答：ステント\n",
      "\n"
     ]
    },
    {
     "name": "stderr",
     "output_type": "stream",
     "text": [
      " 54%|█████▍    | 544/1000 [01:34<01:02,  7.28it/s]"
     ]
    },
    {
     "name": "stdout",
     "output_type": "stream",
     "text": [
      "問題：京野菜で、田中、伏見、万願寺といえば、何という野菜の品種?\n",
      "解答：ナス\n",
      "\n",
      "問題：猫の品種「ヒマラヤン」は、シャム猫と何という猫を交配し改良して生まれた猫?\n",
      "解答：ペルシャ猫\n",
      "\n",
      "問題：詩人になれず、強い自尊心から虎に変身してしまう主人公・李徴を描いた、中島敦の小説は何?\n",
      "解答：山月記\n",
      "\n",
      "問題：1921年にジョン・ゴールズワージーを初代会長として設立された、ロンドンに本部を置く文学団体は何?\n",
      "解答：PENクラブ\n",
      "\n"
     ]
    },
    {
     "name": "stderr",
     "output_type": "stream",
     "text": [
      " 55%|█████▍    | 548/1000 [01:35<00:59,  7.55it/s]"
     ]
    },
    {
     "name": "stdout",
     "output_type": "stream",
     "text": [
      "問題：劇中の『凱旋行進曲』が有名な、エジプトの将軍ラダメスとエチオピア王女の悲恋を描いたヴェルディ作曲のオペラは何?\n",
      "解答：アイーダ\n",
      "\n",
      "問題：谷川俊太郎の第一詩集『二十億光年の孤独』で、「ひき合う孤独の力である」と表現されているものは何?\n",
      "解答：星座\n",
      "\n",
      "問題：イタリアのシチリア島にあるヨーロッパ最大の活火山は何山?\n",
      "解答：エトナ山\n",
      "\n",
      "問題：出身地や支援したい自治体に寄付を行うことによって、住民税の一部が控除されるという制度のことを「何納税」という?\n",
      "解答：ふるさと納税\n",
      "\n"
     ]
    },
    {
     "name": "stderr",
     "output_type": "stream",
     "text": [
      " 55%|█████▌    | 552/1000 [01:36<01:01,  7.23it/s]"
     ]
    },
    {
     "name": "stdout",
     "output_type": "stream",
     "text": [
      "問題：『源氏物語』の作者は紫式部ですが、その注釈本『源氏物語湖月抄』の作者は誰?\n",
      "解答：藤原定家\n",
      "\n",
      "問題：「電流の強さは、電圧に比例し、電気抵抗に反比例する」という法則を「何の法則」という?\n",
      "解答：オームの法則\n",
      "\n",
      "問題：Windowsのパソコンで、ブラウザの画面を更新する際に用いるのは「Fいくつ」?\n",
      "解答：5\n",
      "\n",
      "問題：220と284のように、自身を除いた約数の和が互いに等しくなるような自然数の組のことを何数という?\n",
      "解答：友愛数\n",
      "\n"
     ]
    },
    {
     "name": "stderr",
     "output_type": "stream",
     "text": [
      " 56%|█████▌    | 556/1000 [01:36<01:03,  6.96it/s]"
     ]
    },
    {
     "name": "stdout",
     "output_type": "stream",
     "text": [
      "問題：「己を知りうる者は賢者なり」という言葉を残した、『カンタベリ物語』で知られるイギリスの詩人は誰?\n",
      "解答：ジェフリー・チョーサー\n",
      "\n",
      "問題：クリミア戦争での働きぶりから「クリミアの天使」と呼ばれた看護師は誰?\n",
      "解答：フローレンス・ナイチンゲール\n",
      "\n",
      "問題：アルファベット2文字でGDと略される就職活動における企業の選考方法のひとつで、学生を数人の組に分け、特定のテーマについて討論させることを何という?\n",
      "解答：グループディスカッション\n",
      "\n",
      "問題：イギリス民謡を原曲とする、「丘を越え行こうよ口笛吹きつつ」という歌い出しで始まる童謡は何?\n",
      "解答：荒城の月\n",
      "\n"
     ]
    },
    {
     "name": "stderr",
     "output_type": "stream",
     "text": [
      " 56%|█████▌    | 560/1000 [01:37<01:10,  6.23it/s]"
     ]
    },
    {
     "name": "stdout",
     "output_type": "stream",
     "text": [
      "問題：「ばねが伸びる長さは引く力に比例する」という法則を、これを発見したイギリスの科学者の名をとって「何の法則」という?\n",
      "解答：フックの法則\n",
      "\n",
      "問題：2024年に開催されるパリオリンピックの競技として正式採用されたブレイキンとは、何ダンスのこと?\n",
      "解答：ストリートダンス\n",
      "\n",
      "問題：「若いカップルが一緒に食べるように」との思いを込めて名付けられた、まるか食品が販売するソース焼きそばといえば何?\n",
      "解答：若鶏焼きそば\n",
      "\n",
      "問題：1841年3月4日に就任するも、同年4月4日に死去したため、在位31日と歴代アメリカ大統領でもっとも在任期間が短い、第9代大統領は誰?\n",
      "解答：ウィリアム・ハリソン\n",
      "\n"
     ]
    },
    {
     "name": "stderr",
     "output_type": "stream",
     "text": [
      " 56%|█████▋    | 564/1000 [01:38<01:10,  6.19it/s]"
     ]
    },
    {
     "name": "stdout",
     "output_type": "stream",
     "text": [
      "問題：ほとんど老化しないことから、近年、長寿の研究対象となっている、哺乳類で唯一の真社会性を持つというネズミの仲間は何?\n",
      "解答：ナマケモノ\n",
      "\n",
      "問題：アニメなどの声優をアルファベット2文字で「CV」と表しますが、これは何という和製英語の頭文字?\n",
      "解答：Character Voice\n",
      "\n",
      "問題：太陽、雲、雨などをモチーフにした「はれるん」といえば、何という中央官庁のマスコットキャラクター?\n",
      "解答：気象庁\n",
      "\n",
      "問題：万年筆のメカニズムにも利用されている、液体の中に細い管を入れると管の中の液体面の高さが外のものより高くなる現象を何という?\n",
      "解答：キャピラリー現象\n",
      "\n"
     ]
    },
    {
     "name": "stderr",
     "output_type": "stream",
     "text": [
      " 57%|█████▋    | 568/1000 [01:38<01:13,  5.86it/s]"
     ]
    },
    {
     "name": "stdout",
     "output_type": "stream",
     "text": [
      "問題：19世紀にバイエルン王国のルートヴィヒ1世の結婚式のお祝いとして開かれた祝賀会を起源とする、毎年秋にドイツのミュンヘンで開催される世界最大のビール祭りは何?\n",
      "解答：オクトーバーフェスト\n",
      "\n",
      "問題：薬局で働く専門の職業で、お医者さんからの指示に基づいて、患者に薬を提供したり、薬を調合したりする資格を持つ人を何師という?\n",
      "解答：薬剤師\n",
      "\n",
      "問題：エビやイカ、タコなどの血液が青く見える主な要因である、血液中に含まれる、銅を含む色素たんぱく質を何という?\n",
      "解答：ヘマシアニン\n",
      "\n",
      "問題：日本で最初の元号「大化」が始まったのは西暦何年?\n",
      "解答：645年\n",
      "\n"
     ]
    },
    {
     "name": "stderr",
     "output_type": "stream",
     "text": [
      " 57%|█████▋    | 572/1000 [01:39<01:15,  5.66it/s]"
     ]
    },
    {
     "name": "stdout",
     "output_type": "stream",
     "text": [
      "問題：安納芋、宇宙センター、鉄砲伝来。これらから連想される鹿児島県の島はどこ?\n",
      "解答：屋久島\n",
      "\n",
      "問題：旅館の部屋に置かれている、衣類や手回り品などを一時的に入れておくための浅い箱を何という?\n",
      "解答：箪笥\n",
      "\n",
      "問題：ゾウを主人公とした絵本で『ぞうのエルマー』の生みの親はデビッド・マッキーですが、『ぞうのババール』の生みの親であるフランスの作家は誰?\n",
      "解答：ジャン・ド・ブリュノフ\n",
      "\n",
      "問題：もともとは、映画用のフィルムの縁にある音声を記録する部分のことで、そこから、映画やドラマのBGMや挿入曲を指すようになった言葉といえば何?\n",
      "解答：サウンドトラック\n",
      "\n"
     ]
    },
    {
     "name": "stderr",
     "output_type": "stream",
     "text": [
      " 57%|█████▋    | 572/1000 [01:40<01:15,  5.70it/s]\n"
     ]
    },
    {
     "ename": "RateLimitError",
     "evalue": "Error code: 429 - {'error': {'message': 'Rate limit reached for gpt-3.5-turbo in organization org-Kx69x7PdKOLYJZcJv5CL0aM9 on tokens per min (TPM): Limit 60000, Used 59843, Requested 201. Please try again in 44ms. Visit https://platform.openai.com/account/rate-limits to learn more.', 'type': 'tokens', 'param': None, 'code': 'rate_limit_exceeded'}}",
     "output_type": "error",
     "traceback": [
      "\u001b[1;31m---------------------------------------------------------------------------\u001b[0m",
      "\u001b[1;31mRateLimitError\u001b[0m                            Traceback (most recent call last)",
      "Cell \u001b[1;32mIn[35], line 1\u001b[0m\n\u001b[1;32m----> 1\u001b[0m in_context_output_answers \u001b[38;5;241m=\u001b[39m \u001b[43mget_chatgpt_outputs_for_quiz\u001b[49m\u001b[43m(\u001b[49m\n\u001b[0;32m      2\u001b[0m \u001b[43m    \u001b[49m\u001b[43min_context_prompt_maker\u001b[49m\u001b[43m,\u001b[49m\n\u001b[0;32m      3\u001b[0m \u001b[43m    \u001b[49m\u001b[43mquiz_dataset\u001b[49m\u001b[43m,\u001b[49m\n\u001b[0;32m      4\u001b[0m \u001b[43m    \u001b[49m\u001b[43mbatch_size\u001b[49m\u001b[38;5;241;43m=\u001b[39;49m\u001b[38;5;241;43m4\u001b[39;49m\u001b[43m,\u001b[49m\n\u001b[0;32m      5\u001b[0m \u001b[43m)\u001b[49m\n\u001b[0;32m      6\u001b[0m in_context_accuracy \u001b[38;5;241m=\u001b[39m calculate_quiz_accuracy(\n\u001b[0;32m      7\u001b[0m     in_context_output_answers,\n\u001b[0;32m      8\u001b[0m     [e[\u001b[38;5;124m\"\u001b[39m\u001b[38;5;124manswers\u001b[39m\u001b[38;5;124m\"\u001b[39m] \u001b[38;5;28;01mfor\u001b[39;00m e \u001b[38;5;129;01min\u001b[39;00m quiz_dataset],\n\u001b[0;32m      9\u001b[0m )\n\u001b[0;32m     10\u001b[0m \u001b[38;5;28mprint\u001b[39m(\u001b[38;5;124mf\u001b[39m\u001b[38;5;124m\"\u001b[39m\u001b[38;5;124m正解率：\u001b[39m\u001b[38;5;132;01m{\u001b[39;00min_context_accuracy\u001b[38;5;250m \u001b[39m\u001b[38;5;241m*\u001b[39m\u001b[38;5;250m \u001b[39m\u001b[38;5;241m100\u001b[39m\u001b[38;5;132;01m}\u001b[39;00m\u001b[38;5;124m\"\u001b[39m)\n",
      "Cell \u001b[1;32mIn[25], line 22\u001b[0m, in \u001b[0;36mget_chatgpt_outputs_for_quiz\u001b[1;34m(quiz_prompt_maker, quiz_dataset, batch_size)\u001b[0m\n\u001b[0;32m     15\u001b[0m inputs \u001b[38;5;241m=\u001b[39m [\n\u001b[0;32m     16\u001b[0m     [{\n\u001b[0;32m     17\u001b[0m         \u001b[38;5;124m\"\u001b[39m\u001b[38;5;124mrole\u001b[39m\u001b[38;5;124m\"\u001b[39m: \u001b[38;5;124m\"\u001b[39m\u001b[38;5;124muser\u001b[39m\u001b[38;5;124m\"\u001b[39m,\n\u001b[0;32m     18\u001b[0m         \u001b[38;5;124m\"\u001b[39m\u001b[38;5;124mcontent\u001b[39m\u001b[38;5;124m\"\u001b[39m: p\n\u001b[0;32m     19\u001b[0m     }] \u001b[38;5;28;01mfor\u001b[39;00m p \u001b[38;5;129;01min\u001b[39;00m prompts\n\u001b[0;32m     20\u001b[0m ]\n\u001b[0;32m     21\u001b[0m \u001b[38;5;66;03m# APIリクエスト送信\u001b[39;00m\n\u001b[1;32m---> 22\u001b[0m answers \u001b[38;5;241m=\u001b[39m \u001b[43mbatch_run_chatgpt\u001b[49m\u001b[43m(\u001b[49m\u001b[43minputs\u001b[49m\u001b[43m)\u001b[49m\n\u001b[0;32m     24\u001b[0m \u001b[38;5;28;01mfor\u001b[39;00m question, answer \u001b[38;5;129;01min\u001b[39;00m \u001b[38;5;28mzip\u001b[39m(batch[\u001b[38;5;124m\"\u001b[39m\u001b[38;5;124mquestion\u001b[39m\u001b[38;5;124m\"\u001b[39m], answers):\n\u001b[0;32m     25\u001b[0m     \u001b[38;5;28mprint\u001b[39m(\u001b[38;5;124mf\u001b[39m\u001b[38;5;124m\"\u001b[39m\u001b[38;5;124m問題：\u001b[39m\u001b[38;5;132;01m{\u001b[39;00mquestion\u001b[38;5;132;01m}\u001b[39;00m\u001b[38;5;124m\"\u001b[39m)\n",
      "Cell \u001b[1;32mIn[28], line 7\u001b[0m, in \u001b[0;36mbatch_run_chatgpt\u001b[1;34m(messages_list, temperature, max_tokens, stop)\u001b[0m\n\u001b[0;32m      1\u001b[0m \u001b[38;5;28;01mdef\u001b[39;00m \u001b[38;5;21mbatch_run_chatgpt\u001b[39m(\n\u001b[0;32m      2\u001b[0m     messages_list: \u001b[38;5;28mlist\u001b[39m[\u001b[38;5;28mlist\u001b[39m[\u001b[38;5;28mdict\u001b[39m[\u001b[38;5;28mstr\u001b[39m, \u001b[38;5;28mstr\u001b[39m]]],\n\u001b[0;32m      3\u001b[0m     temperature: \u001b[38;5;28mfloat\u001b[39m \u001b[38;5;241m=\u001b[39m \u001b[38;5;241m0.0\u001b[39m,\n\u001b[0;32m      4\u001b[0m     max_tokens: \u001b[38;5;28mint\u001b[39m \u001b[38;5;241m|\u001b[39m \u001b[38;5;28;01mNone\u001b[39;00m \u001b[38;5;241m=\u001b[39m \u001b[38;5;28;01mNone\u001b[39;00m,\n\u001b[0;32m      5\u001b[0m     stop: \u001b[38;5;28mstr\u001b[39m \u001b[38;5;241m|\u001b[39m \u001b[38;5;28mlist\u001b[39m[\u001b[38;5;28mstr\u001b[39m] \u001b[38;5;241m|\u001b[39m \u001b[38;5;28;01mNone\u001b[39;00m \u001b[38;5;241m=\u001b[39m \u001b[38;5;28;01mNone\u001b[39;00m,\n\u001b[0;32m      6\u001b[0m ) \u001b[38;5;241m-\u001b[39m\u001b[38;5;241m>\u001b[39m \u001b[38;5;28mlist\u001b[39m[\u001b[38;5;28mstr\u001b[39m]:\n\u001b[1;32m----> 7\u001b[0m     \u001b[38;5;28;01mreturn\u001b[39;00m \u001b[43masyncio\u001b[49m\u001b[38;5;241;43m.\u001b[39;49m\u001b[43mrun\u001b[49m\u001b[43m(\u001b[49m\n\u001b[0;32m      8\u001b[0m \u001b[43m        \u001b[49m\u001b[43m_async_batch_run_chatgpt\u001b[49m\u001b[43m(\u001b[49m\n\u001b[0;32m      9\u001b[0m \u001b[43m            \u001b[49m\u001b[43mmessages_list\u001b[49m\u001b[43m,\u001b[49m\n\u001b[0;32m     10\u001b[0m \u001b[43m            \u001b[49m\u001b[43mtemperature\u001b[49m\u001b[43m,\u001b[49m\n\u001b[0;32m     11\u001b[0m \u001b[43m            \u001b[49m\u001b[43mmax_tokens\u001b[49m\u001b[43m,\u001b[49m\n\u001b[0;32m     12\u001b[0m \u001b[43m            \u001b[49m\u001b[43mstop\u001b[49m\n\u001b[0;32m     13\u001b[0m \u001b[43m        \u001b[49m\u001b[43m)\u001b[49m\n\u001b[0;32m     14\u001b[0m \u001b[43m    \u001b[49m\u001b[43m)\u001b[49m\n",
      "File \u001b[1;32m~\\anaconda3\\envs\\introduction_llm_book\\lib\\site-packages\\nest_asyncio.py:30\u001b[0m, in \u001b[0;36m_patch_asyncio.<locals>.run\u001b[1;34m(main, debug)\u001b[0m\n\u001b[0;32m     28\u001b[0m task \u001b[38;5;241m=\u001b[39m asyncio\u001b[38;5;241m.\u001b[39mensure_future(main)\n\u001b[0;32m     29\u001b[0m \u001b[38;5;28;01mtry\u001b[39;00m:\n\u001b[1;32m---> 30\u001b[0m     \u001b[38;5;28;01mreturn\u001b[39;00m \u001b[43mloop\u001b[49m\u001b[38;5;241;43m.\u001b[39;49m\u001b[43mrun_until_complete\u001b[49m\u001b[43m(\u001b[49m\u001b[43mtask\u001b[49m\u001b[43m)\u001b[49m\n\u001b[0;32m     31\u001b[0m \u001b[38;5;28;01mfinally\u001b[39;00m:\n\u001b[0;32m     32\u001b[0m     \u001b[38;5;28;01mif\u001b[39;00m \u001b[38;5;129;01mnot\u001b[39;00m task\u001b[38;5;241m.\u001b[39mdone():\n",
      "File \u001b[1;32m~\\anaconda3\\envs\\introduction_llm_book\\lib\\site-packages\\nest_asyncio.py:98\u001b[0m, in \u001b[0;36m_patch_loop.<locals>.run_until_complete\u001b[1;34m(self, future)\u001b[0m\n\u001b[0;32m     95\u001b[0m \u001b[38;5;28;01mif\u001b[39;00m \u001b[38;5;129;01mnot\u001b[39;00m f\u001b[38;5;241m.\u001b[39mdone():\n\u001b[0;32m     96\u001b[0m     \u001b[38;5;28;01mraise\u001b[39;00m \u001b[38;5;167;01mRuntimeError\u001b[39;00m(\n\u001b[0;32m     97\u001b[0m         \u001b[38;5;124m'\u001b[39m\u001b[38;5;124mEvent loop stopped before Future completed.\u001b[39m\u001b[38;5;124m'\u001b[39m)\n\u001b[1;32m---> 98\u001b[0m \u001b[38;5;28;01mreturn\u001b[39;00m \u001b[43mf\u001b[49m\u001b[38;5;241;43m.\u001b[39;49m\u001b[43mresult\u001b[49m\u001b[43m(\u001b[49m\u001b[43m)\u001b[49m\n",
      "File \u001b[1;32m~\\anaconda3\\envs\\introduction_llm_book\\lib\\asyncio\\futures.py:201\u001b[0m, in \u001b[0;36mFuture.result\u001b[1;34m(self)\u001b[0m\n\u001b[0;32m    199\u001b[0m \u001b[38;5;28mself\u001b[39m\u001b[38;5;241m.\u001b[39m__log_traceback \u001b[38;5;241m=\u001b[39m \u001b[38;5;28;01mFalse\u001b[39;00m\n\u001b[0;32m    200\u001b[0m \u001b[38;5;28;01mif\u001b[39;00m \u001b[38;5;28mself\u001b[39m\u001b[38;5;241m.\u001b[39m_exception \u001b[38;5;129;01mis\u001b[39;00m \u001b[38;5;129;01mnot\u001b[39;00m \u001b[38;5;28;01mNone\u001b[39;00m:\n\u001b[1;32m--> 201\u001b[0m     \u001b[38;5;28;01mraise\u001b[39;00m \u001b[38;5;28mself\u001b[39m\u001b[38;5;241m.\u001b[39m_exception\u001b[38;5;241m.\u001b[39mwith_traceback(\u001b[38;5;28mself\u001b[39m\u001b[38;5;241m.\u001b[39m_exception_tb)\n\u001b[0;32m    202\u001b[0m \u001b[38;5;28;01mreturn\u001b[39;00m \u001b[38;5;28mself\u001b[39m\u001b[38;5;241m.\u001b[39m_result\n",
      "File \u001b[1;32m~\\anaconda3\\envs\\introduction_llm_book\\lib\\asyncio\\tasks.py:234\u001b[0m, in \u001b[0;36mTask.__step\u001b[1;34m(***failed resolving arguments***)\u001b[0m\n\u001b[0;32m    232\u001b[0m         result \u001b[38;5;241m=\u001b[39m coro\u001b[38;5;241m.\u001b[39msend(\u001b[38;5;28;01mNone\u001b[39;00m)\n\u001b[0;32m    233\u001b[0m     \u001b[38;5;28;01melse\u001b[39;00m:\n\u001b[1;32m--> 234\u001b[0m         result \u001b[38;5;241m=\u001b[39m \u001b[43mcoro\u001b[49m\u001b[38;5;241;43m.\u001b[39;49m\u001b[43mthrow\u001b[49m\u001b[43m(\u001b[49m\u001b[43mexc\u001b[49m\u001b[43m)\u001b[49m\n\u001b[0;32m    235\u001b[0m \u001b[38;5;28;01mexcept\u001b[39;00m \u001b[38;5;167;01mStopIteration\u001b[39;00m \u001b[38;5;28;01mas\u001b[39;00m exc:\n\u001b[0;32m    236\u001b[0m     \u001b[38;5;28;01mif\u001b[39;00m \u001b[38;5;28mself\u001b[39m\u001b[38;5;241m.\u001b[39m_must_cancel:\n\u001b[0;32m    237\u001b[0m         \u001b[38;5;66;03m# Task is cancelled right before coro stops.\u001b[39;00m\n",
      "Cell \u001b[1;32mIn[15], line 18\u001b[0m, in \u001b[0;36m_async_batch_run_chatgpt\u001b[1;34m(messages_list, temperature, max_tokens, stop)\u001b[0m\n\u001b[0;32m      8\u001b[0m tasks \u001b[38;5;241m=\u001b[39m [\n\u001b[0;32m      9\u001b[0m     async_client\u001b[38;5;241m.\u001b[39mchat\u001b[38;5;241m.\u001b[39mcompletions\u001b[38;5;241m.\u001b[39mcreate(\n\u001b[0;32m     10\u001b[0m         model\u001b[38;5;241m=\u001b[39m\u001b[38;5;124m\"\u001b[39m\u001b[38;5;124mgpt-3.5-turbo\u001b[39m\u001b[38;5;124m\"\u001b[39m,\n\u001b[1;32m   (...)\u001b[0m\n\u001b[0;32m     15\u001b[0m     ) \u001b[38;5;28;01mfor\u001b[39;00m ms \u001b[38;5;129;01min\u001b[39;00m messages_list\n\u001b[0;32m     16\u001b[0m ]\n\u001b[0;32m     17\u001b[0m \u001b[38;5;66;03m# tasks内の非同期処理を実行し結果を収集\u001b[39;00m\n\u001b[1;32m---> 18\u001b[0m completions \u001b[38;5;241m=\u001b[39m \u001b[38;5;28;01mawait\u001b[39;00m asyncio\u001b[38;5;241m.\u001b[39mgather(\u001b[38;5;241m*\u001b[39mtasks)\n\u001b[0;32m     19\u001b[0m \u001b[38;5;28;01mreturn\u001b[39;00m [\n\u001b[0;32m     20\u001b[0m     c\u001b[38;5;241m.\u001b[39mchoices[\u001b[38;5;241m0\u001b[39m]\u001b[38;5;241m.\u001b[39mmessage\u001b[38;5;241m.\u001b[39mcontent \u001b[38;5;28;01mfor\u001b[39;00m c \u001b[38;5;129;01min\u001b[39;00m completions\n\u001b[0;32m     21\u001b[0m ]\n",
      "File \u001b[1;32m~\\anaconda3\\envs\\introduction_llm_book\\lib\\asyncio\\tasks.py:304\u001b[0m, in \u001b[0;36mTask.__wakeup\u001b[1;34m(self, future)\u001b[0m\n\u001b[0;32m    302\u001b[0m \u001b[38;5;28;01mdef\u001b[39;00m \u001b[38;5;21m__wakeup\u001b[39m(\u001b[38;5;28mself\u001b[39m, future):\n\u001b[0;32m    303\u001b[0m     \u001b[38;5;28;01mtry\u001b[39;00m:\n\u001b[1;32m--> 304\u001b[0m         \u001b[43mfuture\u001b[49m\u001b[38;5;241;43m.\u001b[39;49m\u001b[43mresult\u001b[49m\u001b[43m(\u001b[49m\u001b[43m)\u001b[49m\n\u001b[0;32m    305\u001b[0m     \u001b[38;5;28;01mexcept\u001b[39;00m \u001b[38;5;167;01mBaseException\u001b[39;00m \u001b[38;5;28;01mas\u001b[39;00m exc:\n\u001b[0;32m    306\u001b[0m         \u001b[38;5;66;03m# This may also be a cancellation.\u001b[39;00m\n\u001b[0;32m    307\u001b[0m         \u001b[38;5;28mself\u001b[39m\u001b[38;5;241m.\u001b[39m__step(exc)\n",
      "File \u001b[1;32m~\\anaconda3\\envs\\introduction_llm_book\\lib\\asyncio\\tasks.py:232\u001b[0m, in \u001b[0;36mTask.__step\u001b[1;34m(***failed resolving arguments***)\u001b[0m\n\u001b[0;32m    228\u001b[0m \u001b[38;5;28;01mtry\u001b[39;00m:\n\u001b[0;32m    229\u001b[0m     \u001b[38;5;28;01mif\u001b[39;00m exc \u001b[38;5;129;01mis\u001b[39;00m \u001b[38;5;28;01mNone\u001b[39;00m:\n\u001b[0;32m    230\u001b[0m         \u001b[38;5;66;03m# We use the `send` method directly, because coroutines\u001b[39;00m\n\u001b[0;32m    231\u001b[0m         \u001b[38;5;66;03m# don't have `__iter__` and `__next__` methods.\u001b[39;00m\n\u001b[1;32m--> 232\u001b[0m         result \u001b[38;5;241m=\u001b[39m \u001b[43mcoro\u001b[49m\u001b[38;5;241;43m.\u001b[39;49m\u001b[43msend\u001b[49m\u001b[43m(\u001b[49m\u001b[38;5;28;43;01mNone\u001b[39;49;00m\u001b[43m)\u001b[49m\n\u001b[0;32m    233\u001b[0m     \u001b[38;5;28;01melse\u001b[39;00m:\n\u001b[0;32m    234\u001b[0m         result \u001b[38;5;241m=\u001b[39m coro\u001b[38;5;241m.\u001b[39mthrow(exc)\n",
      "File \u001b[1;32m~\\anaconda3\\envs\\introduction_llm_book\\lib\\site-packages\\openai\\resources\\chat\\completions.py:1159\u001b[0m, in \u001b[0;36mAsyncCompletions.create\u001b[1;34m(self, messages, model, frequency_penalty, function_call, functions, logit_bias, logprobs, max_tokens, n, presence_penalty, response_format, seed, stop, stream, temperature, tool_choice, tools, top_logprobs, top_p, user, extra_headers, extra_query, extra_body, timeout)\u001b[0m\n\u001b[0;32m   1128\u001b[0m \u001b[38;5;129m@required_args\u001b[39m([\u001b[38;5;124m\"\u001b[39m\u001b[38;5;124mmessages\u001b[39m\u001b[38;5;124m\"\u001b[39m, \u001b[38;5;124m\"\u001b[39m\u001b[38;5;124mmodel\u001b[39m\u001b[38;5;124m\"\u001b[39m], [\u001b[38;5;124m\"\u001b[39m\u001b[38;5;124mmessages\u001b[39m\u001b[38;5;124m\"\u001b[39m, \u001b[38;5;124m\"\u001b[39m\u001b[38;5;124mmodel\u001b[39m\u001b[38;5;124m\"\u001b[39m, \u001b[38;5;124m\"\u001b[39m\u001b[38;5;124mstream\u001b[39m\u001b[38;5;124m\"\u001b[39m])\n\u001b[0;32m   1129\u001b[0m \u001b[38;5;28;01masync\u001b[39;00m \u001b[38;5;28;01mdef\u001b[39;00m \u001b[38;5;21mcreate\u001b[39m(\n\u001b[0;32m   1130\u001b[0m     \u001b[38;5;28mself\u001b[39m,\n\u001b[1;32m   (...)\u001b[0m\n\u001b[0;32m   1157\u001b[0m     timeout: \u001b[38;5;28mfloat\u001b[39m \u001b[38;5;241m|\u001b[39m httpx\u001b[38;5;241m.\u001b[39mTimeout \u001b[38;5;241m|\u001b[39m \u001b[38;5;28;01mNone\u001b[39;00m \u001b[38;5;241m|\u001b[39m NotGiven \u001b[38;5;241m=\u001b[39m NOT_GIVEN,\n\u001b[0;32m   1158\u001b[0m ) \u001b[38;5;241m-\u001b[39m\u001b[38;5;241m>\u001b[39m ChatCompletion \u001b[38;5;241m|\u001b[39m AsyncStream[ChatCompletionChunk]:\n\u001b[1;32m-> 1159\u001b[0m     \u001b[38;5;28;01mreturn\u001b[39;00m \u001b[38;5;28;01mawait\u001b[39;00m \u001b[38;5;28mself\u001b[39m\u001b[38;5;241m.\u001b[39m_post(\n\u001b[0;32m   1160\u001b[0m         \u001b[38;5;124m\"\u001b[39m\u001b[38;5;124m/chat/completions\u001b[39m\u001b[38;5;124m\"\u001b[39m,\n\u001b[0;32m   1161\u001b[0m         body\u001b[38;5;241m=\u001b[39m\u001b[38;5;28;01mawait\u001b[39;00m async_maybe_transform(\n\u001b[0;32m   1162\u001b[0m             {\n\u001b[0;32m   1163\u001b[0m                 \u001b[38;5;124m\"\u001b[39m\u001b[38;5;124mmessages\u001b[39m\u001b[38;5;124m\"\u001b[39m: messages,\n\u001b[0;32m   1164\u001b[0m                 \u001b[38;5;124m\"\u001b[39m\u001b[38;5;124mmodel\u001b[39m\u001b[38;5;124m\"\u001b[39m: model,\n\u001b[0;32m   1165\u001b[0m                 \u001b[38;5;124m\"\u001b[39m\u001b[38;5;124mfrequency_penalty\u001b[39m\u001b[38;5;124m\"\u001b[39m: frequency_penalty,\n\u001b[0;32m   1166\u001b[0m                 \u001b[38;5;124m\"\u001b[39m\u001b[38;5;124mfunction_call\u001b[39m\u001b[38;5;124m\"\u001b[39m: function_call,\n\u001b[0;32m   1167\u001b[0m                 \u001b[38;5;124m\"\u001b[39m\u001b[38;5;124mfunctions\u001b[39m\u001b[38;5;124m\"\u001b[39m: functions,\n\u001b[0;32m   1168\u001b[0m                 \u001b[38;5;124m\"\u001b[39m\u001b[38;5;124mlogit_bias\u001b[39m\u001b[38;5;124m\"\u001b[39m: logit_bias,\n\u001b[0;32m   1169\u001b[0m                 \u001b[38;5;124m\"\u001b[39m\u001b[38;5;124mlogprobs\u001b[39m\u001b[38;5;124m\"\u001b[39m: logprobs,\n\u001b[0;32m   1170\u001b[0m                 \u001b[38;5;124m\"\u001b[39m\u001b[38;5;124mmax_tokens\u001b[39m\u001b[38;5;124m\"\u001b[39m: max_tokens,\n\u001b[0;32m   1171\u001b[0m                 \u001b[38;5;124m\"\u001b[39m\u001b[38;5;124mn\u001b[39m\u001b[38;5;124m\"\u001b[39m: n,\n\u001b[0;32m   1172\u001b[0m                 \u001b[38;5;124m\"\u001b[39m\u001b[38;5;124mpresence_penalty\u001b[39m\u001b[38;5;124m\"\u001b[39m: presence_penalty,\n\u001b[0;32m   1173\u001b[0m                 \u001b[38;5;124m\"\u001b[39m\u001b[38;5;124mresponse_format\u001b[39m\u001b[38;5;124m\"\u001b[39m: response_format,\n\u001b[0;32m   1174\u001b[0m                 \u001b[38;5;124m\"\u001b[39m\u001b[38;5;124mseed\u001b[39m\u001b[38;5;124m\"\u001b[39m: seed,\n\u001b[0;32m   1175\u001b[0m                 \u001b[38;5;124m\"\u001b[39m\u001b[38;5;124mstop\u001b[39m\u001b[38;5;124m\"\u001b[39m: stop,\n\u001b[0;32m   1176\u001b[0m                 \u001b[38;5;124m\"\u001b[39m\u001b[38;5;124mstream\u001b[39m\u001b[38;5;124m\"\u001b[39m: stream,\n\u001b[0;32m   1177\u001b[0m                 \u001b[38;5;124m\"\u001b[39m\u001b[38;5;124mtemperature\u001b[39m\u001b[38;5;124m\"\u001b[39m: temperature,\n\u001b[0;32m   1178\u001b[0m                 \u001b[38;5;124m\"\u001b[39m\u001b[38;5;124mtool_choice\u001b[39m\u001b[38;5;124m\"\u001b[39m: tool_choice,\n\u001b[0;32m   1179\u001b[0m                 \u001b[38;5;124m\"\u001b[39m\u001b[38;5;124mtools\u001b[39m\u001b[38;5;124m\"\u001b[39m: tools,\n\u001b[0;32m   1180\u001b[0m                 \u001b[38;5;124m\"\u001b[39m\u001b[38;5;124mtop_logprobs\u001b[39m\u001b[38;5;124m\"\u001b[39m: top_logprobs,\n\u001b[0;32m   1181\u001b[0m                 \u001b[38;5;124m\"\u001b[39m\u001b[38;5;124mtop_p\u001b[39m\u001b[38;5;124m\"\u001b[39m: top_p,\n\u001b[0;32m   1182\u001b[0m                 \u001b[38;5;124m\"\u001b[39m\u001b[38;5;124muser\u001b[39m\u001b[38;5;124m\"\u001b[39m: user,\n\u001b[0;32m   1183\u001b[0m             },\n\u001b[0;32m   1184\u001b[0m             completion_create_params\u001b[38;5;241m.\u001b[39mCompletionCreateParams,\n\u001b[0;32m   1185\u001b[0m         ),\n\u001b[0;32m   1186\u001b[0m         options\u001b[38;5;241m=\u001b[39mmake_request_options(\n\u001b[0;32m   1187\u001b[0m             extra_headers\u001b[38;5;241m=\u001b[39mextra_headers, extra_query\u001b[38;5;241m=\u001b[39mextra_query, extra_body\u001b[38;5;241m=\u001b[39mextra_body, timeout\u001b[38;5;241m=\u001b[39mtimeout\n\u001b[0;32m   1188\u001b[0m         ),\n\u001b[0;32m   1189\u001b[0m         cast_to\u001b[38;5;241m=\u001b[39mChatCompletion,\n\u001b[0;32m   1190\u001b[0m         stream\u001b[38;5;241m=\u001b[39mstream \u001b[38;5;129;01mor\u001b[39;00m \u001b[38;5;28;01mFalse\u001b[39;00m,\n\u001b[0;32m   1191\u001b[0m         stream_cls\u001b[38;5;241m=\u001b[39mAsyncStream[ChatCompletionChunk],\n\u001b[0;32m   1192\u001b[0m     )\n",
      "File \u001b[1;32m~\\anaconda3\\envs\\introduction_llm_book\\lib\\site-packages\\openai\\_base_client.py:1782\u001b[0m, in \u001b[0;36mAsyncAPIClient.post\u001b[1;34m(self, path, cast_to, body, files, options, stream, stream_cls)\u001b[0m\n\u001b[0;32m   1768\u001b[0m \u001b[38;5;28;01masync\u001b[39;00m \u001b[38;5;28;01mdef\u001b[39;00m \u001b[38;5;21mpost\u001b[39m(\n\u001b[0;32m   1769\u001b[0m     \u001b[38;5;28mself\u001b[39m,\n\u001b[0;32m   1770\u001b[0m     path: \u001b[38;5;28mstr\u001b[39m,\n\u001b[1;32m   (...)\u001b[0m\n\u001b[0;32m   1777\u001b[0m     stream_cls: \u001b[38;5;28mtype\u001b[39m[_AsyncStreamT] \u001b[38;5;241m|\u001b[39m \u001b[38;5;28;01mNone\u001b[39;00m \u001b[38;5;241m=\u001b[39m \u001b[38;5;28;01mNone\u001b[39;00m,\n\u001b[0;32m   1778\u001b[0m ) \u001b[38;5;241m-\u001b[39m\u001b[38;5;241m>\u001b[39m ResponseT \u001b[38;5;241m|\u001b[39m _AsyncStreamT:\n\u001b[0;32m   1779\u001b[0m     opts \u001b[38;5;241m=\u001b[39m FinalRequestOptions\u001b[38;5;241m.\u001b[39mconstruct(\n\u001b[0;32m   1780\u001b[0m         method\u001b[38;5;241m=\u001b[39m\u001b[38;5;124m\"\u001b[39m\u001b[38;5;124mpost\u001b[39m\u001b[38;5;124m\"\u001b[39m, url\u001b[38;5;241m=\u001b[39mpath, json_data\u001b[38;5;241m=\u001b[39mbody, files\u001b[38;5;241m=\u001b[39m\u001b[38;5;28;01mawait\u001b[39;00m async_to_httpx_files(files), \u001b[38;5;241m*\u001b[39m\u001b[38;5;241m*\u001b[39moptions\n\u001b[0;32m   1781\u001b[0m     )\n\u001b[1;32m-> 1782\u001b[0m     \u001b[38;5;28;01mreturn\u001b[39;00m \u001b[38;5;28;01mawait\u001b[39;00m \u001b[38;5;28mself\u001b[39m\u001b[38;5;241m.\u001b[39mrequest(cast_to, opts, stream\u001b[38;5;241m=\u001b[39mstream, stream_cls\u001b[38;5;241m=\u001b[39mstream_cls)\n",
      "File \u001b[1;32m~\\anaconda3\\envs\\introduction_llm_book\\lib\\site-packages\\openai\\_base_client.py:1485\u001b[0m, in \u001b[0;36mAsyncAPIClient.request\u001b[1;34m(self, cast_to, options, stream, stream_cls, remaining_retries)\u001b[0m\n\u001b[0;32m   1476\u001b[0m \u001b[38;5;28;01masync\u001b[39;00m \u001b[38;5;28;01mdef\u001b[39;00m \u001b[38;5;21mrequest\u001b[39m(\n\u001b[0;32m   1477\u001b[0m     \u001b[38;5;28mself\u001b[39m,\n\u001b[0;32m   1478\u001b[0m     cast_to: Type[ResponseT],\n\u001b[1;32m   (...)\u001b[0m\n\u001b[0;32m   1483\u001b[0m     remaining_retries: Optional[\u001b[38;5;28mint\u001b[39m] \u001b[38;5;241m=\u001b[39m \u001b[38;5;28;01mNone\u001b[39;00m,\n\u001b[0;32m   1484\u001b[0m ) \u001b[38;5;241m-\u001b[39m\u001b[38;5;241m>\u001b[39m ResponseT \u001b[38;5;241m|\u001b[39m _AsyncStreamT:\n\u001b[1;32m-> 1485\u001b[0m     \u001b[38;5;28;01mreturn\u001b[39;00m \u001b[38;5;28;01mawait\u001b[39;00m \u001b[38;5;28mself\u001b[39m\u001b[38;5;241m.\u001b[39m_request(\n\u001b[0;32m   1486\u001b[0m         cast_to\u001b[38;5;241m=\u001b[39mcast_to,\n\u001b[0;32m   1487\u001b[0m         options\u001b[38;5;241m=\u001b[39moptions,\n\u001b[0;32m   1488\u001b[0m         stream\u001b[38;5;241m=\u001b[39mstream,\n\u001b[0;32m   1489\u001b[0m         stream_cls\u001b[38;5;241m=\u001b[39mstream_cls,\n\u001b[0;32m   1490\u001b[0m         remaining_retries\u001b[38;5;241m=\u001b[39mremaining_retries,\n\u001b[0;32m   1491\u001b[0m     )\n",
      "File \u001b[1;32m~\\anaconda3\\envs\\introduction_llm_book\\lib\\site-packages\\openai\\_base_client.py:1561\u001b[0m, in \u001b[0;36mAsyncAPIClient._request\u001b[1;34m(self, cast_to, options, stream, stream_cls, remaining_retries)\u001b[0m\n\u001b[0;32m   1559\u001b[0m \u001b[38;5;28;01mif\u001b[39;00m retries \u001b[38;5;241m>\u001b[39m \u001b[38;5;241m0\u001b[39m \u001b[38;5;129;01mand\u001b[39;00m \u001b[38;5;28mself\u001b[39m\u001b[38;5;241m.\u001b[39m_should_retry(err\u001b[38;5;241m.\u001b[39mresponse):\n\u001b[0;32m   1560\u001b[0m     \u001b[38;5;28;01mawait\u001b[39;00m err\u001b[38;5;241m.\u001b[39mresponse\u001b[38;5;241m.\u001b[39maclose()\n\u001b[1;32m-> 1561\u001b[0m     \u001b[38;5;28;01mreturn\u001b[39;00m \u001b[38;5;28;01mawait\u001b[39;00m \u001b[38;5;28mself\u001b[39m\u001b[38;5;241m.\u001b[39m_retry_request(\n\u001b[0;32m   1562\u001b[0m         options,\n\u001b[0;32m   1563\u001b[0m         cast_to,\n\u001b[0;32m   1564\u001b[0m         retries,\n\u001b[0;32m   1565\u001b[0m         err\u001b[38;5;241m.\u001b[39mresponse\u001b[38;5;241m.\u001b[39mheaders,\n\u001b[0;32m   1566\u001b[0m         stream\u001b[38;5;241m=\u001b[39mstream,\n\u001b[0;32m   1567\u001b[0m         stream_cls\u001b[38;5;241m=\u001b[39mstream_cls,\n\u001b[0;32m   1568\u001b[0m     )\n\u001b[0;32m   1570\u001b[0m \u001b[38;5;66;03m# If the response is streamed then we need to explicitly read the response\u001b[39;00m\n\u001b[0;32m   1571\u001b[0m \u001b[38;5;66;03m# to completion before attempting to access the response text.\u001b[39;00m\n\u001b[0;32m   1572\u001b[0m \u001b[38;5;28;01mif\u001b[39;00m \u001b[38;5;129;01mnot\u001b[39;00m err\u001b[38;5;241m.\u001b[39mresponse\u001b[38;5;241m.\u001b[39mis_closed:\n",
      "File \u001b[1;32m~\\anaconda3\\envs\\introduction_llm_book\\lib\\site-packages\\openai\\_base_client.py:1607\u001b[0m, in \u001b[0;36mAsyncAPIClient._retry_request\u001b[1;34m(self, options, cast_to, remaining_retries, response_headers, stream, stream_cls)\u001b[0m\n\u001b[0;32m   1603\u001b[0m log\u001b[38;5;241m.\u001b[39minfo(\u001b[38;5;124m\"\u001b[39m\u001b[38;5;124mRetrying request to \u001b[39m\u001b[38;5;132;01m%s\u001b[39;00m\u001b[38;5;124m in \u001b[39m\u001b[38;5;132;01m%f\u001b[39;00m\u001b[38;5;124m seconds\u001b[39m\u001b[38;5;124m\"\u001b[39m, options\u001b[38;5;241m.\u001b[39murl, timeout)\n\u001b[0;32m   1605\u001b[0m \u001b[38;5;28;01mawait\u001b[39;00m anyio\u001b[38;5;241m.\u001b[39msleep(timeout)\n\u001b[1;32m-> 1607\u001b[0m \u001b[38;5;28;01mreturn\u001b[39;00m \u001b[38;5;28;01mawait\u001b[39;00m \u001b[38;5;28mself\u001b[39m\u001b[38;5;241m.\u001b[39m_request(\n\u001b[0;32m   1608\u001b[0m     options\u001b[38;5;241m=\u001b[39moptions,\n\u001b[0;32m   1609\u001b[0m     cast_to\u001b[38;5;241m=\u001b[39mcast_to,\n\u001b[0;32m   1610\u001b[0m     remaining_retries\u001b[38;5;241m=\u001b[39mremaining,\n\u001b[0;32m   1611\u001b[0m     stream\u001b[38;5;241m=\u001b[39mstream,\n\u001b[0;32m   1612\u001b[0m     stream_cls\u001b[38;5;241m=\u001b[39mstream_cls,\n\u001b[0;32m   1613\u001b[0m )\n",
      "File \u001b[1;32m~\\anaconda3\\envs\\introduction_llm_book\\lib\\site-packages\\openai\\_base_client.py:1561\u001b[0m, in \u001b[0;36mAsyncAPIClient._request\u001b[1;34m(self, cast_to, options, stream, stream_cls, remaining_retries)\u001b[0m\n\u001b[0;32m   1559\u001b[0m \u001b[38;5;28;01mif\u001b[39;00m retries \u001b[38;5;241m>\u001b[39m \u001b[38;5;241m0\u001b[39m \u001b[38;5;129;01mand\u001b[39;00m \u001b[38;5;28mself\u001b[39m\u001b[38;5;241m.\u001b[39m_should_retry(err\u001b[38;5;241m.\u001b[39mresponse):\n\u001b[0;32m   1560\u001b[0m     \u001b[38;5;28;01mawait\u001b[39;00m err\u001b[38;5;241m.\u001b[39mresponse\u001b[38;5;241m.\u001b[39maclose()\n\u001b[1;32m-> 1561\u001b[0m     \u001b[38;5;28;01mreturn\u001b[39;00m \u001b[38;5;28;01mawait\u001b[39;00m \u001b[38;5;28mself\u001b[39m\u001b[38;5;241m.\u001b[39m_retry_request(\n\u001b[0;32m   1562\u001b[0m         options,\n\u001b[0;32m   1563\u001b[0m         cast_to,\n\u001b[0;32m   1564\u001b[0m         retries,\n\u001b[0;32m   1565\u001b[0m         err\u001b[38;5;241m.\u001b[39mresponse\u001b[38;5;241m.\u001b[39mheaders,\n\u001b[0;32m   1566\u001b[0m         stream\u001b[38;5;241m=\u001b[39mstream,\n\u001b[0;32m   1567\u001b[0m         stream_cls\u001b[38;5;241m=\u001b[39mstream_cls,\n\u001b[0;32m   1568\u001b[0m     )\n\u001b[0;32m   1570\u001b[0m \u001b[38;5;66;03m# If the response is streamed then we need to explicitly read the response\u001b[39;00m\n\u001b[0;32m   1571\u001b[0m \u001b[38;5;66;03m# to completion before attempting to access the response text.\u001b[39;00m\n\u001b[0;32m   1572\u001b[0m \u001b[38;5;28;01mif\u001b[39;00m \u001b[38;5;129;01mnot\u001b[39;00m err\u001b[38;5;241m.\u001b[39mresponse\u001b[38;5;241m.\u001b[39mis_closed:\n",
      "File \u001b[1;32m~\\anaconda3\\envs\\introduction_llm_book\\lib\\site-packages\\openai\\_base_client.py:1607\u001b[0m, in \u001b[0;36mAsyncAPIClient._retry_request\u001b[1;34m(self, options, cast_to, remaining_retries, response_headers, stream, stream_cls)\u001b[0m\n\u001b[0;32m   1603\u001b[0m log\u001b[38;5;241m.\u001b[39minfo(\u001b[38;5;124m\"\u001b[39m\u001b[38;5;124mRetrying request to \u001b[39m\u001b[38;5;132;01m%s\u001b[39;00m\u001b[38;5;124m in \u001b[39m\u001b[38;5;132;01m%f\u001b[39;00m\u001b[38;5;124m seconds\u001b[39m\u001b[38;5;124m\"\u001b[39m, options\u001b[38;5;241m.\u001b[39murl, timeout)\n\u001b[0;32m   1605\u001b[0m \u001b[38;5;28;01mawait\u001b[39;00m anyio\u001b[38;5;241m.\u001b[39msleep(timeout)\n\u001b[1;32m-> 1607\u001b[0m \u001b[38;5;28;01mreturn\u001b[39;00m \u001b[38;5;28;01mawait\u001b[39;00m \u001b[38;5;28mself\u001b[39m\u001b[38;5;241m.\u001b[39m_request(\n\u001b[0;32m   1608\u001b[0m     options\u001b[38;5;241m=\u001b[39moptions,\n\u001b[0;32m   1609\u001b[0m     cast_to\u001b[38;5;241m=\u001b[39mcast_to,\n\u001b[0;32m   1610\u001b[0m     remaining_retries\u001b[38;5;241m=\u001b[39mremaining,\n\u001b[0;32m   1611\u001b[0m     stream\u001b[38;5;241m=\u001b[39mstream,\n\u001b[0;32m   1612\u001b[0m     stream_cls\u001b[38;5;241m=\u001b[39mstream_cls,\n\u001b[0;32m   1613\u001b[0m )\n",
      "File \u001b[1;32m~\\anaconda3\\envs\\introduction_llm_book\\lib\\site-packages\\openai\\_base_client.py:1576\u001b[0m, in \u001b[0;36mAsyncAPIClient._request\u001b[1;34m(self, cast_to, options, stream, stream_cls, remaining_retries)\u001b[0m\n\u001b[0;32m   1573\u001b[0m         \u001b[38;5;28;01mawait\u001b[39;00m err\u001b[38;5;241m.\u001b[39mresponse\u001b[38;5;241m.\u001b[39maread()\n\u001b[0;32m   1575\u001b[0m     log\u001b[38;5;241m.\u001b[39mdebug(\u001b[38;5;124m\"\u001b[39m\u001b[38;5;124mRe-raising status error\u001b[39m\u001b[38;5;124m\"\u001b[39m)\n\u001b[1;32m-> 1576\u001b[0m     \u001b[38;5;28;01mraise\u001b[39;00m \u001b[38;5;28mself\u001b[39m\u001b[38;5;241m.\u001b[39m_make_status_error_from_response(err\u001b[38;5;241m.\u001b[39mresponse) \u001b[38;5;28;01mfrom\u001b[39;00m \u001b[38;5;28;01mNone\u001b[39;00m\n\u001b[0;32m   1578\u001b[0m \u001b[38;5;28;01mreturn\u001b[39;00m \u001b[38;5;28;01mawait\u001b[39;00m \u001b[38;5;28mself\u001b[39m\u001b[38;5;241m.\u001b[39m_process_response(\n\u001b[0;32m   1579\u001b[0m     cast_to\u001b[38;5;241m=\u001b[39mcast_to,\n\u001b[0;32m   1580\u001b[0m     options\u001b[38;5;241m=\u001b[39moptions,\n\u001b[1;32m   (...)\u001b[0m\n\u001b[0;32m   1583\u001b[0m     stream_cls\u001b[38;5;241m=\u001b[39mstream_cls,\n\u001b[0;32m   1584\u001b[0m )\n",
      "\u001b[1;31mRateLimitError\u001b[0m: Error code: 429 - {'error': {'message': 'Rate limit reached for gpt-3.5-turbo in organization org-Kx69x7PdKOLYJZcJv5CL0aM9 on tokens per min (TPM): Limit 60000, Used 59843, Requested 201. Please try again in 44ms. Visit https://platform.openai.com/account/rate-limits to learn more.', 'type': 'tokens', 'param': None, 'code': 'rate_limit_exceeded'}}"
     ]
    }
   ],
   "source": [
    "in_context_output_answers = get_chatgpt_outputs_for_quiz(\n",
    "    in_context_prompt_maker,\n",
    "    quiz_dataset,\n",
    "    batch_size=4,\n",
    ")\n",
    "in_context_accuracy = calculate_quiz_accuracy(\n",
    "    in_context_output_answers,\n",
    "    [e[\"answers\"] for e in quiz_dataset],\n",
    ")\n",
    "print(f\"正解率：{in_context_accuracy * 100}\")"
   ]
  }
 ],
 "metadata": {
  "kernelspec": {
   "display_name": "Python 3 (ipykernel)",
   "language": "python",
   "name": "python3"
  },
  "language_info": {
   "codemirror_mode": {
    "name": "ipython",
    "version": 3
   },
   "file_extension": ".py",
   "mimetype": "text/x-python",
   "name": "python",
   "nbconvert_exporter": "python",
   "pygments_lexer": "ipython3",
   "version": "3.10.14"
  }
 },
 "nbformat": 4,
 "nbformat_minor": 5
}
